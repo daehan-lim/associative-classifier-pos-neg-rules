{
 "cells": [
  {
   "cell_type": "code",
   "execution_count": 1,
   "metadata": {
    "collapsed": true
   },
   "outputs": [
    {
     "data": {
      "text/plain": "          0      1  ACETAMINOPHEN  ALBUMIN HUMAN 25%  ALBUMIN HUMAN 5%  \\\n0      True  False           True              False             False   \n1      True  False           True              False             False   \n2      True  False           True              False             False   \n3      True  False          False              False             False   \n4      True  False          False              False             False   \n...     ...    ...            ...                ...               ...   \n4610   True  False           True              False             False   \n4611   True  False          False              False             False   \n4612   True  False          False              False              True   \n4613  False   True          False              False             False   \n4614   True  False           True              False             False   \n\n      ALBUTEROL 0.083%  ALBUTEROL 90 MCG  ALBUTEROL CONCENTRATED 0.5%  \\\n0                False             False                        False   \n1                False              True                         True   \n2                False             False                        False   \n3                False             False                        False   \n4                False             False                        False   \n...                ...               ...                          ...   \n4610             False              True                         True   \n4611             False              True                         True   \n4612             False             False                        False   \n4613             False             False                         True   \n4614             False              True                         True   \n\n      ALLOPURINOL  ALPRAZOLAM  ...  TACROLIMUS  TAMSULOSIN  THIAMINE  \\\n0           False       False  ...       False       False      True   \n1           False       False  ...       False       False     False   \n2           False       False  ...       False       False     False   \n3           False       False  ...       False       False     False   \n4           False       False  ...       False       False     False   \n...           ...         ...  ...         ...         ...       ...   \n4610        False       False  ...       False       False     False   \n4611        False       False  ...       False       False     False   \n4612        False       False  ...       False       False      True   \n4613        False       False  ...       False       False     False   \n4614        False       False  ...       False       False     False   \n\n      TRAMADOL  TRAZODONE  VANCOMYCIN  VANCOMYCIN 1 G/200 ML D5W  \\\n0        False      False       False                      False   \n1        False      False       False                      False   \n2        False      False       False                      False   \n3        False      False       False                      False   \n4        False      False        True                      False   \n...        ...        ...         ...                        ...   \n4610      True       True       False                       True   \n4611     False      False        True                      False   \n4612     False      False        True                      False   \n4613     False      False       False                      False   \n4614     False      False        True                       True   \n\n      VANCOMYCIN 1.25 G/250 ML NS  VANCOMYCIN 1.5 G/500 ML NS  WARFARIN  \n0                           False                       False     False  \n1                           False                       False     False  \n2                           False                       False     False  \n3                           False                       False      True  \n4                           False                       False     False  \n...                           ...                         ...       ...  \n4610                         True                        True     False  \n4611                        False                       False     False  \n4612                        False                       False     False  \n4613                        False                       False     False  \n4614                         True                        True      True  \n\n[4615 rows x 149 columns]",
      "text/html": "<div>\n<style scoped>\n    .dataframe tbody tr th:only-of-type {\n        vertical-align: middle;\n    }\n\n    .dataframe tbody tr th {\n        vertical-align: top;\n    }\n\n    .dataframe thead th {\n        text-align: right;\n    }\n</style>\n<table border=\"1\" class=\"dataframe\">\n  <thead>\n    <tr style=\"text-align: right;\">\n      <th></th>\n      <th>0</th>\n      <th>1</th>\n      <th>ACETAMINOPHEN</th>\n      <th>ALBUMIN HUMAN 25%</th>\n      <th>ALBUMIN HUMAN 5%</th>\n      <th>ALBUTEROL 0.083%</th>\n      <th>ALBUTEROL 90 MCG</th>\n      <th>ALBUTEROL CONCENTRATED 0.5%</th>\n      <th>ALLOPURINOL</th>\n      <th>ALPRAZOLAM</th>\n      <th>...</th>\n      <th>TACROLIMUS</th>\n      <th>TAMSULOSIN</th>\n      <th>THIAMINE</th>\n      <th>TRAMADOL</th>\n      <th>TRAZODONE</th>\n      <th>VANCOMYCIN</th>\n      <th>VANCOMYCIN 1 G/200 ML D5W</th>\n      <th>VANCOMYCIN 1.25 G/250 ML NS</th>\n      <th>VANCOMYCIN 1.5 G/500 ML NS</th>\n      <th>WARFARIN</th>\n    </tr>\n  </thead>\n  <tbody>\n    <tr>\n      <th>0</th>\n      <td>True</td>\n      <td>False</td>\n      <td>True</td>\n      <td>False</td>\n      <td>False</td>\n      <td>False</td>\n      <td>False</td>\n      <td>False</td>\n      <td>False</td>\n      <td>False</td>\n      <td>...</td>\n      <td>False</td>\n      <td>False</td>\n      <td>True</td>\n      <td>False</td>\n      <td>False</td>\n      <td>False</td>\n      <td>False</td>\n      <td>False</td>\n      <td>False</td>\n      <td>False</td>\n    </tr>\n    <tr>\n      <th>1</th>\n      <td>True</td>\n      <td>False</td>\n      <td>True</td>\n      <td>False</td>\n      <td>False</td>\n      <td>False</td>\n      <td>True</td>\n      <td>True</td>\n      <td>False</td>\n      <td>False</td>\n      <td>...</td>\n      <td>False</td>\n      <td>False</td>\n      <td>False</td>\n      <td>False</td>\n      <td>False</td>\n      <td>False</td>\n      <td>False</td>\n      <td>False</td>\n      <td>False</td>\n      <td>False</td>\n    </tr>\n    <tr>\n      <th>2</th>\n      <td>True</td>\n      <td>False</td>\n      <td>True</td>\n      <td>False</td>\n      <td>False</td>\n      <td>False</td>\n      <td>False</td>\n      <td>False</td>\n      <td>False</td>\n      <td>False</td>\n      <td>...</td>\n      <td>False</td>\n      <td>False</td>\n      <td>False</td>\n      <td>False</td>\n      <td>False</td>\n      <td>False</td>\n      <td>False</td>\n      <td>False</td>\n      <td>False</td>\n      <td>False</td>\n    </tr>\n    <tr>\n      <th>3</th>\n      <td>True</td>\n      <td>False</td>\n      <td>False</td>\n      <td>False</td>\n      <td>False</td>\n      <td>False</td>\n      <td>False</td>\n      <td>False</td>\n      <td>False</td>\n      <td>False</td>\n      <td>...</td>\n      <td>False</td>\n      <td>False</td>\n      <td>False</td>\n      <td>False</td>\n      <td>False</td>\n      <td>False</td>\n      <td>False</td>\n      <td>False</td>\n      <td>False</td>\n      <td>True</td>\n    </tr>\n    <tr>\n      <th>4</th>\n      <td>True</td>\n      <td>False</td>\n      <td>False</td>\n      <td>False</td>\n      <td>False</td>\n      <td>False</td>\n      <td>False</td>\n      <td>False</td>\n      <td>False</td>\n      <td>False</td>\n      <td>...</td>\n      <td>False</td>\n      <td>False</td>\n      <td>False</td>\n      <td>False</td>\n      <td>False</td>\n      <td>True</td>\n      <td>False</td>\n      <td>False</td>\n      <td>False</td>\n      <td>False</td>\n    </tr>\n    <tr>\n      <th>...</th>\n      <td>...</td>\n      <td>...</td>\n      <td>...</td>\n      <td>...</td>\n      <td>...</td>\n      <td>...</td>\n      <td>...</td>\n      <td>...</td>\n      <td>...</td>\n      <td>...</td>\n      <td>...</td>\n      <td>...</td>\n      <td>...</td>\n      <td>...</td>\n      <td>...</td>\n      <td>...</td>\n      <td>...</td>\n      <td>...</td>\n      <td>...</td>\n      <td>...</td>\n      <td>...</td>\n    </tr>\n    <tr>\n      <th>4610</th>\n      <td>True</td>\n      <td>False</td>\n      <td>True</td>\n      <td>False</td>\n      <td>False</td>\n      <td>False</td>\n      <td>True</td>\n      <td>True</td>\n      <td>False</td>\n      <td>False</td>\n      <td>...</td>\n      <td>False</td>\n      <td>False</td>\n      <td>False</td>\n      <td>True</td>\n      <td>True</td>\n      <td>False</td>\n      <td>True</td>\n      <td>True</td>\n      <td>True</td>\n      <td>False</td>\n    </tr>\n    <tr>\n      <th>4611</th>\n      <td>True</td>\n      <td>False</td>\n      <td>False</td>\n      <td>False</td>\n      <td>False</td>\n      <td>False</td>\n      <td>True</td>\n      <td>True</td>\n      <td>False</td>\n      <td>False</td>\n      <td>...</td>\n      <td>False</td>\n      <td>False</td>\n      <td>False</td>\n      <td>False</td>\n      <td>False</td>\n      <td>True</td>\n      <td>False</td>\n      <td>False</td>\n      <td>False</td>\n      <td>False</td>\n    </tr>\n    <tr>\n      <th>4612</th>\n      <td>True</td>\n      <td>False</td>\n      <td>False</td>\n      <td>False</td>\n      <td>True</td>\n      <td>False</td>\n      <td>False</td>\n      <td>False</td>\n      <td>False</td>\n      <td>False</td>\n      <td>...</td>\n      <td>False</td>\n      <td>False</td>\n      <td>True</td>\n      <td>False</td>\n      <td>False</td>\n      <td>True</td>\n      <td>False</td>\n      <td>False</td>\n      <td>False</td>\n      <td>False</td>\n    </tr>\n    <tr>\n      <th>4613</th>\n      <td>False</td>\n      <td>True</td>\n      <td>False</td>\n      <td>False</td>\n      <td>False</td>\n      <td>False</td>\n      <td>False</td>\n      <td>True</td>\n      <td>False</td>\n      <td>False</td>\n      <td>...</td>\n      <td>False</td>\n      <td>False</td>\n      <td>False</td>\n      <td>False</td>\n      <td>False</td>\n      <td>False</td>\n      <td>False</td>\n      <td>False</td>\n      <td>False</td>\n      <td>False</td>\n    </tr>\n    <tr>\n      <th>4614</th>\n      <td>True</td>\n      <td>False</td>\n      <td>True</td>\n      <td>False</td>\n      <td>False</td>\n      <td>False</td>\n      <td>True</td>\n      <td>True</td>\n      <td>False</td>\n      <td>False</td>\n      <td>...</td>\n      <td>False</td>\n      <td>False</td>\n      <td>False</td>\n      <td>False</td>\n      <td>False</td>\n      <td>True</td>\n      <td>True</td>\n      <td>True</td>\n      <td>True</td>\n      <td>True</td>\n    </tr>\n  </tbody>\n</table>\n<p>4615 rows × 149 columns</p>\n</div>"
     },
     "execution_count": 1,
     "metadata": {},
     "output_type": "execute_result"
    }
   ],
   "source": [
    "import random\n",
    "import pandas as pd\n",
    "from sklearn.metrics import classification_report, roc_auc_score\n",
    "import csv\n",
    "import numpy as np\n",
    "from tabulate import tabulate\n",
    "from classification import classification\n",
    "from rule_gen import rule_generation\n",
    "from daehan_mlutil import utilities\n",
    "from util import util\n",
    "\n",
    "with open('../data/dataset.csv', 'r') as file:\n",
    "    dataset = [list(filter(None, row)) for row in csv.reader(file)]\n",
    "\n",
    "min_support = 0.1\n",
    "transactions_df = util.convert_trans_to_df(dataset)\n",
    "transactions_df"
   ]
  },
  {
   "cell_type": "code",
   "execution_count": 2,
   "outputs": [],
   "source": [
    "random.seed(0)\n",
    "transactions_0 = pd.DataFrame(\n",
    "    transactions_df[transactions_df['0']].reset_index(drop=True))\n",
    "transactions_1 = pd.DataFrame(\n",
    "    transactions_df[transactions_df['1']].reset_index(drop=True))"
   ],
   "metadata": {
    "collapsed": false
   }
  },
  {
   "cell_type": "code",
   "execution_count": 3,
   "outputs": [
    {
     "data": {
      "text/plain": "         0      1  ACETAMINOPHEN  ALBUMIN HUMAN 25%  ALBUMIN HUMAN 5%  \\\n0     True  False          False              False             False   \n1     True  False           True              False             False   \n2     True  False           True              False             False   \n3     True  False           True              False             False   \n4     True  False           True              False             False   \n..     ...    ...            ...                ...               ...   \n388  False   True           True              False             False   \n389  False   True           True              False             False   \n390  False   True          False              False             False   \n391  False   True           True              False             False   \n392  False   True           True              False             False   \n\n     ALBUTEROL 0.083%  ALBUTEROL 90 MCG  ALBUTEROL CONCENTRATED 0.5%  \\\n0               False             False                        False   \n1               False             False                        False   \n2               False              True                         True   \n3               False             False                        False   \n4               False              True                         True   \n..                ...               ...                          ...   \n388             False              True                         True   \n389             False              True                         True   \n390             False             False                        False   \n391             False             False                        False   \n392             False             False                        False   \n\n     ALLOPURINOL  ALPRAZOLAM  ...  TACROLIMUS  TAMSULOSIN  THIAMINE  TRAMADOL  \\\n0          False       False  ...       False       False      True     False   \n1          False       False  ...       False       False      True     False   \n2          False       False  ...       False        True     False     False   \n3          False       False  ...       False       False     False     False   \n4          False       False  ...       False       False     False     False   \n..           ...         ...  ...         ...         ...       ...       ...   \n388        False       False  ...       False       False     False     False   \n389        False       False  ...       False       False     False     False   \n390        False       False  ...       False       False     False     False   \n391        False       False  ...       False       False     False     False   \n392        False       False  ...       False       False     False     False   \n\n     TRAZODONE  VANCOMYCIN  VANCOMYCIN 1 G/200 ML D5W  \\\n0        False        True                       True   \n1        False       False                      False   \n2        False       False                       True   \n3        False       False                      False   \n4        False       False                      False   \n..         ...         ...                        ...   \n388      False        True                      False   \n389      False       False                       True   \n390      False       False                       True   \n391      False       False                      False   \n392      False       False                      False   \n\n     VANCOMYCIN 1.25 G/250 ML NS  VANCOMYCIN 1.5 G/500 ML NS  WARFARIN  \n0                           True                       False     False  \n1                          False                       False     False  \n2                           True                       False     False  \n3                          False                       False     False  \n4                          False                       False     False  \n..                           ...                         ...       ...  \n388                        False                       False     False  \n389                         True                       False     False  \n390                        False                       False     False  \n391                        False                       False     False  \n392                        False                       False     False  \n\n[4155 rows x 149 columns]",
      "text/html": "<div>\n<style scoped>\n    .dataframe tbody tr th:only-of-type {\n        vertical-align: middle;\n    }\n\n    .dataframe tbody tr th {\n        vertical-align: top;\n    }\n\n    .dataframe thead th {\n        text-align: right;\n    }\n</style>\n<table border=\"1\" class=\"dataframe\">\n  <thead>\n    <tr style=\"text-align: right;\">\n      <th></th>\n      <th>0</th>\n      <th>1</th>\n      <th>ACETAMINOPHEN</th>\n      <th>ALBUMIN HUMAN 25%</th>\n      <th>ALBUMIN HUMAN 5%</th>\n      <th>ALBUTEROL 0.083%</th>\n      <th>ALBUTEROL 90 MCG</th>\n      <th>ALBUTEROL CONCENTRATED 0.5%</th>\n      <th>ALLOPURINOL</th>\n      <th>ALPRAZOLAM</th>\n      <th>...</th>\n      <th>TACROLIMUS</th>\n      <th>TAMSULOSIN</th>\n      <th>THIAMINE</th>\n      <th>TRAMADOL</th>\n      <th>TRAZODONE</th>\n      <th>VANCOMYCIN</th>\n      <th>VANCOMYCIN 1 G/200 ML D5W</th>\n      <th>VANCOMYCIN 1.25 G/250 ML NS</th>\n      <th>VANCOMYCIN 1.5 G/500 ML NS</th>\n      <th>WARFARIN</th>\n    </tr>\n  </thead>\n  <tbody>\n    <tr>\n      <th>0</th>\n      <td>True</td>\n      <td>False</td>\n      <td>False</td>\n      <td>False</td>\n      <td>False</td>\n      <td>False</td>\n      <td>False</td>\n      <td>False</td>\n      <td>False</td>\n      <td>False</td>\n      <td>...</td>\n      <td>False</td>\n      <td>False</td>\n      <td>True</td>\n      <td>False</td>\n      <td>False</td>\n      <td>True</td>\n      <td>True</td>\n      <td>True</td>\n      <td>False</td>\n      <td>False</td>\n    </tr>\n    <tr>\n      <th>1</th>\n      <td>True</td>\n      <td>False</td>\n      <td>True</td>\n      <td>False</td>\n      <td>False</td>\n      <td>False</td>\n      <td>False</td>\n      <td>False</td>\n      <td>False</td>\n      <td>False</td>\n      <td>...</td>\n      <td>False</td>\n      <td>False</td>\n      <td>True</td>\n      <td>False</td>\n      <td>False</td>\n      <td>False</td>\n      <td>False</td>\n      <td>False</td>\n      <td>False</td>\n      <td>False</td>\n    </tr>\n    <tr>\n      <th>2</th>\n      <td>True</td>\n      <td>False</td>\n      <td>True</td>\n      <td>False</td>\n      <td>False</td>\n      <td>False</td>\n      <td>True</td>\n      <td>True</td>\n      <td>False</td>\n      <td>False</td>\n      <td>...</td>\n      <td>False</td>\n      <td>True</td>\n      <td>False</td>\n      <td>False</td>\n      <td>False</td>\n      <td>False</td>\n      <td>True</td>\n      <td>True</td>\n      <td>False</td>\n      <td>False</td>\n    </tr>\n    <tr>\n      <th>3</th>\n      <td>True</td>\n      <td>False</td>\n      <td>True</td>\n      <td>False</td>\n      <td>False</td>\n      <td>False</td>\n      <td>False</td>\n      <td>False</td>\n      <td>False</td>\n      <td>False</td>\n      <td>...</td>\n      <td>False</td>\n      <td>False</td>\n      <td>False</td>\n      <td>False</td>\n      <td>False</td>\n      <td>False</td>\n      <td>False</td>\n      <td>False</td>\n      <td>False</td>\n      <td>False</td>\n    </tr>\n    <tr>\n      <th>4</th>\n      <td>True</td>\n      <td>False</td>\n      <td>True</td>\n      <td>False</td>\n      <td>False</td>\n      <td>False</td>\n      <td>True</td>\n      <td>True</td>\n      <td>False</td>\n      <td>False</td>\n      <td>...</td>\n      <td>False</td>\n      <td>False</td>\n      <td>False</td>\n      <td>False</td>\n      <td>False</td>\n      <td>False</td>\n      <td>False</td>\n      <td>False</td>\n      <td>False</td>\n      <td>False</td>\n    </tr>\n    <tr>\n      <th>...</th>\n      <td>...</td>\n      <td>...</td>\n      <td>...</td>\n      <td>...</td>\n      <td>...</td>\n      <td>...</td>\n      <td>...</td>\n      <td>...</td>\n      <td>...</td>\n      <td>...</td>\n      <td>...</td>\n      <td>...</td>\n      <td>...</td>\n      <td>...</td>\n      <td>...</td>\n      <td>...</td>\n      <td>...</td>\n      <td>...</td>\n      <td>...</td>\n      <td>...</td>\n      <td>...</td>\n    </tr>\n    <tr>\n      <th>388</th>\n      <td>False</td>\n      <td>True</td>\n      <td>True</td>\n      <td>False</td>\n      <td>False</td>\n      <td>False</td>\n      <td>True</td>\n      <td>True</td>\n      <td>False</td>\n      <td>False</td>\n      <td>...</td>\n      <td>False</td>\n      <td>False</td>\n      <td>False</td>\n      <td>False</td>\n      <td>False</td>\n      <td>True</td>\n      <td>False</td>\n      <td>False</td>\n      <td>False</td>\n      <td>False</td>\n    </tr>\n    <tr>\n      <th>389</th>\n      <td>False</td>\n      <td>True</td>\n      <td>True</td>\n      <td>False</td>\n      <td>False</td>\n      <td>False</td>\n      <td>True</td>\n      <td>True</td>\n      <td>False</td>\n      <td>False</td>\n      <td>...</td>\n      <td>False</td>\n      <td>False</td>\n      <td>False</td>\n      <td>False</td>\n      <td>False</td>\n      <td>False</td>\n      <td>True</td>\n      <td>True</td>\n      <td>False</td>\n      <td>False</td>\n    </tr>\n    <tr>\n      <th>390</th>\n      <td>False</td>\n      <td>True</td>\n      <td>False</td>\n      <td>False</td>\n      <td>False</td>\n      <td>False</td>\n      <td>False</td>\n      <td>False</td>\n      <td>False</td>\n      <td>False</td>\n      <td>...</td>\n      <td>False</td>\n      <td>False</td>\n      <td>False</td>\n      <td>False</td>\n      <td>False</td>\n      <td>False</td>\n      <td>True</td>\n      <td>False</td>\n      <td>False</td>\n      <td>False</td>\n    </tr>\n    <tr>\n      <th>391</th>\n      <td>False</td>\n      <td>True</td>\n      <td>True</td>\n      <td>False</td>\n      <td>False</td>\n      <td>False</td>\n      <td>False</td>\n      <td>False</td>\n      <td>False</td>\n      <td>False</td>\n      <td>...</td>\n      <td>False</td>\n      <td>False</td>\n      <td>False</td>\n      <td>False</td>\n      <td>False</td>\n      <td>False</td>\n      <td>False</td>\n      <td>False</td>\n      <td>False</td>\n      <td>False</td>\n    </tr>\n    <tr>\n      <th>392</th>\n      <td>False</td>\n      <td>True</td>\n      <td>True</td>\n      <td>False</td>\n      <td>False</td>\n      <td>False</td>\n      <td>False</td>\n      <td>False</td>\n      <td>False</td>\n      <td>False</td>\n      <td>...</td>\n      <td>False</td>\n      <td>False</td>\n      <td>False</td>\n      <td>False</td>\n      <td>False</td>\n      <td>False</td>\n      <td>False</td>\n      <td>False</td>\n      <td>False</td>\n      <td>False</td>\n    </tr>\n  </tbody>\n</table>\n<p>4155 rows × 149 columns</p>\n</div>"
     },
     "execution_count": 3,
     "metadata": {},
     "output_type": "execute_result"
    }
   ],
   "source": [
    "indices = list(range(0, len(transactions_0)))\n",
    "random.shuffle(indices)\n",
    "test_set_0 = transactions_0.iloc[indices[:417], :].reset_index(drop=True)\n",
    "training_set_0 = transactions_0.iloc[indices[417:], :].reset_index(drop=True)\n",
    "\n",
    "indices = list(range(0, len(transactions_1)))\n",
    "random.shuffle(indices)\n",
    "test_set_1 = transactions_1.iloc[indices[:43], :].reset_index(drop=True)\n",
    "training_set_1 = transactions_1.iloc[indices[43:], :].reset_index(drop=True)\n",
    "\n",
    "training_set = pd.concat([training_set_0, training_set_1])\n",
    "test_set = pd.concat([test_set_0, test_set_1])\n",
    "training_set"
   ],
   "metadata": {
    "collapsed": false
   }
  },
  {
   "cell_type": "code",
   "execution_count": 4,
   "outputs": [
    {
     "data": {
      "text/plain": "        0      1  ACETAMINOPHEN  ALBUMIN HUMAN 25%  ALBUMIN HUMAN 5%  \\\n0    True  False          False               True             False   \n1    True  False          False              False             False   \n2    True  False          False              False             False   \n3    True  False           True              False             False   \n4    True  False           True              False             False   \n..    ...    ...            ...                ...               ...   \n38  False   True           True              False             False   \n39  False   True          False              False             False   \n40  False   True          False              False             False   \n41  False   True           True               True             False   \n42  False   True           True               True             False   \n\n    ALBUTEROL 0.083%  ALBUTEROL 90 MCG  ALBUTEROL CONCENTRATED 0.5%  \\\n0              False             False                        False   \n1              False             False                        False   \n2              False             False                        False   \n3              False              True                         True   \n4              False              True                         True   \n..               ...               ...                          ...   \n38             False             False                        False   \n39             False              True                         True   \n40             False              True                        False   \n41             False             False                         True   \n42             False             False                         True   \n\n    ALLOPURINOL  ALPRAZOLAM  ...  TACROLIMUS  TAMSULOSIN  THIAMINE  TRAMADOL  \\\n0         False       False  ...       False       False     False     False   \n1         False       False  ...       False       False     False     False   \n2         False       False  ...       False       False     False     False   \n3         False       False  ...       False       False     False     False   \n4         False       False  ...       False       False     False      True   \n..          ...         ...  ...         ...         ...       ...       ...   \n38        False       False  ...       False       False     False     False   \n39        False       False  ...       False       False     False     False   \n40        False       False  ...       False       False     False     False   \n41        False       False  ...       False       False      True     False   \n42        False       False  ...       False        True     False     False   \n\n    TRAZODONE  VANCOMYCIN  VANCOMYCIN 1 G/200 ML D5W  \\\n0       False       False                      False   \n1       False        True                      False   \n2       False       False                      False   \n3       False       False                      False   \n4        True       False                      False   \n..        ...         ...                        ...   \n38      False       False                       True   \n39      False       False                      False   \n40      False       False                      False   \n41      False       False                       True   \n42      False        True                       True   \n\n    VANCOMYCIN 1.25 G/250 ML NS  VANCOMYCIN 1.5 G/500 ML NS  WARFARIN  \n0                         False                       False     False  \n1                         False                       False      True  \n2                         False                       False     False  \n3                         False                       False     False  \n4                         False                       False     False  \n..                          ...                         ...       ...  \n38                         True                       False     False  \n39                         True                       False     False  \n40                        False                       False     False  \n41                        False                       False     False  \n42                        False                       False     False  \n\n[460 rows x 149 columns]",
      "text/html": "<div>\n<style scoped>\n    .dataframe tbody tr th:only-of-type {\n        vertical-align: middle;\n    }\n\n    .dataframe tbody tr th {\n        vertical-align: top;\n    }\n\n    .dataframe thead th {\n        text-align: right;\n    }\n</style>\n<table border=\"1\" class=\"dataframe\">\n  <thead>\n    <tr style=\"text-align: right;\">\n      <th></th>\n      <th>0</th>\n      <th>1</th>\n      <th>ACETAMINOPHEN</th>\n      <th>ALBUMIN HUMAN 25%</th>\n      <th>ALBUMIN HUMAN 5%</th>\n      <th>ALBUTEROL 0.083%</th>\n      <th>ALBUTEROL 90 MCG</th>\n      <th>ALBUTEROL CONCENTRATED 0.5%</th>\n      <th>ALLOPURINOL</th>\n      <th>ALPRAZOLAM</th>\n      <th>...</th>\n      <th>TACROLIMUS</th>\n      <th>TAMSULOSIN</th>\n      <th>THIAMINE</th>\n      <th>TRAMADOL</th>\n      <th>TRAZODONE</th>\n      <th>VANCOMYCIN</th>\n      <th>VANCOMYCIN 1 G/200 ML D5W</th>\n      <th>VANCOMYCIN 1.25 G/250 ML NS</th>\n      <th>VANCOMYCIN 1.5 G/500 ML NS</th>\n      <th>WARFARIN</th>\n    </tr>\n  </thead>\n  <tbody>\n    <tr>\n      <th>0</th>\n      <td>True</td>\n      <td>False</td>\n      <td>False</td>\n      <td>True</td>\n      <td>False</td>\n      <td>False</td>\n      <td>False</td>\n      <td>False</td>\n      <td>False</td>\n      <td>False</td>\n      <td>...</td>\n      <td>False</td>\n      <td>False</td>\n      <td>False</td>\n      <td>False</td>\n      <td>False</td>\n      <td>False</td>\n      <td>False</td>\n      <td>False</td>\n      <td>False</td>\n      <td>False</td>\n    </tr>\n    <tr>\n      <th>1</th>\n      <td>True</td>\n      <td>False</td>\n      <td>False</td>\n      <td>False</td>\n      <td>False</td>\n      <td>False</td>\n      <td>False</td>\n      <td>False</td>\n      <td>False</td>\n      <td>False</td>\n      <td>...</td>\n      <td>False</td>\n      <td>False</td>\n      <td>False</td>\n      <td>False</td>\n      <td>False</td>\n      <td>True</td>\n      <td>False</td>\n      <td>False</td>\n      <td>False</td>\n      <td>True</td>\n    </tr>\n    <tr>\n      <th>2</th>\n      <td>True</td>\n      <td>False</td>\n      <td>False</td>\n      <td>False</td>\n      <td>False</td>\n      <td>False</td>\n      <td>False</td>\n      <td>False</td>\n      <td>False</td>\n      <td>False</td>\n      <td>...</td>\n      <td>False</td>\n      <td>False</td>\n      <td>False</td>\n      <td>False</td>\n      <td>False</td>\n      <td>False</td>\n      <td>False</td>\n      <td>False</td>\n      <td>False</td>\n      <td>False</td>\n    </tr>\n    <tr>\n      <th>3</th>\n      <td>True</td>\n      <td>False</td>\n      <td>True</td>\n      <td>False</td>\n      <td>False</td>\n      <td>False</td>\n      <td>True</td>\n      <td>True</td>\n      <td>False</td>\n      <td>False</td>\n      <td>...</td>\n      <td>False</td>\n      <td>False</td>\n      <td>False</td>\n      <td>False</td>\n      <td>False</td>\n      <td>False</td>\n      <td>False</td>\n      <td>False</td>\n      <td>False</td>\n      <td>False</td>\n    </tr>\n    <tr>\n      <th>4</th>\n      <td>True</td>\n      <td>False</td>\n      <td>True</td>\n      <td>False</td>\n      <td>False</td>\n      <td>False</td>\n      <td>True</td>\n      <td>True</td>\n      <td>False</td>\n      <td>False</td>\n      <td>...</td>\n      <td>False</td>\n      <td>False</td>\n      <td>False</td>\n      <td>True</td>\n      <td>True</td>\n      <td>False</td>\n      <td>False</td>\n      <td>False</td>\n      <td>False</td>\n      <td>False</td>\n    </tr>\n    <tr>\n      <th>...</th>\n      <td>...</td>\n      <td>...</td>\n      <td>...</td>\n      <td>...</td>\n      <td>...</td>\n      <td>...</td>\n      <td>...</td>\n      <td>...</td>\n      <td>...</td>\n      <td>...</td>\n      <td>...</td>\n      <td>...</td>\n      <td>...</td>\n      <td>...</td>\n      <td>...</td>\n      <td>...</td>\n      <td>...</td>\n      <td>...</td>\n      <td>...</td>\n      <td>...</td>\n      <td>...</td>\n    </tr>\n    <tr>\n      <th>38</th>\n      <td>False</td>\n      <td>True</td>\n      <td>True</td>\n      <td>False</td>\n      <td>False</td>\n      <td>False</td>\n      <td>False</td>\n      <td>False</td>\n      <td>False</td>\n      <td>False</td>\n      <td>...</td>\n      <td>False</td>\n      <td>False</td>\n      <td>False</td>\n      <td>False</td>\n      <td>False</td>\n      <td>False</td>\n      <td>True</td>\n      <td>True</td>\n      <td>False</td>\n      <td>False</td>\n    </tr>\n    <tr>\n      <th>39</th>\n      <td>False</td>\n      <td>True</td>\n      <td>False</td>\n      <td>False</td>\n      <td>False</td>\n      <td>False</td>\n      <td>True</td>\n      <td>True</td>\n      <td>False</td>\n      <td>False</td>\n      <td>...</td>\n      <td>False</td>\n      <td>False</td>\n      <td>False</td>\n      <td>False</td>\n      <td>False</td>\n      <td>False</td>\n      <td>False</td>\n      <td>True</td>\n      <td>False</td>\n      <td>False</td>\n    </tr>\n    <tr>\n      <th>40</th>\n      <td>False</td>\n      <td>True</td>\n      <td>False</td>\n      <td>False</td>\n      <td>False</td>\n      <td>False</td>\n      <td>True</td>\n      <td>False</td>\n      <td>False</td>\n      <td>False</td>\n      <td>...</td>\n      <td>False</td>\n      <td>False</td>\n      <td>False</td>\n      <td>False</td>\n      <td>False</td>\n      <td>False</td>\n      <td>False</td>\n      <td>False</td>\n      <td>False</td>\n      <td>False</td>\n    </tr>\n    <tr>\n      <th>41</th>\n      <td>False</td>\n      <td>True</td>\n      <td>True</td>\n      <td>True</td>\n      <td>False</td>\n      <td>False</td>\n      <td>False</td>\n      <td>True</td>\n      <td>False</td>\n      <td>False</td>\n      <td>...</td>\n      <td>False</td>\n      <td>False</td>\n      <td>True</td>\n      <td>False</td>\n      <td>False</td>\n      <td>False</td>\n      <td>True</td>\n      <td>False</td>\n      <td>False</td>\n      <td>False</td>\n    </tr>\n    <tr>\n      <th>42</th>\n      <td>False</td>\n      <td>True</td>\n      <td>True</td>\n      <td>True</td>\n      <td>False</td>\n      <td>False</td>\n      <td>False</td>\n      <td>True</td>\n      <td>False</td>\n      <td>False</td>\n      <td>...</td>\n      <td>False</td>\n      <td>True</td>\n      <td>False</td>\n      <td>False</td>\n      <td>False</td>\n      <td>True</td>\n      <td>True</td>\n      <td>False</td>\n      <td>False</td>\n      <td>False</td>\n    </tr>\n  </tbody>\n</table>\n<p>460 rows × 149 columns</p>\n</div>"
     },
     "execution_count": 4,
     "metadata": {},
     "output_type": "execute_result"
    }
   ],
   "source": [
    "test_set"
   ],
   "metadata": {
    "collapsed": false
   }
  },
  {
   "cell_type": "code",
   "execution_count": 5,
   "outputs": [
    {
     "data": {
      "text/plain": "array([[frozenset({'ACETAMINOPHEN'})],\n       [frozenset({'ALBUTEROL 90 MCG'})],\n       [frozenset({'ALBUTEROL CONCENTRATED 0.5%'})],\n       [frozenset({'AMLODIPINE'})],\n       [frozenset({'ASPIRIN'})],\n       [frozenset({'ASPIRIN EC'})],\n       [frozenset({\"ASPIRIN, CHILDREN'S\"})],\n       [frozenset({'ATORVASTATIN'})],\n       [frozenset({'BISACODYL'})],\n       [frozenset({'CALCIUM GLUCONATE 2 G/50 ML NS'})],\n       [frozenset({'CEFAZOLIN'})],\n       [frozenset({'CEFAZOLIN 2 G/100 ML NS'})],\n       [frozenset({'CEFEPIME'})],\n       [frozenset({'CEFTRIAXONE'})],\n       [frozenset({'CHLORHEXIDINE GLUCONATE 0.12%'})],\n       [frozenset({'DEXTROSE 5%-NACL 0.9%'})],\n       [frozenset({'DEXTROSE 50%-WATER'})],\n       [frozenset({'DIAZEPAM'})],\n       [frozenset({'DIPHENHYDRAMINE HCL'})],\n       [frozenset({'DOCUSATE SODIUM'})],\n       [frozenset({'ENOXAPARIN'})],\n       [frozenset({'FAMOTIDINE'})],\n       [frozenset({'FENTANYL 2000 MCG/100 ML NS'})],\n       [frozenset({'FENTANYL CITRATE (PF)'})],\n       [frozenset({'FOLIC ACID'})],\n       [frozenset({'FUROSEMIDE'})],\n       [frozenset({'GABAPENTIN'})],\n       [frozenset({'GLUCAGON'})],\n       [frozenset({'GLUCOSE'})],\n       [frozenset({'GLYCOPYRROLATE'})],\n       [frozenset({'HALOPERIDOL LACTATE'})],\n       [frozenset({'HEPARIN  FLUSH 10 UNIT/ML'})],\n       [frozenset({'HEPARIN 1,000 UNIT/ML'})],\n       [frozenset({'HEPARIN 25,000 UNIT/500 ML D5W'})],\n       [frozenset({'HEPARIN 5,000 UNIT/ML'})],\n       [frozenset({'HYDRALAZINE'})],\n       [frozenset({'HYDROMORPHONE'})],\n       [frozenset({'INSULIN ASPART'})],\n       [frozenset({'INSULIN LISPRO'})],\n       [frozenset({'INSULIN REG 100 UNITS/100 ML'})],\n       [frozenset({'INSULIN REGULAR, HUMAN'})],\n       [frozenset({'IPRATROPIUM 0.02%'})],\n       [frozenset({'KCL 10 MEQ/100 ML'})],\n       [frozenset({'KCL 20 MEQ/50 ML'})],\n       [frozenset({'LABETALOL'})],\n       [frozenset({'LEVETIRACETAM'})],\n       [frozenset({'LEVOTHYROXINE'})],\n       [frozenset({'LIDOCAINE 1% PF'})],\n       [frozenset({'LISINOPRIL'})],\n       [frozenset({'LORAZEPAM'})],\n       [frozenset({'MAGNESIUM SULF 2 G/50 ML NS'})],\n       [frozenset({'METHYLPREDNISOLONE SOD SUC(PF)'})],\n       [frozenset({'METOCLOPRAMIDE'})],\n       [frozenset({'METOPROLOL TARTRATE'})],\n       [frozenset({'METRONIDAZOLE 500 MG/100 ML'})],\n       [frozenset({'MIDAZOLAM'})],\n       [frozenset({'MIDAZOLAM 100 MG/100 ML NS'})],\n       [frozenset({'MORPHINE'})],\n       [frozenset({'MULTIVITAMINS'})],\n       [frozenset({'NALOXONE'})],\n       [frozenset({'NOREPINEPHRINE 4 MG/250 ML NS'})],\n       [frozenset({'OMEPRAZOLE'})],\n       [frozenset({'ONDANSETRON'})],\n       [frozenset({'OXYCODONE IR'})],\n       [frozenset({'PANTOPRAZOLE'})],\n       [frozenset({'PANTOPRAZOLE DR'})],\n       [frozenset({'PHENYLEPHRINE'})],\n       [frozenset({'PHENYLEPHRINE 10 MG/250 ML NS'})],\n       [frozenset({'PIPERACILLIN/TAZOBACTAM'})],\n       [frozenset({'POTASSIUM AND SODIUM PHOSPHATE'})],\n       [frozenset({'POTASSIUM CHLORIDE'})],\n       [frozenset({'POTASSIUM CHLORIDE ER'})],\n       [frozenset({'POTASSIUM PHOSPHATE'})],\n       [frozenset({'PREDNISONE'})],\n       [frozenset({'PROPOFOL 10 MG/ML'})],\n       [frozenset({'PROPOFOL 1000 MG/100 ML'})],\n       [frozenset({'RINGERS SOLUTION,LACTATED'})],\n       [frozenset({'ROCURONIUM'})],\n       [frozenset({'SENNOSIDES'})],\n       [frozenset({'SIMVASTATIN'})],\n       [frozenset({'SODIUM BICARBONATE 8.4%'})],\n       [frozenset({'SODIUM CHLORIDE 0.9%'})],\n       [frozenset({'THIAMINE'})],\n       [frozenset({'TRAZODONE'})],\n       [frozenset({'VANCOMYCIN'})],\n       [frozenset({'VANCOMYCIN 1 G/200 ML D5W'})],\n       [frozenset({'VANCOMYCIN 1.25 G/250 ML NS'})],\n       [frozenset({'VANCOMYCIN 1.5 G/500 ML NS'})],\n       [frozenset({'WARFARIN'})]], dtype=object)"
     },
     "execution_count": 5,
     "metadata": {},
     "output_type": "execute_result"
    }
   ],
   "source": [
    "import multiprocessing\n",
    "import pandas as pd\n",
    "from posneg_rule_gen.posneg_rule_generation import ponerg\n",
    "from rule_gen import apriori_mlx\n",
    "from util import util\n",
    "from daehan_mlutil import utilities\n",
    "\n",
    "\n",
    "def ponerg_parallel(item):\n",
    "    return ponerg(item, classes, class_support_count_dict, transactions_df)\n",
    "\n",
    "rules = []\n",
    "transactions_df = training_set\n",
    "X_df = pd.DataFrame(transactions_df.drop(['1', '0'], axis=1))\n",
    "classes = [frozenset(['0']), frozenset(['1'])]\n",
    "class_support_count_dict = util.get_support_count_dict_df(classes, transactions_df)\n",
    "\n",
    "f1, previous_itemset_arr = apriori_mlx.apriori_of_size_1(X_df, min_support=min_support)\n",
    "f1 = f1.tolist()\n",
    "freq_itemsets = [f1]\n",
    "for item in f1:\n",
    "    rules.extend(ponerg(item, classes, class_support_count_dict, transactions_df))\n",
    "np.expand_dims(np.array(np.array(f1)), axis=1)"
   ],
   "metadata": {
    "collapsed": false
   }
  },
  {
   "cell_type": "code",
   "execution_count": 6,
   "outputs": [
    {
     "name": "stdout",
     "output_type": "stream",
     "text": [
      "\n",
      "Processing time of rule_gen(): 2.52 seconds (0.04 minutes).\n"
     ]
    },
    {
     "data": {
      "text/plain": "array([[{'antecedent': frozenset({'ACETAMINOPHEN'}), 'consequent': '0', 'confidence': 0.2569277423402698}],\n       [{'antecedent': frozenset({'ALBUTEROL 90 MCG'}), 'consequent': '1', 'confidence': 0.15285730471235215}],\n       [{'antecedent': frozenset({'ALBUTEROL CONCENTRATED 0.5%'}), 'consequent': '1', 'confidence': 0.20172429358129462}],\n       ...,\n       [{'antecedent': frozenset({'MAGNESIUM SULF 2 G/50 ML NS', 'FENTANYL CITRATE (PF)', 'ACETAMINOPHEN', 'GLUCOSE', 'HEPARIN 5,000 UNIT/ML', 'DEXTROSE 50%-WATER', 'GLUCAGON', 'ONDANSETRON'}), 'consequent': '0', 'confidence': 0.6445846874763812}],\n       [{'antecedent': frozenset({'MAGNESIUM SULF 2 G/50 ML NS', 'FENTANYL CITRATE (PF)', 'ACETAMINOPHEN', 'HEPARIN 5,000 UNIT/ML', 'DEXTROSE 50%-WATER', 'MIDAZOLAM', 'ONDANSETRON', 'OXYCODONE IR'}), 'consequent': '0', 'confidence': 0.6934907682472832}],\n       [{'antecedent': frozenset({'MAGNESIUM SULF 2 G/50 ML NS', 'FENTANYL CITRATE (PF)', 'ACETAMINOPHEN', 'POTASSIUM CHLORIDE ER', 'HEPARIN 5,000 UNIT/ML', 'DEXTROSE 50%-WATER', 'ONDANSETRON', 'OXYCODONE IR'}), 'consequent': '0', 'confidence': 0.8651757875497259}]],\n      dtype=object)"
     },
     "execution_count": 6,
     "metadata": {},
     "output_type": "execute_result"
    }
   ],
   "source": [
    "import time\n",
    "\n",
    "start_time = time.time()\n",
    "k = 0\n",
    "while freq_itemsets[k] is not None and len(freq_itemsets[k]) > 0:\n",
    "    k_freq_itemsets, previous_itemset_arr = apriori_mlx.apriori_of_size_k(\n",
    "        X_df, previous_itemset_arr, min_support=min_support, k=k + 2, low_memory=True)\n",
    "    if not k_freq_itemsets.empty:\n",
    "        k_freq_itemsets = k_freq_itemsets.tolist()\n",
    "        # for item in k_freq_itemsets_x_c:\n",
    "        #     rules.extend(ponerg(item, c, len(transactions_per_c), transactions_df))\n",
    "        with multiprocessing.Pool() as pool:\n",
    "            result = pool.map(ponerg_parallel, k_freq_itemsets)\n",
    "        rules_to_extend = [x[0] for x in result if x != []]\n",
    "        rules.extend(rules_to_extend)\n",
    "        freq_itemsets.append(k_freq_itemsets)\n",
    "    else:\n",
    "        freq_itemsets.append(None)\n",
    "    k += 1\n",
    "time_sec = time.time() - start_time\n",
    "time_min = time_sec / 60\n",
    "print(\"\\nProcessing time of %s(): %.2f seconds (%.2f minutes).\"\n",
    "      % (\"rule_gen\", time.time() - start_time, time_min))\n",
    "np.expand_dims(np.array(np.array(rules)), axis=1)"
   ],
   "metadata": {
    "collapsed": false
   }
  },
  {
   "cell_type": "code",
   "execution_count": 12,
   "outputs": [
    {
     "name": "stdout",
     "output_type": "stream",
     "text": [
      "23105\n"
     ]
    },
    {
     "data": {
      "text/plain": "array([[{'antecedent': frozenset({'INSULIN REG 100 UNITS/100 ML', 'MAGNESIUM SULF 2 G/50 ML NS', 'POTASSIUM CHLORIDE ER', 'HEPARIN 5,000 UNIT/ML', 'OXYCODONE IR'}), 'consequent': '0', 'confidence': 0.9545248499573897}],\n       [{'antecedent': frozenset({'INSULIN REG 100 UNITS/100 ML', 'MAGNESIUM SULF 2 G/50 ML NS', 'POTASSIUM CHLORIDE ER', 'HEPARIN 5,000 UNIT/ML', 'DEXTROSE 50%-WATER', 'OXYCODONE IR'}), 'consequent': '0', 'confidence': 0.9544165757906216}],\n       [{'antecedent': frozenset({'MAGNESIUM SULF 2 G/50 ML NS', 'METOPROLOL TARTRATE', 'POTASSIUM CHLORIDE ER', 'OXYCODONE IR'}), 'consequent': '0', 'confidence': 0.9396689973699404}],\n       ...,\n       [{'antecedent': frozenset({'MAGNESIUM SULF 2 G/50 ML NS', 'DOCUSATE SODIUM', 'GLUCAGON'}), 'consequent': '0', 'confidence': 0.7380653981998404}],\n       [{'antecedent': frozenset({'MAGNESIUM SULF 2 G/50 ML NS', 'GLUCAGON', 'DOCUSATE SODIUM', 'DEXTROSE 50%-WATER'}), 'consequent': '0', 'confidence': 0.7380653981998404}],\n       [{'antecedent': frozenset({'FENTANYL 2000 MCG/100 ML NS', 'MIDAZOLAM', 'MIDAZOLAM 100 MG/100 ML NS', 'DEXTROSE 50%-WATER'}), 'consequent': '1', 'confidence': 0.7380321432953012}]],\n      dtype=object)"
     },
     "execution_count": 12,
     "metadata": {},
     "output_type": "execute_result"
    }
   ],
   "source": [
    "import math\n",
    "\n",
    "rules_0 = [rule for rule in rules if rule['consequent'] == '0']\n",
    "rules_1 = [rule for rule in rules if rule['consequent'] == '1']\n",
    "sorted_rules = sorted(rules, key=lambda d: d['confidence'], reverse=True)\n",
    "freq_itemsets_count = sum([len(sublist) for sublist in freq_itemsets[:-1]])\n",
    "sorted_rules = sorted_rules[:math.floor(freq_itemsets_count * 0.1) + 1]\n",
    "\n",
    "print(freq_itemsets_count)\n",
    "np.expand_dims(np.array(sorted_rules), axis=1)"
   ],
   "metadata": {
    "collapsed": false
   }
  },
  {
   "cell_type": "code",
   "execution_count": 14,
   "outputs": [
    {
     "data": {
      "text/plain": "array([0.8280944 , 0.8346001 , 0.82300714, 0.8280944 , 0.82167637,\n       0.84666445, 0.82300714, 0.78242314, 0.81950647, 0.8280944 ,\n       0.82300714, 0.8280944 , 0.82167637, 0.82300714, 0.8280944 ,\n       0.8280944 , 0.8280944 , 0.74172297, 0.8280944 , 0.        ,\n       0.8280944 , 0.81950647, 0.82167637, 0.8176663 , 0.78242314,\n       0.82300714, 0.82300714, 0.82300714, 0.8280944 , 0.88522159,\n       0.8280944 , 0.8280944 , 0.8280944 , 0.81620739, 0.80584666,\n       0.8280944 , 0.8280944 , 0.8280944 , 0.84007725, 0.82300714,\n       0.82300714, 0.80132508, 0.78919195, 0.84380505, 0.8280944 ,\n       0.82300714, 0.8280944 , 0.8280944 , 0.82300714, 0.86453982,\n       0.78242314, 0.78242314, 0.82167637, 0.82677205, 0.86357455,\n       0.8280944 , 0.8280944 , 0.8280944 , 0.93129771, 0.83040813,\n       0.8280944 , 0.75860748, 0.8280944 , 0.8280944 , 0.8280944 ,\n       0.8280944 , 0.82555774, 0.84045802, 0.78242314, 0.        ,\n       0.8280944 , 0.82300714, 0.80800105, 0.82300714, 0.8280944 ,\n       0.87882887, 0.82300714, 0.84158952, 0.8280944 , 0.81845222,\n       0.8280944 , 0.8280944 , 0.82300714, 0.        , 0.78242314,\n       0.82300714, 0.        , 0.82300714, 0.74966449, 0.82300714,\n       0.8280944 , 0.939669  , 0.78242314, 0.        , 0.82300714,\n       0.76708016, 0.82300714, 0.82300714, 0.8280944 , 0.89617658,\n       0.8280944 , 0.74605774, 0.81661841, 0.87376898, 0.80584666,\n       0.8280944 , 0.8280944 , 0.82300714, 0.91257973, 0.82300714,\n       0.8280944 , 0.75933216, 0.82167637, 0.89816469, 0.86976165,\n       0.82167637, 0.        , 0.82300714, 0.76530037, 0.82167637,\n       0.87150981, 0.84158952, 0.81950647, 0.82167637, 0.8280944 ,\n       0.8280944 , 0.78242314, 0.8280944 , 0.8280944 , 0.84736302,\n       0.82167637, 0.8280944 , 0.8280944 , 0.86796525, 0.8280944 ,\n       0.8280944 , 0.80584666, 0.80631493, 0.86357455, 0.8280944 ,\n       0.87150981, 0.95452485, 0.79125348, 0.78242314, 0.8280944 ,\n       0.82300714, 0.82300714, 0.82300714, 0.84770992, 0.87093233,\n       0.82300714, 0.        , 0.8280944 , 0.82300714, 0.8280944 ,\n       0.82300714, 0.87093233, 0.75933216, 0.        , 0.8369644 ,\n       0.81950647, 0.        , 0.8280944 , 0.82167637, 0.81620739,\n       0.8754119 , 0.8280944 , 0.8280944 , 0.8785727 , 0.78242314,\n       0.8280944 , 0.8280944 , 0.82563718, 0.84736302, 0.8280944 ,\n       0.75308105, 0.88522159, 0.8280944 , 0.8280944 , 0.82300714,\n       0.        , 0.85076251, 0.88711652, 0.78242314, 0.78242314,\n       0.8280944 , 0.78242314, 0.82300714, 0.8280944 , 0.93129771,\n       0.84158952, 0.78919195, 0.8280944 , 0.8280944 , 0.8280944 ,\n       0.8280944 , 0.8280944 , 0.82167637, 0.91509961, 0.8280944 ,\n       0.78242314, 0.82555774, 0.8280944 , 0.76530037, 0.8239848 ,\n       0.81620739, 0.8280944 , 0.80584666, 0.8280944 , 0.8346001 ,\n       0.78242314, 0.91414781, 0.8280944 , 0.91257973, 0.8280944 ,\n       0.8280944 , 0.84736302, 0.82300714, 0.8280944 , 0.8280944 ,\n       0.87093233, 0.82167637, 0.80584666, 0.82300714, 0.8280944 ,\n       0.8280944 , 0.8280944 , 0.        , 0.81670434, 0.80800105,\n       0.86453982, 0.        , 0.74112888, 0.8280944 , 0.82300714,\n       0.8280944 , 0.8280944 , 0.75308105, 0.81670434, 0.75308105,\n       0.8280944 , 0.8280944 , 0.85042939, 0.82300714, 0.84045802,\n       0.8280944 , 0.86324973, 0.        , 0.82300714, 0.8280944 ,\n       0.78919195, 0.8280944 , 0.8280944 , 0.8280944 , 0.        ,\n       0.8280944 , 0.        , 0.86976165, 0.8280944 , 0.87150981,\n       0.82300714, 0.939669  , 0.89816469, 0.76708016, 0.82300714,\n       0.8280944 , 0.95452485, 0.86453982, 0.82300714, 0.        ,\n       0.8280944 , 0.83040813, 0.8280944 , 0.81950647, 0.8280944 ,\n       0.84488974, 0.78919195, 0.83242855, 0.        , 0.8280944 ,\n       0.81888825, 0.8280944 , 0.8280944 , 0.82300714, 0.82563718,\n       0.        , 0.82167637, 0.8280944 , 0.78242314, 0.82300714,\n       0.939669  , 0.91257973, 0.82300714, 0.8280944 , 0.8280944 ,\n       0.82300714, 0.84045802, 0.        , 0.82555774, 0.83040813,\n       0.82300714, 0.8280944 , 0.82300714, 0.74112888, 0.8280944 ,\n       0.80631493, 0.80887524, 0.8280944 , 0.78242314, 0.80584666,\n       0.82167637, 0.86357455, 0.82300714, 0.8280944 , 0.8280944 ,\n       0.82300714, 0.        , 0.82300714, 0.8280944 , 0.8280944 ,\n       0.82300714, 0.85042939, 0.8280944 , 0.8280944 , 0.8280944 ,\n       0.75933216, 0.78242314, 0.82300714, 0.8280944 , 0.8280944 ,\n       0.75933216, 0.91509961, 0.8280944 , 0.83040813, 0.82752218,\n       0.84045802, 0.8280944 , 0.82300714, 0.8280944 , 0.76708016,\n       0.8280944 , 0.8280944 , 0.78242314, 0.82300714, 0.82300714,\n       0.        , 0.82300714, 0.8280944 , 0.        , 0.8280944 ,\n       0.8280944 , 0.82713284, 0.82300714, 0.85712658, 0.8280944 ,\n       0.78242314, 0.8280944 , 0.82300714, 0.78242314, 0.81888825,\n       0.91177402, 0.8280944 , 0.86796525, 0.8280944 , 0.93488082,\n       0.80631493, 0.89220136, 0.74000565, 0.8280944 , 0.8280944 ,\n       0.82300714, 0.        , 0.8688696 , 0.8280944 , 0.90861557,\n       0.82300714, 0.83040813, 0.8280944 , 0.78919195, 0.80584666,\n       0.85042939, 0.82167637, 0.88522159, 0.89617658, 0.8280944 ,\n       0.8280944 , 0.8280944 , 0.83969466, 0.82300714, 0.86357455,\n       0.78242314, 0.82167637, 0.82167637])"
     },
     "execution_count": 14,
     "metadata": {},
     "output_type": "execute_result"
    }
   ],
   "source": [
    "training_transactions_1 = training_set[training_set['1']].drop(['1', '0'], axis=1).apply(\n",
    "    lambda row: frozenset(row.index[row]), axis=1).tolist()\n",
    "scores_training = [classification.predict_proba(object_o, sorted_rules, True) for object_o in training_transactions_1]\n",
    "scores_training = np.array(scores_training)\n",
    "scores_training[scores_training == -1] = 0\n",
    "scores_training"
   ],
   "metadata": {
    "collapsed": false
   }
  },
  {
   "cell_type": "code",
   "execution_count": 9,
   "outputs": [
    {
     "data": {
      "text/plain": "0.779568385998605"
     },
     "execution_count": 9,
     "metadata": {},
     "output_type": "execute_result"
    }
   ],
   "source": [
    "mean = np.mean(scores_training)\n",
    "mean"
   ],
   "metadata": {
    "collapsed": false
   }
  },
  {
   "cell_type": "code",
   "execution_count": 38,
   "outputs": [
    {
     "data": {
      "text/plain": "array([[0.        , 2.22994035],\n       [2.49818181, 0.        ],\n       [0.74028049, 1.55582473],\n       [2.36567645, 0.        ],\n       [0.        , 0.        ],\n       [2.62858042, 0.        ],\n       [2.84382225, 2.26677518],\n       [0.        , 0.        ],\n       [2.46254162, 0.        ],\n       [2.81108614, 2.31964138],\n       [2.84382225, 0.        ],\n       [2.62708625, 0.        ],\n       [0.        , 0.        ],\n       [2.54204519, 2.29872845],\n       [0.        , 2.29872845],\n       [2.53262546, 1.55582473],\n       [0.        , 2.45060099],\n       [2.59537967, 0.        ],\n       [2.5413905 , 1.55582473],\n       [2.84861042, 2.31515689],\n       [2.84382225, 2.4647329 ],\n       [2.50236672, 0.        ],\n       [2.40150973, 2.43789016],\n       [2.84382225, 2.21913228],\n       [2.73001601, 0.        ],\n       [2.50236672, 0.        ],\n       [2.73001601, 2.45458237],\n       [0.        , 0.        ],\n       [2.35964281, 2.29872845],\n       [0.        , 0.        ],\n       [2.57268979, 0.        ],\n       [0.        , 0.        ],\n       [2.62708625, 2.29362951],\n       [2.49740186, 0.        ],\n       [2.61431348, 0.        ],\n       [2.61431348, 0.        ],\n       [2.77591148, 0.        ],\n       [0.        , 0.        ],\n       [2.78219338, 0.        ],\n       [2.79356283, 2.45458237],\n       [2.53729422, 2.47895968],\n       [2.43180805, 0.        ],\n       [2.34497174, 2.36155957],\n       [2.5413905 , 2.45458237],\n       [2.79356283, 0.        ],\n       [2.69226122, 0.        ],\n       [2.5880446 , 0.        ],\n       [2.67668199, 0.        ],\n       [2.73067503, 2.47389904],\n       [2.73056024, 0.        ],\n       [0.        , 0.        ],\n       [2.66159117, 0.        ],\n       [2.78887753, 0.        ],\n       [2.77667657, 2.45458237],\n       [2.62708625, 0.        ],\n       [2.68821578, 2.4647329 ],\n       [0.74028049, 0.        ],\n       [2.84861042, 0.        ],\n       [2.62858042, 0.        ],\n       [2.41525336, 2.35980388],\n       [2.61279698, 1.55582473],\n       [2.28973158, 0.        ],\n       [2.35964281, 0.        ],\n       [2.61431348, 0.        ],\n       [2.5760843 , 2.45458237],\n       [2.84382225, 0.        ],\n       [2.62708625, 2.45458237],\n       [2.72334052, 2.4647329 ],\n       [2.38891587, 0.        ],\n       [2.84861042, 0.        ],\n       [2.84861042, 0.        ],\n       [2.46294549, 0.        ],\n       [2.52056112, 0.        ],\n       [2.28973158, 0.        ],\n       [2.36827471, 0.        ],\n       [2.32772927, 2.31515689],\n       [2.84861042, 0.        ],\n       [2.46294549, 0.        ],\n       [2.53729422, 2.4647329 ],\n       [2.45746336, 0.        ],\n       [0.        , 2.45793315],\n       [2.44453468, 0.        ],\n       [0.        , 0.        ],\n       [2.51330775, 0.        ],\n       [2.67463081, 0.        ],\n       [2.24592504, 0.        ],\n       [2.46254162, 2.47895968],\n       [2.68940588, 2.22509376],\n       [2.72334052, 0.        ],\n       [2.81108614, 0.        ],\n       [2.40381929, 0.        ],\n       [0.        , 0.        ],\n       [2.46294549, 0.        ],\n       [2.81108614, 2.28426701],\n       [0.        , 0.        ],\n       [2.84382225, 0.        ],\n       [2.52869141, 0.        ],\n       [0.        , 2.47895968],\n       [2.84861042, 0.        ],\n       [2.67463081, 0.        ],\n       [2.66769022, 0.        ],\n       [2.62385284, 0.        ],\n       [0.        , 0.        ],\n       [2.84861042, 0.        ],\n       [2.36084374, 2.29872845],\n       [2.84382225, 0.        ],\n       [0.        , 0.        ],\n       [0.        , 0.        ],\n       [2.73056024, 0.        ],\n       [2.24415914, 0.        ],\n       [0.        , 0.        ],\n       [0.        , 0.        ],\n       [2.37021085, 0.        ],\n       [2.41992595, 0.        ],\n       [2.61431348, 0.        ],\n       [0.        , 2.47895968],\n       [2.50210285, 0.        ],\n       [2.61279698, 2.47895968],\n       [2.74825753, 2.4647329 ],\n       [2.53163618, 0.        ],\n       [2.5413905 , 0.        ],\n       [2.62402829, 2.25598499],\n       [2.58974452, 2.47895968],\n       [2.81108614, 2.28426701],\n       [2.84861042, 2.45689285],\n       [2.58011133, 0.        ],\n       [0.        , 0.        ],\n       [2.40130122, 0.        ],\n       [0.        , 0.        ],\n       [2.59113949, 0.        ],\n       [2.47563136, 0.        ],\n       [2.73001601, 2.45458237],\n       [2.63065493, 0.        ],\n       [2.84861042, 2.47895968],\n       [2.84861042, 2.27680989],\n       [2.77973084, 2.45060099],\n       [2.62385284, 2.29872845],\n       [2.72334052, 0.        ],\n       [2.84861042, 0.        ],\n       [2.84861042, 2.45458237],\n       [2.84382225, 2.45689285],\n       [2.23158677, 0.        ],\n       [2.84861042, 2.25598499],\n       [2.81108614, 0.        ],\n       [2.81108614, 0.        ],\n       [1.52275705, 0.        ],\n       [2.59113949, 0.        ],\n       [2.77403914, 0.        ],\n       [2.61279698, 0.        ],\n       [0.        , 2.27680989],\n       [2.73056024, 0.        ],\n       [2.57738877, 0.        ],\n       [2.84861042, 2.28426701],\n       [2.73056024, 2.36155957],\n       [2.84861042, 0.74008931],\n       [2.62385284, 2.22994035],\n       [2.5413905 , 0.        ],\n       [2.46096776, 0.        ],\n       [0.        , 0.        ],\n       [2.47948206, 0.        ],\n       [2.44453468, 0.        ],\n       [2.81108614, 0.        ],\n       [2.51398916, 0.        ],\n       [0.        , 0.        ],\n       [2.61431348, 2.47895968],\n       [2.73056024, 2.29872845],\n       [2.81108614, 2.29872845],\n       [2.67325121, 0.        ],\n       [2.24757807, 0.        ],\n       [2.39344409, 2.27680989],\n       [2.59113949, 0.        ],\n       [0.74028049, 0.        ],\n       [2.6190628 , 0.        ],\n       [0.        , 0.        ],\n       [0.        , 2.4647329 ],\n       [2.73001601, 2.4647329 ],\n       [2.76930282, 2.27680989],\n       [2.62385284, 2.45060099],\n       [2.80953279, 0.        ],\n       [2.2606591 , 0.        ],\n       [2.53729422, 0.        ],\n       [0.        , 1.55582473],\n       [2.81108614, 2.28426701],\n       [2.73001601, 0.        ],\n       [2.40381929, 0.        ],\n       [2.24757807, 2.4647329 ],\n       [2.54791466, 0.        ],\n       [0.        , 0.        ],\n       [2.84861042, 0.        ],\n       [2.59113949, 2.47895968],\n       [2.77902582, 0.        ],\n       [0.        , 0.        ],\n       [2.84861042, 0.        ],\n       [2.26495533, 2.29872845],\n       [2.69299179, 0.        ],\n       [2.40133065, 0.        ],\n       [0.        , 0.        ],\n       [2.81108614, 0.        ],\n       [0.        , 0.        ],\n       [2.61279698, 0.        ],\n       [2.62385284, 2.4647329 ],\n       [2.73056024, 0.        ],\n       [2.73001601, 0.        ],\n       [2.46294549, 2.24656276],\n       [2.6788604 , 0.        ],\n       [0.74028049, 0.        ],\n       [0.        , 0.        ],\n       [2.73056024, 0.        ],\n       [2.24757807, 2.47895968],\n       [2.77591148, 2.45458237],\n       [2.46294549, 0.        ],\n       [2.73056024, 0.        ],\n       [2.75597934, 2.4647329 ],\n       [2.55769266, 0.        ],\n       [2.5911858 , 0.        ],\n       [2.61279698, 0.        ],\n       [2.61279698, 0.        ],\n       [2.5413905 , 0.        ],\n       [2.51398916, 0.        ],\n       [2.77591148, 0.        ],\n       [2.84382225, 0.        ],\n       [2.73056024, 0.        ],\n       [2.81108614, 2.4647329 ],\n       [0.        , 0.        ],\n       [2.47667322, 0.        ],\n       [2.73001601, 0.        ],\n       [2.71754112, 2.47895968],\n       [0.        , 0.        ],\n       [2.84861042, 0.        ],\n       [2.24641132, 2.4468242 ],\n       [2.81108614, 2.45060099],\n       [2.62783368, 0.        ],\n       [2.84861042, 0.        ],\n       [2.81108614, 2.28426701],\n       [2.49381305, 0.        ],\n       [0.        , 0.        ],\n       [2.73056024, 2.29872845],\n       [0.        , 0.        ],\n       [2.84861042, 0.        ],\n       [2.5413905 , 0.        ],\n       [2.59537967, 0.        ],\n       [2.28700839, 2.26651059],\n       [2.61279698, 0.        ],\n       [0.        , 0.        ],\n       [2.56523331, 0.        ],\n       [2.68276387, 2.47895968],\n       [2.73001601, 2.4647329 ],\n       [0.        , 0.        ],\n       [2.53729422, 0.        ],\n       [2.73056024, 0.        ],\n       [2.53241426, 0.        ],\n       [2.54204519, 0.        ],\n       [2.84861042, 0.        ],\n       [2.73056024, 1.55582473],\n       [0.        , 0.        ],\n       [2.77591148, 2.43789016],\n       [2.46831313, 0.        ],\n       [2.61144634, 0.        ],\n       [0.        , 2.36155957],\n       [2.61431348, 0.        ],\n       [2.81108614, 2.25598499],\n       [2.40130122, 0.        ],\n       [0.        , 0.        ],\n       [2.5413905 , 2.45458237],\n       [2.43455843, 0.        ],\n       [2.73056024, 2.29872845],\n       [0.        , 0.        ],\n       [2.56355042, 0.        ],\n       [2.62467833, 2.47895968],\n       [0.        , 0.        ],\n       [2.58974452, 0.        ],\n       [0.        , 2.43789016],\n       [2.84861042, 0.        ],\n       [2.44453468, 2.32290489],\n       [2.62385284, 2.45689285],\n       [0.        , 2.4647329 ],\n       [2.61431348, 0.        ],\n       [2.80007961, 2.4647329 ],\n       [2.54204519, 0.        ],\n       [2.44453468, 0.        ],\n       [2.44388531, 0.        ],\n       [2.46294549, 0.        ],\n       [2.58264556, 1.55582473],\n       [0.74000565, 2.22254986],\n       [0.        , 2.31515689],\n       [2.51825986, 0.        ],\n       [2.51825986, 0.        ],\n       [2.72334052, 2.36155957],\n       [2.6152867 , 0.        ],\n       [2.26709954, 0.        ],\n       [0.        , 0.        ],\n       [2.41592811, 1.55582473],\n       [2.46294549, 0.        ],\n       [2.54204519, 0.        ],\n       [2.5734817 , 0.        ],\n       [0.        , 2.47412769],\n       [2.41319144, 0.        ],\n       [2.23817322, 2.4647329 ],\n       [2.77622001, 0.        ],\n       [2.58974452, 2.29872845],\n       [2.61431348, 0.        ],\n       [2.5413905 , 0.        ],\n       [2.77902582, 0.        ],\n       [2.6167886 , 2.24608016],\n       [2.54204519, 0.        ],\n       [2.25198121, 0.        ],\n       [2.45472848, 0.        ],\n       [2.62858042, 2.47895968],\n       [2.81108614, 2.28426701],\n       [2.81108614, 2.28426701],\n       [2.39710835, 0.        ],\n       [2.84861042, 0.        ],\n       [0.        , 0.        ],\n       [2.61431348, 0.        ],\n       [2.55969964, 0.        ],\n       [2.46294549, 0.        ],\n       [2.5413905 , 0.        ],\n       [2.23158677, 0.        ],\n       [2.81108614, 2.47895968],\n       [2.54261679, 0.        ],\n       [2.61279698, 0.        ],\n       [2.81108614, 0.        ],\n       [2.68821578, 0.        ],\n       [1.48028614, 2.47895968],\n       [2.47795025, 0.        ],\n       [0.        , 2.44757241],\n       [2.84861042, 2.28426701],\n       [2.62110554, 0.        ],\n       [0.        , 0.        ],\n       [2.40150973, 0.        ],\n       [2.44625946, 2.2642068 ],\n       [2.72334052, 0.        ],\n       [1.47939423, 0.        ],\n       [2.73001601, 2.29872845],\n       [2.84382225, 0.        ],\n       [2.47667322, 0.        ],\n       [2.73001601, 0.        ],\n       [2.62385284, 2.4647329 ],\n       [0.        , 0.        ],\n       [2.61431348, 0.        ],\n       [2.81108614, 2.4468242 ],\n       [2.58672085, 0.        ],\n       [2.84861042, 0.        ],\n       [0.        , 0.        ],\n       [2.67072491, 0.        ],\n       [2.46294549, 0.        ],\n       [2.73056024, 1.55582473],\n       [2.62385284, 2.29872845],\n       [2.62239255, 0.        ],\n       [0.        , 2.45793315],\n       [2.73528544, 0.        ],\n       [2.84382225, 2.36155957],\n       [2.81108614, 2.29872845],\n       [2.40537678, 0.        ],\n       [2.84861042, 0.        ],\n       [2.23158677, 0.        ],\n       [2.73001601, 0.        ],\n       [2.68821578, 2.45458237],\n       [2.73056024, 0.        ],\n       [0.        , 2.44757241],\n       [2.70728105, 0.        ],\n       [2.63013614, 0.        ],\n       [2.42995563, 0.        ],\n       [2.68276387, 0.        ],\n       [0.        , 0.78242314],\n       [2.45060576, 0.        ],\n       [2.62858042, 2.47895968],\n       [2.73056024, 0.        ],\n       [2.39150251, 0.        ],\n       [2.23158677, 0.        ],\n       [2.59113949, 0.        ],\n       [2.6190628 , 0.        ],\n       [2.58974452, 2.22166404],\n       [2.61279698, 0.        ],\n       [2.4621556 , 0.        ],\n       [0.74028049, 0.        ],\n       [2.73056024, 2.24656276],\n       [2.36062312, 2.47895968],\n       [2.28973158, 0.        ],\n       [2.30239565, 0.        ],\n       [2.54571369, 1.55582473],\n       [2.25122705, 0.        ],\n       [2.3875459 , 0.        ],\n       [2.42995563, 0.        ],\n       [2.84382225, 2.47895968],\n       [0.        , 0.        ],\n       [2.84382225, 0.        ],\n       [2.62858042, 0.        ],\n       [2.73528544, 0.        ],\n       [2.84382225, 2.4647329 ],\n       [2.73056024, 0.        ],\n       [2.58974452, 0.        ],\n       [0.        , 0.        ],\n       [2.32711505, 0.        ],\n       [2.67324952, 0.        ],\n       [0.        , 0.        ],\n       [2.84382225, 0.        ],\n       [2.44724933, 2.24656276],\n       [2.28874928, 0.        ],\n       [2.61431348, 0.        ],\n       [0.        , 0.        ],\n       [0.        , 0.        ],\n       [2.73001601, 0.        ],\n       [2.24415914, 2.24656276],\n       [2.84861042, 2.36155957],\n       [2.68276387, 2.29872845],\n       [2.62385284, 2.26651059],\n       [2.73001601, 2.47895968],\n       [2.61431348, 2.26651059],\n       [2.62385284, 0.        ],\n       [2.46294549, 2.29362951],\n       [2.84861042, 2.28426701],\n       [0.        , 2.22994035],\n       [2.62385284, 2.4647329 ],\n       [0.        , 0.        ],\n       [2.42995563, 0.        ],\n       [2.8060809 , 2.22479423],\n       [2.47180783, 1.55582473],\n       [2.38262656, 2.47895968],\n       [2.33497878, 2.47895968],\n       [2.5070333 , 2.47895968],\n       [0.        , 1.55582473],\n       [2.71297532, 2.45458237],\n       [0.        , 2.36155957],\n       [2.50458681, 2.47895968],\n       [0.74028049, 2.47895968],\n       [0.        , 2.4647329 ],\n       [2.73056024, 2.47895968],\n       [0.        , 2.47895968],\n       [0.        , 2.27680989],\n       [2.4555145 , 2.45689285],\n       [0.        , 2.47895968],\n       [2.5475757 , 2.4647329 ],\n       [0.        , 2.47895968],\n       [0.        , 2.47895968],\n       [2.43570321, 0.        ],\n       [0.        , 2.47895968],\n       [2.24415914, 2.47895968],\n       [2.46294549, 2.47895968],\n       [0.        , 2.47895968],\n       [0.        , 0.        ],\n       [0.        , 2.47895968],\n       [0.        , 2.47895968],\n       [0.        , 2.4647329 ],\n       [2.81108614, 2.4647329 ],\n       [2.46294549, 2.47895968],\n       [2.6152867 , 2.47895968],\n       [0.        , 0.        ],\n       [0.        , 2.47412769],\n       [0.        , 0.        ],\n       [0.        , 2.47895968],\n       [0.        , 2.4647329 ],\n       [2.4821536 , 2.45060099],\n       [0.        , 2.47895968],\n       [2.36974553, 2.31515689],\n       [0.        , 2.4647329 ],\n       [2.31774848, 0.        ],\n       [0.        , 1.55582473],\n       [2.26495533, 1.55582473],\n       [2.84861042, 2.47895968]])"
     },
     "execution_count": 38,
     "metadata": {},
     "output_type": "execute_result"
    }
   ],
   "source": [
    "import importlib\n",
    "importlib.reload(classification)\n",
    "test_transactions = test_set.drop(['1', '0'], axis=1).apply(lambda row: frozenset(row.index[row]), axis=1).tolist()\n",
    "scores = [classification.predict_proba_prune(object_o, sorted_rules) for object_o in test_transactions]\n",
    "scores = np.array(scores)\n",
    "scores"
   ],
   "metadata": {
    "collapsed": false
   }
  },
  {
   "cell_type": "code",
   "execution_count": 39,
   "outputs": [
    {
     "data": {
      "text/plain": "array([ 1,  0,  1,  0, -1,  0,  0, -1,  0,  0,  0,  0, -1,  0,  1,  0,  1,\n        0,  0,  0,  0,  0,  1,  0,  0,  0,  0, -1,  0, -1,  0, -1,  0,  0,\n        0,  0,  0, -1,  0,  0,  0,  0,  1,  0,  0,  0,  0,  0,  0,  0, -1,\n        0,  0,  0,  0,  0,  0,  0,  0,  0,  0,  0,  0,  0,  0,  0,  0,  0,\n        0,  0,  0,  0,  0,  0,  0,  0,  0,  0,  0,  0,  1,  0, -1,  0,  0,\n        0,  1,  0,  0,  0,  0, -1,  0,  0, -1,  0,  0,  1,  0,  0,  0,  0,\n       -1,  0,  0,  0, -1, -1,  0,  0, -1, -1,  0,  0,  0,  1,  0,  0,  0,\n        0,  0,  0,  0,  0,  0,  0, -1,  0, -1,  0,  0,  0,  0,  0,  0,  0,\n        0,  0,  0,  0,  0,  0,  0,  0,  0,  0,  0,  0,  0,  1,  0,  0,  0,\n        0,  0,  0,  0,  0, -1,  0,  0,  0,  0, -1,  0,  0,  0,  0,  0,  0,\n        0,  0,  0, -1,  1,  0,  0,  0,  0,  0,  0,  1,  0,  0,  0,  1,  0,\n       -1,  0,  0,  0, -1,  0,  1,  0,  0, -1,  0, -1,  0,  0,  0,  0,  0,\n        0,  0, -1,  0,  1,  0,  0,  0,  0,  0,  0,  0,  0,  0,  0,  0,  0,\n        0,  0, -1,  0,  0,  0, -1,  0,  1,  0,  0,  0,  0,  0, -1,  0, -1,\n        0,  0,  0,  0,  0, -1,  0,  0,  0, -1,  0,  0,  0,  0,  0,  0, -1,\n        0,  0,  0,  1,  0,  0,  0, -1,  0,  0,  0, -1,  0,  0, -1,  0,  1,\n        0,  0,  0,  1,  0,  0,  0,  0,  0,  0,  0,  1,  1,  0,  0,  0,  0,\n        0, -1,  0,  0,  0,  0,  1,  0,  1,  0,  0,  0,  0,  0,  0,  0,  0,\n        0,  0,  0,  0,  0,  0, -1,  0,  0,  0,  0,  0,  0,  0,  0,  0,  0,\n        1,  0,  1,  0,  0, -1,  0,  0,  0,  0,  0,  0,  0,  0,  0, -1,  0,\n        0,  0,  0, -1,  0,  0,  0,  0,  0,  1,  0,  0,  0,  0,  0,  0,  0,\n        0,  0,  1,  0,  0,  0,  0,  1,  0,  0,  0,  0,  0,  0,  0,  0,  0,\n        0,  0,  0,  1,  0,  0,  0,  0,  0,  0,  0, -1,  0,  0,  0,  0,  0,\n        0, -1,  0,  0, -1,  0,  0,  0,  0, -1, -1,  0,  1,  0,  0,  0,  0,\n        0,  0,  0,  0,  1,  0, -1,  0,  0,  0,  1,  1,  0,  1,  0,  1,  0,\n        1,  1,  0,  1,  1,  1,  1,  0,  1,  1,  0,  1,  1,  1,  1, -1,  1,\n        1,  1,  0,  1,  0, -1,  1, -1,  1,  1,  0,  1,  0,  1,  0,  1,  0,\n        0])"
     },
     "execution_count": 39,
     "metadata": {},
     "output_type": "execute_result"
    }
   ],
   "source": [
    "# y_pred = np.zeros(len(y_test), dtype=int)\n",
    "# for i in range(scores_test.shape[0]):\n",
    "#     if scores_test[i, 0] == 0 and scores_test[i, 1] == 0:\n",
    "#         y_pred[i] = -1\n",
    "#     elif scores_test[i, 0] >= scores_test[i, 1]:\n",
    "#         y_pred[i] = 0\n",
    "#     else:\n",
    "#         y_pred[i] = 1\n",
    "y_pred = np.where(scores[:, 0] >= scores[:, 1], 0, 1)\n",
    "y_pred[(scores[:, 0] == 0) & (scores[:, 1] == 0)] = -1\n",
    "# y_pred = (scores_test[:, 0] < scores_test[:, 1]).astype(np.uint8)\n",
    "y_pred"
   ],
   "metadata": {
    "collapsed": false
   }
  },
  {
   "cell_type": "code",
   "execution_count": 40,
   "outputs": [
    {
     "data": {
      "text/plain": "50"
     },
     "execution_count": 40,
     "metadata": {},
     "output_type": "execute_result"
    }
   ],
   "source": [
    "not_classified = np.sum(y_pred == -1)\n",
    "not_classified"
   ],
   "metadata": {
    "collapsed": false
   }
  },
  {
   "cell_type": "code",
   "execution_count": 41,
   "outputs": [
    {
     "data": {
      "text/plain": "array([1, 0, 1, 0, 0, 0, 0, 0, 0, 0, 0, 0, 0, 0, 1, 0, 1, 0, 0, 0, 0, 0,\n       1, 0, 0, 0, 0, 0, 0, 0, 0, 0, 0, 0, 0, 0, 0, 0, 0, 0, 0, 0, 1, 0,\n       0, 0, 0, 0, 0, 0, 0, 0, 0, 0, 0, 0, 0, 0, 0, 0, 0, 0, 0, 0, 0, 0,\n       0, 0, 0, 0, 0, 0, 0, 0, 0, 0, 0, 0, 0, 0, 1, 0, 0, 0, 0, 0, 1, 0,\n       0, 0, 0, 0, 0, 0, 0, 0, 0, 1, 0, 0, 0, 0, 0, 0, 0, 0, 0, 0, 0, 0,\n       0, 0, 0, 0, 0, 1, 0, 0, 0, 0, 0, 0, 0, 0, 0, 0, 0, 0, 0, 0, 0, 0,\n       0, 0, 0, 0, 0, 0, 0, 0, 0, 0, 0, 0, 0, 0, 0, 0, 0, 1, 0, 0, 0, 0,\n       0, 0, 0, 0, 0, 0, 0, 0, 0, 0, 0, 0, 0, 0, 0, 0, 0, 0, 0, 0, 1, 0,\n       0, 0, 0, 0, 0, 1, 0, 0, 0, 1, 0, 0, 0, 0, 0, 0, 0, 1, 0, 0, 0, 0,\n       0, 0, 0, 0, 0, 0, 0, 0, 0, 0, 1, 0, 0, 0, 0, 0, 0, 0, 0, 0, 0, 0,\n       0, 0, 0, 0, 0, 0, 0, 0, 0, 1, 0, 0, 0, 0, 0, 0, 0, 0, 0, 0, 0, 0,\n       0, 0, 0, 0, 0, 0, 0, 0, 0, 0, 0, 0, 0, 0, 0, 0, 1, 0, 0, 0, 0, 0,\n       0, 0, 0, 0, 0, 0, 0, 1, 0, 0, 0, 1, 0, 0, 0, 0, 0, 0, 0, 1, 1, 0,\n       0, 0, 0, 0, 0, 0, 0, 0, 0, 1, 0, 1, 0, 0, 0, 0, 0, 0, 0, 0, 0, 0,\n       0, 0, 0, 0, 0, 0, 0, 0, 0, 0, 0, 0, 0, 0, 0, 1, 0, 1, 0, 0, 0, 0,\n       0, 0, 0, 0, 0, 0, 0, 0, 0, 0, 0, 0, 0, 0, 0, 0, 0, 0, 0, 1, 0, 0,\n       0, 0, 0, 0, 0, 0, 0, 1, 0, 0, 0, 0, 1, 0, 0, 0, 0, 0, 0, 0, 0, 0,\n       0, 0, 0, 1, 0, 0, 0, 0, 0, 0, 0, 0, 0, 0, 0, 0, 0, 0, 0, 0, 0, 0,\n       0, 0, 0, 0, 0, 0, 0, 1, 0, 0, 0, 0, 0, 0, 0, 0, 1, 0, 0, 0, 0, 0,\n       1, 1, 0, 1, 0, 1, 0, 1, 1, 0, 1, 1, 1, 1, 0, 1, 1, 0, 1, 1, 1, 1,\n       0, 1, 1, 1, 0, 1, 0, 0, 1, 0, 1, 1, 0, 1, 0, 1, 0, 1, 0, 0])"
     },
     "execution_count": 41,
     "metadata": {},
     "output_type": "execute_result"
    }
   ],
   "source": [
    "y_pred[y_pred == -1] = 0\n",
    "y_pred"
   ],
   "metadata": {
    "collapsed": false
   }
  },
  {
   "cell_type": "code",
   "execution_count": 42,
   "outputs": [
    {
     "data": {
      "text/plain": "array([0, 0, 0, 0, 0, 0, 0, 0, 0, 0, 0, 0, 0, 0, 0, 0, 0, 0, 0, 0, 0, 0,\n       0, 0, 0, 0, 0, 0, 0, 0, 0, 0, 0, 0, 0, 0, 0, 0, 0, 0, 0, 0, 0, 0,\n       0, 0, 0, 0, 0, 0, 0, 0, 0, 0, 0, 0, 0, 0, 0, 0, 0, 0, 0, 0, 0, 0,\n       0, 0, 0, 0, 0, 0, 0, 0, 0, 0, 0, 0, 0, 0, 0, 0, 0, 0, 0, 0, 0, 0,\n       0, 0, 0, 0, 0, 0, 0, 0, 0, 0, 0, 0, 0, 0, 0, 0, 0, 0, 0, 0, 0, 0,\n       0, 0, 0, 0, 0, 0, 0, 0, 0, 0, 0, 0, 0, 0, 0, 0, 0, 0, 0, 0, 0, 0,\n       0, 0, 0, 0, 0, 0, 0, 0, 0, 0, 0, 0, 0, 0, 0, 0, 0, 0, 0, 0, 0, 0,\n       0, 0, 0, 0, 0, 0, 0, 0, 0, 0, 0, 0, 0, 0, 0, 0, 0, 0, 0, 0, 0, 0,\n       0, 0, 0, 0, 0, 0, 0, 0, 0, 0, 0, 0, 0, 0, 0, 0, 0, 0, 0, 0, 0, 0,\n       0, 0, 0, 0, 0, 0, 0, 0, 0, 0, 0, 0, 0, 0, 0, 0, 0, 0, 0, 0, 0, 0,\n       0, 0, 0, 0, 0, 0, 0, 0, 0, 0, 0, 0, 0, 0, 0, 0, 0, 0, 0, 0, 0, 0,\n       0, 0, 0, 0, 0, 0, 0, 0, 0, 0, 0, 0, 0, 0, 0, 0, 0, 0, 0, 0, 0, 0,\n       0, 0, 0, 0, 0, 0, 0, 0, 0, 0, 0, 0, 0, 0, 0, 0, 0, 0, 0, 0, 0, 0,\n       0, 0, 0, 0, 0, 0, 0, 0, 0, 0, 0, 0, 0, 0, 0, 0, 0, 0, 0, 0, 0, 0,\n       0, 0, 0, 0, 0, 0, 0, 0, 0, 0, 0, 0, 0, 0, 0, 0, 0, 0, 0, 0, 0, 0,\n       0, 0, 0, 0, 0, 0, 0, 0, 0, 0, 0, 0, 0, 0, 0, 0, 0, 0, 0, 0, 0, 0,\n       0, 0, 0, 0, 0, 0, 0, 0, 0, 0, 0, 0, 0, 0, 0, 0, 0, 0, 0, 0, 0, 0,\n       0, 0, 0, 0, 0, 0, 0, 0, 0, 0, 0, 0, 0, 0, 0, 0, 0, 0, 0, 0, 0, 0,\n       0, 0, 0, 0, 0, 0, 0, 0, 0, 0, 0, 0, 0, 0, 0, 0, 0, 0, 0, 0, 0, 1,\n       1, 1, 1, 1, 1, 1, 1, 1, 1, 1, 1, 1, 1, 1, 1, 1, 1, 1, 1, 1, 1, 1,\n       1, 1, 1, 1, 1, 1, 1, 1, 1, 1, 1, 1, 1, 1, 1, 1, 1, 1, 1, 1])"
     },
     "execution_count": 42,
     "metadata": {},
     "output_type": "execute_result"
    }
   ],
   "source": [
    "y_test = test_set.apply(lambda row: 0 if row['0'] else 1, axis=1).tolist()\n",
    "y_test = np.array(y_test)\n",
    "y_test"
   ],
   "metadata": {
    "collapsed": false
   }
  },
  {
   "cell_type": "code",
   "execution_count": 44,
   "outputs": [
    {
     "name": "stdout",
     "output_type": "stream",
     "text": [
      "Pred as -1: 50\n",
      "Precision: 0.448\n",
      "Recall: 0.605\n",
      "F1: 0.514851\n",
      "roc auc: 0.8460487424014277\n",
      "Accuracy: 89.348%\n",
      "Total Rules: 2311\n",
      "Number of freq itemsets: 23105\n",
      "Rules with class 0: 15225\n",
      "Rules with class 1: 7880\n",
      "Avg rule conf: 0.794\n",
      "Max rule conf: 0.955\n",
      "Min rule conf: 0.738\n",
      "\n",
      "Avg conf for c0 rules: 0.796\n",
      "Max conf for c0 rules: 0.955\n",
      "Min conf for c0 rules: 0.738\n",
      "Avg conf for c1 rules: 0.761\n",
      "Max conf for c1 rules: 0.828\n",
      "Min conf for c1 rules: 0.738\n"
     ]
    }
   ],
   "source": [
    "TP = np.sum(np.logical_and(y_pred == 1, y_test == 1))\n",
    "TN = np.sum(np.logical_and(y_pred == 0, y_test == 0))\n",
    "FP = np.sum(np.logical_and(y_pred == 1, y_test == 0))\n",
    "FN = np.sum(np.logical_and(y_pred == 0, y_test == 1))\n",
    "precision = TP / (TP + FP)\n",
    "recall = TP / (TP + FN)\n",
    "F1 = 2 * recall * precision / (recall + precision)\n",
    "roc_auc = roc_auc_score(y_test, scores[:, 1])\n",
    "accuracy = 100 * np.sum(y_test == y_pred) / len(y_test)\n",
    "print(f\"Pred as -1: {not_classified}\")\n",
    "print(f\"Precision: {round(precision, 3)}\")\n",
    "print(f\"Recall: {round(recall, 3)}\")\n",
    "print(f\"F1: {round(F1, 6)}\")\n",
    "print(f\"roc auc: {roc_auc}\")\n",
    "print(f\"Accuracy: {round(accuracy, 3)}%\")\n",
    "print(f\"Total Rules: {len(sorted_rules)}\")\n",
    "print(f\"Number of freq itemsets: {freq_itemsets_count}\")\n",
    "print(f\"Rules with class 0: {len(rules_0)}\")\n",
    "print(f\"Rules with class 1: {len(rules_1)}\")\n",
    "print(f\"Avg rule conf: {round(sum(rule['confidence'] for rule in sorted_rules) / len(sorted_rules), 3)}\")\n",
    "print(f\"Max rule conf: {round(sorted_rules[0]['confidence'], 3)}\")\n",
    "print(f\"Min rule conf: {round(sorted_rules[-1]['confidence'], 3)}\\n\")\n",
    "sorted_0 = [rule for rule in sorted_rules if rule['consequent'] == '0']\n",
    "sorted_1 = [rule for rule in sorted_rules if rule['consequent'] == '1']\n",
    "try:\n",
    "    print(f\"Avg conf for c0 rules: {round(sum(rule['confidence'] for rule in sorted_0) / len(sorted_0), 3)}\")\n",
    "    print(f\"Max conf for c0 rules: {round(sorted_0[0]['confidence'], 3)}\")\n",
    "    print(f\"Min conf for c0 rules: {round(sorted_0[-1]['confidence'], 3)}\")\n",
    "    print(f\"Avg conf for c1 rules: {round(sum(rule['confidence'] for rule in sorted_1) / len(sorted_1), 3)}\")\n",
    "    print(f\"Max conf for c1 rules: {round(sorted_1[0]['confidence'], 3)}\")\n",
    "    print(f\"Min conf for c1 rules: {round(sorted_1[-1]['confidence'], 3)}\")\n",
    "except Exception:\n",
    "    pass"
   ],
   "metadata": {
    "collapsed": false
   }
  },
  {
   "cell_type": "code",
   "execution_count": null,
   "outputs": [],
   "source": [],
   "metadata": {
    "collapsed": false
   }
  }
 ],
 "metadata": {
  "kernelspec": {
   "display_name": "Python 3",
   "language": "python",
   "name": "python3"
  },
  "language_info": {
   "codemirror_mode": {
    "name": "ipython",
    "version": 2
   },
   "file_extension": ".py",
   "mimetype": "text/x-python",
   "name": "python",
   "nbconvert_exporter": "python",
   "pygments_lexer": "ipython2",
   "version": "2.7.6"
  }
 },
 "nbformat": 4,
 "nbformat_minor": 0
}
