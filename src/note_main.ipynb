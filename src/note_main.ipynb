{
 "cells": [
  {
   "cell_type": "code",
   "execution_count": 1,
   "metadata": {
    "collapsed": true
   },
   "outputs": [
    {
     "data": {
      "text/plain": "          0      1  ACETAMINOPHEN  ALBUMIN HUMAN 25%  ALBUMIN HUMAN 5%  \\\n0      True  False           True              False             False   \n1      True  False           True              False             False   \n2      True  False           True              False             False   \n3      True  False          False              False             False   \n4      True  False          False              False             False   \n...     ...    ...            ...                ...               ...   \n4610   True  False           True              False             False   \n4611   True  False          False              False             False   \n4612   True  False          False              False              True   \n4613  False   True          False              False             False   \n4614   True  False           True              False             False   \n\n      ALBUTEROL 0.083%  ALBUTEROL 90 MCG  ALBUTEROL CONCENTRATED 0.5%  \\\n0                False             False                        False   \n1                False              True                         True   \n2                False             False                        False   \n3                False             False                        False   \n4                False             False                        False   \n...                ...               ...                          ...   \n4610             False              True                         True   \n4611             False              True                         True   \n4612             False             False                        False   \n4613             False             False                         True   \n4614             False              True                         True   \n\n      ALLOPURINOL  ALPRAZOLAM  ...  TACROLIMUS  TAMSULOSIN  THIAMINE  \\\n0           False       False  ...       False       False      True   \n1           False       False  ...       False       False     False   \n2           False       False  ...       False       False     False   \n3           False       False  ...       False       False     False   \n4           False       False  ...       False       False     False   \n...           ...         ...  ...         ...         ...       ...   \n4610        False       False  ...       False       False     False   \n4611        False       False  ...       False       False     False   \n4612        False       False  ...       False       False      True   \n4613        False       False  ...       False       False     False   \n4614        False       False  ...       False       False     False   \n\n      TRAMADOL  TRAZODONE  VANCOMYCIN  VANCOMYCIN 1 G/200 ML D5W  \\\n0        False      False       False                      False   \n1        False      False       False                      False   \n2        False      False       False                      False   \n3        False      False       False                      False   \n4        False      False        True                      False   \n...        ...        ...         ...                        ...   \n4610      True       True       False                       True   \n4611     False      False        True                      False   \n4612     False      False        True                      False   \n4613     False      False       False                      False   \n4614     False      False        True                       True   \n\n      VANCOMYCIN 1.25 G/250 ML NS  VANCOMYCIN 1.5 G/500 ML NS  WARFARIN  \n0                           False                       False     False  \n1                           False                       False     False  \n2                           False                       False     False  \n3                           False                       False      True  \n4                           False                       False     False  \n...                           ...                         ...       ...  \n4610                         True                        True     False  \n4611                        False                       False     False  \n4612                        False                       False     False  \n4613                        False                       False     False  \n4614                         True                        True      True  \n\n[4615 rows x 149 columns]",
      "text/html": "<div>\n<style scoped>\n    .dataframe tbody tr th:only-of-type {\n        vertical-align: middle;\n    }\n\n    .dataframe tbody tr th {\n        vertical-align: top;\n    }\n\n    .dataframe thead th {\n        text-align: right;\n    }\n</style>\n<table border=\"1\" class=\"dataframe\">\n  <thead>\n    <tr style=\"text-align: right;\">\n      <th></th>\n      <th>0</th>\n      <th>1</th>\n      <th>ACETAMINOPHEN</th>\n      <th>ALBUMIN HUMAN 25%</th>\n      <th>ALBUMIN HUMAN 5%</th>\n      <th>ALBUTEROL 0.083%</th>\n      <th>ALBUTEROL 90 MCG</th>\n      <th>ALBUTEROL CONCENTRATED 0.5%</th>\n      <th>ALLOPURINOL</th>\n      <th>ALPRAZOLAM</th>\n      <th>...</th>\n      <th>TACROLIMUS</th>\n      <th>TAMSULOSIN</th>\n      <th>THIAMINE</th>\n      <th>TRAMADOL</th>\n      <th>TRAZODONE</th>\n      <th>VANCOMYCIN</th>\n      <th>VANCOMYCIN 1 G/200 ML D5W</th>\n      <th>VANCOMYCIN 1.25 G/250 ML NS</th>\n      <th>VANCOMYCIN 1.5 G/500 ML NS</th>\n      <th>WARFARIN</th>\n    </tr>\n  </thead>\n  <tbody>\n    <tr>\n      <th>0</th>\n      <td>True</td>\n      <td>False</td>\n      <td>True</td>\n      <td>False</td>\n      <td>False</td>\n      <td>False</td>\n      <td>False</td>\n      <td>False</td>\n      <td>False</td>\n      <td>False</td>\n      <td>...</td>\n      <td>False</td>\n      <td>False</td>\n      <td>True</td>\n      <td>False</td>\n      <td>False</td>\n      <td>False</td>\n      <td>False</td>\n      <td>False</td>\n      <td>False</td>\n      <td>False</td>\n    </tr>\n    <tr>\n      <th>1</th>\n      <td>True</td>\n      <td>False</td>\n      <td>True</td>\n      <td>False</td>\n      <td>False</td>\n      <td>False</td>\n      <td>True</td>\n      <td>True</td>\n      <td>False</td>\n      <td>False</td>\n      <td>...</td>\n      <td>False</td>\n      <td>False</td>\n      <td>False</td>\n      <td>False</td>\n      <td>False</td>\n      <td>False</td>\n      <td>False</td>\n      <td>False</td>\n      <td>False</td>\n      <td>False</td>\n    </tr>\n    <tr>\n      <th>2</th>\n      <td>True</td>\n      <td>False</td>\n      <td>True</td>\n      <td>False</td>\n      <td>False</td>\n      <td>False</td>\n      <td>False</td>\n      <td>False</td>\n      <td>False</td>\n      <td>False</td>\n      <td>...</td>\n      <td>False</td>\n      <td>False</td>\n      <td>False</td>\n      <td>False</td>\n      <td>False</td>\n      <td>False</td>\n      <td>False</td>\n      <td>False</td>\n      <td>False</td>\n      <td>False</td>\n    </tr>\n    <tr>\n      <th>3</th>\n      <td>True</td>\n      <td>False</td>\n      <td>False</td>\n      <td>False</td>\n      <td>False</td>\n      <td>False</td>\n      <td>False</td>\n      <td>False</td>\n      <td>False</td>\n      <td>False</td>\n      <td>...</td>\n      <td>False</td>\n      <td>False</td>\n      <td>False</td>\n      <td>False</td>\n      <td>False</td>\n      <td>False</td>\n      <td>False</td>\n      <td>False</td>\n      <td>False</td>\n      <td>True</td>\n    </tr>\n    <tr>\n      <th>4</th>\n      <td>True</td>\n      <td>False</td>\n      <td>False</td>\n      <td>False</td>\n      <td>False</td>\n      <td>False</td>\n      <td>False</td>\n      <td>False</td>\n      <td>False</td>\n      <td>False</td>\n      <td>...</td>\n      <td>False</td>\n      <td>False</td>\n      <td>False</td>\n      <td>False</td>\n      <td>False</td>\n      <td>True</td>\n      <td>False</td>\n      <td>False</td>\n      <td>False</td>\n      <td>False</td>\n    </tr>\n    <tr>\n      <th>...</th>\n      <td>...</td>\n      <td>...</td>\n      <td>...</td>\n      <td>...</td>\n      <td>...</td>\n      <td>...</td>\n      <td>...</td>\n      <td>...</td>\n      <td>...</td>\n      <td>...</td>\n      <td>...</td>\n      <td>...</td>\n      <td>...</td>\n      <td>...</td>\n      <td>...</td>\n      <td>...</td>\n      <td>...</td>\n      <td>...</td>\n      <td>...</td>\n      <td>...</td>\n      <td>...</td>\n    </tr>\n    <tr>\n      <th>4610</th>\n      <td>True</td>\n      <td>False</td>\n      <td>True</td>\n      <td>False</td>\n      <td>False</td>\n      <td>False</td>\n      <td>True</td>\n      <td>True</td>\n      <td>False</td>\n      <td>False</td>\n      <td>...</td>\n      <td>False</td>\n      <td>False</td>\n      <td>False</td>\n      <td>True</td>\n      <td>True</td>\n      <td>False</td>\n      <td>True</td>\n      <td>True</td>\n      <td>True</td>\n      <td>False</td>\n    </tr>\n    <tr>\n      <th>4611</th>\n      <td>True</td>\n      <td>False</td>\n      <td>False</td>\n      <td>False</td>\n      <td>False</td>\n      <td>False</td>\n      <td>True</td>\n      <td>True</td>\n      <td>False</td>\n      <td>False</td>\n      <td>...</td>\n      <td>False</td>\n      <td>False</td>\n      <td>False</td>\n      <td>False</td>\n      <td>False</td>\n      <td>True</td>\n      <td>False</td>\n      <td>False</td>\n      <td>False</td>\n      <td>False</td>\n    </tr>\n    <tr>\n      <th>4612</th>\n      <td>True</td>\n      <td>False</td>\n      <td>False</td>\n      <td>False</td>\n      <td>True</td>\n      <td>False</td>\n      <td>False</td>\n      <td>False</td>\n      <td>False</td>\n      <td>False</td>\n      <td>...</td>\n      <td>False</td>\n      <td>False</td>\n      <td>True</td>\n      <td>False</td>\n      <td>False</td>\n      <td>True</td>\n      <td>False</td>\n      <td>False</td>\n      <td>False</td>\n      <td>False</td>\n    </tr>\n    <tr>\n      <th>4613</th>\n      <td>False</td>\n      <td>True</td>\n      <td>False</td>\n      <td>False</td>\n      <td>False</td>\n      <td>False</td>\n      <td>False</td>\n      <td>True</td>\n      <td>False</td>\n      <td>False</td>\n      <td>...</td>\n      <td>False</td>\n      <td>False</td>\n      <td>False</td>\n      <td>False</td>\n      <td>False</td>\n      <td>False</td>\n      <td>False</td>\n      <td>False</td>\n      <td>False</td>\n      <td>False</td>\n    </tr>\n    <tr>\n      <th>4614</th>\n      <td>True</td>\n      <td>False</td>\n      <td>True</td>\n      <td>False</td>\n      <td>False</td>\n      <td>False</td>\n      <td>True</td>\n      <td>True</td>\n      <td>False</td>\n      <td>False</td>\n      <td>...</td>\n      <td>False</td>\n      <td>False</td>\n      <td>False</td>\n      <td>False</td>\n      <td>False</td>\n      <td>True</td>\n      <td>True</td>\n      <td>True</td>\n      <td>True</td>\n      <td>True</td>\n    </tr>\n  </tbody>\n</table>\n<p>4615 rows × 149 columns</p>\n</div>"
     },
     "execution_count": 1,
     "metadata": {},
     "output_type": "execute_result"
    }
   ],
   "source": [
    "import random\n",
    "import pandas as pd\n",
    "from sklearn.metrics import classification_report, roc_auc_score\n",
    "import csv\n",
    "import numpy as np\n",
    "from tabulate import tabulate\n",
    "from classification import classification\n",
    "from rule_gen import rule_generation\n",
    "from daehan_mlutil import utilities\n",
    "from util import util\n",
    "\n",
    "with open('../data/dataset.csv', 'r') as file:\n",
    "    dataset = [list(filter(None, row)) for row in csv.reader(file)]\n",
    "\n",
    "min_support = 0.06\n",
    "transactions_df = util.convert_trans_to_df(dataset)\n",
    "transactions_df"
   ]
  },
  {
   "cell_type": "code",
   "execution_count": 2,
   "outputs": [],
   "source": [
    "random.seed(0)\n",
    "transactions_0 = pd.DataFrame(\n",
    "    transactions_df[transactions_df['0']].reset_index(drop=True))\n",
    "transactions_1 = pd.DataFrame(\n",
    "    transactions_df[transactions_df['1']].reset_index(drop=True))"
   ],
   "metadata": {
    "collapsed": false
   }
  },
  {
   "cell_type": "code",
   "execution_count": 3,
   "outputs": [
    {
     "data": {
      "text/plain": "         0      1  ACETAMINOPHEN  ALBUMIN HUMAN 25%  ALBUMIN HUMAN 5%  \\\n0     True  False          False              False             False   \n1     True  False           True              False             False   \n2     True  False           True              False             False   \n3     True  False           True              False             False   \n4     True  False           True              False             False   \n..     ...    ...            ...                ...               ...   \n388  False   True           True              False             False   \n389  False   True           True              False             False   \n390  False   True          False              False             False   \n391  False   True           True              False             False   \n392  False   True           True              False             False   \n\n     ALBUTEROL 0.083%  ALBUTEROL 90 MCG  ALBUTEROL CONCENTRATED 0.5%  \\\n0               False             False                        False   \n1               False             False                        False   \n2               False              True                         True   \n3               False             False                        False   \n4               False              True                         True   \n..                ...               ...                          ...   \n388             False              True                         True   \n389             False              True                         True   \n390             False             False                        False   \n391             False             False                        False   \n392             False             False                        False   \n\n     ALLOPURINOL  ALPRAZOLAM  ...  TACROLIMUS  TAMSULOSIN  THIAMINE  TRAMADOL  \\\n0          False       False  ...       False       False      True     False   \n1          False       False  ...       False       False      True     False   \n2          False       False  ...       False        True     False     False   \n3          False       False  ...       False       False     False     False   \n4          False       False  ...       False       False     False     False   \n..           ...         ...  ...         ...         ...       ...       ...   \n388        False       False  ...       False       False     False     False   \n389        False       False  ...       False       False     False     False   \n390        False       False  ...       False       False     False     False   \n391        False       False  ...       False       False     False     False   \n392        False       False  ...       False       False     False     False   \n\n     TRAZODONE  VANCOMYCIN  VANCOMYCIN 1 G/200 ML D5W  \\\n0        False        True                       True   \n1        False       False                      False   \n2        False       False                       True   \n3        False       False                      False   \n4        False       False                      False   \n..         ...         ...                        ...   \n388      False        True                      False   \n389      False       False                       True   \n390      False       False                       True   \n391      False       False                      False   \n392      False       False                      False   \n\n     VANCOMYCIN 1.25 G/250 ML NS  VANCOMYCIN 1.5 G/500 ML NS  WARFARIN  \n0                           True                       False     False  \n1                          False                       False     False  \n2                           True                       False     False  \n3                          False                       False     False  \n4                          False                       False     False  \n..                           ...                         ...       ...  \n388                        False                       False     False  \n389                         True                       False     False  \n390                        False                       False     False  \n391                        False                       False     False  \n392                        False                       False     False  \n\n[4155 rows x 149 columns]",
      "text/html": "<div>\n<style scoped>\n    .dataframe tbody tr th:only-of-type {\n        vertical-align: middle;\n    }\n\n    .dataframe tbody tr th {\n        vertical-align: top;\n    }\n\n    .dataframe thead th {\n        text-align: right;\n    }\n</style>\n<table border=\"1\" class=\"dataframe\">\n  <thead>\n    <tr style=\"text-align: right;\">\n      <th></th>\n      <th>0</th>\n      <th>1</th>\n      <th>ACETAMINOPHEN</th>\n      <th>ALBUMIN HUMAN 25%</th>\n      <th>ALBUMIN HUMAN 5%</th>\n      <th>ALBUTEROL 0.083%</th>\n      <th>ALBUTEROL 90 MCG</th>\n      <th>ALBUTEROL CONCENTRATED 0.5%</th>\n      <th>ALLOPURINOL</th>\n      <th>ALPRAZOLAM</th>\n      <th>...</th>\n      <th>TACROLIMUS</th>\n      <th>TAMSULOSIN</th>\n      <th>THIAMINE</th>\n      <th>TRAMADOL</th>\n      <th>TRAZODONE</th>\n      <th>VANCOMYCIN</th>\n      <th>VANCOMYCIN 1 G/200 ML D5W</th>\n      <th>VANCOMYCIN 1.25 G/250 ML NS</th>\n      <th>VANCOMYCIN 1.5 G/500 ML NS</th>\n      <th>WARFARIN</th>\n    </tr>\n  </thead>\n  <tbody>\n    <tr>\n      <th>0</th>\n      <td>True</td>\n      <td>False</td>\n      <td>False</td>\n      <td>False</td>\n      <td>False</td>\n      <td>False</td>\n      <td>False</td>\n      <td>False</td>\n      <td>False</td>\n      <td>False</td>\n      <td>...</td>\n      <td>False</td>\n      <td>False</td>\n      <td>True</td>\n      <td>False</td>\n      <td>False</td>\n      <td>True</td>\n      <td>True</td>\n      <td>True</td>\n      <td>False</td>\n      <td>False</td>\n    </tr>\n    <tr>\n      <th>1</th>\n      <td>True</td>\n      <td>False</td>\n      <td>True</td>\n      <td>False</td>\n      <td>False</td>\n      <td>False</td>\n      <td>False</td>\n      <td>False</td>\n      <td>False</td>\n      <td>False</td>\n      <td>...</td>\n      <td>False</td>\n      <td>False</td>\n      <td>True</td>\n      <td>False</td>\n      <td>False</td>\n      <td>False</td>\n      <td>False</td>\n      <td>False</td>\n      <td>False</td>\n      <td>False</td>\n    </tr>\n    <tr>\n      <th>2</th>\n      <td>True</td>\n      <td>False</td>\n      <td>True</td>\n      <td>False</td>\n      <td>False</td>\n      <td>False</td>\n      <td>True</td>\n      <td>True</td>\n      <td>False</td>\n      <td>False</td>\n      <td>...</td>\n      <td>False</td>\n      <td>True</td>\n      <td>False</td>\n      <td>False</td>\n      <td>False</td>\n      <td>False</td>\n      <td>True</td>\n      <td>True</td>\n      <td>False</td>\n      <td>False</td>\n    </tr>\n    <tr>\n      <th>3</th>\n      <td>True</td>\n      <td>False</td>\n      <td>True</td>\n      <td>False</td>\n      <td>False</td>\n      <td>False</td>\n      <td>False</td>\n      <td>False</td>\n      <td>False</td>\n      <td>False</td>\n      <td>...</td>\n      <td>False</td>\n      <td>False</td>\n      <td>False</td>\n      <td>False</td>\n      <td>False</td>\n      <td>False</td>\n      <td>False</td>\n      <td>False</td>\n      <td>False</td>\n      <td>False</td>\n    </tr>\n    <tr>\n      <th>4</th>\n      <td>True</td>\n      <td>False</td>\n      <td>True</td>\n      <td>False</td>\n      <td>False</td>\n      <td>False</td>\n      <td>True</td>\n      <td>True</td>\n      <td>False</td>\n      <td>False</td>\n      <td>...</td>\n      <td>False</td>\n      <td>False</td>\n      <td>False</td>\n      <td>False</td>\n      <td>False</td>\n      <td>False</td>\n      <td>False</td>\n      <td>False</td>\n      <td>False</td>\n      <td>False</td>\n    </tr>\n    <tr>\n      <th>...</th>\n      <td>...</td>\n      <td>...</td>\n      <td>...</td>\n      <td>...</td>\n      <td>...</td>\n      <td>...</td>\n      <td>...</td>\n      <td>...</td>\n      <td>...</td>\n      <td>...</td>\n      <td>...</td>\n      <td>...</td>\n      <td>...</td>\n      <td>...</td>\n      <td>...</td>\n      <td>...</td>\n      <td>...</td>\n      <td>...</td>\n      <td>...</td>\n      <td>...</td>\n      <td>...</td>\n    </tr>\n    <tr>\n      <th>388</th>\n      <td>False</td>\n      <td>True</td>\n      <td>True</td>\n      <td>False</td>\n      <td>False</td>\n      <td>False</td>\n      <td>True</td>\n      <td>True</td>\n      <td>False</td>\n      <td>False</td>\n      <td>...</td>\n      <td>False</td>\n      <td>False</td>\n      <td>False</td>\n      <td>False</td>\n      <td>False</td>\n      <td>True</td>\n      <td>False</td>\n      <td>False</td>\n      <td>False</td>\n      <td>False</td>\n    </tr>\n    <tr>\n      <th>389</th>\n      <td>False</td>\n      <td>True</td>\n      <td>True</td>\n      <td>False</td>\n      <td>False</td>\n      <td>False</td>\n      <td>True</td>\n      <td>True</td>\n      <td>False</td>\n      <td>False</td>\n      <td>...</td>\n      <td>False</td>\n      <td>False</td>\n      <td>False</td>\n      <td>False</td>\n      <td>False</td>\n      <td>False</td>\n      <td>True</td>\n      <td>True</td>\n      <td>False</td>\n      <td>False</td>\n    </tr>\n    <tr>\n      <th>390</th>\n      <td>False</td>\n      <td>True</td>\n      <td>False</td>\n      <td>False</td>\n      <td>False</td>\n      <td>False</td>\n      <td>False</td>\n      <td>False</td>\n      <td>False</td>\n      <td>False</td>\n      <td>...</td>\n      <td>False</td>\n      <td>False</td>\n      <td>False</td>\n      <td>False</td>\n      <td>False</td>\n      <td>False</td>\n      <td>True</td>\n      <td>False</td>\n      <td>False</td>\n      <td>False</td>\n    </tr>\n    <tr>\n      <th>391</th>\n      <td>False</td>\n      <td>True</td>\n      <td>True</td>\n      <td>False</td>\n      <td>False</td>\n      <td>False</td>\n      <td>False</td>\n      <td>False</td>\n      <td>False</td>\n      <td>False</td>\n      <td>...</td>\n      <td>False</td>\n      <td>False</td>\n      <td>False</td>\n      <td>False</td>\n      <td>False</td>\n      <td>False</td>\n      <td>False</td>\n      <td>False</td>\n      <td>False</td>\n      <td>False</td>\n    </tr>\n    <tr>\n      <th>392</th>\n      <td>False</td>\n      <td>True</td>\n      <td>True</td>\n      <td>False</td>\n      <td>False</td>\n      <td>False</td>\n      <td>False</td>\n      <td>False</td>\n      <td>False</td>\n      <td>False</td>\n      <td>...</td>\n      <td>False</td>\n      <td>False</td>\n      <td>False</td>\n      <td>False</td>\n      <td>False</td>\n      <td>False</td>\n      <td>False</td>\n      <td>False</td>\n      <td>False</td>\n      <td>False</td>\n    </tr>\n  </tbody>\n</table>\n<p>4155 rows × 149 columns</p>\n</div>"
     },
     "execution_count": 3,
     "metadata": {},
     "output_type": "execute_result"
    }
   ],
   "source": [
    "indices = list(range(0, len(transactions_0)))\n",
    "random.shuffle(indices)\n",
    "test_set_0 = transactions_0.iloc[indices[:417], :].reset_index(drop=True)\n",
    "training_set_0 = transactions_0.iloc[indices[417:], :].reset_index(drop=True)\n",
    "\n",
    "indices = list(range(0, len(transactions_1)))\n",
    "random.shuffle(indices)\n",
    "test_set_1 = transactions_1.iloc[indices[:43], :].reset_index(drop=True)\n",
    "training_set_1 = transactions_1.iloc[indices[43:], :].reset_index(drop=True)\n",
    "\n",
    "training_set = pd.concat([training_set_0, training_set_1])\n",
    "test_set = pd.concat([test_set_0, test_set_1])\n",
    "training_set"
   ],
   "metadata": {
    "collapsed": false
   }
  },
  {
   "cell_type": "code",
   "execution_count": 4,
   "outputs": [
    {
     "data": {
      "text/plain": "        0      1  ACETAMINOPHEN  ALBUMIN HUMAN 25%  ALBUMIN HUMAN 5%  \\\n0    True  False          False               True             False   \n1    True  False          False              False             False   \n2    True  False          False              False             False   \n3    True  False           True              False             False   \n4    True  False           True              False             False   \n..    ...    ...            ...                ...               ...   \n38  False   True           True              False             False   \n39  False   True          False              False             False   \n40  False   True          False              False             False   \n41  False   True           True               True             False   \n42  False   True           True               True             False   \n\n    ALBUTEROL 0.083%  ALBUTEROL 90 MCG  ALBUTEROL CONCENTRATED 0.5%  \\\n0              False             False                        False   \n1              False             False                        False   \n2              False             False                        False   \n3              False              True                         True   \n4              False              True                         True   \n..               ...               ...                          ...   \n38             False             False                        False   \n39             False              True                         True   \n40             False              True                        False   \n41             False             False                         True   \n42             False             False                         True   \n\n    ALLOPURINOL  ALPRAZOLAM  ...  TACROLIMUS  TAMSULOSIN  THIAMINE  TRAMADOL  \\\n0         False       False  ...       False       False     False     False   \n1         False       False  ...       False       False     False     False   \n2         False       False  ...       False       False     False     False   \n3         False       False  ...       False       False     False     False   \n4         False       False  ...       False       False     False      True   \n..          ...         ...  ...         ...         ...       ...       ...   \n38        False       False  ...       False       False     False     False   \n39        False       False  ...       False       False     False     False   \n40        False       False  ...       False       False     False     False   \n41        False       False  ...       False       False      True     False   \n42        False       False  ...       False        True     False     False   \n\n    TRAZODONE  VANCOMYCIN  VANCOMYCIN 1 G/200 ML D5W  \\\n0       False       False                      False   \n1       False        True                      False   \n2       False       False                      False   \n3       False       False                      False   \n4        True       False                      False   \n..        ...         ...                        ...   \n38      False       False                       True   \n39      False       False                      False   \n40      False       False                      False   \n41      False       False                       True   \n42      False        True                       True   \n\n    VANCOMYCIN 1.25 G/250 ML NS  VANCOMYCIN 1.5 G/500 ML NS  WARFARIN  \n0                         False                       False     False  \n1                         False                       False      True  \n2                         False                       False     False  \n3                         False                       False     False  \n4                         False                       False     False  \n..                          ...                         ...       ...  \n38                         True                       False     False  \n39                         True                       False     False  \n40                        False                       False     False  \n41                        False                       False     False  \n42                        False                       False     False  \n\n[460 rows x 149 columns]",
      "text/html": "<div>\n<style scoped>\n    .dataframe tbody tr th:only-of-type {\n        vertical-align: middle;\n    }\n\n    .dataframe tbody tr th {\n        vertical-align: top;\n    }\n\n    .dataframe thead th {\n        text-align: right;\n    }\n</style>\n<table border=\"1\" class=\"dataframe\">\n  <thead>\n    <tr style=\"text-align: right;\">\n      <th></th>\n      <th>0</th>\n      <th>1</th>\n      <th>ACETAMINOPHEN</th>\n      <th>ALBUMIN HUMAN 25%</th>\n      <th>ALBUMIN HUMAN 5%</th>\n      <th>ALBUTEROL 0.083%</th>\n      <th>ALBUTEROL 90 MCG</th>\n      <th>ALBUTEROL CONCENTRATED 0.5%</th>\n      <th>ALLOPURINOL</th>\n      <th>ALPRAZOLAM</th>\n      <th>...</th>\n      <th>TACROLIMUS</th>\n      <th>TAMSULOSIN</th>\n      <th>THIAMINE</th>\n      <th>TRAMADOL</th>\n      <th>TRAZODONE</th>\n      <th>VANCOMYCIN</th>\n      <th>VANCOMYCIN 1 G/200 ML D5W</th>\n      <th>VANCOMYCIN 1.25 G/250 ML NS</th>\n      <th>VANCOMYCIN 1.5 G/500 ML NS</th>\n      <th>WARFARIN</th>\n    </tr>\n  </thead>\n  <tbody>\n    <tr>\n      <th>0</th>\n      <td>True</td>\n      <td>False</td>\n      <td>False</td>\n      <td>True</td>\n      <td>False</td>\n      <td>False</td>\n      <td>False</td>\n      <td>False</td>\n      <td>False</td>\n      <td>False</td>\n      <td>...</td>\n      <td>False</td>\n      <td>False</td>\n      <td>False</td>\n      <td>False</td>\n      <td>False</td>\n      <td>False</td>\n      <td>False</td>\n      <td>False</td>\n      <td>False</td>\n      <td>False</td>\n    </tr>\n    <tr>\n      <th>1</th>\n      <td>True</td>\n      <td>False</td>\n      <td>False</td>\n      <td>False</td>\n      <td>False</td>\n      <td>False</td>\n      <td>False</td>\n      <td>False</td>\n      <td>False</td>\n      <td>False</td>\n      <td>...</td>\n      <td>False</td>\n      <td>False</td>\n      <td>False</td>\n      <td>False</td>\n      <td>False</td>\n      <td>True</td>\n      <td>False</td>\n      <td>False</td>\n      <td>False</td>\n      <td>True</td>\n    </tr>\n    <tr>\n      <th>2</th>\n      <td>True</td>\n      <td>False</td>\n      <td>False</td>\n      <td>False</td>\n      <td>False</td>\n      <td>False</td>\n      <td>False</td>\n      <td>False</td>\n      <td>False</td>\n      <td>False</td>\n      <td>...</td>\n      <td>False</td>\n      <td>False</td>\n      <td>False</td>\n      <td>False</td>\n      <td>False</td>\n      <td>False</td>\n      <td>False</td>\n      <td>False</td>\n      <td>False</td>\n      <td>False</td>\n    </tr>\n    <tr>\n      <th>3</th>\n      <td>True</td>\n      <td>False</td>\n      <td>True</td>\n      <td>False</td>\n      <td>False</td>\n      <td>False</td>\n      <td>True</td>\n      <td>True</td>\n      <td>False</td>\n      <td>False</td>\n      <td>...</td>\n      <td>False</td>\n      <td>False</td>\n      <td>False</td>\n      <td>False</td>\n      <td>False</td>\n      <td>False</td>\n      <td>False</td>\n      <td>False</td>\n      <td>False</td>\n      <td>False</td>\n    </tr>\n    <tr>\n      <th>4</th>\n      <td>True</td>\n      <td>False</td>\n      <td>True</td>\n      <td>False</td>\n      <td>False</td>\n      <td>False</td>\n      <td>True</td>\n      <td>True</td>\n      <td>False</td>\n      <td>False</td>\n      <td>...</td>\n      <td>False</td>\n      <td>False</td>\n      <td>False</td>\n      <td>True</td>\n      <td>True</td>\n      <td>False</td>\n      <td>False</td>\n      <td>False</td>\n      <td>False</td>\n      <td>False</td>\n    </tr>\n    <tr>\n      <th>...</th>\n      <td>...</td>\n      <td>...</td>\n      <td>...</td>\n      <td>...</td>\n      <td>...</td>\n      <td>...</td>\n      <td>...</td>\n      <td>...</td>\n      <td>...</td>\n      <td>...</td>\n      <td>...</td>\n      <td>...</td>\n      <td>...</td>\n      <td>...</td>\n      <td>...</td>\n      <td>...</td>\n      <td>...</td>\n      <td>...</td>\n      <td>...</td>\n      <td>...</td>\n      <td>...</td>\n    </tr>\n    <tr>\n      <th>38</th>\n      <td>False</td>\n      <td>True</td>\n      <td>True</td>\n      <td>False</td>\n      <td>False</td>\n      <td>False</td>\n      <td>False</td>\n      <td>False</td>\n      <td>False</td>\n      <td>False</td>\n      <td>...</td>\n      <td>False</td>\n      <td>False</td>\n      <td>False</td>\n      <td>False</td>\n      <td>False</td>\n      <td>False</td>\n      <td>True</td>\n      <td>True</td>\n      <td>False</td>\n      <td>False</td>\n    </tr>\n    <tr>\n      <th>39</th>\n      <td>False</td>\n      <td>True</td>\n      <td>False</td>\n      <td>False</td>\n      <td>False</td>\n      <td>False</td>\n      <td>True</td>\n      <td>True</td>\n      <td>False</td>\n      <td>False</td>\n      <td>...</td>\n      <td>False</td>\n      <td>False</td>\n      <td>False</td>\n      <td>False</td>\n      <td>False</td>\n      <td>False</td>\n      <td>False</td>\n      <td>True</td>\n      <td>False</td>\n      <td>False</td>\n    </tr>\n    <tr>\n      <th>40</th>\n      <td>False</td>\n      <td>True</td>\n      <td>False</td>\n      <td>False</td>\n      <td>False</td>\n      <td>False</td>\n      <td>True</td>\n      <td>False</td>\n      <td>False</td>\n      <td>False</td>\n      <td>...</td>\n      <td>False</td>\n      <td>False</td>\n      <td>False</td>\n      <td>False</td>\n      <td>False</td>\n      <td>False</td>\n      <td>False</td>\n      <td>False</td>\n      <td>False</td>\n      <td>False</td>\n    </tr>\n    <tr>\n      <th>41</th>\n      <td>False</td>\n      <td>True</td>\n      <td>True</td>\n      <td>True</td>\n      <td>False</td>\n      <td>False</td>\n      <td>False</td>\n      <td>True</td>\n      <td>False</td>\n      <td>False</td>\n      <td>...</td>\n      <td>False</td>\n      <td>False</td>\n      <td>True</td>\n      <td>False</td>\n      <td>False</td>\n      <td>False</td>\n      <td>True</td>\n      <td>False</td>\n      <td>False</td>\n      <td>False</td>\n    </tr>\n    <tr>\n      <th>42</th>\n      <td>False</td>\n      <td>True</td>\n      <td>True</td>\n      <td>True</td>\n      <td>False</td>\n      <td>False</td>\n      <td>False</td>\n      <td>True</td>\n      <td>False</td>\n      <td>False</td>\n      <td>...</td>\n      <td>False</td>\n      <td>True</td>\n      <td>False</td>\n      <td>False</td>\n      <td>False</td>\n      <td>True</td>\n      <td>True</td>\n      <td>False</td>\n      <td>False</td>\n      <td>False</td>\n    </tr>\n  </tbody>\n</table>\n<p>460 rows × 149 columns</p>\n</div>"
     },
     "execution_count": 4,
     "metadata": {},
     "output_type": "execute_result"
    }
   ],
   "source": [
    "test_set"
   ],
   "metadata": {
    "collapsed": false
   }
  },
  {
   "cell_type": "code",
   "execution_count": 5,
   "outputs": [
    {
     "data": {
      "text/plain": "array([[frozenset({'ACETAMINOPHEN'})],\n       [frozenset({'ALBUMIN HUMAN 25%'})],\n       [frozenset({'ALBUMIN HUMAN 5%'})],\n       [frozenset({'ALBUTEROL 90 MCG'})],\n       [frozenset({'ALBUTEROL CONCENTRATED 0.5%'})],\n       [frozenset({'AMIODARONE'})],\n       [frozenset({'AMLODIPINE'})],\n       [frozenset({'ASPIRIN'})],\n       [frozenset({'ASPIRIN EC'})],\n       [frozenset({\"ASPIRIN, CHILDREN'S\"})],\n       [frozenset({'ATORVASTATIN'})],\n       [frozenset({'BACITRACIN'})],\n       [frozenset({'BISACODYL'})],\n       [frozenset({'CALCIUM CARBONATE'})],\n       [frozenset({'CALCIUM GLUCONATE 2 G/50 ML NS'})],\n       [frozenset({'CEFAZOLIN'})],\n       [frozenset({'CEFAZOLIN 2 G/100 ML NS'})],\n       [frozenset({'CEFEPIME'})],\n       [frozenset({'CEFTRIAXONE'})],\n       [frozenset({'CHLORHEXIDINE GLUCONATE 0.12%'})],\n       [frozenset({'CLOPIDOGREL'})],\n       [frozenset({'DEXAMETHASONE'})],\n       [frozenset({'DEXTROSE 5%-NACL 0.9%'})],\n       [frozenset({'DEXTROSE 50%-WATER'})],\n       [frozenset({'DIAZEPAM'})],\n       [frozenset({'DILTIAZEM'})],\n       [frozenset({'DIPHENHYDRAMINE HCL'})],\n       [frozenset({'DOCUSATE SODIUM'})],\n       [frozenset({'ENOXAPARIN'})],\n       [frozenset({'ETOMIDATE'})],\n       [frozenset({'FAMOTIDINE'})],\n       [frozenset({'FENTANYL 2000 MCG/100 ML NS'})],\n       [frozenset({'FENTANYL CITRATE (PF)'})],\n       [frozenset({'FOLIC ACID'})],\n       [frozenset({'FUROSEMIDE'})],\n       [frozenset({'GABAPENTIN'})],\n       [frozenset({'GLUCAGON'})],\n       [frozenset({'GLUCOSE'})],\n       [frozenset({'GLYCOPYRROLATE'})],\n       [frozenset({'HALOPERIDOL LACTATE'})],\n       [frozenset({'HEPARIN  FLUSH 10 UNIT/ML'})],\n       [frozenset({'HEPARIN 1,000 UNIT/ML'})],\n       [frozenset({'HEPARIN 25,000 UNIT/500 ML D5W'})],\n       [frozenset({'HEPARIN 5,000 UNIT/ML'})],\n       [frozenset({'HYDRALAZINE'})],\n       [frozenset({'HYDROCORTISONE SOD SUCCINATE'})],\n       [frozenset({'HYDROMORPHONE'})],\n       [frozenset({'IBUPROFEN'})],\n       [frozenset({'INSULIN ASPART'})],\n       [frozenset({'INSULIN GLARGINE'})],\n       [frozenset({'INSULIN LISPRO'})],\n       [frozenset({'INSULIN REG 100 UNITS/100 ML'})],\n       [frozenset({'INSULIN REGULAR, HUMAN'})],\n       [frozenset({'IPRATROPIUM 0.02%'})],\n       [frozenset({'KCL 10 MEQ/100 ML'})],\n       [frozenset({'KCL 20 MEQ/50 ML'})],\n       [frozenset({'KETOROLAC'})],\n       [frozenset({'LABETALOL'})],\n       [frozenset({'LACTULOSE'})],\n       [frozenset({'LEVETIRACETAM'})],\n       [frozenset({'LEVOTHYROXINE'})],\n       [frozenset({'LIDOCAINE 1% PF'})],\n       [frozenset({'LISINOPRIL'})],\n       [frozenset({'LORAZEPAM'})],\n       [frozenset({'MAGNESIUM OXIDE'})],\n       [frozenset({'MAGNESIUM SULF 2 G/50 ML NS'})],\n       [frozenset({'METHYLPREDNISOLONE SOD SUC(PF)'})],\n       [frozenset({'METOCLOPRAMIDE'})],\n       [frozenset({'METOPROLOL TARTRATE'})],\n       [frozenset({'METRONIDAZOLE 500 MG/100 ML'})],\n       [frozenset({'MIDAZOLAM'})],\n       [frozenset({'MIDAZOLAM 100 MG/100 ML NS'})],\n       [frozenset({'MORPHINE'})],\n       [frozenset({'MULTIVITAMINS'})],\n       [frozenset({'NALOXONE'})],\n       [frozenset({'NITROGLYCERIN SL'})],\n       [frozenset({'NOREPINEPHRINE 4 MG/250 ML NS'})],\n       [frozenset({'NYSTATIN'})],\n       [frozenset({'OMEPRAZOLE'})],\n       [frozenset({'ONDANSETRON'})],\n       [frozenset({'OXYCODONE IR'})],\n       [frozenset({'PANTOPRAZOLE'})],\n       [frozenset({'PANTOPRAZOLE DR'})],\n       [frozenset({'PHENYLEPHRINE'})],\n       [frozenset({'PHENYLEPHRINE 10 MG/250 ML NS'})],\n       [frozenset({'PHYTONADIONE'})],\n       [frozenset({'PIPERACILLIN/TAZOBACTAM'})],\n       [frozenset({'POTASSIUM AND SODIUM PHOSPHATE'})],\n       [frozenset({'POTASSIUM CHLORIDE'})],\n       [frozenset({'POTASSIUM CHLORIDE ER'})],\n       [frozenset({'POTASSIUM PHOSPHATE'})],\n       [frozenset({'PREDNISONE'})],\n       [frozenset({'PROPOFOL 10 MG/ML'})],\n       [frozenset({'PROPOFOL 1000 MG/100 ML'})],\n       [frozenset({'QUETIAPINE'})],\n       [frozenset({'RINGERS SOLUTION,LACTATED'})],\n       [frozenset({'ROCURONIUM'})],\n       [frozenset({'SENNOSIDES'})],\n       [frozenset({'SIMVASTATIN'})],\n       [frozenset({'SODIUM BICARBONATE 8.4%'})],\n       [frozenset({'SODIUM CHLORIDE 0.9%'})],\n       [frozenset({'SODIUM PHOSPHATE'})],\n       [frozenset({'TAMSULOSIN'})],\n       [frozenset({'THIAMINE'})],\n       [frozenset({'TRAMADOL'})],\n       [frozenset({'TRAZODONE'})],\n       [frozenset({'VANCOMYCIN'})],\n       [frozenset({'VANCOMYCIN 1 G/200 ML D5W'})],\n       [frozenset({'VANCOMYCIN 1.25 G/250 ML NS'})],\n       [frozenset({'VANCOMYCIN 1.5 G/500 ML NS'})],\n       [frozenset({'WARFARIN'})]], dtype=object)"
     },
     "execution_count": 5,
     "metadata": {},
     "output_type": "execute_result"
    }
   ],
   "source": [
    "import multiprocessing\n",
    "import pandas as pd\n",
    "from posneg_rule_gen.posneg_rule_generation import ponerg\n",
    "from rule_gen import apriori_mlx\n",
    "from util import util\n",
    "from daehan_mlutil import utilities\n",
    "\n",
    "\n",
    "def ponerg_parallel(item):\n",
    "    return ponerg(item, classes, class_support_count_dict, transactions_df)\n",
    "\n",
    "rules = []\n",
    "transactions_df = training_set\n",
    "X_df = pd.DataFrame(transactions_df.drop(['1', '0'], axis=1))\n",
    "classes = [frozenset(['0']), frozenset(['1'])]\n",
    "class_support_count_dict = util.get_support_count_dict_df(classes, transactions_df)\n",
    "\n",
    "f1, previous_itemset_arr = apriori_mlx.apriori_of_size_1(X_df, min_support=min_support)\n",
    "f1 = f1.tolist()\n",
    "freq_itemsets = [f1]\n",
    "for item in f1:\n",
    "    rules.extend(ponerg(item, classes, class_support_count_dict, transactions_df))\n",
    "np.expand_dims(np.array(np.array(f1)), axis=1)"
   ],
   "metadata": {
    "collapsed": false
   }
  },
  {
   "cell_type": "code",
   "execution_count": 6,
   "outputs": [
    {
     "name": "stdout",
     "output_type": "stream",
     "text": [
      "\n",
      "Processing time of rule_gen(): 32.62 seconds (0.54 minutes).\n"
     ]
    },
    {
     "data": {
      "text/plain": "array([[{'antecedent': frozenset({'GLYCOPYRROLATE', 'FENTANYL 2000 MCG/100 ML NS'}), 'consequent': '1', 'confidence': 0.4393262905566843}],\n       [{'antecedent': frozenset({'GLYCOPYRROLATE', 'FENTANYL 2000 MCG/100 ML NS', 'FENTANYL CITRATE (PF)'}), 'consequent': '1', 'confidence': 0.4347137713640166}]],\n      dtype=object)"
     },
     "execution_count": 6,
     "metadata": {},
     "output_type": "execute_result"
    }
   ],
   "source": [
    "import time\n",
    "\n",
    "start_time = time.time()\n",
    "k = 0\n",
    "while freq_itemsets[k] is not None and len(freq_itemsets[k]) > 0:\n",
    "    k_freq_itemsets, previous_itemset_arr = apriori_mlx.apriori_of_size_k(\n",
    "        X_df, previous_itemset_arr, min_support=min_support, k=k + 2, low_memory=True)\n",
    "    if not k_freq_itemsets.empty:\n",
    "        k_freq_itemsets = k_freq_itemsets.tolist()\n",
    "        # for item in k_freq_itemsets_x_c:\n",
    "        #     rules.extend(ponerg(item, c, len(transactions_per_c), transactions_df))\n",
    "        with multiprocessing.Pool() as pool:\n",
    "            result = pool.map(ponerg_parallel, k_freq_itemsets)\n",
    "        rules_to_extend = [x[0] for x in result if x != []]\n",
    "        rules.extend(rules_to_extend)\n",
    "        freq_itemsets.append(k_freq_itemsets)\n",
    "    else:\n",
    "        freq_itemsets.append(None)\n",
    "    k += 1\n",
    "time_sec = time.time() - start_time\n",
    "time_min = time_sec / 60\n",
    "print(\"\\nProcessing time of %s(): %.2f seconds (%.2f minutes).\"\n",
    "      % (\"rule_gen\", time.time() - start_time, time_min))\n",
    "np.expand_dims(np.array(np.array(rules)), axis=1)"
   ],
   "metadata": {
    "collapsed": false
   }
  },
  {
   "cell_type": "code",
   "execution_count": 19,
   "outputs": [
    {
     "data": {
      "text/plain": "array([0.43932629, 0.        , 0.43932629, 0.        , 0.        ,\n       0.        , 0.43932629, 0.        , 0.        , 0.        ,\n       0.43932629, 0.        , 0.43932629, 0.43932629, 0.        ,\n       0.        , 0.        , 0.        , 0.43932629, 0.        ,\n       0.43932629, 0.        , 0.43932629, 0.        , 0.        ,\n       0.        , 0.43932629, 0.43932629, 0.43932629, 0.43932629,\n       0.        , 0.43932629, 0.43932629, 0.        , 0.        ,\n       0.43932629, 0.        , 0.43932629, 0.        , 0.43932629,\n       0.43932629, 0.        , 0.        , 0.        , 0.        ,\n       0.        , 0.43932629, 0.        , 0.43932629, 0.        ,\n       0.        , 0.        , 0.43932629, 0.43932629, 0.        ,\n       0.43932629, 0.43932629, 0.        , 0.43932629, 0.        ,\n       0.        , 0.        , 0.        , 0.43932629, 0.        ,\n       0.43932629, 0.        , 0.43932629, 0.        , 0.        ,\n       0.43932629, 0.43932629, 0.        , 0.43932629, 0.43932629,\n       0.        , 0.43932629, 0.        , 0.        , 0.        ,\n       0.43932629, 0.43932629, 0.43932629, 0.        , 0.        ,\n       0.        , 0.        , 0.43932629, 0.        , 0.43932629,\n       0.        , 0.43932629, 0.        , 0.        , 0.43932629,\n       0.        , 0.        , 0.        , 0.        , 0.43932629,\n       0.43932629, 0.        , 0.        , 0.        , 0.        ,\n       0.        , 0.43932629, 0.43932629, 0.43932629, 0.43932629,\n       0.        , 0.        , 0.        , 0.        , 0.        ,\n       0.        , 0.        , 0.43932629, 0.        , 0.        ,\n       0.        , 0.        , 0.        , 0.43932629, 0.        ,\n       0.43932629, 0.        , 0.        , 0.43932629, 0.        ,\n       0.        , 0.43932629, 0.        , 0.43932629, 0.        ,\n       0.43932629, 0.        , 0.        , 0.43932629, 0.43932629,\n       0.        , 0.        , 0.        , 0.        , 0.        ,\n       0.        , 0.43932629, 0.        , 0.        , 0.        ,\n       0.43932629, 0.        , 0.        , 0.43932629, 0.        ,\n       0.43932629, 0.43932629, 0.        , 0.        , 0.        ,\n       0.        , 0.        , 0.43932629, 0.        , 0.        ,\n       0.43932629, 0.43932629, 0.43932629, 0.43932629, 0.        ,\n       0.        , 0.43932629, 0.        , 0.        , 0.        ,\n       0.        , 0.43932629, 0.43932629, 0.        , 0.43932629,\n       0.        , 0.43932629, 0.        , 0.        , 0.        ,\n       0.        , 0.        , 0.43932629, 0.        , 0.43932629,\n       0.        , 0.        , 0.43932629, 0.        , 0.43932629,\n       0.43932629, 0.        , 0.43932629, 0.        , 0.        ,\n       0.        , 0.        , 0.        , 0.        , 0.        ,\n       0.        , 0.        , 0.        , 0.43932629, 0.        ,\n       0.        , 0.43932629, 0.43932629, 0.43932629, 0.        ,\n       0.        , 0.43932629, 0.        , 0.43932629, 0.43932629,\n       0.        , 0.43932629, 0.        , 0.43932629, 0.        ,\n       0.43932629, 0.        , 0.        , 0.        , 0.        ,\n       0.43932629, 0.        , 0.        , 0.        , 0.        ,\n       0.        , 0.        , 0.        , 0.43932629, 0.        ,\n       0.        , 0.        , 0.43932629, 0.43932629, 0.43932629,\n       0.        , 0.43932629, 0.        , 0.43932629, 0.43932629,\n       0.        , 0.        , 0.43932629, 0.        , 0.        ,\n       0.        , 0.        , 0.43932629, 0.43932629, 0.        ,\n       0.43932629, 0.        , 0.43932629, 0.        , 0.        ,\n       0.43932629, 0.43932629, 0.        , 0.        , 0.        ,\n       0.43932629, 0.        , 0.43932629, 0.        , 0.43932629,\n       0.        , 0.        , 0.        , 0.        , 0.        ,\n       0.        , 0.        , 0.43932629, 0.43932629, 0.        ,\n       0.        , 0.43932629, 0.        , 0.        , 0.43932629,\n       0.43932629, 0.        , 0.43932629, 0.        , 0.        ,\n       0.43932629, 0.        , 0.        , 0.        , 0.        ,\n       0.43932629, 0.        , 0.43932629, 0.        , 0.43932629,\n       0.        , 0.        , 0.        , 0.        , 0.        ,\n       0.        , 0.        , 0.43932629, 0.43932629, 0.        ,\n       0.43932629, 0.        , 0.43932629, 0.        , 0.        ,\n       0.        , 0.        , 0.43932629, 0.43932629, 0.        ,\n       0.        , 0.        , 0.43932629, 0.        , 0.        ,\n       0.        , 0.43932629, 0.        , 0.        , 0.43932629,\n       0.        , 0.43932629, 0.43932629, 0.43932629, 0.        ,\n       0.        , 0.43932629, 0.        , 0.        , 0.43932629,\n       0.        , 0.43932629, 0.43932629, 0.        , 0.43932629,\n       0.        , 0.43932629, 0.43932629, 0.43932629, 0.        ,\n       0.        , 0.        , 0.43932629, 0.        , 0.43932629,\n       0.        , 0.        , 0.43932629, 0.43932629, 0.43932629,\n       0.        , 0.43932629, 0.        , 0.        , 0.        ,\n       0.43932629, 0.        , 0.        , 0.        , 0.43932629,\n       0.43932629, 0.43932629, 0.43932629, 0.        , 0.        ,\n       0.43932629, 0.43932629, 0.        , 0.43932629, 0.43932629,\n       0.        , 0.        , 0.        , 0.43932629, 0.        ,\n       0.        , 0.43932629, 0.        ])"
     },
     "execution_count": 19,
     "metadata": {},
     "output_type": "execute_result"
    }
   ],
   "source": [
    "rules_0 = [rule for rule in rules if rule['consequent'] == '0']\n",
    "rules_1 = [rule for rule in rules if rule['consequent'] == '1']\n",
    "sorted_rules = sorted(rules, key=lambda d: d['confidence'], reverse=True)\n",
    "\n",
    "training_transactions_1 = training_set[training_set['1']].drop(['1', '0'], axis=1).apply(\n",
    "    lambda row: frozenset(row.index[row]), axis=1).tolist()\n",
    "scores_training = [classification.predict_proba(object_o, sorted_rules) for object_o in training_transactions_1]\n",
    "scores_training = np.array(scores_training)\n",
    "scores_training[scores_training == -1] = 0\n",
    "scores_training"
   ],
   "metadata": {
    "collapsed": false
   }
  },
  {
   "cell_type": "code",
   "execution_count": 20,
   "outputs": [
    {
     "data": {
      "text/plain": "0.16991754749266164"
     },
     "execution_count": 20,
     "metadata": {},
     "output_type": "execute_result"
    }
   ],
   "source": [
    "mean = np.mean(scores_training)\n",
    "mean"
   ],
   "metadata": {
    "collapsed": false
   }
  },
  {
   "cell_type": "code",
   "execution_count": 21,
   "outputs": [
    {
     "data": {
      "text/plain": "array([-1.        , -1.        , -1.        , -1.        , -1.        ,\n       -1.        , -1.        , -1.        , -1.        , -1.        ,\n       -1.        , -1.        , -1.        , -1.        , -1.        ,\n       -1.        , -1.        , -1.        , -1.        , -1.        ,\n       -1.        , -1.        , -1.        , -1.        , -1.        ,\n       -1.        , -1.        , -1.        , -1.        , -1.        ,\n       -1.        , -1.        , -1.        , -1.        , -1.        ,\n       -1.        , -1.        , -1.        , -1.        ,  0.43932629,\n       -1.        , -1.        , -1.        , -1.        , -1.        ,\n       -1.        , -1.        , -1.        , -1.        , -1.        ,\n       -1.        , -1.        , -1.        , -1.        , -1.        ,\n       -1.        , -1.        , -1.        , -1.        , -1.        ,\n       -1.        , -1.        , -1.        , -1.        , -1.        ,\n       -1.        ,  0.43932629, -1.        , -1.        , -1.        ,\n       -1.        , -1.        , -1.        , -1.        , -1.        ,\n       -1.        , -1.        , -1.        , -1.        , -1.        ,\n        0.43932629, -1.        , -1.        , -1.        , -1.        ,\n       -1.        ,  0.43932629, -1.        , -1.        , -1.        ,\n       -1.        , -1.        , -1.        , -1.        , -1.        ,\n       -1.        , -1.        , -1.        , -1.        , -1.        ,\n       -1.        , -1.        , -1.        , -1.        , -1.        ,\n       -1.        , -1.        , -1.        , -1.        , -1.        ,\n       -1.        , -1.        , -1.        , -1.        , -1.        ,\n       -1.        , -1.        , -1.        , -1.        , -1.        ,\n       -1.        , -1.        , -1.        , -1.        , -1.        ,\n       -1.        , -1.        , -1.        , -1.        , -1.        ,\n       -1.        , -1.        , -1.        , -1.        , -1.        ,\n       -1.        , -1.        , -1.        , -1.        ,  0.43932629,\n       -1.        , -1.        , -1.        , -1.        , -1.        ,\n       -1.        , -1.        , -1.        , -1.        , -1.        ,\n       -1.        , -1.        , -1.        , -1.        , -1.        ,\n       -1.        , -1.        , -1.        , -1.        , -1.        ,\n       -1.        , -1.        , -1.        , -1.        , -1.        ,\n       -1.        , -1.        , -1.        , -1.        , -1.        ,\n       -1.        , -1.        , -1.        , -1.        ,  0.43932629,\n       -1.        , -1.        , -1.        , -1.        , -1.        ,\n       -1.        , -1.        , -1.        , -1.        , -1.        ,\n        0.43932629, -1.        , -1.        , -1.        , -1.        ,\n       -1.        , -1.        , -1.        , -1.        , -1.        ,\n       -1.        , -1.        , -1.        , -1.        , -1.        ,\n       -1.        , -1.        , -1.        , -1.        , -1.        ,\n       -1.        , -1.        , -1.        , -1.        , -1.        ,\n       -1.        , -1.        , -1.        , -1.        , -1.        ,\n       -1.        , -1.        , -1.        , -1.        , -1.        ,\n       -1.        , -1.        , -1.        , -1.        , -1.        ,\n       -1.        , -1.        , -1.        , -1.        , -1.        ,\n        0.43932629, -1.        , -1.        , -1.        , -1.        ,\n       -1.        , -1.        , -1.        , -1.        , -1.        ,\n       -1.        , -1.        , -1.        , -1.        , -1.        ,\n        0.43932629, -1.        , -1.        , -1.        , -1.        ,\n       -1.        , -1.        , -1.        , -1.        , -1.        ,\n       -1.        , -1.        , -1.        , -1.        , -1.        ,\n       -1.        , -1.        , -1.        , -1.        , -1.        ,\n       -1.        , -1.        , -1.        , -1.        , -1.        ,\n       -1.        , -1.        , -1.        , -1.        , -1.        ,\n        0.43932629, -1.        , -1.        , -1.        , -1.        ,\n       -1.        , -1.        , -1.        , -1.        , -1.        ,\n       -1.        , -1.        , -1.        , -1.        , -1.        ,\n       -1.        , -1.        , -1.        , -1.        , -1.        ,\n       -1.        , -1.        , -1.        , -1.        , -1.        ,\n       -1.        , -1.        , -1.        , -1.        , -1.        ,\n       -1.        , -1.        , -1.        , -1.        , -1.        ,\n       -1.        , -1.        , -1.        , -1.        , -1.        ,\n       -1.        , -1.        , -1.        , -1.        , -1.        ,\n       -1.        , -1.        , -1.        ,  0.43932629, -1.        ,\n       -1.        , -1.        , -1.        , -1.        , -1.        ,\n       -1.        , -1.        , -1.        , -1.        , -1.        ,\n       -1.        , -1.        , -1.        , -1.        , -1.        ,\n       -1.        , -1.        , -1.        , -1.        , -1.        ,\n       -1.        , -1.        , -1.        , -1.        ,  0.43932629,\n       -1.        , -1.        , -1.        , -1.        , -1.        ,\n       -1.        , -1.        , -1.        , -1.        ,  0.43932629,\n       -1.        , -1.        , -1.        , -1.        , -1.        ,\n       -1.        , -1.        , -1.        , -1.        , -1.        ,\n       -1.        , -1.        , -1.        , -1.        , -1.        ,\n       -1.        , -1.        , -1.        , -1.        , -1.        ,\n       -1.        , -1.        , -1.        , -1.        , -1.        ,\n       -1.        , -1.        , -1.        , -1.        , -1.        ,\n       -1.        , -1.        , -1.        , -1.        , -1.        ,\n       -1.        , -1.        , -1.        , -1.        , -1.        ,\n       -1.        , -1.        , -1.        , -1.        , -1.        ,\n       -1.        , -1.        , -1.        , -1.        , -1.        ,\n       -1.        , -1.        , -1.        , -1.        , -1.        ,\n       -1.        , -1.        , -1.        , -1.        , -1.        ,\n       -1.        , -1.        ,  0.43932629, -1.        ,  0.43932629,\n       -1.        , -1.        ,  0.43932629, -1.        , -1.        ,\n       -1.        , -1.        ,  0.43932629,  0.43932629,  0.43932629,\n       -1.        , -1.        ,  0.43932629,  0.43932629, -1.        ,\n       -1.        ,  0.43932629,  0.43932629, -1.        , -1.        ,\n       -1.        , -1.        , -1.        ,  0.43932629, -1.        ,\n        0.43932629,  0.43932629, -1.        , -1.        , -1.        ,\n        0.43932629, -1.        , -1.        , -1.        , -1.        ])"
     },
     "execution_count": 21,
     "metadata": {},
     "output_type": "execute_result"
    }
   ],
   "source": [
    "import importlib\n",
    "importlib.reload(classification)\n",
    "test_transactions = test_set.drop(['1', '0'], axis=1).apply(lambda row: frozenset(row.index[row]), axis=1).tolist()\n",
    "scores_test = [classification.predict_proba2(object_o, sorted_rules) for object_o in test_transactions]\n",
    "scores_test = np.array(scores_test)\n",
    "scores_test"
   ],
   "metadata": {
    "collapsed": false
   }
  },
  {
   "cell_type": "code",
   "execution_count": 22,
   "outputs": [
    {
     "data": {
      "text/plain": "433"
     },
     "execution_count": 22,
     "metadata": {},
     "output_type": "execute_result"
    }
   ],
   "source": [
    "not_classified = np.sum(scores_test == -1)\n",
    "not_classified"
   ],
   "metadata": {
    "collapsed": false
   }
  },
  {
   "cell_type": "code",
   "execution_count": 23,
   "outputs": [
    {
     "data": {
      "text/plain": "array([0.        , 0.        , 0.        , 0.        , 0.        ,\n       0.        , 0.        , 0.        , 0.        , 0.        ,\n       0.        , 0.        , 0.        , 0.        , 0.        ,\n       0.        , 0.        , 0.        , 0.        , 0.        ,\n       0.        , 0.        , 0.        , 0.        , 0.        ,\n       0.        , 0.        , 0.        , 0.        , 0.        ,\n       0.        , 0.        , 0.        , 0.        , 0.        ,\n       0.        , 0.        , 0.        , 0.        , 0.43932629,\n       0.        , 0.        , 0.        , 0.        , 0.        ,\n       0.        , 0.        , 0.        , 0.        , 0.        ,\n       0.        , 0.        , 0.        , 0.        , 0.        ,\n       0.        , 0.        , 0.        , 0.        , 0.        ,\n       0.        , 0.        , 0.        , 0.        , 0.        ,\n       0.        , 0.43932629, 0.        , 0.        , 0.        ,\n       0.        , 0.        , 0.        , 0.        , 0.        ,\n       0.        , 0.        , 0.        , 0.        , 0.        ,\n       0.43932629, 0.        , 0.        , 0.        , 0.        ,\n       0.        , 0.43932629, 0.        , 0.        , 0.        ,\n       0.        , 0.        , 0.        , 0.        , 0.        ,\n       0.        , 0.        , 0.        , 0.        , 0.        ,\n       0.        , 0.        , 0.        , 0.        , 0.        ,\n       0.        , 0.        , 0.        , 0.        , 0.        ,\n       0.        , 0.        , 0.        , 0.        , 0.        ,\n       0.        , 0.        , 0.        , 0.        , 0.        ,\n       0.        , 0.        , 0.        , 0.        , 0.        ,\n       0.        , 0.        , 0.        , 0.        , 0.        ,\n       0.        , 0.        , 0.        , 0.        , 0.        ,\n       0.        , 0.        , 0.        , 0.        , 0.43932629,\n       0.        , 0.        , 0.        , 0.        , 0.        ,\n       0.        , 0.        , 0.        , 0.        , 0.        ,\n       0.        , 0.        , 0.        , 0.        , 0.        ,\n       0.        , 0.        , 0.        , 0.        , 0.        ,\n       0.        , 0.        , 0.        , 0.        , 0.        ,\n       0.        , 0.        , 0.        , 0.        , 0.        ,\n       0.        , 0.        , 0.        , 0.        , 0.43932629,\n       0.        , 0.        , 0.        , 0.        , 0.        ,\n       0.        , 0.        , 0.        , 0.        , 0.        ,\n       0.43932629, 0.        , 0.        , 0.        , 0.        ,\n       0.        , 0.        , 0.        , 0.        , 0.        ,\n       0.        , 0.        , 0.        , 0.        , 0.        ,\n       0.        , 0.        , 0.        , 0.        , 0.        ,\n       0.        , 0.        , 0.        , 0.        , 0.        ,\n       0.        , 0.        , 0.        , 0.        , 0.        ,\n       0.        , 0.        , 0.        , 0.        , 0.        ,\n       0.        , 0.        , 0.        , 0.        , 0.        ,\n       0.        , 0.        , 0.        , 0.        , 0.        ,\n       0.43932629, 0.        , 0.        , 0.        , 0.        ,\n       0.        , 0.        , 0.        , 0.        , 0.        ,\n       0.        , 0.        , 0.        , 0.        , 0.        ,\n       0.43932629, 0.        , 0.        , 0.        , 0.        ,\n       0.        , 0.        , 0.        , 0.        , 0.        ,\n       0.        , 0.        , 0.        , 0.        , 0.        ,\n       0.        , 0.        , 0.        , 0.        , 0.        ,\n       0.        , 0.        , 0.        , 0.        , 0.        ,\n       0.        , 0.        , 0.        , 0.        , 0.        ,\n       0.43932629, 0.        , 0.        , 0.        , 0.        ,\n       0.        , 0.        , 0.        , 0.        , 0.        ,\n       0.        , 0.        , 0.        , 0.        , 0.        ,\n       0.        , 0.        , 0.        , 0.        , 0.        ,\n       0.        , 0.        , 0.        , 0.        , 0.        ,\n       0.        , 0.        , 0.        , 0.        , 0.        ,\n       0.        , 0.        , 0.        , 0.        , 0.        ,\n       0.        , 0.        , 0.        , 0.        , 0.        ,\n       0.        , 0.        , 0.        , 0.        , 0.        ,\n       0.        , 0.        , 0.        , 0.43932629, 0.        ,\n       0.        , 0.        , 0.        , 0.        , 0.        ,\n       0.        , 0.        , 0.        , 0.        , 0.        ,\n       0.        , 0.        , 0.        , 0.        , 0.        ,\n       0.        , 0.        , 0.        , 0.        , 0.        ,\n       0.        , 0.        , 0.        , 0.        , 0.43932629,\n       0.        , 0.        , 0.        , 0.        , 0.        ,\n       0.        , 0.        , 0.        , 0.        , 0.43932629,\n       0.        , 0.        , 0.        , 0.        , 0.        ,\n       0.        , 0.        , 0.        , 0.        , 0.        ,\n       0.        , 0.        , 0.        , 0.        , 0.        ,\n       0.        , 0.        , 0.        , 0.        , 0.        ,\n       0.        , 0.        , 0.        , 0.        , 0.        ,\n       0.        , 0.        , 0.        , 0.        , 0.        ,\n       0.        , 0.        , 0.        , 0.        , 0.        ,\n       0.        , 0.        , 0.        , 0.        , 0.        ,\n       0.        , 0.        , 0.        , 0.        , 0.        ,\n       0.        , 0.        , 0.        , 0.        , 0.        ,\n       0.        , 0.        , 0.        , 0.        , 0.        ,\n       0.        , 0.        , 0.        , 0.        , 0.        ,\n       0.        , 0.        , 0.43932629, 0.        , 0.43932629,\n       0.        , 0.        , 0.43932629, 0.        , 0.        ,\n       0.        , 0.        , 0.43932629, 0.43932629, 0.43932629,\n       0.        , 0.        , 0.43932629, 0.43932629, 0.        ,\n       0.        , 0.43932629, 0.43932629, 0.        , 0.        ,\n       0.        , 0.        , 0.        , 0.43932629, 0.        ,\n       0.43932629, 0.43932629, 0.        , 0.        , 0.        ,\n       0.43932629, 0.        , 0.        , 0.        , 0.        ])"
     },
     "execution_count": 23,
     "metadata": {},
     "output_type": "execute_result"
    }
   ],
   "source": [
    "scores_test[scores_test == -1] = 0\n",
    "scores_test"
   ],
   "metadata": {
    "collapsed": false
   }
  },
  {
   "cell_type": "code",
   "execution_count": 24,
   "outputs": [
    {
     "data": {
      "text/plain": "array([0, 0, 0, 0, 0, 0, 0, 0, 0, 0, 0, 0, 0, 0, 0, 0, 0, 0, 0, 0, 0, 0,\n       0, 0, 0, 0, 0, 0, 0, 0, 0, 0, 0, 0, 0, 0, 0, 0, 0, 0, 0, 0, 0, 0,\n       0, 0, 0, 0, 0, 0, 0, 0, 0, 0, 0, 0, 0, 0, 0, 0, 0, 0, 0, 0, 0, 0,\n       0, 0, 0, 0, 0, 0, 0, 0, 0, 0, 0, 0, 0, 0, 0, 0, 0, 0, 0, 0, 0, 0,\n       0, 0, 0, 0, 0, 0, 0, 0, 0, 0, 0, 0, 0, 0, 0, 0, 0, 0, 0, 0, 0, 0,\n       0, 0, 0, 0, 0, 0, 0, 0, 0, 0, 0, 0, 0, 0, 0, 0, 0, 0, 0, 0, 0, 0,\n       0, 0, 0, 0, 0, 0, 0, 0, 0, 0, 0, 0, 0, 0, 0, 0, 0, 0, 0, 0, 0, 0,\n       0, 0, 0, 0, 0, 0, 0, 0, 0, 0, 0, 0, 0, 0, 0, 0, 0, 0, 0, 0, 0, 0,\n       0, 0, 0, 0, 0, 0, 0, 0, 0, 0, 0, 0, 0, 0, 0, 0, 0, 0, 0, 0, 0, 0,\n       0, 0, 0, 0, 0, 0, 0, 0, 0, 0, 0, 0, 0, 0, 0, 0, 0, 0, 0, 0, 0, 0,\n       0, 0, 0, 0, 0, 0, 0, 0, 0, 0, 0, 0, 0, 0, 0, 0, 0, 0, 0, 0, 0, 0,\n       0, 0, 0, 0, 0, 0, 0, 0, 0, 0, 0, 0, 0, 0, 0, 0, 0, 0, 0, 0, 0, 0,\n       0, 0, 0, 0, 0, 0, 0, 0, 0, 0, 0, 0, 0, 0, 0, 0, 0, 0, 0, 0, 0, 0,\n       0, 0, 0, 0, 0, 0, 0, 0, 0, 0, 0, 0, 0, 0, 0, 0, 0, 0, 0, 0, 0, 0,\n       0, 0, 0, 0, 0, 0, 0, 0, 0, 0, 0, 0, 0, 0, 0, 0, 0, 0, 0, 0, 0, 0,\n       0, 0, 0, 0, 0, 0, 0, 0, 0, 0, 0, 0, 0, 0, 0, 0, 0, 0, 0, 0, 0, 0,\n       0, 0, 0, 0, 0, 0, 0, 0, 0, 0, 0, 0, 0, 0, 0, 0, 0, 0, 0, 0, 0, 0,\n       0, 0, 0, 0, 0, 0, 0, 0, 0, 0, 0, 0, 0, 0, 0, 0, 0, 0, 0, 0, 0, 0,\n       0, 0, 0, 0, 0, 0, 0, 0, 0, 0, 0, 0, 0, 0, 0, 0, 0, 0, 0, 0, 0, 1,\n       1, 1, 1, 1, 1, 1, 1, 1, 1, 1, 1, 1, 1, 1, 1, 1, 1, 1, 1, 1, 1, 1,\n       1, 1, 1, 1, 1, 1, 1, 1, 1, 1, 1, 1, 1, 1, 1, 1, 1, 1, 1, 1])"
     },
     "execution_count": 24,
     "metadata": {},
     "output_type": "execute_result"
    }
   ],
   "source": [
    "y_test = test_set.apply(lambda row: 0 if row['0'] else 1, axis=1).tolist()\n",
    "y_test = np.array(y_test)\n",
    "y_test"
   ],
   "metadata": {
    "collapsed": false
   }
  },
  {
   "cell_type": "code",
   "execution_count": 25,
   "outputs": [
    {
     "data": {
      "text/plain": "array([0, 0, 0, 0, 0, 0, 0, 0, 0, 0, 0, 0, 0, 0, 0, 0, 0, 0, 0, 0, 0, 0,\n       0, 0, 0, 0, 0, 0, 0, 0, 0, 0, 0, 0, 0, 0, 0, 0, 0, 1, 0, 0, 0, 0,\n       0, 0, 0, 0, 0, 0, 0, 0, 0, 0, 0, 0, 0, 0, 0, 0, 0, 0, 0, 0, 0, 0,\n       1, 0, 0, 0, 0, 0, 0, 0, 0, 0, 0, 0, 0, 0, 1, 0, 0, 0, 0, 0, 1, 0,\n       0, 0, 0, 0, 0, 0, 0, 0, 0, 0, 0, 0, 0, 0, 0, 0, 0, 0, 0, 0, 0, 0,\n       0, 0, 0, 0, 0, 0, 0, 0, 0, 0, 0, 0, 0, 0, 0, 0, 0, 0, 0, 0, 0, 0,\n       0, 0, 0, 0, 0, 0, 0, 1, 0, 0, 0, 0, 0, 0, 0, 0, 0, 0, 0, 0, 0, 0,\n       0, 0, 0, 0, 0, 0, 0, 0, 0, 0, 0, 0, 0, 0, 0, 0, 0, 0, 0, 0, 1, 0,\n       0, 0, 0, 0, 0, 0, 0, 0, 0, 1, 0, 0, 0, 0, 0, 0, 0, 0, 0, 0, 0, 0,\n       0, 0, 0, 0, 0, 0, 0, 0, 0, 0, 0, 0, 0, 0, 0, 0, 0, 0, 0, 0, 0, 0,\n       0, 0, 0, 0, 0, 0, 0, 0, 0, 0, 1, 0, 0, 0, 0, 0, 0, 0, 0, 0, 0, 0,\n       0, 0, 0, 1, 0, 0, 0, 0, 0, 0, 0, 0, 0, 0, 0, 0, 0, 0, 0, 0, 0, 0,\n       0, 0, 0, 0, 0, 0, 0, 0, 0, 0, 0, 1, 0, 0, 0, 0, 0, 0, 0, 0, 0, 0,\n       0, 0, 0, 0, 0, 0, 0, 0, 0, 0, 0, 0, 0, 0, 0, 0, 0, 0, 0, 0, 0, 0,\n       0, 0, 0, 0, 0, 0, 0, 0, 0, 0, 0, 0, 0, 0, 0, 1, 0, 0, 0, 0, 0, 0,\n       0, 0, 0, 0, 0, 0, 0, 0, 0, 0, 0, 0, 0, 0, 0, 0, 0, 0, 0, 1, 0, 0,\n       0, 0, 0, 0, 0, 0, 0, 1, 0, 0, 0, 0, 0, 0, 0, 0, 0, 0, 0, 0, 0, 0,\n       0, 0, 0, 0, 0, 0, 0, 0, 0, 0, 0, 0, 0, 0, 0, 0, 0, 0, 0, 0, 0, 0,\n       0, 0, 0, 0, 0, 0, 0, 0, 0, 0, 0, 0, 0, 0, 0, 0, 0, 0, 0, 0, 0, 0,\n       0, 0, 0, 0, 1, 0, 1, 0, 0, 1, 0, 0, 0, 0, 1, 1, 1, 0, 0, 1, 1, 0,\n       0, 1, 1, 0, 0, 0, 0, 0, 1, 0, 1, 1, 0, 0, 0, 1, 0, 0, 0, 0])"
     },
     "execution_count": 25,
     "metadata": {},
     "output_type": "execute_result"
    }
   ],
   "source": [
    "y_pred = np.zeros(len(scores_test), dtype=int)\n",
    "y_pred[scores_test >= mean] = 1\n",
    "y_pred"
   ],
   "metadata": {
    "collapsed": false
   }
  },
  {
   "cell_type": "code",
   "execution_count": 78,
   "outputs": [],
   "source": [],
   "metadata": {
    "collapsed": false
   }
  }
 ],
 "metadata": {
  "kernelspec": {
   "display_name": "Python 3",
   "language": "python",
   "name": "python3"
  },
  "language_info": {
   "codemirror_mode": {
    "name": "ipython",
    "version": 2
   },
   "file_extension": ".py",
   "mimetype": "text/x-python",
   "name": "python",
   "nbconvert_exporter": "python",
   "pygments_lexer": "ipython2",
   "version": "2.7.6"
  }
 },
 "nbformat": 4,
 "nbformat_minor": 0
}
