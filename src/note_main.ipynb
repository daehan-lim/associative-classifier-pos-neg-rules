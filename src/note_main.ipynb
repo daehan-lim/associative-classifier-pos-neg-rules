{
 "cells": [
  {
   "cell_type": "code",
   "execution_count": 26,
   "metadata": {
    "collapsed": true
   },
   "outputs": [
    {
     "data": {
      "text/plain": "          0      1  ACETAMINOPHEN  ALBUMIN HUMAN 25%  ALBUMIN HUMAN 5%  \\\n0      True  False           True              False             False   \n1      True  False           True              False             False   \n2      True  False           True              False             False   \n3      True  False          False              False             False   \n4      True  False          False              False             False   \n...     ...    ...            ...                ...               ...   \n4610   True  False           True              False             False   \n4611   True  False          False              False             False   \n4612   True  False          False              False              True   \n4613  False   True          False              False             False   \n4614   True  False           True              False             False   \n\n      ALBUTEROL 0.083%  ALBUTEROL 90 MCG  ALBUTEROL CONCENTRATED 0.5%  \\\n0                False             False                        False   \n1                False              True                         True   \n2                False             False                        False   \n3                False             False                        False   \n4                False             False                        False   \n...                ...               ...                          ...   \n4610             False              True                         True   \n4611             False              True                         True   \n4612             False             False                        False   \n4613             False             False                         True   \n4614             False              True                         True   \n\n      ALLOPURINOL  ALPRAZOLAM  ...  TACROLIMUS  TAMSULOSIN  THIAMINE  \\\n0           False       False  ...       False       False      True   \n1           False       False  ...       False       False     False   \n2           False       False  ...       False       False     False   \n3           False       False  ...       False       False     False   \n4           False       False  ...       False       False     False   \n...           ...         ...  ...         ...         ...       ...   \n4610        False       False  ...       False       False     False   \n4611        False       False  ...       False       False     False   \n4612        False       False  ...       False       False      True   \n4613        False       False  ...       False       False     False   \n4614        False       False  ...       False       False     False   \n\n      TRAMADOL  TRAZODONE  VANCOMYCIN  VANCOMYCIN 1 G/200 ML D5W  \\\n0        False      False       False                      False   \n1        False      False       False                      False   \n2        False      False       False                      False   \n3        False      False       False                      False   \n4        False      False        True                      False   \n...        ...        ...         ...                        ...   \n4610      True       True       False                       True   \n4611     False      False        True                      False   \n4612     False      False        True                      False   \n4613     False      False       False                      False   \n4614     False      False        True                       True   \n\n      VANCOMYCIN 1.25 G/250 ML NS  VANCOMYCIN 1.5 G/500 ML NS  WARFARIN  \n0                           False                       False     False  \n1                           False                       False     False  \n2                           False                       False     False  \n3                           False                       False      True  \n4                           False                       False     False  \n...                           ...                         ...       ...  \n4610                         True                        True     False  \n4611                        False                       False     False  \n4612                        False                       False     False  \n4613                        False                       False     False  \n4614                         True                        True      True  \n\n[4615 rows x 149 columns]",
      "text/html": "<div>\n<style scoped>\n    .dataframe tbody tr th:only-of-type {\n        vertical-align: middle;\n    }\n\n    .dataframe tbody tr th {\n        vertical-align: top;\n    }\n\n    .dataframe thead th {\n        text-align: right;\n    }\n</style>\n<table border=\"1\" class=\"dataframe\">\n  <thead>\n    <tr style=\"text-align: right;\">\n      <th></th>\n      <th>0</th>\n      <th>1</th>\n      <th>ACETAMINOPHEN</th>\n      <th>ALBUMIN HUMAN 25%</th>\n      <th>ALBUMIN HUMAN 5%</th>\n      <th>ALBUTEROL 0.083%</th>\n      <th>ALBUTEROL 90 MCG</th>\n      <th>ALBUTEROL CONCENTRATED 0.5%</th>\n      <th>ALLOPURINOL</th>\n      <th>ALPRAZOLAM</th>\n      <th>...</th>\n      <th>TACROLIMUS</th>\n      <th>TAMSULOSIN</th>\n      <th>THIAMINE</th>\n      <th>TRAMADOL</th>\n      <th>TRAZODONE</th>\n      <th>VANCOMYCIN</th>\n      <th>VANCOMYCIN 1 G/200 ML D5W</th>\n      <th>VANCOMYCIN 1.25 G/250 ML NS</th>\n      <th>VANCOMYCIN 1.5 G/500 ML NS</th>\n      <th>WARFARIN</th>\n    </tr>\n  </thead>\n  <tbody>\n    <tr>\n      <th>0</th>\n      <td>True</td>\n      <td>False</td>\n      <td>True</td>\n      <td>False</td>\n      <td>False</td>\n      <td>False</td>\n      <td>False</td>\n      <td>False</td>\n      <td>False</td>\n      <td>False</td>\n      <td>...</td>\n      <td>False</td>\n      <td>False</td>\n      <td>True</td>\n      <td>False</td>\n      <td>False</td>\n      <td>False</td>\n      <td>False</td>\n      <td>False</td>\n      <td>False</td>\n      <td>False</td>\n    </tr>\n    <tr>\n      <th>1</th>\n      <td>True</td>\n      <td>False</td>\n      <td>True</td>\n      <td>False</td>\n      <td>False</td>\n      <td>False</td>\n      <td>True</td>\n      <td>True</td>\n      <td>False</td>\n      <td>False</td>\n      <td>...</td>\n      <td>False</td>\n      <td>False</td>\n      <td>False</td>\n      <td>False</td>\n      <td>False</td>\n      <td>False</td>\n      <td>False</td>\n      <td>False</td>\n      <td>False</td>\n      <td>False</td>\n    </tr>\n    <tr>\n      <th>2</th>\n      <td>True</td>\n      <td>False</td>\n      <td>True</td>\n      <td>False</td>\n      <td>False</td>\n      <td>False</td>\n      <td>False</td>\n      <td>False</td>\n      <td>False</td>\n      <td>False</td>\n      <td>...</td>\n      <td>False</td>\n      <td>False</td>\n      <td>False</td>\n      <td>False</td>\n      <td>False</td>\n      <td>False</td>\n      <td>False</td>\n      <td>False</td>\n      <td>False</td>\n      <td>False</td>\n    </tr>\n    <tr>\n      <th>3</th>\n      <td>True</td>\n      <td>False</td>\n      <td>False</td>\n      <td>False</td>\n      <td>False</td>\n      <td>False</td>\n      <td>False</td>\n      <td>False</td>\n      <td>False</td>\n      <td>False</td>\n      <td>...</td>\n      <td>False</td>\n      <td>False</td>\n      <td>False</td>\n      <td>False</td>\n      <td>False</td>\n      <td>False</td>\n      <td>False</td>\n      <td>False</td>\n      <td>False</td>\n      <td>True</td>\n    </tr>\n    <tr>\n      <th>4</th>\n      <td>True</td>\n      <td>False</td>\n      <td>False</td>\n      <td>False</td>\n      <td>False</td>\n      <td>False</td>\n      <td>False</td>\n      <td>False</td>\n      <td>False</td>\n      <td>False</td>\n      <td>...</td>\n      <td>False</td>\n      <td>False</td>\n      <td>False</td>\n      <td>False</td>\n      <td>False</td>\n      <td>True</td>\n      <td>False</td>\n      <td>False</td>\n      <td>False</td>\n      <td>False</td>\n    </tr>\n    <tr>\n      <th>...</th>\n      <td>...</td>\n      <td>...</td>\n      <td>...</td>\n      <td>...</td>\n      <td>...</td>\n      <td>...</td>\n      <td>...</td>\n      <td>...</td>\n      <td>...</td>\n      <td>...</td>\n      <td>...</td>\n      <td>...</td>\n      <td>...</td>\n      <td>...</td>\n      <td>...</td>\n      <td>...</td>\n      <td>...</td>\n      <td>...</td>\n      <td>...</td>\n      <td>...</td>\n      <td>...</td>\n    </tr>\n    <tr>\n      <th>4610</th>\n      <td>True</td>\n      <td>False</td>\n      <td>True</td>\n      <td>False</td>\n      <td>False</td>\n      <td>False</td>\n      <td>True</td>\n      <td>True</td>\n      <td>False</td>\n      <td>False</td>\n      <td>...</td>\n      <td>False</td>\n      <td>False</td>\n      <td>False</td>\n      <td>True</td>\n      <td>True</td>\n      <td>False</td>\n      <td>True</td>\n      <td>True</td>\n      <td>True</td>\n      <td>False</td>\n    </tr>\n    <tr>\n      <th>4611</th>\n      <td>True</td>\n      <td>False</td>\n      <td>False</td>\n      <td>False</td>\n      <td>False</td>\n      <td>False</td>\n      <td>True</td>\n      <td>True</td>\n      <td>False</td>\n      <td>False</td>\n      <td>...</td>\n      <td>False</td>\n      <td>False</td>\n      <td>False</td>\n      <td>False</td>\n      <td>False</td>\n      <td>True</td>\n      <td>False</td>\n      <td>False</td>\n      <td>False</td>\n      <td>False</td>\n    </tr>\n    <tr>\n      <th>4612</th>\n      <td>True</td>\n      <td>False</td>\n      <td>False</td>\n      <td>False</td>\n      <td>True</td>\n      <td>False</td>\n      <td>False</td>\n      <td>False</td>\n      <td>False</td>\n      <td>False</td>\n      <td>...</td>\n      <td>False</td>\n      <td>False</td>\n      <td>True</td>\n      <td>False</td>\n      <td>False</td>\n      <td>True</td>\n      <td>False</td>\n      <td>False</td>\n      <td>False</td>\n      <td>False</td>\n    </tr>\n    <tr>\n      <th>4613</th>\n      <td>False</td>\n      <td>True</td>\n      <td>False</td>\n      <td>False</td>\n      <td>False</td>\n      <td>False</td>\n      <td>False</td>\n      <td>True</td>\n      <td>False</td>\n      <td>False</td>\n      <td>...</td>\n      <td>False</td>\n      <td>False</td>\n      <td>False</td>\n      <td>False</td>\n      <td>False</td>\n      <td>False</td>\n      <td>False</td>\n      <td>False</td>\n      <td>False</td>\n      <td>False</td>\n    </tr>\n    <tr>\n      <th>4614</th>\n      <td>True</td>\n      <td>False</td>\n      <td>True</td>\n      <td>False</td>\n      <td>False</td>\n      <td>False</td>\n      <td>True</td>\n      <td>True</td>\n      <td>False</td>\n      <td>False</td>\n      <td>...</td>\n      <td>False</td>\n      <td>False</td>\n      <td>False</td>\n      <td>False</td>\n      <td>False</td>\n      <td>True</td>\n      <td>True</td>\n      <td>True</td>\n      <td>True</td>\n      <td>True</td>\n    </tr>\n  </tbody>\n</table>\n<p>4615 rows × 149 columns</p>\n</div>"
     },
     "execution_count": 26,
     "metadata": {},
     "output_type": "execute_result"
    }
   ],
   "source": [
    "import random\n",
    "import pandas as pd\n",
    "from sklearn.metrics import classification_report, roc_auc_score\n",
    "import csv\n",
    "import numpy as np\n",
    "from tabulate import tabulate\n",
    "from classification import classification\n",
    "from rule_gen import rule_generation\n",
    "from daehan_mlutil import utilities\n",
    "from util import util\n",
    "\n",
    "with open('../data/dataset.csv', 'r') as file:\n",
    "    dataset = [list(filter(None, row)) for row in csv.reader(file)]\n",
    "\n",
    "min_support = 0.1\n",
    "transactions_df = util.convert_trans_to_df(dataset)\n",
    "transactions_df"
   ]
  },
  {
   "cell_type": "code",
   "execution_count": 27,
   "outputs": [],
   "source": [
    "random.seed(0)\n",
    "transactions_0 = pd.DataFrame(\n",
    "    transactions_df[transactions_df['0']].reset_index(drop=True))\n",
    "transactions_1 = pd.DataFrame(\n",
    "    transactions_df[transactions_df['1']].reset_index(drop=True))"
   ],
   "metadata": {
    "collapsed": false
   }
  },
  {
   "cell_type": "code",
   "execution_count": 28,
   "outputs": [
    {
     "data": {
      "text/plain": "         0      1  ACETAMINOPHEN  ALBUMIN HUMAN 25%  ALBUMIN HUMAN 5%  \\\n0     True  False          False              False             False   \n1     True  False           True              False             False   \n2     True  False           True              False             False   \n3     True  False           True              False             False   \n4     True  False           True              False             False   \n..     ...    ...            ...                ...               ...   \n388  False   True           True              False             False   \n389  False   True           True              False             False   \n390  False   True          False              False             False   \n391  False   True           True              False             False   \n392  False   True           True              False             False   \n\n     ALBUTEROL 0.083%  ALBUTEROL 90 MCG  ALBUTEROL CONCENTRATED 0.5%  \\\n0               False             False                        False   \n1               False             False                        False   \n2               False              True                         True   \n3               False             False                        False   \n4               False              True                         True   \n..                ...               ...                          ...   \n388             False              True                         True   \n389             False              True                         True   \n390             False             False                        False   \n391             False             False                        False   \n392             False             False                        False   \n\n     ALLOPURINOL  ALPRAZOLAM  ...  TACROLIMUS  TAMSULOSIN  THIAMINE  TRAMADOL  \\\n0          False       False  ...       False       False      True     False   \n1          False       False  ...       False       False      True     False   \n2          False       False  ...       False        True     False     False   \n3          False       False  ...       False       False     False     False   \n4          False       False  ...       False       False     False     False   \n..           ...         ...  ...         ...         ...       ...       ...   \n388        False       False  ...       False       False     False     False   \n389        False       False  ...       False       False     False     False   \n390        False       False  ...       False       False     False     False   \n391        False       False  ...       False       False     False     False   \n392        False       False  ...       False       False     False     False   \n\n     TRAZODONE  VANCOMYCIN  VANCOMYCIN 1 G/200 ML D5W  \\\n0        False        True                       True   \n1        False       False                      False   \n2        False       False                       True   \n3        False       False                      False   \n4        False       False                      False   \n..         ...         ...                        ...   \n388      False        True                      False   \n389      False       False                       True   \n390      False       False                       True   \n391      False       False                      False   \n392      False       False                      False   \n\n     VANCOMYCIN 1.25 G/250 ML NS  VANCOMYCIN 1.5 G/500 ML NS  WARFARIN  \n0                           True                       False     False  \n1                          False                       False     False  \n2                           True                       False     False  \n3                          False                       False     False  \n4                          False                       False     False  \n..                           ...                         ...       ...  \n388                        False                       False     False  \n389                         True                       False     False  \n390                        False                       False     False  \n391                        False                       False     False  \n392                        False                       False     False  \n\n[4155 rows x 149 columns]",
      "text/html": "<div>\n<style scoped>\n    .dataframe tbody tr th:only-of-type {\n        vertical-align: middle;\n    }\n\n    .dataframe tbody tr th {\n        vertical-align: top;\n    }\n\n    .dataframe thead th {\n        text-align: right;\n    }\n</style>\n<table border=\"1\" class=\"dataframe\">\n  <thead>\n    <tr style=\"text-align: right;\">\n      <th></th>\n      <th>0</th>\n      <th>1</th>\n      <th>ACETAMINOPHEN</th>\n      <th>ALBUMIN HUMAN 25%</th>\n      <th>ALBUMIN HUMAN 5%</th>\n      <th>ALBUTEROL 0.083%</th>\n      <th>ALBUTEROL 90 MCG</th>\n      <th>ALBUTEROL CONCENTRATED 0.5%</th>\n      <th>ALLOPURINOL</th>\n      <th>ALPRAZOLAM</th>\n      <th>...</th>\n      <th>TACROLIMUS</th>\n      <th>TAMSULOSIN</th>\n      <th>THIAMINE</th>\n      <th>TRAMADOL</th>\n      <th>TRAZODONE</th>\n      <th>VANCOMYCIN</th>\n      <th>VANCOMYCIN 1 G/200 ML D5W</th>\n      <th>VANCOMYCIN 1.25 G/250 ML NS</th>\n      <th>VANCOMYCIN 1.5 G/500 ML NS</th>\n      <th>WARFARIN</th>\n    </tr>\n  </thead>\n  <tbody>\n    <tr>\n      <th>0</th>\n      <td>True</td>\n      <td>False</td>\n      <td>False</td>\n      <td>False</td>\n      <td>False</td>\n      <td>False</td>\n      <td>False</td>\n      <td>False</td>\n      <td>False</td>\n      <td>False</td>\n      <td>...</td>\n      <td>False</td>\n      <td>False</td>\n      <td>True</td>\n      <td>False</td>\n      <td>False</td>\n      <td>True</td>\n      <td>True</td>\n      <td>True</td>\n      <td>False</td>\n      <td>False</td>\n    </tr>\n    <tr>\n      <th>1</th>\n      <td>True</td>\n      <td>False</td>\n      <td>True</td>\n      <td>False</td>\n      <td>False</td>\n      <td>False</td>\n      <td>False</td>\n      <td>False</td>\n      <td>False</td>\n      <td>False</td>\n      <td>...</td>\n      <td>False</td>\n      <td>False</td>\n      <td>True</td>\n      <td>False</td>\n      <td>False</td>\n      <td>False</td>\n      <td>False</td>\n      <td>False</td>\n      <td>False</td>\n      <td>False</td>\n    </tr>\n    <tr>\n      <th>2</th>\n      <td>True</td>\n      <td>False</td>\n      <td>True</td>\n      <td>False</td>\n      <td>False</td>\n      <td>False</td>\n      <td>True</td>\n      <td>True</td>\n      <td>False</td>\n      <td>False</td>\n      <td>...</td>\n      <td>False</td>\n      <td>True</td>\n      <td>False</td>\n      <td>False</td>\n      <td>False</td>\n      <td>False</td>\n      <td>True</td>\n      <td>True</td>\n      <td>False</td>\n      <td>False</td>\n    </tr>\n    <tr>\n      <th>3</th>\n      <td>True</td>\n      <td>False</td>\n      <td>True</td>\n      <td>False</td>\n      <td>False</td>\n      <td>False</td>\n      <td>False</td>\n      <td>False</td>\n      <td>False</td>\n      <td>False</td>\n      <td>...</td>\n      <td>False</td>\n      <td>False</td>\n      <td>False</td>\n      <td>False</td>\n      <td>False</td>\n      <td>False</td>\n      <td>False</td>\n      <td>False</td>\n      <td>False</td>\n      <td>False</td>\n    </tr>\n    <tr>\n      <th>4</th>\n      <td>True</td>\n      <td>False</td>\n      <td>True</td>\n      <td>False</td>\n      <td>False</td>\n      <td>False</td>\n      <td>True</td>\n      <td>True</td>\n      <td>False</td>\n      <td>False</td>\n      <td>...</td>\n      <td>False</td>\n      <td>False</td>\n      <td>False</td>\n      <td>False</td>\n      <td>False</td>\n      <td>False</td>\n      <td>False</td>\n      <td>False</td>\n      <td>False</td>\n      <td>False</td>\n    </tr>\n    <tr>\n      <th>...</th>\n      <td>...</td>\n      <td>...</td>\n      <td>...</td>\n      <td>...</td>\n      <td>...</td>\n      <td>...</td>\n      <td>...</td>\n      <td>...</td>\n      <td>...</td>\n      <td>...</td>\n      <td>...</td>\n      <td>...</td>\n      <td>...</td>\n      <td>...</td>\n      <td>...</td>\n      <td>...</td>\n      <td>...</td>\n      <td>...</td>\n      <td>...</td>\n      <td>...</td>\n      <td>...</td>\n    </tr>\n    <tr>\n      <th>388</th>\n      <td>False</td>\n      <td>True</td>\n      <td>True</td>\n      <td>False</td>\n      <td>False</td>\n      <td>False</td>\n      <td>True</td>\n      <td>True</td>\n      <td>False</td>\n      <td>False</td>\n      <td>...</td>\n      <td>False</td>\n      <td>False</td>\n      <td>False</td>\n      <td>False</td>\n      <td>False</td>\n      <td>True</td>\n      <td>False</td>\n      <td>False</td>\n      <td>False</td>\n      <td>False</td>\n    </tr>\n    <tr>\n      <th>389</th>\n      <td>False</td>\n      <td>True</td>\n      <td>True</td>\n      <td>False</td>\n      <td>False</td>\n      <td>False</td>\n      <td>True</td>\n      <td>True</td>\n      <td>False</td>\n      <td>False</td>\n      <td>...</td>\n      <td>False</td>\n      <td>False</td>\n      <td>False</td>\n      <td>False</td>\n      <td>False</td>\n      <td>False</td>\n      <td>True</td>\n      <td>True</td>\n      <td>False</td>\n      <td>False</td>\n    </tr>\n    <tr>\n      <th>390</th>\n      <td>False</td>\n      <td>True</td>\n      <td>False</td>\n      <td>False</td>\n      <td>False</td>\n      <td>False</td>\n      <td>False</td>\n      <td>False</td>\n      <td>False</td>\n      <td>False</td>\n      <td>...</td>\n      <td>False</td>\n      <td>False</td>\n      <td>False</td>\n      <td>False</td>\n      <td>False</td>\n      <td>False</td>\n      <td>True</td>\n      <td>False</td>\n      <td>False</td>\n      <td>False</td>\n    </tr>\n    <tr>\n      <th>391</th>\n      <td>False</td>\n      <td>True</td>\n      <td>True</td>\n      <td>False</td>\n      <td>False</td>\n      <td>False</td>\n      <td>False</td>\n      <td>False</td>\n      <td>False</td>\n      <td>False</td>\n      <td>...</td>\n      <td>False</td>\n      <td>False</td>\n      <td>False</td>\n      <td>False</td>\n      <td>False</td>\n      <td>False</td>\n      <td>False</td>\n      <td>False</td>\n      <td>False</td>\n      <td>False</td>\n    </tr>\n    <tr>\n      <th>392</th>\n      <td>False</td>\n      <td>True</td>\n      <td>True</td>\n      <td>False</td>\n      <td>False</td>\n      <td>False</td>\n      <td>False</td>\n      <td>False</td>\n      <td>False</td>\n      <td>False</td>\n      <td>...</td>\n      <td>False</td>\n      <td>False</td>\n      <td>False</td>\n      <td>False</td>\n      <td>False</td>\n      <td>False</td>\n      <td>False</td>\n      <td>False</td>\n      <td>False</td>\n      <td>False</td>\n    </tr>\n  </tbody>\n</table>\n<p>4155 rows × 149 columns</p>\n</div>"
     },
     "execution_count": 28,
     "metadata": {},
     "output_type": "execute_result"
    }
   ],
   "source": [
    "indices = list(range(0, len(transactions_0)))\n",
    "random.shuffle(indices)\n",
    "test_set_0 = transactions_0.iloc[indices[:417], :].reset_index(drop=True)\n",
    "training_set_0 = transactions_0.iloc[indices[417:], :].reset_index(drop=True)\n",
    "\n",
    "indices = list(range(0, len(transactions_1)))\n",
    "random.shuffle(indices)\n",
    "test_set_1 = transactions_1.iloc[indices[:43], :].reset_index(drop=True)\n",
    "training_set_1 = transactions_1.iloc[indices[43:], :].reset_index(drop=True)\n",
    "\n",
    "training_set = pd.concat([training_set_0, training_set_1])\n",
    "test_set = pd.concat([test_set_0, test_set_1])\n",
    "training_set"
   ],
   "metadata": {
    "collapsed": false
   }
  },
  {
   "cell_type": "code",
   "execution_count": 29,
   "outputs": [
    {
     "data": {
      "text/plain": "        0      1  ACETAMINOPHEN  ALBUMIN HUMAN 25%  ALBUMIN HUMAN 5%  \\\n0    True  False          False               True             False   \n1    True  False          False              False             False   \n2    True  False          False              False             False   \n3    True  False           True              False             False   \n4    True  False           True              False             False   \n..    ...    ...            ...                ...               ...   \n38  False   True           True              False             False   \n39  False   True          False              False             False   \n40  False   True          False              False             False   \n41  False   True           True               True             False   \n42  False   True           True               True             False   \n\n    ALBUTEROL 0.083%  ALBUTEROL 90 MCG  ALBUTEROL CONCENTRATED 0.5%  \\\n0              False             False                        False   \n1              False             False                        False   \n2              False             False                        False   \n3              False              True                         True   \n4              False              True                         True   \n..               ...               ...                          ...   \n38             False             False                        False   \n39             False              True                         True   \n40             False              True                        False   \n41             False             False                         True   \n42             False             False                         True   \n\n    ALLOPURINOL  ALPRAZOLAM  ...  TACROLIMUS  TAMSULOSIN  THIAMINE  TRAMADOL  \\\n0         False       False  ...       False       False     False     False   \n1         False       False  ...       False       False     False     False   \n2         False       False  ...       False       False     False     False   \n3         False       False  ...       False       False     False     False   \n4         False       False  ...       False       False     False      True   \n..          ...         ...  ...         ...         ...       ...       ...   \n38        False       False  ...       False       False     False     False   \n39        False       False  ...       False       False     False     False   \n40        False       False  ...       False       False     False     False   \n41        False       False  ...       False       False      True     False   \n42        False       False  ...       False        True     False     False   \n\n    TRAZODONE  VANCOMYCIN  VANCOMYCIN 1 G/200 ML D5W  \\\n0       False       False                      False   \n1       False        True                      False   \n2       False       False                      False   \n3       False       False                      False   \n4        True       False                      False   \n..        ...         ...                        ...   \n38      False       False                       True   \n39      False       False                      False   \n40      False       False                      False   \n41      False       False                       True   \n42      False        True                       True   \n\n    VANCOMYCIN 1.25 G/250 ML NS  VANCOMYCIN 1.5 G/500 ML NS  WARFARIN  \n0                         False                       False     False  \n1                         False                       False      True  \n2                         False                       False     False  \n3                         False                       False     False  \n4                         False                       False     False  \n..                          ...                         ...       ...  \n38                         True                       False     False  \n39                         True                       False     False  \n40                        False                       False     False  \n41                        False                       False     False  \n42                        False                       False     False  \n\n[460 rows x 149 columns]",
      "text/html": "<div>\n<style scoped>\n    .dataframe tbody tr th:only-of-type {\n        vertical-align: middle;\n    }\n\n    .dataframe tbody tr th {\n        vertical-align: top;\n    }\n\n    .dataframe thead th {\n        text-align: right;\n    }\n</style>\n<table border=\"1\" class=\"dataframe\">\n  <thead>\n    <tr style=\"text-align: right;\">\n      <th></th>\n      <th>0</th>\n      <th>1</th>\n      <th>ACETAMINOPHEN</th>\n      <th>ALBUMIN HUMAN 25%</th>\n      <th>ALBUMIN HUMAN 5%</th>\n      <th>ALBUTEROL 0.083%</th>\n      <th>ALBUTEROL 90 MCG</th>\n      <th>ALBUTEROL CONCENTRATED 0.5%</th>\n      <th>ALLOPURINOL</th>\n      <th>ALPRAZOLAM</th>\n      <th>...</th>\n      <th>TACROLIMUS</th>\n      <th>TAMSULOSIN</th>\n      <th>THIAMINE</th>\n      <th>TRAMADOL</th>\n      <th>TRAZODONE</th>\n      <th>VANCOMYCIN</th>\n      <th>VANCOMYCIN 1 G/200 ML D5W</th>\n      <th>VANCOMYCIN 1.25 G/250 ML NS</th>\n      <th>VANCOMYCIN 1.5 G/500 ML NS</th>\n      <th>WARFARIN</th>\n    </tr>\n  </thead>\n  <tbody>\n    <tr>\n      <th>0</th>\n      <td>True</td>\n      <td>False</td>\n      <td>False</td>\n      <td>True</td>\n      <td>False</td>\n      <td>False</td>\n      <td>False</td>\n      <td>False</td>\n      <td>False</td>\n      <td>False</td>\n      <td>...</td>\n      <td>False</td>\n      <td>False</td>\n      <td>False</td>\n      <td>False</td>\n      <td>False</td>\n      <td>False</td>\n      <td>False</td>\n      <td>False</td>\n      <td>False</td>\n      <td>False</td>\n    </tr>\n    <tr>\n      <th>1</th>\n      <td>True</td>\n      <td>False</td>\n      <td>False</td>\n      <td>False</td>\n      <td>False</td>\n      <td>False</td>\n      <td>False</td>\n      <td>False</td>\n      <td>False</td>\n      <td>False</td>\n      <td>...</td>\n      <td>False</td>\n      <td>False</td>\n      <td>False</td>\n      <td>False</td>\n      <td>False</td>\n      <td>True</td>\n      <td>False</td>\n      <td>False</td>\n      <td>False</td>\n      <td>True</td>\n    </tr>\n    <tr>\n      <th>2</th>\n      <td>True</td>\n      <td>False</td>\n      <td>False</td>\n      <td>False</td>\n      <td>False</td>\n      <td>False</td>\n      <td>False</td>\n      <td>False</td>\n      <td>False</td>\n      <td>False</td>\n      <td>...</td>\n      <td>False</td>\n      <td>False</td>\n      <td>False</td>\n      <td>False</td>\n      <td>False</td>\n      <td>False</td>\n      <td>False</td>\n      <td>False</td>\n      <td>False</td>\n      <td>False</td>\n    </tr>\n    <tr>\n      <th>3</th>\n      <td>True</td>\n      <td>False</td>\n      <td>True</td>\n      <td>False</td>\n      <td>False</td>\n      <td>False</td>\n      <td>True</td>\n      <td>True</td>\n      <td>False</td>\n      <td>False</td>\n      <td>...</td>\n      <td>False</td>\n      <td>False</td>\n      <td>False</td>\n      <td>False</td>\n      <td>False</td>\n      <td>False</td>\n      <td>False</td>\n      <td>False</td>\n      <td>False</td>\n      <td>False</td>\n    </tr>\n    <tr>\n      <th>4</th>\n      <td>True</td>\n      <td>False</td>\n      <td>True</td>\n      <td>False</td>\n      <td>False</td>\n      <td>False</td>\n      <td>True</td>\n      <td>True</td>\n      <td>False</td>\n      <td>False</td>\n      <td>...</td>\n      <td>False</td>\n      <td>False</td>\n      <td>False</td>\n      <td>True</td>\n      <td>True</td>\n      <td>False</td>\n      <td>False</td>\n      <td>False</td>\n      <td>False</td>\n      <td>False</td>\n    </tr>\n    <tr>\n      <th>...</th>\n      <td>...</td>\n      <td>...</td>\n      <td>...</td>\n      <td>...</td>\n      <td>...</td>\n      <td>...</td>\n      <td>...</td>\n      <td>...</td>\n      <td>...</td>\n      <td>...</td>\n      <td>...</td>\n      <td>...</td>\n      <td>...</td>\n      <td>...</td>\n      <td>...</td>\n      <td>...</td>\n      <td>...</td>\n      <td>...</td>\n      <td>...</td>\n      <td>...</td>\n      <td>...</td>\n    </tr>\n    <tr>\n      <th>38</th>\n      <td>False</td>\n      <td>True</td>\n      <td>True</td>\n      <td>False</td>\n      <td>False</td>\n      <td>False</td>\n      <td>False</td>\n      <td>False</td>\n      <td>False</td>\n      <td>False</td>\n      <td>...</td>\n      <td>False</td>\n      <td>False</td>\n      <td>False</td>\n      <td>False</td>\n      <td>False</td>\n      <td>False</td>\n      <td>True</td>\n      <td>True</td>\n      <td>False</td>\n      <td>False</td>\n    </tr>\n    <tr>\n      <th>39</th>\n      <td>False</td>\n      <td>True</td>\n      <td>False</td>\n      <td>False</td>\n      <td>False</td>\n      <td>False</td>\n      <td>True</td>\n      <td>True</td>\n      <td>False</td>\n      <td>False</td>\n      <td>...</td>\n      <td>False</td>\n      <td>False</td>\n      <td>False</td>\n      <td>False</td>\n      <td>False</td>\n      <td>False</td>\n      <td>False</td>\n      <td>True</td>\n      <td>False</td>\n      <td>False</td>\n    </tr>\n    <tr>\n      <th>40</th>\n      <td>False</td>\n      <td>True</td>\n      <td>False</td>\n      <td>False</td>\n      <td>False</td>\n      <td>False</td>\n      <td>True</td>\n      <td>False</td>\n      <td>False</td>\n      <td>False</td>\n      <td>...</td>\n      <td>False</td>\n      <td>False</td>\n      <td>False</td>\n      <td>False</td>\n      <td>False</td>\n      <td>False</td>\n      <td>False</td>\n      <td>False</td>\n      <td>False</td>\n      <td>False</td>\n    </tr>\n    <tr>\n      <th>41</th>\n      <td>False</td>\n      <td>True</td>\n      <td>True</td>\n      <td>True</td>\n      <td>False</td>\n      <td>False</td>\n      <td>False</td>\n      <td>True</td>\n      <td>False</td>\n      <td>False</td>\n      <td>...</td>\n      <td>False</td>\n      <td>False</td>\n      <td>True</td>\n      <td>False</td>\n      <td>False</td>\n      <td>False</td>\n      <td>True</td>\n      <td>False</td>\n      <td>False</td>\n      <td>False</td>\n    </tr>\n    <tr>\n      <th>42</th>\n      <td>False</td>\n      <td>True</td>\n      <td>True</td>\n      <td>True</td>\n      <td>False</td>\n      <td>False</td>\n      <td>False</td>\n      <td>True</td>\n      <td>False</td>\n      <td>False</td>\n      <td>...</td>\n      <td>False</td>\n      <td>True</td>\n      <td>False</td>\n      <td>False</td>\n      <td>False</td>\n      <td>True</td>\n      <td>True</td>\n      <td>False</td>\n      <td>False</td>\n      <td>False</td>\n    </tr>\n  </tbody>\n</table>\n<p>460 rows × 149 columns</p>\n</div>"
     },
     "execution_count": 29,
     "metadata": {},
     "output_type": "execute_result"
    }
   ],
   "source": [
    "test_set"
   ],
   "metadata": {
    "collapsed": false
   }
  },
  {
   "cell_type": "code",
   "execution_count": 30,
   "outputs": [
    {
     "data": {
      "text/plain": "array([[frozenset({'ACETAMINOPHEN'})],\n       [frozenset({'ALBUTEROL 90 MCG'})],\n       [frozenset({'ALBUTEROL CONCENTRATED 0.5%'})],\n       [frozenset({'AMLODIPINE'})],\n       [frozenset({'ASPIRIN'})],\n       [frozenset({'ASPIRIN EC'})],\n       [frozenset({\"ASPIRIN, CHILDREN'S\"})],\n       [frozenset({'ATORVASTATIN'})],\n       [frozenset({'BISACODYL'})],\n       [frozenset({'CALCIUM GLUCONATE 2 G/50 ML NS'})],\n       [frozenset({'CEFAZOLIN'})],\n       [frozenset({'CEFAZOLIN 2 G/100 ML NS'})],\n       [frozenset({'CEFEPIME'})],\n       [frozenset({'CEFTRIAXONE'})],\n       [frozenset({'CHLORHEXIDINE GLUCONATE 0.12%'})],\n       [frozenset({'DEXTROSE 5%-NACL 0.9%'})],\n       [frozenset({'DEXTROSE 50%-WATER'})],\n       [frozenset({'DIAZEPAM'})],\n       [frozenset({'DIPHENHYDRAMINE HCL'})],\n       [frozenset({'DOCUSATE SODIUM'})],\n       [frozenset({'ENOXAPARIN'})],\n       [frozenset({'FAMOTIDINE'})],\n       [frozenset({'FENTANYL 2000 MCG/100 ML NS'})],\n       [frozenset({'FENTANYL CITRATE (PF)'})],\n       [frozenset({'FOLIC ACID'})],\n       [frozenset({'FUROSEMIDE'})],\n       [frozenset({'GABAPENTIN'})],\n       [frozenset({'GLUCAGON'})],\n       [frozenset({'GLUCOSE'})],\n       [frozenset({'GLYCOPYRROLATE'})],\n       [frozenset({'HALOPERIDOL LACTATE'})],\n       [frozenset({'HEPARIN  FLUSH 10 UNIT/ML'})],\n       [frozenset({'HEPARIN 1,000 UNIT/ML'})],\n       [frozenset({'HEPARIN 25,000 UNIT/500 ML D5W'})],\n       [frozenset({'HEPARIN 5,000 UNIT/ML'})],\n       [frozenset({'HYDRALAZINE'})],\n       [frozenset({'HYDROMORPHONE'})],\n       [frozenset({'INSULIN ASPART'})],\n       [frozenset({'INSULIN LISPRO'})],\n       [frozenset({'INSULIN REG 100 UNITS/100 ML'})],\n       [frozenset({'INSULIN REGULAR, HUMAN'})],\n       [frozenset({'IPRATROPIUM 0.02%'})],\n       [frozenset({'KCL 10 MEQ/100 ML'})],\n       [frozenset({'KCL 20 MEQ/50 ML'})],\n       [frozenset({'LABETALOL'})],\n       [frozenset({'LEVETIRACETAM'})],\n       [frozenset({'LEVOTHYROXINE'})],\n       [frozenset({'LIDOCAINE 1% PF'})],\n       [frozenset({'LISINOPRIL'})],\n       [frozenset({'LORAZEPAM'})],\n       [frozenset({'MAGNESIUM SULF 2 G/50 ML NS'})],\n       [frozenset({'METHYLPREDNISOLONE SOD SUC(PF)'})],\n       [frozenset({'METOCLOPRAMIDE'})],\n       [frozenset({'METOPROLOL TARTRATE'})],\n       [frozenset({'METRONIDAZOLE 500 MG/100 ML'})],\n       [frozenset({'MIDAZOLAM'})],\n       [frozenset({'MIDAZOLAM 100 MG/100 ML NS'})],\n       [frozenset({'MORPHINE'})],\n       [frozenset({'MULTIVITAMINS'})],\n       [frozenset({'NALOXONE'})],\n       [frozenset({'NOREPINEPHRINE 4 MG/250 ML NS'})],\n       [frozenset({'OMEPRAZOLE'})],\n       [frozenset({'ONDANSETRON'})],\n       [frozenset({'OXYCODONE IR'})],\n       [frozenset({'PANTOPRAZOLE'})],\n       [frozenset({'PANTOPRAZOLE DR'})],\n       [frozenset({'PHENYLEPHRINE'})],\n       [frozenset({'PHENYLEPHRINE 10 MG/250 ML NS'})],\n       [frozenset({'PIPERACILLIN/TAZOBACTAM'})],\n       [frozenset({'POTASSIUM AND SODIUM PHOSPHATE'})],\n       [frozenset({'POTASSIUM CHLORIDE'})],\n       [frozenset({'POTASSIUM CHLORIDE ER'})],\n       [frozenset({'POTASSIUM PHOSPHATE'})],\n       [frozenset({'PREDNISONE'})],\n       [frozenset({'PROPOFOL 10 MG/ML'})],\n       [frozenset({'PROPOFOL 1000 MG/100 ML'})],\n       [frozenset({'RINGERS SOLUTION,LACTATED'})],\n       [frozenset({'ROCURONIUM'})],\n       [frozenset({'SENNOSIDES'})],\n       [frozenset({'SIMVASTATIN'})],\n       [frozenset({'SODIUM BICARBONATE 8.4%'})],\n       [frozenset({'SODIUM CHLORIDE 0.9%'})],\n       [frozenset({'THIAMINE'})],\n       [frozenset({'TRAZODONE'})],\n       [frozenset({'VANCOMYCIN'})],\n       [frozenset({'VANCOMYCIN 1 G/200 ML D5W'})],\n       [frozenset({'VANCOMYCIN 1.25 G/250 ML NS'})],\n       [frozenset({'VANCOMYCIN 1.5 G/500 ML NS'})],\n       [frozenset({'WARFARIN'})]], dtype=object)"
     },
     "execution_count": 30,
     "metadata": {},
     "output_type": "execute_result"
    }
   ],
   "source": [
    "import multiprocessing\n",
    "import pandas as pd\n",
    "from posneg_rule_gen.posneg_rule_generation import ponerg\n",
    "from rule_gen import apriori_mlx\n",
    "from util import util\n",
    "from daehan_mlutil import utilities\n",
    "\n",
    "def ponerg_parallel(item):\n",
    "    return ponerg(item, classes, class_support_count_dict, transactions_df)\n",
    "\n",
    "rules = []\n",
    "transactions_df = training_set\n",
    "X_df = pd.DataFrame(transactions_df.drop(['1', '0'], axis=1))\n",
    "classes = [frozenset(['0']), frozenset(['1'])]\n",
    "class_support_count_dict = util.get_support_count_dict_df(classes, transactions_df)\n",
    "\n",
    "f1, previous_itemset_arr = apriori_mlx.apriori_of_size_1(X_df, min_support=min_support)\n",
    "f1 = f1.tolist()\n",
    "freq_itemsets = [f1]\n",
    "for item in f1:\n",
    "    rules.extend(ponerg(item, classes, class_support_count_dict, transactions_df))\n",
    "np.expand_dims(np.array(np.array(f1)), axis=1)"
   ],
   "metadata": {
    "collapsed": false
   }
  },
  {
   "cell_type": "code",
   "execution_count": 31,
   "outputs": [
    {
     "name": "stdout",
     "output_type": "stream",
     "text": [
      "\n",
      "Processing time of rule_gen(): 3.56 seconds (0.06 minutes).\n"
     ]
    },
    {
     "data": {
      "text/plain": "array([[{'antecedent': frozenset({'ACETAMINOPHEN'}), 'consequent': '0', 'confidence': 1.024906739112805}],\n       [{'antecedent': frozenset({'ALBUTEROL 90 MCG'}), 'consequent': '1', 'confidence': 1.1606304693259821}],\n       [{'antecedent': frozenset({'ALBUTEROL CONCENTRATED 0.5%'}), 'consequent': '1', 'confidence': 1.2234574485816194}],\n       ...,\n       [{'antecedent': frozenset({'MAGNESIUM SULF 2 G/50 ML NS', 'ACETAMINOPHEN', 'DEXTROSE 50%-WATER', 'HEPARIN 5,000 UNIT/ML', 'GLUCAGON', 'GLUCOSE', 'ONDANSETRON', 'FENTANYL CITRATE (PF)'}), 'consequent': '0', 'confidence': 1.0649263645118439}],\n       [{'antecedent': frozenset({'OXYCODONE IR', 'MAGNESIUM SULF 2 G/50 ML NS', 'ACETAMINOPHEN', 'MIDAZOLAM', 'DEXTROSE 50%-WATER', 'HEPARIN 5,000 UNIT/ML', 'ONDANSETRON', 'FENTANYL CITRATE (PF)'}), 'consequent': '0', 'confidence': 1.070198277207447}],\n       [{'antecedent': frozenset({'OXYCODONE IR', 'MAGNESIUM SULF 2 G/50 ML NS', 'ACETAMINOPHEN', 'DEXTROSE 50%-WATER', 'HEPARIN 5,000 UNIT/ML', 'ONDANSETRON', 'FENTANYL CITRATE (PF)', 'POTASSIUM CHLORIDE ER'}), 'consequent': '0', 'confidence': 1.0891259082048554}]],\n      dtype=object)"
     },
     "execution_count": 31,
     "metadata": {},
     "output_type": "execute_result"
    }
   ],
   "source": [
    "import time\n",
    "\n",
    "start_time = time.time()\n",
    "k = 0\n",
    "while freq_itemsets[k] is not None and len(freq_itemsets[k]) > 0:\n",
    "    k_freq_itemsets, previous_itemset_arr = apriori_mlx.apriori_of_size_k(\n",
    "        X_df, previous_itemset_arr, min_support=min_support, k=k + 2, low_memory=True)\n",
    "    if not k_freq_itemsets.empty:\n",
    "        k_freq_itemsets = k_freq_itemsets.tolist()\n",
    "        # for item in k_freq_itemsets_x_c:\n",
    "        #     rules.extend(ponerg(item, c, len(transactions_per_c), transactions_df))\n",
    "        with multiprocessing.Pool() as pool:\n",
    "            result = pool.map(ponerg_parallel, k_freq_itemsets)\n",
    "        rules_to_extend = [x[0] for x in result if x != []]\n",
    "        rules.extend(rules_to_extend)\n",
    "        freq_itemsets.append(k_freq_itemsets)\n",
    "    else:\n",
    "        freq_itemsets.append(None)\n",
    "    k += 1\n",
    "time_sec = time.time() - start_time\n",
    "time_min = time_sec / 60\n",
    "print(\"\\nProcessing time of %s(): %.2f seconds (%.2f minutes).\"\n",
    "      % (\"rule_gen\", time.time() - start_time, time_min))\n",
    "np.expand_dims(np.array(np.array(rules)), axis=1)"
   ],
   "metadata": {
    "collapsed": false
   }
  },
  {
   "cell_type": "code",
   "execution_count": 37,
   "outputs": [
    {
     "data": {
      "text/plain": "array([3.99631104, 3.6985775 , 3.92407919, 3.99631104, 3.90561293,\n       2.88437833, 3.92407919, 3.42956436, 3.87587258, 3.99631104,\n       3.92407919, 3.99631104, 3.90561293, 3.92407919, 3.99631104,\n       3.99631104, 3.99631104, 3.04476309, 3.99631104, 1.83503914,\n       3.99631104, 3.87587258, 3.90561293, 3.73647261, 3.42956436,\n       3.92407919, 3.92407919, 3.92407919, 3.99631104, 3.99631104,\n       3.99631104, 3.99631104, 3.99631104, 3.8315137 , 3.6985775 ,\n       3.99631104, 3.99631104, 3.99631104, 2.57690101, 3.92407919,\n       3.92407919, 2.18913336, 3.50319581, 3.92407919, 3.99631104,\n       3.92407919, 3.99631104, 3.99631104, 3.92407919, 3.50319581,\n       3.42956436, 3.42956436, 3.90561293, 3.97728099, 2.32310957,\n       3.99631104, 3.99631104, 3.99631104, 3.99631104, 3.99631104,\n       3.99631104, 3.19340593, 3.99631104, 3.99631104, 3.99631104,\n       3.99631104, 3.90561293, 3.90561293, 3.42956436, 2.32310957,\n       3.99631104, 3.92407919, 3.42956436, 3.92407919, 3.99631104,\n       3.90561293, 3.92407919, 3.99631104, 3.99631104, 2.61227612,\n       3.99631104, 3.99631104, 3.92407919, 2.48705925, 3.42956436,\n       3.92407919, 2.88437833, 3.92407919, 3.11291406, 3.92407919,\n       3.99631104, 3.92407919, 3.42956436, 2.96030534, 3.92407919,\n       3.27360109, 3.92407919, 3.92407919, 3.99631104, 3.99631104,\n       3.99631104, 2.19050078, 2.48765155, 3.42956436, 3.6985775 ,\n       3.99631104, 3.99631104, 3.92407919, 3.99631104, 3.92407919,\n       3.99631104, 3.20011114, 3.90561293, 3.87587258, 3.99631104,\n       3.90561293, 2.3238255 , 3.92407919, 3.25642272, 3.90561293,\n       2.30176615, 3.27360109, 3.87587258, 3.90561293, 3.99631104,\n       3.99631104, 3.42956436, 3.99631104, 3.99631104, 3.99631104,\n       3.90561293, 3.99631104, 3.99631104, 3.92407919, 3.99631104,\n       3.99631104, 3.6985775 , 3.70438642, 3.92407919, 3.99631104,\n       2.12838459, 3.99631104, 3.27360109, 3.42956436, 3.99631104,\n       3.92407919, 3.92407919, 3.92407919, 3.6985775 , 3.92407919,\n       3.92407919, 2.25283584, 3.99631104, 3.92407919, 3.99631104,\n       3.92407919, 3.99631104, 3.20011114, 2.47584308, 3.99631104,\n       3.87587258, 2.30673144, 3.99631104, 3.90561293, 3.8315137 ,\n       3.90561293, 3.99631104, 3.99631104, 3.99631104, 3.42956436,\n       3.99631104, 3.99631104, 2.3238255 , 3.92407919, 3.99631104,\n       3.14318135, 3.92407919, 3.99631104, 3.99631104, 3.92407919,\n       2.32310957, 3.99631104, 3.92407919, 3.42956436, 3.42956436,\n       3.99631104, 3.42956436, 3.92407919, 3.99631104, 3.99631104,\n       3.99631104, 3.50319581, 3.99631104, 3.99631104, 3.99631104,\n       3.99631104, 3.99631104, 3.90561293, 3.99631104, 3.99631104,\n       3.42956436, 3.6985775 , 3.99631104, 3.25642272, 3.92407919,\n       3.8315137 , 3.99631104, 3.6985775 , 3.99631104, 1.26163712,\n       3.42956436, 3.99631104, 3.99631104, 3.8315137 , 3.99631104,\n       3.99631104, 3.90561293, 3.92407919, 3.99631104, 3.99631104,\n       3.99631104, 3.90561293, 3.6985775 , 3.92407919, 3.99631104,\n       3.99631104, 3.99631104, 2.88437833, 3.83813054, 1.64056331,\n       3.92407919, 2.346704  , 3.03978459, 3.99631104, 3.92407919,\n       3.99631104, 3.99631104, 3.14318135, 3.83813054, 3.14318135,\n       3.99631104, 3.99631104, 3.92407919, 3.92407919, 3.92407919,\n       3.99631104, 3.92407919, 2.54701596, 3.92407919, 3.99631104,\n       3.50319581, 3.99631104, 3.99631104, 3.99631104, 2.3238255 ,\n       3.99631104, 2.48705925, 3.99631104, 3.99631104, 3.99631104,\n       3.92407919, 3.27360109, 3.92407919, 3.27360109, 3.92407919,\n       3.99631104, 3.99631104, 3.87587258, 3.92407919, 1.017345  ,\n       3.99631104, 3.90561293, 3.99631104, 3.87587258, 3.99631104,\n       3.27360109, 3.50319581, 3.50319581, 2.57690101, 3.99631104,\n       3.86748213, 3.99631104, 3.99631104, 3.92407919, 3.92407919,\n       2.3238255 , 3.90561293, 3.99631104, 3.42956436, 3.92407919,\n       3.92407919, 3.73647261, 3.92407919, 3.99631104, 3.99631104,\n       3.92407919, 3.42956436, 2.12838459, 3.87587258, 3.92407919,\n       3.92407919, 3.99631104, 3.92407919, 3.03978459, 3.99631104,\n       3.70438642, 3.73647261, 3.99631104, 3.42956436, 3.6985775 ,\n       3.90561293, 3.27360109, 3.92407919, 3.99631104, 3.99631104,\n       3.92407919, 2.57690101, 3.92407919, 3.99631104, 3.99631104,\n       3.92407919, 3.92407919, 3.99631104, 3.99631104, 3.99631104,\n       3.20011114, 3.42956436, 3.92407919, 3.99631104, 3.99631104,\n       3.20011114, 3.99631104, 3.99631104, 3.99631104, 3.92407919,\n       3.50319581, 3.99631104, 3.92407919, 3.99631104, 3.27360109,\n       3.99631104, 3.99631104, 3.42956436, 3.92407919, 3.92407919,\n       2.99817705, 3.92407919, 3.99631104, 2.76147887, 3.99631104,\n       3.99631104, 3.92407919, 3.92407919, 3.90561293, 3.99631104,\n       3.42956436, 3.99631104, 3.92407919, 3.42956436, 3.86748213,\n       3.42956436, 3.99631104, 3.99631104, 3.99631104, 3.92407919,\n       3.70438642, 3.99631104, 2.94335164, 3.99631104, 3.99631104,\n       3.92407919, 2.30673144, 3.70438642, 3.99631104, 3.99631104,\n       3.92407919, 3.90561293, 3.99631104, 3.50319581, 3.6985775 ,\n       3.92407919, 3.90561293, 3.27360109, 3.99631104, 3.99631104,\n       3.99631104, 3.99631104, 3.99631104, 3.92407919, 3.6985775 ,\n       3.42956436, 3.90561293, 3.90561293])"
     },
     "execution_count": 37,
     "metadata": {},
     "output_type": "execute_result"
    }
   ],
   "source": [
    "rules_0 = [rule for rule in rules if rule['consequent'] == '0']\n",
    "rules_1 = [rule for rule in rules if rule['consequent'] == '1']\n",
    "sorted_rules = sorted(rules, key=lambda d: d['confidence'], reverse=True)\n",
    "\n",
    "training_transactions_1 = training_set[training_set['1']].drop(['1', '0'], axis=1).apply(\n",
    "    lambda row: frozenset(row.index[row]), axis=1).tolist()\n",
    "scores_training = [classification.predict_proba(object_o, sorted_rules) for object_o in training_transactions_1]\n",
    "np.array(scores_training)"
   ],
   "metadata": {
    "collapsed": false
   }
  },
  {
   "cell_type": "code",
   "execution_count": 38,
   "outputs": [
    {
     "data": {
      "text/plain": "3.713509919397238"
     },
     "execution_count": 38,
     "metadata": {},
     "output_type": "execute_result"
    }
   ],
   "source": [
    "mean = np.mean(scores_training)\n",
    "mean"
   ],
   "metadata": {
    "collapsed": false
   }
  },
  {
   "cell_type": "code",
   "execution_count": 39,
   "outputs": [
    {
     "data": {
      "text/plain": "array([3.06944102, 1.31386645, 3.42956436, 2.41021029, 2.12838459,\n       1.81625554, 3.19340593, 2.57690101, 1.8397655 , 3.42956436,\n       2.1956473 , 2.08540514, 1.70770113, 3.27360109, 3.27360109,\n       3.42956436, 3.90561293, 2.12838459, 3.42956436, 3.42956436,\n       3.92407919, 1.64056331, 3.83813054, 3.0332799 , 2.41589237,\n       1.33031697, 3.92407919, 1.6843474 , 3.27360109, 1.7242735 ,\n       2.30673144, 2.57690101, 3.25642272, 2.30673144, 1.93047703,\n       2.30673144, 2.41589237, 1.39971568, 2.18271362, 3.92407919,\n       3.99631104, 1.87677854, 3.50319581, 3.92407919, 1.8892474 ,\n       1.18068741, 2.30673144, 2.18913336, 3.99631104, 2.05643964,\n       2.54701596, 1.59859395, 1.95438549, 3.92407919, 1.83035137,\n       3.92407919, 1.07529114, 2.82753417, 1.83490001, 3.50319581,\n       3.42956436, 2.03317675, 2.03791118, 1.88969524, 3.92407919,\n       2.76147887, 3.92407919, 3.92407919, 1.785581  , 2.82753417,\n       2.76147887, 2.27216419, 1.76208651, 1.59035774, 2.30673144,\n       3.42956436, 2.3238255 , 2.27216419, 3.92407919, 1.59035774,\n       3.90561293, 2.02906932, 1.00874026, 1.81243184, 1.83550679,\n       1.83490001, 3.99631104, 3.04933708, 1.91598053, 2.61227612,\n       1.69383668, 1.2217521 , 2.11450382, 3.24223919, 1.87617845,\n       2.57690101, 2.30490937, 3.99631104, 2.76147887, 2.12838459,\n       2.08540514, 2.30673144, 1.6843474 , 2.82753417, 3.27360109,\n       2.3238255 , 1.97412182, 1.2217521 , 2.2611746 , 2.11450382,\n       2.11450382, 1.61024339, 2.2611746 , 1.59035774, 1.39971568,\n       3.99631104, 2.48705925, 3.99631104, 3.92407919, 2.27216419,\n       1.66783166, 3.14318135, 3.99631104, 3.24223919, 3.87587258,\n       1.69383668, 1.47787901, 1.62507075, 2.18486384, 2.02906932,\n       2.47584308, 3.92407919, 2.57690101, 3.99631104, 3.20011114,\n       3.90561293, 3.27360109, 2.53640007, 2.30176615, 3.92407919,\n       3.87587258, 2.30673144, 3.14318135, 2.90176538, 2.1440773 ,\n       2.54701596, 2.10352888, 1.83490001, 1.3415886 , 3.20011114,\n       2.12838459, 1.30714781, 3.24223919, 3.50319581, 3.03111212,\n       3.06944102, 2.1956473 , 1.10292876, 1.98678211, 2.48705925,\n       1.55092739, 2.76147887, 2.12838459, 1.86483208, 3.99631104,\n       3.27360109, 3.27360109, 2.48765155, 2.26224207, 3.20011114,\n       1.59035774, 2.05643964, 2.3238255 , 1.61024339, 3.92407919,\n       3.92407919, 3.20011114, 3.90561293, 2.30490937, 2.27216419,\n       2.57690101, 3.42956436, 3.24223919, 2.53640007, 2.12838459,\n       3.92407919, 2.26224207, 1.04186441, 2.94335164, 3.99631104,\n       2.07713733, 2.54701596, 2.41589237, 3.27360109, 1.95577431,\n       1.08274869, 2.07528582, 2.61227612, 2.24265556, 2.47584308,\n       3.92407919, 1.77330999, 2.346704  , 3.11291406, 1.13439046,\n       1.70399575, 1.18068741, 1.513848  , 3.99631104, 3.92407919,\n       1.81625554, 2.54701596, 3.92407919, 2.51494103, 1.87617845,\n       2.19050078, 2.0966599 , 2.15506984, 2.02830102, 1.59537414,\n       2.15506984, 2.26275316, 3.92407919, 2.07045165, 1.97412182,\n       2.48705925, 3.99631104, 1.65420367, 2.53640007, 3.8315137 ,\n       3.90561293, 1.53823839, 2.76147887, 3.24223919, 1.44453735,\n       2.19002181, 3.27360109, 2.3238255 , 2.82753417, 2.54701596,\n       1.83550679, 3.20011114, 1.71530546, 2.24265556, 1.69383668,\n       3.99631104, 3.92407919, 2.05334048, 2.51494103, 2.21519447,\n       1.59035774, 1.81625554, 2.76147887, 3.42956436, 1.121904  ,\n       3.83813054, 2.12838459, 1.7242735 , 3.50319581, 2.57690101,\n       3.14318135, 1.66292147, 2.48765155, 3.92407919, 1.08315146,\n       3.27360109, 1.04564801, 2.26224207, 3.99631104, 1.33580694,\n       2.27216419, 3.83813054, 2.90176538, 3.42956436, 3.87587258,\n       3.92407919, 2.57690101, 3.92407919, 1.51758647, 1.7242735 ,\n       2.32310957, 1.83550679, 3.42956436, 3.03753889, 3.42956436,\n       2.08540514, 2.41589237, 3.50319581, 1.87617845, 2.57690101,\n       2.03391474, 3.42956436, 2.14991417, 2.54701596, 2.30673144,\n       3.97728099, 1.82461216, 3.92407919, 2.26224207, 3.27360109,\n       1.69383668, 1.37514184, 2.48765155, 3.11291406, 1.87617845,\n       2.26224207, 2.47584308, 3.99631104, 3.24223919, 3.24223919,\n       1.25333878, 2.90176538, 1.64420583, 1.78207777, 2.54701596,\n       1.76208651, 2.94335164, 2.30490937, 3.99631104, 2.30673144,\n       2.12838459, 2.76147887, 1.81243184, 3.99631104, 1.59537414,\n       3.90561293, 3.24223919, 1.83490001, 2.05334048, 1.08274869,\n       3.42956436, 2.54701596, 1.07529114, 3.27360109, 2.90176538,\n       2.03317675, 2.37755214, 3.92407919, 1.22345745, 2.57690101,\n       3.8315137 , 2.27216419, 2.90176538, 1.65380187, 1.61759542,\n       2.02906932, 3.42956436, 3.27360109, 1.39385245, 3.90561293,\n       2.54701596, 3.50319581, 3.27360109, 2.07498038, 2.76147887,\n       1.83550679, 2.9744413 , 3.92407919, 2.3238255 , 3.90561293,\n       2.03317675, 2.03317675, 1.68942315, 2.54701596, 3.42956436,\n       2.30673144, 3.99631104, 2.05437575, 1.72556659, 1.81243184,\n       1.51758647, 2.14991417, 3.03978459, 2.15506984, 2.11450382,\n       1.40841728, 3.11291406, 3.99631104, 2.30673144, 2.3238255 ,\n       3.42956436, 2.51072809, 1.26508775, 1.40841728, 3.99631104,\n       2.88437833, 2.02830102, 2.30673144, 1.79251501, 3.92407919,\n       2.21098308, 3.00795613, 1.54009136, 2.27216419, 1.4253527 ,\n       1.87092992, 2.26224207, 3.11291406, 2.30673144, 1.83550679,\n       1.72638273, 1.86655805, 2.82753417, 3.11291406, 3.50319581,\n       3.27360109, 3.20011114, 3.99631104, 3.20011114, 2.57690101,\n       3.25642272, 3.24223919, 3.06944102, 3.92407919, 1.02490674,\n       1.93047703, 3.04933708, 3.42956436, 3.99631104, 3.99631104,\n       3.99631104, 3.42956436, 3.92407919, 3.50319581, 3.99631104,\n       3.99631104, 3.92407919, 3.99631104, 3.99631104, 3.20011114,\n       3.87587258, 3.99631104, 3.92407919, 3.99631104, 3.99631104,\n       1.51035987, 3.99631104, 3.99631104, 3.99631104, 3.99631104,\n       2.48705925, 3.99631104, 3.99631104, 3.92407919, 3.92407919,\n       3.99631104, 3.99631104, 2.57690101, 3.97728099, 2.12838459,\n       3.99631104, 3.92407919, 3.90561293, 3.99631104, 3.42956436,\n       3.92407919, 2.48765155, 3.42956436, 3.42956436, 3.99631104])"
     },
     "execution_count": 39,
     "metadata": {},
     "output_type": "execute_result"
    }
   ],
   "source": [
    "test_transactions = test_set.drop(['1', '0'], axis=1).apply(lambda row: frozenset(row.index[row]), axis=1).tolist()\n",
    "scores_test = [classification.predict_proba(object_o, sorted_rules) for object_o in test_transactions]\n",
    "scores_test = np.array(scores_test)\n",
    "scores_test"
   ],
   "metadata": {
    "collapsed": false
   }
  },
  {
   "cell_type": "code",
   "execution_count": 35,
   "outputs": [
    {
     "data": {
      "text/plain": "array([0, 0, 0, 0, 0, 0, 0, 0, 0, 0, 0, 0, 0, 0, 0, 0, 0, 0, 0, 0, 0, 0,\n       0, 0, 0, 0, 0, 0, 0, 0, 0, 0, 0, 0, 0, 0, 0, 0, 0, 0, 0, 0, 0, 0,\n       0, 0, 0, 0, 0, 0, 0, 0, 0, 0, 0, 0, 0, 0, 0, 0, 0, 0, 0, 0, 0, 0,\n       0, 0, 0, 0, 0, 0, 0, 0, 0, 0, 0, 0, 0, 0, 0, 0, 0, 0, 0, 0, 0, 0,\n       0, 0, 0, 0, 0, 0, 0, 0, 0, 0, 0, 0, 0, 0, 0, 0, 0, 0, 0, 0, 0, 0,\n       0, 0, 0, 0, 0, 0, 0, 0, 0, 0, 0, 0, 0, 0, 0, 0, 0, 0, 0, 0, 0, 0,\n       0, 0, 0, 0, 0, 0, 0, 0, 0, 0, 0, 0, 0, 0, 0, 0, 0, 0, 0, 0, 0, 0,\n       0, 0, 0, 0, 0, 0, 0, 0, 0, 0, 0, 0, 0, 0, 0, 0, 0, 0, 0, 0, 0, 0,\n       0, 0, 0, 0, 0, 0, 0, 0, 0, 0, 0, 0, 0, 0, 0, 0, 0, 0, 0, 0, 0, 0,\n       0, 0, 0, 0, 0, 0, 0, 0, 0, 0, 0, 0, 0, 0, 0, 0, 0, 0, 0, 0, 0, 0,\n       0, 0, 0, 0, 0, 0, 0, 0, 0, 0, 0, 0, 0, 0, 0, 0, 0, 0, 0, 0, 0, 0,\n       0, 0, 0, 0, 0, 0, 0, 0, 0, 0, 0, 0, 0, 0, 0, 0, 0, 0, 0, 0, 0, 0,\n       0, 0, 0, 0, 0, 0, 0, 0, 0, 0, 0, 0, 0, 0, 0, 0, 0, 0, 0, 0, 0, 0,\n       0, 0, 0, 0, 0, 0, 0, 0, 0, 0, 0, 0, 0, 0, 0, 0, 0, 0, 0, 0, 0, 0,\n       0, 0, 0, 0, 0, 0, 0, 0, 0, 0, 0, 0, 0, 0, 0, 0, 0, 0, 0, 0, 0, 0,\n       0, 0, 0, 0, 0, 0, 0, 0, 0, 0, 0, 0, 0, 0, 0, 0, 0, 0, 0, 0, 0, 0,\n       0, 0, 0, 0, 0, 0, 0, 0, 0, 0, 0, 0, 0, 0, 0, 0, 0, 0, 0, 0, 0, 0,\n       0, 0, 0, 0, 0, 0, 0, 0, 0, 0, 0, 0, 0, 0, 0, 0, 0, 0, 0, 0, 0, 0,\n       0, 0, 0, 0, 0, 0, 0, 0, 0, 0, 0, 0, 0, 0, 0, 0, 0, 0, 0, 0, 0, 1,\n       1, 1, 1, 1, 1, 1, 1, 1, 1, 1, 1, 1, 1, 1, 1, 1, 1, 1, 1, 1, 1, 1,\n       1, 1, 1, 1, 1, 1, 1, 1, 1, 1, 1, 1, 1, 1, 1, 1, 1, 1, 1, 1])"
     },
     "execution_count": 35,
     "metadata": {},
     "output_type": "execute_result"
    }
   ],
   "source": [
    "y_test = test_set.apply(lambda row: 0 if row['0'] else 1, axis=1).tolist()\n",
    "y_test = np.array(y_test)\n",
    "y_test"
   ],
   "metadata": {
    "collapsed": false
   }
  },
  {
   "cell_type": "code",
   "execution_count": 36,
   "outputs": [
    {
     "data": {
      "text/plain": "array([1, 0, 1, 1, 0, 0, 1, 1, 0, 1, 0, 0, 0, 1, 1, 1, 1, 0, 1, 1, 1, 0,\n       1, 1, 1, 0, 1, 0, 1, 0, 0, 1, 1, 0, 0, 0, 1, 0, 0, 1, 1, 0, 1, 1,\n       0, 0, 0, 0, 1, 0, 1, 0, 0, 1, 0, 1, 0, 1, 0, 1, 1, 0, 0, 0, 1, 1,\n       1, 1, 0, 1, 1, 0, 0, 0, 0, 1, 0, 0, 1, 0, 1, 0, 0, 0, 0, 0, 1, 1,\n       0, 1, 0, 0, 0, 1, 0, 1, 0, 1, 1, 0, 0, 0, 0, 1, 1, 0, 0, 0, 0, 0,\n       0, 0, 0, 0, 0, 1, 1, 1, 1, 0, 0, 1, 1, 1, 1, 0, 0, 0, 0, 0, 1, 1,\n       1, 1, 1, 1, 1, 1, 0, 1, 1, 0, 1, 1, 0, 1, 0, 0, 0, 1, 0, 0, 1, 1,\n       1, 1, 0, 0, 0, 1, 0, 1, 0, 0, 1, 1, 1, 1, 0, 1, 0, 0, 0, 0, 1, 1,\n       1, 1, 0, 0, 1, 1, 1, 1, 0, 1, 0, 0, 1, 1, 0, 1, 1, 1, 0, 0, 0, 1,\n       0, 1, 1, 0, 0, 1, 0, 0, 0, 0, 1, 1, 0, 1, 1, 1, 0, 0, 0, 0, 0, 0,\n       0, 0, 1, 0, 0, 1, 1, 0, 1, 1, 1, 0, 1, 1, 0, 0, 1, 0, 1, 1, 0, 1,\n       0, 0, 0, 1, 1, 0, 1, 0, 0, 0, 1, 1, 0, 1, 0, 0, 1, 1, 1, 0, 1, 1,\n       0, 1, 0, 0, 1, 0, 0, 1, 1, 1, 1, 1, 1, 1, 0, 0, 0, 0, 1, 1, 1, 0,\n       1, 1, 0, 1, 0, 1, 0, 1, 0, 1, 0, 1, 0, 1, 0, 0, 1, 1, 0, 0, 1, 1,\n       1, 1, 0, 1, 0, 0, 1, 0, 1, 0, 1, 0, 0, 1, 0, 1, 0, 1, 1, 0, 0, 0,\n       1, 1, 0, 1, 1, 0, 1, 1, 0, 1, 1, 0, 1, 0, 0, 0, 1, 1, 0, 1, 1, 1,\n       1, 0, 1, 0, 1, 1, 0, 1, 0, 0, 0, 1, 1, 0, 1, 0, 0, 0, 0, 0, 1, 0,\n       0, 0, 1, 1, 0, 0, 1, 1, 0, 0, 1, 1, 0, 0, 0, 1, 0, 1, 0, 0, 0, 0,\n       0, 1, 0, 0, 0, 0, 1, 1, 1, 1, 1, 1, 1, 1, 1, 1, 1, 1, 0, 0, 1, 1,\n       1, 1, 1, 1, 1, 1, 1, 1, 1, 1, 1, 1, 1, 1, 1, 1, 1, 0, 1, 1, 1, 1,\n       1, 1, 1, 1, 1, 1, 1, 1, 1, 0, 1, 1, 1, 1, 1, 1, 1, 1, 1, 1])"
     },
     "execution_count": 36,
     "metadata": {},
     "output_type": "execute_result"
    }
   ],
   "source": [
    "y_pred = np.zeros(len(scores_test), dtype=int)\n",
    "y_pred[scores_test >= mean] = 1\n",
    "y_pred"
   ],
   "metadata": {
    "collapsed": false
   }
  },
  {
   "cell_type": "code",
   "execution_count": null,
   "outputs": [],
   "source": [],
   "metadata": {
    "collapsed": false
   }
  }
 ],
 "metadata": {
  "kernelspec": {
   "display_name": "Python 3",
   "language": "python",
   "name": "python3"
  },
  "language_info": {
   "codemirror_mode": {
    "name": "ipython",
    "version": 2
   },
   "file_extension": ".py",
   "mimetype": "text/x-python",
   "name": "python",
   "nbconvert_exporter": "python",
   "pygments_lexer": "ipython2",
   "version": "2.7.6"
  }
 },
 "nbformat": 4,
 "nbformat_minor": 0
}
