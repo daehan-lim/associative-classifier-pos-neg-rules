{
 "cells": [
  {
   "cell_type": "code",
   "execution_count": 27,
   "id": "01eaead9",
   "metadata": {},
   "outputs": [],
   "source": [
    "# class 0에서 랜덤하게 1100개를 선택해서 사용 \n",
    "import csv\n",
    "import numpy as np\n",
    "from tabulate import tabulate\n",
    "from util import util\n",
    "from classification import classification\n",
    "from rule_gen import rule_generation\n",
    "import timeit\n",
    "from sklearn.metrics import classification_report\n",
    "import copy\n",
    "import pandas as pd\n",
    "from mlxtend.preprocessing import TransactionEncoder\n",
    "import random\n",
    "from mlxtend.frequent_patterns import apriori"
   ]
  },
  {
   "cell_type": "code",
   "execution_count": 44,
   "id": "68fb3846",
   "metadata": {},
   "outputs": [
    {
     "name": "stdout",
     "output_type": "stream",
     "text": [
      "4615\n"
     ]
    }
   ],
   "source": [
    "with open('../data/dataset.csv', 'r') as file:\n",
    "        data_set = [list(filter(None, row)) for row in csv.reader(file)]\n",
    "        \n",
    "print(len(data_set))"
   ]
  },
  {
   "cell_type": "code",
   "execution_count": 2,
   "id": "b949cd27",
   "metadata": {},
   "outputs": [
    {
     "ename": "NameError",
     "evalue": "name 'TransactionEncoder' is not defined",
     "output_type": "error",
     "traceback": [
      "\u001B[0;31m---------------------------------------------------------------------------\u001B[0m",
      "\u001B[0;31mNameError\u001B[0m                                 Traceback (most recent call last)",
      "Cell \u001B[0;32mIn[2], line 1\u001B[0m\n\u001B[0;32m----> 1\u001B[0m te \u001B[38;5;241m=\u001B[39m \u001B[43mTransactionEncoder\u001B[49m()\n\u001B[1;32m      2\u001B[0m te_ary \u001B[38;5;241m=\u001B[39m te\u001B[38;5;241m.\u001B[39mfit_transform(data_set)\n\u001B[1;32m      3\u001B[0m m_transactions \u001B[38;5;241m=\u001B[39m pd\u001B[38;5;241m.\u001B[39mDataFrame(te_ary, columns\u001B[38;5;241m=\u001B[39mte\u001B[38;5;241m.\u001B[39mcolumns_)\n",
      "\u001B[0;31mNameError\u001B[0m: name 'TransactionEncoder' is not defined"
     ]
    }
   ],
   "source": [
    "te = TransactionEncoder()\n",
    "te_ary = te.fit_transform(data_set)\n",
    "m_transactions = pd.DataFrame(te_ary, columns=te.columns_)\n",
    "\n",
    "print(m_transactions.shape)"
   ]
  },
  {
   "cell_type": "code",
   "execution_count": 1,
   "outputs": [
    {
     "ename": "NameError",
     "evalue": "name 'm_transactions' is not defined",
     "output_type": "error",
     "traceback": [
      "\u001B[0;31m---------------------------------------------------------------------------\u001B[0m",
      "\u001B[0;31mNameError\u001B[0m                                 Traceback (most recent call last)",
      "Cell \u001B[0;32mIn[1], line 1\u001B[0m\n\u001B[0;32m----> 1\u001B[0m \u001B[43mm_transactions\u001B[49m\n",
      "\u001B[0;31mNameError\u001B[0m: name 'm_transactions' is not defined"
     ]
    }
   ],
   "source": [
    "m_transactions"
   ],
   "metadata": {
    "collapsed": false
   }
  },
  {
   "cell_type": "code",
   "execution_count": 46,
   "id": "ef2f9cf4",
   "metadata": {},
   "outputs": [],
   "source": [
    "transactions_0 = pd.DataFrame(\n",
    "            m_transactions[m_transactions['0']].reset_index(drop=True).drop(['1', '0'], axis=1))\n",
    "transactions_1 = pd.DataFrame(\n",
    "            m_transactions[m_transactions['1']].reset_index(drop=True).drop(['1', '0'], axis=1))\n"
   ]
  },
  {
   "cell_type": "code",
   "execution_count": 52,
   "id": "58395c20",
   "metadata": {},
   "outputs": [],
   "source": [
    "random.seed(10)\n",
    "indices = list( range(0, len(transactions_0)) )\n",
    "random.shuffle(indices)\n",
    "transactions_te_0 = transactions_0.iloc[indices[:417],:]\n",
    "#transactions_tr_00 = transactions_0.iloc[indices[417:810],:]\n",
    "transactions_tr_0 = transactions_0.iloc[indices[417:],:]\n",
    "\n",
    "indices = list( range(0, len(transactions_1)) )\n",
    "random.shuffle(indices)\n",
    "transactions_te_1 = transactions_1.iloc[indices[:43],:]\n",
    "transactions_tr_1 = transactions_1.iloc[indices[43:],:]\n",
    "\n",
    "tr_0_ary=(transactions_tr_0.values).astype('int')\n",
    "tr_1_ary=(transactions_tr_1.values).astype('int')\n",
    "\n",
    "#tr_00_ary=(transactions_tr_00.values).astype('int')\n",
    "\n",
    "transactions_tr = pd.concat([transactions_tr_0, transactions_tr_1])"
   ]
  },
  {
   "cell_type": "code",
   "execution_count": 53,
   "id": "cebd3564",
   "metadata": {},
   "outputs": [
    {
     "name": "stdout",
     "output_type": "stream",
     "text": [
      "(4155, 147) 22554\n"
     ]
    }
   ],
   "source": [
    "frequent_items = apriori(transactions_tr, min_support=0.1)\n",
    "print(transactions_tr.shape, len(frequent_items))"
   ]
  },
  {
   "cell_type": "code",
   "execution_count": 54,
   "id": "6679d13f",
   "metadata": {},
   "outputs": [],
   "source": [
    "natt = transactions_tr.shape[1]  #number of attributes \n",
    "nf = len(frequent_items)   #number of frequent items \n",
    "a = frequent_items['itemsets']\n",
    "b = [list(x) for x in a]\n",
    "c= np.zeros((natt,nf))\n",
    "for i in range(len(frequent_items)):\n",
    "    c[b[i],i]=1"
   ]
  },
  {
   "cell_type": "code",
   "execution_count": 61,
   "id": "6123a1ff",
   "metadata": {},
   "outputs": [
    {
     "name": "stdout",
     "output_type": "stream",
     "text": [
      "class rules 22554\n"
     ]
    }
   ],
   "source": [
    "#lift\n",
    "newc = copy.deepcopy(c)\n",
    "x_00 = np.matmul(tr_0_ary, c)\n",
    "x_01 = np.matmul(tr_1_ary, c)\n",
    "\n",
    "item_len = np.sum(c, axis=0) #item length\n",
    "cls0 = np.zeros(nf)   #frequent_items['support']\n",
    "cls1 = np.zeros(nf) \n",
    "p = np.zeros(nf)\n",
    "conf = np.zeros(nf)\n",
    "indc = np.zeros(nf, dtype=int) \n",
    "cnt=0\n",
    "for i in range(x_00.shape[1]):\n",
    "    cls0[i] = (x_00[:,i]>=item_len[i]).sum()/x_00.shape[0]\n",
    "    cls1[i] = (x_01[:,i]>=item_len[i]).sum()/x_01.shape[0]\n",
    "    p[i] = ((x_00[:,i]>=item_len[i]).sum()+ (x_01[:,i]>=item_len[i]).sum())/(x_00.shape[0]+x_01.shape[0])\n",
    "    if cls0[i]/p[i]>1:\n",
    "        indc[i] = 0\n",
    "        conf[i] = cls0[i]/p[i]\n",
    "        cnt = cnt +1\n",
    "    elif cls0[i]/p[i]<1 and cls1[i]/p[i]>1:\n",
    "        indc[i] = 1\n",
    "        conf[i] = cls1[i]/p[i]\n",
    "        cnt = cnt +1\n",
    "    else:\n",
    "        conf[i]=0\n",
    "        newc[:,i]=0\n",
    "        indc[i] =-1\n",
    "print('class rules', cnt)\n",
    "\n"
   ]
  },
  {
   "cell_type": "code",
   "execution_count": 63,
   "id": "c4a31ba2",
   "metadata": {},
   "outputs": [
    {
     "name": "stdout",
     "output_type": "stream",
     "text": [
      "class rules 22554\n"
     ]
    }
   ],
   "source": [
    "#1-ccs/cls\n",
    "newc = copy.deepcopy(c)\n",
    "x_00 = np.matmul(tr_0_ary, c)\n",
    "x_01 = np.matmul(tr_1_ary, c)\n",
    "\n",
    "item_len = np.sum(c, axis=0) #item length\n",
    "cls0 = np.zeros(nf)   #frequent_items['support']\n",
    "cls1 = np.zeros(nf) \n",
    "p = np.zeros(nf)\n",
    "conf = np.zeros(nf)\n",
    "indc = np.zeros(nf, dtype=int) \n",
    "cnt=0\n",
    "for i in range(x_00.shape[1]):\n",
    "    cls0[i] = (x_00[:,i]>=item_len[i]).sum()/x_00.shape[0]\n",
    "    cls1[i] = (x_01[:,i]>=item_len[i]).sum()/x_01.shape[0]\n",
    "    p[i] = ((x_00[:,i]>=item_len[i]).sum()+ (x_01[:,i]>=item_len[i]).sum())/(x_00.shape[0]+x_01.shape[0])\n",
    "    if cls1[i]/cls0[i]<1:\n",
    "        indc[i] = 0\n",
    "        conf[i] = 1- cls1[i]/cls0[i]\n",
    "        cnt = cnt +1\n",
    "    elif cls1[i]/cls0[i]>1:\n",
    "        indc[i] = 1\n",
    "        conf[i] = 1- cls0[i]/cls1[i]\n",
    "        cnt = cnt +1\n",
    "    else:\n",
    "        conf[i]=0\n",
    "        newc[:,i]=0\n",
    "        indc[i] =-1\n",
    "print('class rules', cnt)\n"
   ]
  },
  {
   "cell_type": "code",
   "execution_count": 64,
   "id": "dbf50332",
   "metadata": {},
   "outputs": [
    {
     "name": "stdout",
     "output_type": "stream",
     "text": [
      "15179 7375\n",
      "0.5016779539597047 0.31930184734930256\n",
      "417 3 3\n",
      "43 3 0\n",
      "0.856198761920696\n",
      "0.7621158886844013\n"
     ]
    }
   ],
   "source": [
    "from sklearn.metrics import roc_auc_score\n",
    "\n",
    "print((indc==0).sum(), (indc==1).sum())\n",
    "print(conf[indc==0].mean(), conf[indc==1].mean())\n",
    "\n",
    "te_0_ary=(transactions_te_0.values).astype('int')\n",
    "te_1_ary=(transactions_te_1.values).astype('int')\n",
    "\n",
    "#first rule used\n",
    "y_0 = np.matmul(te_0_ary, newc)\n",
    "y_1 = np.matmul(te_1_ary, newc)\n",
    "\n",
    "pred = np.zeros((y_0.shape[0]+y_1.shape[0],2))\n",
    "cnt0=0\n",
    "cnt1=0\n",
    "for i in range(y_0.shape[0]):\n",
    "    maxp=-1\n",
    "    for j in range(y_0.shape[1]):\n",
    "        if (indc[j]==0 and y_0[i,j]>=item_len[j]):\n",
    "            maxp = max(maxp, conf[j])\n",
    "    if (maxp==-1):\n",
    "        cnt0 = cnt0+1    \n",
    "    else: \n",
    "        pred[i,0] = maxp\n",
    "        \n",
    "    maxp=-1\n",
    "    for j in range(y_0.shape[1]):\n",
    "        if (indc[j]==1 and y_0[i,j]>=item_len[j]):\n",
    "            maxp = max(maxp, conf[j])\n",
    "           \n",
    "    if (maxp==-1):\n",
    "        cnt1 = cnt1+1    \n",
    "    else: \n",
    "        pred[i,1] = maxp\n",
    "print(y_0.shape[0],cnt0, cnt1)\n",
    "\n",
    "cnt0=0\n",
    "cnt1=0\n",
    "for i in range(y_1.shape[0]):\n",
    "    maxp=-1\n",
    "    for j in range(y_1.shape[1]):\n",
    "        if (indc[j]==0 and y_1[i,j]>=item_len[j]):\n",
    "            maxp = max(maxp, conf[j])\n",
    "    if (maxp==-1):\n",
    "        cnt0 = cnt0+1    \n",
    "    else: \n",
    "        pred[i+y_0.shape[0],0] = maxp\n",
    "        \n",
    "    maxp=-1\n",
    "    for j in range(y_1.shape[1]):\n",
    "        if (indc[j]==1 and y_1[i,j]>=item_len[j]):\n",
    "            maxp = max(maxp, conf[j])\n",
    "           \n",
    "    if (maxp==-1):\n",
    "        cnt1 = cnt1+1    \n",
    "    else: \n",
    "        pred[i+y_0.shape[0],1] = maxp\n",
    "        \n",
    "print(y_1.shape[0],cnt0, cnt1)\n",
    "\n",
    "y = np.concatenate((np.zeros(te_0_ary.shape[0]), np.ones(te_1_ary.shape[0])), axis=0)\n",
    "auc = roc_auc_score(y,pred[:,1])\n",
    "print(auc)\n",
    "y = np.concatenate((np.zeros(te_0_ary.shape[0]), np.ones(te_1_ary.shape[0])), axis=0)\n",
    "auc = roc_auc_score(y,-pred[:,0])\n",
    "print(auc)"
   ]
  },
  {
   "cell_type": "code",
   "execution_count": 65,
   "id": "17172e46",
   "metadata": {},
   "outputs": [
    {
     "name": "stdout",
     "output_type": "stream",
     "text": [
      "15179 7375\n",
      "0.5016779539597047 0.31930184734930256\n",
      "417 3 3\n",
      "43 3 0\n",
      "0.8729016786570744\n",
      "0.827254475489376\n"
     ]
    }
   ],
   "source": [
    "from sklearn.metrics import roc_auc_score\n",
    "\n",
    "print((indc==0).sum(), (indc==1).sum())\n",
    "print(conf[indc==0].mean(), conf[indc==1].mean())\n",
    "\n",
    "te_0_ary=(transactions_te_0.values).astype('int')\n",
    "te_1_ary=(transactions_te_1.values).astype('int')\n",
    "\n",
    "#all matched rules  used\n",
    "y_0 = np.matmul(te_0_ary, newc)\n",
    "y_1 = np.matmul(te_1_ary, newc)\n",
    "\n",
    "pred = np.zeros((y_0.shape[0]+y_1.shape[0],2))\n",
    "cnt0=0\n",
    "cnt1=0\n",
    "        \n",
    "for i in range(y_0.shape[0]):\n",
    "    cnt=0\n",
    "    for j in range(y_0.shape[1]):\n",
    "        if (indc[j]==0 and y_0[i,j]>=item_len[j]):\n",
    "            pred[i,0] = pred[i,0] + conf[j]\n",
    "            cnt = cnt+1\n",
    "    if (cnt==0):\n",
    "        cnt0 = cnt0+1    \n",
    "    else: \n",
    "        pred[i,0] = pred[i,0]/cnt\n",
    "        \n",
    "    cnt=0\n",
    "    for j in range(y_0.shape[1]):\n",
    "        if (indc[j]==1 and y_0[i,j]>=item_len[j]):\n",
    "            pred[i,1] = pred[i,1] + conf[j]\n",
    "            cnt = cnt+1\n",
    "           \n",
    "    if (cnt==0):\n",
    "        cnt1 = cnt1+1    \n",
    "    else: \n",
    "        pred[i,1] = pred[i,1]/cnt\n",
    "print(y_0.shape[0],cnt0, cnt1)\n",
    "\n",
    "cnt0=0\n",
    "cnt1=0\n",
    "for i in range(y_1.shape[0]):\n",
    "    cnt=0\n",
    "    x=0\n",
    "    for j in range(y_1.shape[1]):\n",
    "        if (indc[j]==0 and y_1[i,j]>=item_len[j]):\n",
    "            x = x + conf[j]\n",
    "            cnt = cnt+1\n",
    "    if (cnt==0):\n",
    "        cnt0 = cnt0+1    \n",
    "    else: \n",
    "        pred[i+y_0.shape[0],0] = x/cnt\n",
    "        \n",
    "    cnt=0\n",
    "    x=0\n",
    "    for j in range(y_1.shape[1]):\n",
    "        if (indc[j]==1 and y_1[i,j]>=item_len[j]):\n",
    "            x = x + conf[j]\n",
    "            cnt = cnt+1\n",
    "           \n",
    "    if (cnt==0):\n",
    "        cnt1 = cnt1+1    \n",
    "    else: \n",
    "        pred[i+y_0.shape[0],1] = x/cnt\n",
    "        \n",
    "print(y_1.shape[0],cnt0, cnt1)\n",
    "\n",
    "y = np.concatenate((np.zeros(te_0_ary.shape[0]), np.ones(te_1_ary.shape[0])), axis=0)\n",
    "auc = roc_auc_score(y,pred[:,1])\n",
    "print(auc)\n",
    "y = np.concatenate((np.zeros(te_0_ary.shape[0]), np.ones(te_1_ary.shape[0])), axis=0)\n",
    "auc = roc_auc_score(y,-pred[:,0])\n",
    "print(auc)"
   ]
  }
 ],
 "metadata": {
  "kernelspec": {
   "display_name": "Python 3 (ipykernel)",
   "language": "python",
   "name": "python3"
  },
  "language_info": {
   "codemirror_mode": {
    "name": "ipython",
    "version": 3
   },
   "file_extension": ".py",
   "mimetype": "text/x-python",
   "name": "python",
   "nbconvert_exporter": "python",
   "pygments_lexer": "ipython3",
   "version": "3.10.9"
  }
 },
 "nbformat": 4,
 "nbformat_minor": 5
}
