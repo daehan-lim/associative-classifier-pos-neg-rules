{
 "cells": [
  {
   "cell_type": "code",
   "execution_count": 19,
   "metadata": {
    "collapsed": true
   },
   "outputs": [
    {
     "data": {
      "text/plain": "array([[0, 1, 0, 0],\n       [0, 2, 3, 4],\n       [1, 2, 3, 5],\n       [0, 1, 2, 3],\n       [0, 1, 2, 5]])"
     },
     "execution_count": 19,
     "metadata": {},
     "output_type": "execute_result"
    }
   ],
   "source": [
    "import numpy as np\n",
    "\n",
    "np.array([[0, 1, 0, 0],\n",
    "              [0, 2, 3, 4],\n",
    "              [1, 2, 3, 5],\n",
    "              [0, 1, 2, 3],\n",
    "              [0, 1, 2, 5]])"
   ]
  },
  {
   "cell_type": "code",
   "execution_count": 20,
   "outputs": [
    {
     "data": {
      "text/plain": "array([[frozenset({0}), frozenset({1})],\n       [frozenset({0}), frozenset({2})],\n       [frozenset({0}), frozenset({3})],\n       [frozenset({1}), frozenset({2})],\n       [frozenset({1}), frozenset({3})],\n       [frozenset({2}), frozenset({3})]], dtype=object)"
     },
     "execution_count": 20,
     "metadata": {},
     "output_type": "execute_result"
    }
   ],
   "source": [
    "from itertools import combinations\n",
    "\n",
    "one_freq_itemsets_m = [frozenset({0}), frozenset({1}), frozenset({2}), frozenset({3})]\n",
    "np.array(list(combinations(one_freq_itemsets_m, 2)))"
   ],
   "metadata": {
    "collapsed": false
   }
  },
  {
   "cell_type": "code",
   "execution_count": 21,
   "outputs": [
    {
     "data": {
      "text/plain": "array([frozenset({0, 1}), frozenset({0, 2}), frozenset({0, 3}),\n       frozenset({1, 2}), frozenset({1, 3}), frozenset({2, 3})],\n      dtype=object)"
     },
     "execution_count": 21,
     "metadata": {},
     "output_type": "execute_result"
    }
   ],
   "source": [
    "np.array([frozenset({0, 1}), frozenset({0, 2}), frozenset({0, 3}), frozenset({1, 2}), frozenset({1, 3}), frozenset({2, 3})])"
   ],
   "metadata": {
    "collapsed": false
   }
  },
  {
   "cell_type": "code",
   "execution_count": 22,
   "outputs": [
    {
     "ename": "FileNotFoundError",
     "evalue": "[Errno 2] No such file or directory: '../data/store_data.csv'",
     "output_type": "error",
     "traceback": [
      "\u001B[0;31m---------------------------------------------------------------------------\u001B[0m",
      "\u001B[0;31mFileNotFoundError\u001B[0m                         Traceback (most recent call last)",
      "Cell \u001B[0;32mIn[22], line 4\u001B[0m\n\u001B[1;32m      1\u001B[0m \u001B[38;5;28;01mimport\u001B[39;00m \u001B[38;5;21;01mcsv\u001B[39;00m\n\u001B[1;32m      3\u001B[0m my_records \u001B[38;5;241m=\u001B[39m []\n\u001B[0;32m----> 4\u001B[0m \u001B[38;5;28;01mwith\u001B[39;00m \u001B[38;5;28;43mopen\u001B[39;49m\u001B[43m(\u001B[49m\u001B[38;5;124;43m'\u001B[39;49m\u001B[38;5;124;43m../data/store_data.csv\u001B[39;49m\u001B[38;5;124;43m'\u001B[39;49m\u001B[43m,\u001B[49m\u001B[43m \u001B[49m\u001B[38;5;124;43m'\u001B[39;49m\u001B[38;5;124;43mr\u001B[39;49m\u001B[38;5;124;43m'\u001B[39;49m\u001B[43m)\u001B[49m \u001B[38;5;28;01mas\u001B[39;00m file:\n\u001B[1;32m      5\u001B[0m   \u001B[38;5;28;01mfor\u001B[39;00m row \u001B[38;5;129;01min\u001B[39;00m csv\u001B[38;5;241m.\u001B[39mreader(file):\n\u001B[1;32m      6\u001B[0m     my_records\u001B[38;5;241m.\u001B[39mappend(row)\n",
      "File \u001B[0;32m~/PycharmProjects/associative-classifier-pos-neg-rules/venv/lib/python3.10/site-packages/IPython/core/interactiveshell.py:282\u001B[0m, in \u001B[0;36m_modified_open\u001B[0;34m(file, *args, **kwargs)\u001B[0m\n\u001B[1;32m    275\u001B[0m \u001B[38;5;28;01mif\u001B[39;00m file \u001B[38;5;129;01min\u001B[39;00m {\u001B[38;5;241m0\u001B[39m, \u001B[38;5;241m1\u001B[39m, \u001B[38;5;241m2\u001B[39m}:\n\u001B[1;32m    276\u001B[0m     \u001B[38;5;28;01mraise\u001B[39;00m \u001B[38;5;167;01mValueError\u001B[39;00m(\n\u001B[1;32m    277\u001B[0m         \u001B[38;5;124mf\u001B[39m\u001B[38;5;124m\"\u001B[39m\u001B[38;5;124mIPython won\u001B[39m\u001B[38;5;124m'\u001B[39m\u001B[38;5;124mt let you open fd=\u001B[39m\u001B[38;5;132;01m{\u001B[39;00mfile\u001B[38;5;132;01m}\u001B[39;00m\u001B[38;5;124m by default \u001B[39m\u001B[38;5;124m\"\u001B[39m\n\u001B[1;32m    278\u001B[0m         \u001B[38;5;124m\"\u001B[39m\u001B[38;5;124mas it is likely to crash IPython. If you know what you are doing, \u001B[39m\u001B[38;5;124m\"\u001B[39m\n\u001B[1;32m    279\u001B[0m         \u001B[38;5;124m\"\u001B[39m\u001B[38;5;124myou can use builtins\u001B[39m\u001B[38;5;124m'\u001B[39m\u001B[38;5;124m open.\u001B[39m\u001B[38;5;124m\"\u001B[39m\n\u001B[1;32m    280\u001B[0m     )\n\u001B[0;32m--> 282\u001B[0m \u001B[38;5;28;01mreturn\u001B[39;00m \u001B[43mio_open\u001B[49m\u001B[43m(\u001B[49m\u001B[43mfile\u001B[49m\u001B[43m,\u001B[49m\u001B[43m \u001B[49m\u001B[38;5;241;43m*\u001B[39;49m\u001B[43margs\u001B[49m\u001B[43m,\u001B[49m\u001B[43m \u001B[49m\u001B[38;5;241;43m*\u001B[39;49m\u001B[38;5;241;43m*\u001B[39;49m\u001B[43mkwargs\u001B[49m\u001B[43m)\u001B[49m\n",
      "\u001B[0;31mFileNotFoundError\u001B[0m: [Errno 2] No such file or directory: '../data/store_data.csv'"
     ]
    }
   ],
   "source": [
    "import csv\n",
    "\n",
    "my_records = []\n",
    "with open('../data/store_data.csv', 'r') as file:\n",
    "  for row in csv.reader(file):\n",
    "    my_records.append(row)\n",
    "my_records"
   ],
   "metadata": {
    "collapsed": false
   }
  },
  {
   "cell_type": "code",
   "execution_count": null,
   "outputs": [],
   "source": [
    "import urllib.request\n",
    "import pandas as pd\n",
    "\n",
    "urlopen = urllib.request.urlopen(\"https://user.informatik.uni-goettingen.de/~sherbold/store_data.csv\")\n",
    "list(urlopen)"
   ],
   "metadata": {
    "collapsed": false
   }
  },
  {
   "cell_type": "code",
   "execution_count": null,
   "outputs": [],
   "source": [
    "records = []\n",
    "for line in urllib.request.urlopen(\"https://user.informatik.uni-goettingen.de/~sherbold/store_data.csv\"):\n",
    "    records.append(line.decode('ascii').strip().split(','))\n",
    "records"
   ],
   "metadata": {
    "collapsed": false
   }
  },
  {
   "cell_type": "code",
   "execution_count": null,
   "outputs": [],
   "source": [
    "from mlxtend.preprocessing import TransactionEncoder\n",
    "te = TransactionEncoder()\n",
    "te_ary = te.fit_transform(records)\n",
    "data_df = pd.DataFrame(te_ary, columns=te.columns_)\n",
    "data_df"
   ],
   "metadata": {
    "collapsed": false
   }
  },
  {
   "cell_type": "code",
   "execution_count": null,
   "outputs": [],
   "source": [
    "dataset = pd.read_csv('../data/store_data.csv', header=None)  # To make sure the first row is not thought of as the heading\n",
    "dataset"
   ],
   "metadata": {
    "collapsed": false
   }
  },
  {
   "cell_type": "code",
   "execution_count": null,
   "outputs": [],
   "source": [
    "# Transforming the list into a list of lists, so that each transaction can be indexed easier\n",
    "transactions = []\n",
    "for i in range(0, dataset.shape[0]):\n",
    "    transactions.append([str(dataset.values[i, j]) for j in range(0, 20)])\n",
    "np.array(transactions)"
   ],
   "metadata": {
    "collapsed": false
   }
  },
  {
   "cell_type": "code",
   "execution_count": null,
   "outputs": [],
   "source": [
    "from mlxtend.frequent_patterns import apriori\n",
    "frequent_itemsets = apriori(pd.DataFrame(data_df), min_support=0.01, use_colnames=True)\n",
    "frequent_itemsets"
   ],
   "metadata": {
    "collapsed": false
   }
  },
  {
   "cell_type": "code",
   "execution_count": null,
   "outputs": [],
   "source": [
    "[[frozenset({'green tea'}), frozenset({'mineral water'}), frozenset({'eggs'}), frozenset({'milk'}), frozenset({'french fries'}), frozenset({'spaghetti'}), frozenset({'chocolate'})], []]"
   ],
   "metadata": {
    "collapsed": false
   }
  },
  {
   "cell_type": "code",
   "execution_count": null,
   "outputs": [],
   "source": [
    "import itertools\n",
    "\n",
    "\n",
    "def create_candidate_k(freq_item, k):\n",
    "    \"\"\"create the list of k-item candidate\"\"\"\n",
    "    ck = []\n",
    "\n",
    "    # for generating candidate of size two (2-itemset)\n",
    "    if k == 0:\n",
    "        for f1, f2 in combinations(freq_item, 2):\n",
    "            item = f1 | f2  # union of two sets\n",
    "            ck.append(item)\n",
    "    else:\n",
    "        for f1, f2 in combinations(freq_item, 2):\n",
    "            # if the two (k+1)-item sets has\n",
    "            # k common elements then they will be\n",
    "            # unioned to be the (k+2)-item candidate\n",
    "            intersection = f1 & f2\n",
    "            if len(intersection) == k:\n",
    "                item = f1 | f2\n",
    "                if item not in ck:\n",
    "                    ck.append(item)\n",
    "    return ck\n",
    "\n",
    "from itertools import combinations\n",
    "\n",
    "k_freq_itemsets_m = [frozenset({'gum', 'pc'}), frozenset({'diaper', 'gum'}), frozenset({'bottle', 'eggs'})]\n",
    "one_freq_itemsets_m = [frozenset({'pc'}), frozenset({'diaper'}), frozenset({'eggs'})]\n",
    "\n",
    "create_candidate_k(k_freq_itemsets_m, 1)\n",
    "# list(itertools.product(k_freq_itemset, one_freq_item))\n",
    "\n"
   ],
   "metadata": {
    "collapsed": false
   }
  },
  {
   "cell_type": "code",
   "execution_count": null,
   "outputs": [],
   "source": [
    "def _greater_than_items(item_set, one_itemset_item):\n",
    "    for set_item in sorted(item_set):\n",
    "        if one_itemset_item <= set_item:\n",
    "            return False\n",
    "    return True\n",
    "\n",
    "\n",
    "def _generate_ck_merge(k_freq_itemsets, one_freq_itemsets):\n",
    "    # Create a list to store the resulting frozensets\n",
    "    ck = []\n",
    "    # for generating candidate of size two (2-itemset)\n",
    "    if k_freq_itemsets == one_freq_itemsets:\n",
    "        for f1, f2 in itertools.combinations(one_freq_itemsets, 2):\n",
    "            item = f1 | f2  # union of two sets\n",
    "            ck.append(item)\n",
    "    else:\n",
    "        for one_itemset in one_freq_itemsets:\n",
    "            for k_itemset in k_freq_itemsets:\n",
    "                one_itemset_item, = one_itemset  # unpacking the only element in set\n",
    "                if _greater_than_items(k_itemset, one_itemset_item):\n",
    "                    ck.append(k_itemset | one_itemset)\n",
    "    # Convert the list of frozensets to a Pandas Series and return it\n",
    "    return ck\n",
    "_generate_ck_merge(k_freq_itemsets_m, one_freq_itemsets_m)"
   ],
   "metadata": {
    "collapsed": false
   }
  },
  {
   "cell_type": "code",
   "execution_count": null,
   "outputs": [],
   "source": [
    "frozenset({'gum', 'pc'}) | frozenset({'pc'})"
   ],
   "metadata": {
    "collapsed": false
   }
  },
  {
   "cell_type": "code",
   "execution_count": null,
   "outputs": [],
   "source": [
    "sorted(frozenset({'pc', 'gum'}) | frozenset({'diaper'}))"
   ],
   "metadata": {
    "collapsed": false
   }
  },
  {
   "cell_type": "code",
   "execution_count": null,
   "outputs": [],
   "source": [
    "'gzuzzzm' < 'gzz'"
   ],
   "metadata": {
    "collapsed": false
   }
  },
  {
   "cell_type": "code",
   "execution_count": 37,
   "outputs": [
    {
     "data": {
      "text/plain": "[0, 1, 2, 3, 4, 5, 6, 7, 8, 9, 10, 11, 12, 13, 14, 15, 16, 17, 18, 19]"
     },
     "execution_count": 37,
     "metadata": {},
     "output_type": "execute_result"
    }
   ],
   "source": [
    "import pandas as pd\n",
    "import numpy as np\n",
    "from numpy import genfromtxt\n",
    "\n",
    "# genfromtxt('../../data/store_data.csv', delimiter=',')\n",
    "transactions = pd.read_csv('../../data/store_data.csv', header=None, keep_default_na=False).values  # To make sure the first row is not thought of as the heading\n",
    "itemset = frozenset(['shrimp', 'milk', 'avocado'])\n",
    "support = np.sum([frozenset(transaction).issuperset(itemset) for transaction in transactions])\n",
    "support\n",
    "# transactions"
   ],
   "metadata": {
    "collapsed": false
   }
  },
  {
   "cell_type": "code",
   "execution_count": 60,
   "outputs": [
    {
     "data": {
      "text/plain": "       asparagus  almonds  antioxydant juice  asparagus  avocado  babies food  \\\n0          False     True               True      False     True        False   \n1          False    False              False      False    False        False   \n2          False    False              False      False    False        False   \n3          False    False              False      False     True        False   \n4          False    False              False      False    False        False   \n...          ...      ...                ...        ...      ...          ...   \n7496       False    False              False      False    False        False   \n7497       False    False              False      False    False        False   \n7498       False    False              False      False    False        False   \n7499       False    False              False      False    False        False   \n7500       False    False              False      False    False        False   \n\n      bacon  barbecue sauce  black tea  blueberries  ...  turkey  \\\n0     False           False      False        False  ...   False   \n1     False           False      False        False  ...   False   \n2     False           False      False        False  ...   False   \n3     False           False      False        False  ...    True   \n4     False           False      False        False  ...   False   \n...     ...             ...        ...          ...  ...     ...   \n7496  False           False      False        False  ...   False   \n7497  False           False      False        False  ...   False   \n7498  False           False      False        False  ...   False   \n7499  False           False      False        False  ...   False   \n7500  False           False      False        False  ...   False   \n\n      vegetables mix  water spray  white wine  whole weat flour  \\\n0               True        False       False              True   \n1              False        False       False             False   \n2              False        False       False             False   \n3              False        False       False             False   \n4              False        False       False             False   \n...              ...          ...         ...               ...   \n7496           False        False       False             False   \n7497           False        False       False             False   \n7498           False        False       False             False   \n7499           False        False       False             False   \n7500           False        False       False             False   \n\n      whole wheat pasta  whole wheat rice   yams  yogurt cake  zucchini  \n0                 False             False   True        False     False  \n1                 False             False  False        False     False  \n2                 False             False  False        False     False  \n3                 False             False  False        False     False  \n4                 False              True  False        False     False  \n...                 ...               ...    ...          ...       ...  \n7496              False             False  False        False     False  \n7497              False             False  False        False     False  \n7498              False             False  False        False     False  \n7499              False             False  False        False     False  \n7500              False             False  False         True     False  \n\n[7501 rows x 120 columns]",
      "text/html": "<div>\n<style scoped>\n    .dataframe tbody tr th:only-of-type {\n        vertical-align: middle;\n    }\n\n    .dataframe tbody tr th {\n        vertical-align: top;\n    }\n\n    .dataframe thead th {\n        text-align: right;\n    }\n</style>\n<table border=\"1\" class=\"dataframe\">\n  <thead>\n    <tr style=\"text-align: right;\">\n      <th></th>\n      <th>asparagus</th>\n      <th>almonds</th>\n      <th>antioxydant juice</th>\n      <th>asparagus</th>\n      <th>avocado</th>\n      <th>babies food</th>\n      <th>bacon</th>\n      <th>barbecue sauce</th>\n      <th>black tea</th>\n      <th>blueberries</th>\n      <th>...</th>\n      <th>turkey</th>\n      <th>vegetables mix</th>\n      <th>water spray</th>\n      <th>white wine</th>\n      <th>whole weat flour</th>\n      <th>whole wheat pasta</th>\n      <th>whole wheat rice</th>\n      <th>yams</th>\n      <th>yogurt cake</th>\n      <th>zucchini</th>\n    </tr>\n  </thead>\n  <tbody>\n    <tr>\n      <th>0</th>\n      <td>False</td>\n      <td>True</td>\n      <td>True</td>\n      <td>False</td>\n      <td>True</td>\n      <td>False</td>\n      <td>False</td>\n      <td>False</td>\n      <td>False</td>\n      <td>False</td>\n      <td>...</td>\n      <td>False</td>\n      <td>True</td>\n      <td>False</td>\n      <td>False</td>\n      <td>True</td>\n      <td>False</td>\n      <td>False</td>\n      <td>True</td>\n      <td>False</td>\n      <td>False</td>\n    </tr>\n    <tr>\n      <th>1</th>\n      <td>False</td>\n      <td>False</td>\n      <td>False</td>\n      <td>False</td>\n      <td>False</td>\n      <td>False</td>\n      <td>False</td>\n      <td>False</td>\n      <td>False</td>\n      <td>False</td>\n      <td>...</td>\n      <td>False</td>\n      <td>False</td>\n      <td>False</td>\n      <td>False</td>\n      <td>False</td>\n      <td>False</td>\n      <td>False</td>\n      <td>False</td>\n      <td>False</td>\n      <td>False</td>\n    </tr>\n    <tr>\n      <th>2</th>\n      <td>False</td>\n      <td>False</td>\n      <td>False</td>\n      <td>False</td>\n      <td>False</td>\n      <td>False</td>\n      <td>False</td>\n      <td>False</td>\n      <td>False</td>\n      <td>False</td>\n      <td>...</td>\n      <td>False</td>\n      <td>False</td>\n      <td>False</td>\n      <td>False</td>\n      <td>False</td>\n      <td>False</td>\n      <td>False</td>\n      <td>False</td>\n      <td>False</td>\n      <td>False</td>\n    </tr>\n    <tr>\n      <th>3</th>\n      <td>False</td>\n      <td>False</td>\n      <td>False</td>\n      <td>False</td>\n      <td>True</td>\n      <td>False</td>\n      <td>False</td>\n      <td>False</td>\n      <td>False</td>\n      <td>False</td>\n      <td>...</td>\n      <td>True</td>\n      <td>False</td>\n      <td>False</td>\n      <td>False</td>\n      <td>False</td>\n      <td>False</td>\n      <td>False</td>\n      <td>False</td>\n      <td>False</td>\n      <td>False</td>\n    </tr>\n    <tr>\n      <th>4</th>\n      <td>False</td>\n      <td>False</td>\n      <td>False</td>\n      <td>False</td>\n      <td>False</td>\n      <td>False</td>\n      <td>False</td>\n      <td>False</td>\n      <td>False</td>\n      <td>False</td>\n      <td>...</td>\n      <td>False</td>\n      <td>False</td>\n      <td>False</td>\n      <td>False</td>\n      <td>False</td>\n      <td>False</td>\n      <td>True</td>\n      <td>False</td>\n      <td>False</td>\n      <td>False</td>\n    </tr>\n    <tr>\n      <th>...</th>\n      <td>...</td>\n      <td>...</td>\n      <td>...</td>\n      <td>...</td>\n      <td>...</td>\n      <td>...</td>\n      <td>...</td>\n      <td>...</td>\n      <td>...</td>\n      <td>...</td>\n      <td>...</td>\n      <td>...</td>\n      <td>...</td>\n      <td>...</td>\n      <td>...</td>\n      <td>...</td>\n      <td>...</td>\n      <td>...</td>\n      <td>...</td>\n      <td>...</td>\n      <td>...</td>\n    </tr>\n    <tr>\n      <th>7496</th>\n      <td>False</td>\n      <td>False</td>\n      <td>False</td>\n      <td>False</td>\n      <td>False</td>\n      <td>False</td>\n      <td>False</td>\n      <td>False</td>\n      <td>False</td>\n      <td>False</td>\n      <td>...</td>\n      <td>False</td>\n      <td>False</td>\n      <td>False</td>\n      <td>False</td>\n      <td>False</td>\n      <td>False</td>\n      <td>False</td>\n      <td>False</td>\n      <td>False</td>\n      <td>False</td>\n    </tr>\n    <tr>\n      <th>7497</th>\n      <td>False</td>\n      <td>False</td>\n      <td>False</td>\n      <td>False</td>\n      <td>False</td>\n      <td>False</td>\n      <td>False</td>\n      <td>False</td>\n      <td>False</td>\n      <td>False</td>\n      <td>...</td>\n      <td>False</td>\n      <td>False</td>\n      <td>False</td>\n      <td>False</td>\n      <td>False</td>\n      <td>False</td>\n      <td>False</td>\n      <td>False</td>\n      <td>False</td>\n      <td>False</td>\n    </tr>\n    <tr>\n      <th>7498</th>\n      <td>False</td>\n      <td>False</td>\n      <td>False</td>\n      <td>False</td>\n      <td>False</td>\n      <td>False</td>\n      <td>False</td>\n      <td>False</td>\n      <td>False</td>\n      <td>False</td>\n      <td>...</td>\n      <td>False</td>\n      <td>False</td>\n      <td>False</td>\n      <td>False</td>\n      <td>False</td>\n      <td>False</td>\n      <td>False</td>\n      <td>False</td>\n      <td>False</td>\n      <td>False</td>\n    </tr>\n    <tr>\n      <th>7499</th>\n      <td>False</td>\n      <td>False</td>\n      <td>False</td>\n      <td>False</td>\n      <td>False</td>\n      <td>False</td>\n      <td>False</td>\n      <td>False</td>\n      <td>False</td>\n      <td>False</td>\n      <td>...</td>\n      <td>False</td>\n      <td>False</td>\n      <td>False</td>\n      <td>False</td>\n      <td>False</td>\n      <td>False</td>\n      <td>False</td>\n      <td>False</td>\n      <td>False</td>\n      <td>False</td>\n    </tr>\n    <tr>\n      <th>7500</th>\n      <td>False</td>\n      <td>False</td>\n      <td>False</td>\n      <td>False</td>\n      <td>False</td>\n      <td>False</td>\n      <td>False</td>\n      <td>False</td>\n      <td>False</td>\n      <td>False</td>\n      <td>...</td>\n      <td>False</td>\n      <td>False</td>\n      <td>False</td>\n      <td>False</td>\n      <td>False</td>\n      <td>False</td>\n      <td>False</td>\n      <td>False</td>\n      <td>True</td>\n      <td>False</td>\n    </tr>\n  </tbody>\n</table>\n<p>7501 rows × 120 columns</p>\n</div>"
     },
     "execution_count": 60,
     "metadata": {},
     "output_type": "execute_result"
    }
   ],
   "source": [
    "import sys\n",
    "sys.path.append('/home/daehan/PycharmProjects/associative-classifier-pos-neg-rules/src/util')\n",
    "import util\n",
    "\n",
    "def _support(_x, _n_rows, _is_sparse):\n",
    "    out = np.sum(_x, axis=0) / _n_rows\n",
    "    return np.array(out).reshape(-1)\n",
    "# transactions = pd.read_csv('../../data/store_data.csv', header=None, keep_default_na=False)\n",
    "# pd.crosstab(transactions[0], transactions[1],margins = False)\n",
    "records = []\n",
    "with open('../../data/store_data.csv', 'r') as file:\n",
    "    for row in csv.reader(file):\n",
    "        records.append(row)\n",
    "transactions = util.convert_trans_to_df(records)\n",
    "transactions\n",
    "# pd.crosstab(transactions['asparagus'], transactions['almonds'],margins = False)"
   ],
   "metadata": {
    "collapsed": false
   }
  }
 ],
 "metadata": {
  "kernelspec": {
   "display_name": "Python 3",
   "language": "python",
   "name": "python3"
  },
  "language_info": {
   "codemirror_mode": {
    "name": "ipython",
    "version": 2
   },
   "file_extension": ".py",
   "mimetype": "text/x-python",
   "name": "python",
   "nbconvert_exporter": "python",
   "pygments_lexer": "ipython2",
   "version": "2.7.6"
  }
 },
 "nbformat": 4,
 "nbformat_minor": 0
}
