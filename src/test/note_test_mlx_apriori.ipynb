{
 "cells": [
  {
   "cell_type": "code",
   "execution_count": 38,
   "metadata": {
    "collapsed": true
   },
   "outputs": [
    {
     "name": "stdout",
     "output_type": "stream",
     "text": [
      "f1 timeit = 0.0016911150014493614\n"
     ]
    }
   ],
   "source": [
    "import timeit\n",
    "import pandas as pd\n",
    "import csv\n",
    "from mlxtend.frequent_patterns import apriori\n",
    "from mlxtend.preprocessing import TransactionEncoder\n",
    "\n",
    "transactions = []\n",
    "with open('../../data/store_data.csv', 'r') as file:\n",
    "    for row in csv.reader(file):\n",
    "        transactions.append(row)\n",
    "te = TransactionEncoder()\n",
    "te_ary = te.fit_transform(transactions)\n",
    "transactions_df = pd.DataFrame(te_ary, columns=te.columns_)\n",
    "\n",
    "print(f'f1 timeit = {timeit.timeit(lambda: apriori(pd.DataFrame(transactions_df), min_support=0.005, use_colnames=True, max_len=1), number=1)}')\n",
    "# f1 = apriori(pd.DataFrame(transactions_df), min_support=0.005, use_colnames=True, max_len=1)\n",
    "# a = f1['itemsets'].tolist()"
   ]
  },
  {
   "cell_type": "code",
   "execution_count": 43,
   "outputs": [
    {
     "data": {
      "text/plain": "      support             itemsets\n0    0.020397            (almonds)\n1    0.008932  (antioxydant juice)\n2    0.033329            (avocado)\n3    0.008666              (bacon)\n4    0.010799     (barbecue sauce)\n..        ...                  ...\n96   0.029463  (whole wheat pasta)\n97   0.058526   (whole wheat rice)\n98   0.011465               (yams)\n99   0.027330        (yogurt cake)\n100  0.009465           (zucchini)\n\n[101 rows x 2 columns]",
      "text/html": "<div>\n<style scoped>\n    .dataframe tbody tr th:only-of-type {\n        vertical-align: middle;\n    }\n\n    .dataframe tbody tr th {\n        vertical-align: top;\n    }\n\n    .dataframe thead th {\n        text-align: right;\n    }\n</style>\n<table border=\"1\" class=\"dataframe\">\n  <thead>\n    <tr style=\"text-align: right;\">\n      <th></th>\n      <th>support</th>\n      <th>itemsets</th>\n    </tr>\n  </thead>\n  <tbody>\n    <tr>\n      <th>0</th>\n      <td>0.020397</td>\n      <td>(almonds)</td>\n    </tr>\n    <tr>\n      <th>1</th>\n      <td>0.008932</td>\n      <td>(antioxydant juice)</td>\n    </tr>\n    <tr>\n      <th>2</th>\n      <td>0.033329</td>\n      <td>(avocado)</td>\n    </tr>\n    <tr>\n      <th>3</th>\n      <td>0.008666</td>\n      <td>(bacon)</td>\n    </tr>\n    <tr>\n      <th>4</th>\n      <td>0.010799</td>\n      <td>(barbecue sauce)</td>\n    </tr>\n    <tr>\n      <th>...</th>\n      <td>...</td>\n      <td>...</td>\n    </tr>\n    <tr>\n      <th>96</th>\n      <td>0.029463</td>\n      <td>(whole wheat pasta)</td>\n    </tr>\n    <tr>\n      <th>97</th>\n      <td>0.058526</td>\n      <td>(whole wheat rice)</td>\n    </tr>\n    <tr>\n      <th>98</th>\n      <td>0.011465</td>\n      <td>(yams)</td>\n    </tr>\n    <tr>\n      <th>99</th>\n      <td>0.027330</td>\n      <td>(yogurt cake)</td>\n    </tr>\n    <tr>\n      <th>100</th>\n      <td>0.009465</td>\n      <td>(zucchini)</td>\n    </tr>\n  </tbody>\n</table>\n<p>101 rows × 2 columns</p>\n</div>"
     },
     "execution_count": 43,
     "metadata": {},
     "output_type": "execute_result"
    }
   ],
   "source": [
    "import sys\n",
    "sys.path.append('/home/daehan/PycharmProjects/associative-classifier-pos-neg-rules/src/util')\n",
    "import util\n",
    "\n",
    "util.apriori_of_size_k(pd.DataFrame(transactions_df), min_support=0.005, use_colnames=True, k=1)\n"
   ],
   "metadata": {
    "collapsed": false
   }
  }
 ],
 "metadata": {
  "kernelspec": {
   "display_name": "Python 3",
   "language": "python",
   "name": "python3"
  },
  "language_info": {
   "codemirror_mode": {
    "name": "ipython",
    "version": 2
   },
   "file_extension": ".py",
   "mimetype": "text/x-python",
   "name": "python",
   "nbconvert_exporter": "python",
   "pygments_lexer": "ipython2",
   "version": "2.7.6"
  }
 },
 "nbformat": 4,
 "nbformat_minor": 0
}
