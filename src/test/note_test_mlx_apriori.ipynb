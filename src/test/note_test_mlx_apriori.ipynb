{
 "cells": [
  {
   "cell_type": "code",
   "execution_count": 38,
   "metadata": {
    "collapsed": true
   },
   "outputs": [
    {
     "name": "stdout",
     "output_type": "stream",
     "text": [
      "f1 timeit = 0.0016911150014493614\n"
     ]
    }
   ],
   "source": [
    "import timeit\n",
    "import pandas as pd\n",
    "import csv\n",
    "from mlxtend.frequent_patterns import apriori\n",
    "from mlxtend.preprocessing import TransactionEncoder\n",
    "\n",
    "transactions = []\n",
    "with open('../../data/store_data.csv', 'r') as file:\n",
    "    for row in csv.reader(file):\n",
    "        transactions.append(row)\n",
    "te = TransactionEncoder()\n",
    "te_ary = te.fit_transform(transactions)\n",
    "transactions_df = pd.DataFrame(te_ary, columns=te.columns_)\n",
    "\n",
    "print(f'f1 timeit = {timeit.timeit(lambda: apriori(pd.DataFrame(transactions_df), min_support=0.005, use_colnames=True, max_len=1), number=1)}')\n",
    "# f1 = apriori(pd.DataFrame(transactions_df), min_support=0.005, use_colnames=True, max_len=1)\n",
    "# a = f1['itemsets'].tolist()"
   ]
  },
  {
   "cell_type": "code",
   "execution_count": null,
   "outputs": [],
   "source": [],
   "metadata": {
    "collapsed": false
   }
  },
  {
   "cell_type": "code",
   "execution_count": 1,
   "outputs": [
    {
     "ename": "AttributeError",
     "evalue": "module 'util' has no attribute 'apriori_of_size_k'",
     "output_type": "error",
     "traceback": [
      "\u001B[0;31m---------------------------------------------------------------------------\u001B[0m",
      "\u001B[0;31mAttributeError\u001B[0m                            Traceback (most recent call last)",
      "Cell \u001B[0;32mIn[1], line 5\u001B[0m\n\u001B[1;32m      2\u001B[0m sys\u001B[38;5;241m.\u001B[39mpath\u001B[38;5;241m.\u001B[39mappend(\u001B[38;5;124m'\u001B[39m\u001B[38;5;124m/home/daehan/PycharmProjects/associative-classifier-pos-neg-rules/src/util\u001B[39m\u001B[38;5;124m'\u001B[39m)\n\u001B[1;32m      3\u001B[0m \u001B[38;5;28;01mimport\u001B[39;00m \u001B[38;5;21;01mutil\u001B[39;00m\n\u001B[0;32m----> 5\u001B[0m \u001B[43mutil\u001B[49m\u001B[38;5;241;43m.\u001B[39;49m\u001B[43mapriori_of_size_k\u001B[49m(pd\u001B[38;5;241m.\u001B[39mDataFrame(transactions_df), min_support\u001B[38;5;241m=\u001B[39m\u001B[38;5;241m0.005\u001B[39m, use_colnames\u001B[38;5;241m=\u001B[39m\u001B[38;5;28;01mTrue\u001B[39;00m, k\u001B[38;5;241m=\u001B[39m\u001B[38;5;241m1\u001B[39m)\n",
      "\u001B[0;31mAttributeError\u001B[0m: module 'util' has no attribute 'apriori_of_size_k'"
     ]
    }
   ],
   "source": [
    "import sys\n",
    "sys.path.append('/home/daehan/PycharmProjects/associative-classifier-pos-neg-rules/src/util')\n",
    "import util\n",
    "\n",
    "util.apriori_of_size_k(pd.DataFrame(transactions_df), min_support=0.005, use_colnames=True, k=1)\n"
   ],
   "metadata": {
    "collapsed": false
   }
  },
  {
   "cell_type": "code",
   "execution_count": 8,
   "outputs": [
    {
     "data": {
      "text/plain": "array([[507, 292, 457],\n       [ 58, 405, 414],\n       [470, 351, 473],\n       ...,\n       [502, 633, 217],\n       [620, 877, 393],\n       [225, 378,  30]], dtype=int16)"
     },
     "execution_count": 8,
     "metadata": {},
     "output_type": "execute_result"
    }
   ],
   "source": [
    "import csv\n",
    "import timeit\n",
    "import numpy as np\n",
    "import util\n",
    "import pandas as pd\n",
    "\n",
    "with open('../../data/training_dataset.csv', 'r') as file:\n",
    "    training_set = [list(filter(None, row)) for row in csv.reader(file)]\n",
    "transactions_df = util.convert_trans_to_df(training_set)\n",
    "itemsets_df = pd.DataFrame(transactions_df.drop(['1', '0'], axis=1)).values\n",
    "\n",
    "\n",
    "matrix = np.random.randint(0, 900, size=(10000, 3))\n",
    "matrix = matrix.astype('int16')\n",
    "matrix"
   ],
   "metadata": {
    "collapsed": false
   }
  },
  {
   "cell_type": "code",
   "execution_count": 12,
   "outputs": [
    {
     "data": {
      "text/plain": "array([[[False, False, False],\n        [False, False, False],\n        [False, False, False],\n        ...,\n        [False,  True, False],\n        [False, False, False],\n        [False, False, False]],\n\n       [[ True, False, False],\n        [False, False, False],\n        [False, False, False],\n        ...,\n        [False,  True, False],\n        [False, False, False],\n        [False, False, False]],\n\n       [[False, False, False],\n        [False, False, False],\n        [False, False, False],\n        ...,\n        [False, False, False],\n        [False, False, False],\n        [False, False, False]],\n\n       ...,\n\n       [[False, False, False],\n        [False, False, False],\n        [False, False, False],\n        ...,\n        [False, False, False],\n        [False, False, False],\n        [False, False, False]],\n\n       [[False, False, False],\n        [False, False, False],\n        [False, False, False],\n        ...,\n        [False, False, False],\n        [False, False, False],\n        [False, False, False]],\n\n       [[False, False, False],\n        [False, False, False],\n        [False, False, False],\n        ...,\n        [False, False, False],\n        [False, False, False],\n        [False, False, False]]])"
     },
     "execution_count": 12,
     "metadata": {},
     "output_type": "execute_result"
    }
   ],
   "source": [
    "itemsets_df[:, matrix]"
   ],
   "metadata": {
    "collapsed": false
   }
  },
  {
   "cell_type": "code",
   "execution_count": 16,
   "outputs": [],
   "source": [
    "import multiprocessing\n",
    "import timeit\n",
    "\n",
    "def treat_chunks(chunk):\n",
    "    return itemsets_df[:, chunk]\n",
    "\n",
    "def single():\n",
    "    return np.all(itemsets_df[:, matrix], axis=2)\n",
    "\n",
    "def multi():\n",
    "    split = np.array_split(matrix, 24)\n",
    "    with multiprocessing.Pool() as pool:\n",
    "        temp =  pool.map(treat_chunks, split)\n",
    "    temp = np.concatenate(temp, axis=1)\n",
    "    _bools = np.all(temp, axis=2)\n",
    "    return _bools"
   ],
   "metadata": {
    "collapsed": false
   }
  },
  {
   "cell_type": "code",
   "execution_count": 17,
   "outputs": [
    {
     "data": {
      "text/plain": "array([[False, False, False, ..., False, False, False],\n       [False, False, False, ..., False, False, False],\n       [False, False, False, ..., False, False, False],\n       ...,\n       [False, False, False, ..., False, False, False],\n       [False, False, False, ..., False, False, False],\n       [False, False, False, ..., False, False, False]])"
     },
     "execution_count": 17,
     "metadata": {},
     "output_type": "execute_result"
    }
   ],
   "source": [
    "# timeit.timeit(lambda: multi(), number=1)\n",
    "multi()"
   ],
   "metadata": {
    "collapsed": false
   }
  },
  {
   "cell_type": "code",
   "execution_count": 18,
   "outputs": [
    {
     "data": {
      "text/plain": "array([[False, False, False, ..., False, False, False],\n       [False, False, False, ..., False, False, False],\n       [False, False, False, ..., False, False, False],\n       ...,\n       [False, False, False, ..., False, False, False],\n       [False, False, False, ..., False, False, False],\n       [False, False, False, ..., False, False, False]])"
     },
     "execution_count": 18,
     "metadata": {},
     "output_type": "execute_result"
    }
   ],
   "source": [
    "# timeit.timeit(lambda: single(), number=1)\n",
    "single()"
   ],
   "metadata": {
    "collapsed": false
   }
  },
  {
   "cell_type": "code",
   "execution_count": 8,
   "outputs": [
    {
     "data": {
      "text/plain": "array([], dtype=object)"
     },
     "execution_count": 8,
     "metadata": {},
     "output_type": "execute_result"
    }
   ],
   "source": [
    "import numpy as np\n",
    "rule = [\n",
    "\t{'antecedent': frozenset[1], 'consequent': '2'},\n",
    "\t{'antecedent': frozenset[1, 2], 'consequent': '2'}\n",
    "]\n",
    "arr = np.array(rule)\n",
    "arr[arr == 1]"
   ],
   "metadata": {
    "collapsed": false
   }
  }
 ],
 "metadata": {
  "kernelspec": {
   "display_name": "Python 3",
   "language": "python",
   "name": "python3"
  },
  "language_info": {
   "codemirror_mode": {
    "name": "ipython",
    "version": 2
   },
   "file_extension": ".py",
   "mimetype": "text/x-python",
   "name": "python",
   "nbconvert_exporter": "python",
   "pygments_lexer": "ipython2",
   "version": "2.7.6"
  }
 },
 "nbformat": 4,
 "nbformat_minor": 0
}
