{
 "cells": [
  {
   "cell_type": "code",
   "execution_count": 25,
   "metadata": {
    "collapsed": true
   },
   "outputs": [
    {
     "name": "stdout",
     "output_type": "stream",
     "text": [
      "f1 timeit = 0.0016814749978948385\n"
     ]
    }
   ],
   "source": [
    "import timeit\n",
    "import pandas as pd\n",
    "import csv\n",
    "from mlxtend.frequent_patterns import apriori\n",
    "from mlxtend.preprocessing import TransactionEncoder\n",
    "\n",
    "transactions = []\n",
    "with open('../data/store_data.csv', 'r') as file:\n",
    "    for row in csv.reader(file):\n",
    "        transactions.append(row)\n",
    "te = TransactionEncoder()\n",
    "te_ary = te.fit_transform(transactions)\n",
    "transactions_df = pd.DataFrame(te_ary, columns=te.columns_)\n",
    "\n",
    "print(f'f1 timeit = {timeit.timeit(lambda: apriori(pd.DataFrame(transactions_df), min_support=0.005, use_colnames=True, max_len=1), number=1)}')\n",
    "# f1 = apriori(pd.DataFrame(transactions_df), min_support=0.005, use_colnames=True, max_len=1)\n",
    "# a = f1['itemsets'].tolist()"
   ]
  }
 ],
 "metadata": {
  "kernelspec": {
   "display_name": "Python 3",
   "language": "python",
   "name": "python3"
  },
  "language_info": {
   "codemirror_mode": {
    "name": "ipython",
    "version": 2
   },
   "file_extension": ".py",
   "mimetype": "text/x-python",
   "name": "python",
   "nbconvert_exporter": "python",
   "pygments_lexer": "ipython2",
   "version": "2.7.6"
  }
 },
 "nbformat": 4,
 "nbformat_minor": 0
}
