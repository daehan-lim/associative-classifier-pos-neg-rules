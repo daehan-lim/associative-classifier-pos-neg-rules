{
 "cells": [
  {
   "cell_type": "code",
   "execution_count": 1,
   "metadata": {
    "collapsed": true
   },
   "outputs": [
    {
     "name": "stdout",
     "output_type": "stream",
     "text": [
      "supp = 0.13,  conf = 0.07, \n",
      "\n"
     ]
    }
   ],
   "source": [
    "from sklearn.metrics import classification_report\n",
    "import csv\n",
    "import numpy as np\n",
    "from tabulate import tabulate\n",
    "from classification import classification\n",
    "from rule_gen import rule_generation\n",
    "from util import util\n",
    "\n",
    "with open('../data/training_set_big_h.csv', 'r') as file:\n",
    "    training_set = [list(filter(None, row)) for row in csv.reader(file)]\n",
    "\n",
    "with open('../data/test_set_big_h.csv', 'r') as file:\n",
    "    test_set = [list(filter(None, row)) for row in csv.reader(file)]\n",
    "\n",
    "# avg_transaction_size = sum(len(transaction) for transaction in training_set) / len(training_set)\n",
    "# min_transaction_size = min(len(transaction) for transaction in training_set)\n",
    "# max_transaction_size = max(len(transaction) for transaction in training_set)\n",
    "\n",
    "min_support = 0.13\n",
    "min_conf = 0.07\n",
    "corr = 0.001\n",
    "print(f\"supp = {min_support},  conf = {min_conf}, \\n\")"
   ]
  },
  {
   "cell_type": "code",
   "execution_count": 26,
   "outputs": [
    {
     "data": {
      "text/plain": "array([[frozenset({'ACETAMINOPHEN'})],\n       [frozenset({'ALBUTEROL 90 MCG'})],\n       [frozenset({'ALBUTEROL CONCENTRATED 0.5%'})],\n       [frozenset({'ASPIRIN'})],\n       [frozenset({'ASPIRIN EC'})],\n       [frozenset({\"ASPIRIN, CHILDREN'S\"})],\n       [frozenset({'ATORVASTATIN'})],\n       [frozenset({'BISACODYL'})],\n       [frozenset({'CALCIUM GLUCONATE 2 G/50 ML NS'})],\n       [frozenset({'CEFAZOLIN 2 G/100 ML NS'})],\n       [frozenset({'CEFEPIME'})],\n       [frozenset({'CEFTRIAXONE'})],\n       [frozenset({'CHLORHEXIDINE GLUCONATE 0.12%'})],\n       [frozenset({'DEXTROSE 5%-NACL 0.9%'})],\n       [frozenset({'DEXTROSE 50%-WATER'})],\n       [frozenset({'DIPHENHYDRAMINE HCL'})],\n       [frozenset({'DOCUSATE SODIUM'})],\n       [frozenset({'ENOXAPARIN'})],\n       [frozenset({'FAMOTIDINE'})],\n       [frozenset({'FENTANYL 2000 MCG/100 ML NS'})],\n       [frozenset({'FENTANYL CITRATE (PF)'})],\n       [frozenset({'FOLIC ACID'})],\n       [frozenset({'FUROSEMIDE'})],\n       [frozenset({'GLUCAGON'})],\n       [frozenset({'GLUCOSE'})],\n       [frozenset({'GLYCOPYRROLATE'})],\n       [frozenset({'HALOPERIDOL LACTATE'})],\n       [frozenset({'HEPARIN 1,000 UNIT/ML'})],\n       [frozenset({'HEPARIN 5,000 UNIT/ML'})],\n       [frozenset({'HYDROMORPHONE'})],\n       [frozenset({'INSULIN ASPART'})],\n       [frozenset({'INSULIN LISPRO'})],\n       [frozenset({'INSULIN REG 100 UNITS/100 ML'})],\n       [frozenset({'IPRATROPIUM 0.02%'})],\n       [frozenset({'KCL 10 MEQ/100 ML'})],\n       [frozenset({'KCL 20 MEQ/50 ML'})],\n       [frozenset({'LABETALOL'})],\n       [frozenset({'LEVOTHYROXINE'})],\n       [frozenset({'LIDOCAINE 1% PF'})],\n       [frozenset({'LISINOPRIL'})],\n       [frozenset({'LORAZEPAM'})],\n       [frozenset({'MAGNESIUM SULF 2 G/50 ML NS'})],\n       [frozenset({'METHYLPREDNISOLONE SOD SUC(PF)'})],\n       [frozenset({'METOPROLOL TARTRATE'})],\n       [frozenset({'METRONIDAZOLE 500 MG/100 ML'})],\n       [frozenset({'MIDAZOLAM'})],\n       [frozenset({'MIDAZOLAM 100 MG/100 ML NS'})],\n       [frozenset({'MORPHINE'})],\n       [frozenset({'MULTIVITAMINS'})],\n       [frozenset({'NOREPINEPHRINE 4 MG/250 ML NS'})],\n       [frozenset({'OMEPRAZOLE'})],\n       [frozenset({'ONDANSETRON'})],\n       [frozenset({'OXYCODONE IR'})],\n       [frozenset({'PANTOPRAZOLE'})],\n       [frozenset({'PANTOPRAZOLE DR'})],\n       [frozenset({'PHENYLEPHRINE'})],\n       [frozenset({'PHENYLEPHRINE 10 MG/250 ML NS'})],\n       [frozenset({'PIPERACILLIN/TAZOBACTAM'})],\n       [frozenset({'POTASSIUM CHLORIDE'})],\n       [frozenset({'POTASSIUM CHLORIDE ER'})],\n       [frozenset({'POTASSIUM PHOSPHATE'})],\n       [frozenset({'PREDNISONE'})],\n       [frozenset({'PROPOFOL 10 MG/ML'})],\n       [frozenset({'PROPOFOL 1000 MG/100 ML'})],\n       [frozenset({'RINGERS SOLUTION,LACTATED'})],\n       [frozenset({'ROCURONIUM'})],\n       [frozenset({'SENNOSIDES'})],\n       [frozenset({'SODIUM CHLORIDE 0.9%'})],\n       [frozenset({'THIAMINE'})],\n       [frozenset({'VANCOMYCIN'})],\n       [frozenset({'VANCOMYCIN 1 G/200 ML D5W'})],\n       [frozenset({'VANCOMYCIN 1.25 G/250 ML NS'})],\n       [frozenset({'VANCOMYCIN 1.5 G/500 ML NS'})]], dtype=object)"
     },
     "execution_count": 26,
     "metadata": {},
     "output_type": "execute_result"
    }
   ],
   "source": [
    "import multiprocessing\n",
    "import pandas as pd\n",
    "from posneg_rule_gen.posneg_rule_generation import ponerg\n",
    "from rule_gen import apriori_mlx\n",
    "from util import util\n",
    "\n",
    "def ponerg_parallel(item):\n",
    "    return ponerg(item, classes, class_support_count_dict, min_conf, transactions_df)\n",
    "\n",
    "rules = []\n",
    "transactions_df = util.convert_trans_to_df(training_set)\n",
    "X_df = pd.DataFrame(transactions_df.drop(['1', '0'], axis=1))\n",
    "classes = [frozenset(['0']), frozenset(['1'])]\n",
    "class_support_count_dict = util.get_support_count_dict_df(classes, transactions_df)\n",
    "\n",
    "f1, previous_itemset_arr = apriori_mlx.apriori_of_size_1(X_df, min_support=min_support)\n",
    "f1 = f1.tolist()\n",
    "freq_itemsets = [f1]\n",
    "for item in f1:\n",
    "    rules.extend(ponerg(item, classes, class_support_count_dict, min_conf, transactions_df))\n",
    "np.expand_dims(np.array(np.array(f1)), axis=1)"
   ],
   "metadata": {
    "collapsed": false
   }
  },
  {
   "cell_type": "code",
   "execution_count": 27,
   "outputs": [
    {
     "data": {
      "text/plain": "array([[{'antecedent': frozenset({'ACETAMINOPHEN'}), 'consequent': '0', 'confidence': 0.9306384933394579}],\n       [{'antecedent': frozenset({'ALBUTEROL 90 MCG'}), 'consequent': '1', 'confidence': 0.11102661596958174}],\n       [{'antecedent': frozenset({'ALBUTEROL CONCENTRATED 0.5%'}), 'consequent': '1', 'confidence': 0.11410788381742738}],\n       ...,\n       [{'antecedent': frozenset({'ACETAMINOPHEN', 'DEXTROSE 50%-WATER', 'HEPARIN 5,000 UNIT/ML', 'ONDANSETRON', 'MIDAZOLAM', 'FENTANYL CITRATE (PF)', 'MAGNESIUM SULF 2 G/50 ML NS'}), 'consequent': '0', 'confidence': 0.9339622641509434}],\n       [{'antecedent': frozenset({'ACETAMINOPHEN', 'DEXTROSE 50%-WATER', 'HEPARIN 5,000 UNIT/ML', 'OXYCODONE IR', 'ONDANSETRON', 'FENTANYL CITRATE (PF)', 'MAGNESIUM SULF 2 G/50 ML NS'}), 'consequent': '0', 'confidence': 0.9800443458980045}],\n       [{'antecedent': frozenset({'DEXTROSE 50%-WATER', 'HEPARIN 5,000 UNIT/ML', 'OXYCODONE IR', 'ONDANSETRON', 'FENTANYL CITRATE (PF)', 'MAGNESIUM SULF 2 G/50 ML NS', 'DOCUSATE SODIUM'}), 'consequent': '0', 'confidence': 0.9790209790209791}]],\n      dtype=object)"
     },
     "execution_count": 27,
     "metadata": {},
     "output_type": "execute_result"
    }
   ],
   "source": [
    "k = 0\n",
    "while freq_itemsets[k] is not None and len(freq_itemsets[k]) > 0:\n",
    "    k_freq_itemsets, previous_itemset_arr = apriori_mlx.apriori_of_size_k(\n",
    "        X_df, previous_itemset_arr, min_support=min_support, k=k + 2)\n",
    "    if not k_freq_itemsets.empty:\n",
    "        k_freq_itemsets = k_freq_itemsets.tolist()\n",
    "        # for item in k_freq_itemsets_x_c:\n",
    "        #     rules.extend(ponerg(item, c, len(transactions_per_c), min_conf, transactions_df))\n",
    "        with multiprocessing.Pool() as pool:\n",
    "            result = pool.map(ponerg_parallel, k_freq_itemsets)\n",
    "        rules_to_extend = [x[0] for x in result if x != []]\n",
    "        rules.extend(rules_to_extend)\n",
    "        freq_itemsets.append(k_freq_itemsets)\n",
    "    else:\n",
    "        freq_itemsets.append(None)\n",
    "    k += 1\n",
    "np.expand_dims(np.array(np.array(rules)), axis=1)"
   ],
   "metadata": {
    "collapsed": false
   }
  },
  {
   "cell_type": "code",
   "execution_count": 32,
   "outputs": [
    {
     "data": {
      "text/plain": "7"
     },
     "execution_count": 32,
     "metadata": {},
     "output_type": "execute_result"
    }
   ],
   "source": [
    "k"
   ],
   "metadata": {
    "collapsed": false
   }
  },
  {
   "cell_type": "code",
   "execution_count": 25,
   "outputs": [
    {
     "data": {
      "text/plain": "array([[frozenset({'ACETAMINOPHEN', 'DEXTROSE 5%-NACL 0.9%', 'DEXTROSE 50%-WATER', 'SODIUM CHLORIDE 0.9%', 'FENTANYL CITRATE (PF)', 'MAGNESIUM SULF 2 G/50 ML NS', 'DOCUSATE SODIUM'})],\n       [frozenset({'ACETAMINOPHEN', 'DEXTROSE 5%-NACL 0.9%', 'DEXTROSE 50%-WATER', 'HEPARIN 5,000 UNIT/ML', 'FENTANYL CITRATE (PF)', 'SODIUM CHLORIDE 0.9%', 'MAGNESIUM SULF 2 G/50 ML NS'})],\n       [frozenset({'ACETAMINOPHEN', 'DEXTROSE 5%-NACL 0.9%', 'DEXTROSE 50%-WATER', 'MIDAZOLAM', 'SODIUM CHLORIDE 0.9%', 'FENTANYL CITRATE (PF)', 'MAGNESIUM SULF 2 G/50 ML NS'})],\n       [frozenset({'ACETAMINOPHEN', 'DEXTROSE 50%-WATER', 'HEPARIN 5,000 UNIT/ML', 'MIDAZOLAM', 'FENTANYL CITRATE (PF)', 'MAGNESIUM SULF 2 G/50 ML NS', 'DOCUSATE SODIUM'})],\n       [frozenset({'ACETAMINOPHEN', 'DEXTROSE 50%-WATER', 'HEPARIN 5,000 UNIT/ML', 'ONDANSETRON', 'FENTANYL CITRATE (PF)', 'MAGNESIUM SULF 2 G/50 ML NS', 'DOCUSATE SODIUM'})],\n       [frozenset({'ACETAMINOPHEN', 'DEXTROSE 50%-WATER', 'HEPARIN 5,000 UNIT/ML', 'OXYCODONE IR', 'FENTANYL CITRATE (PF)', 'MAGNESIUM SULF 2 G/50 ML NS', 'DOCUSATE SODIUM'})],\n       [frozenset({'ACETAMINOPHEN', 'DEXTROSE 50%-WATER', 'HEPARIN 5,000 UNIT/ML', 'OXYCODONE IR', 'ONDANSETRON', 'FENTANYL CITRATE (PF)', 'DOCUSATE SODIUM'})],\n       [frozenset({'ACETAMINOPHEN', 'DEXTROSE 50%-WATER', 'ONDANSETRON', 'MIDAZOLAM', 'FENTANYL CITRATE (PF)', 'MAGNESIUM SULF 2 G/50 ML NS', 'DOCUSATE SODIUM'})],\n       [frozenset({'ACETAMINOPHEN', 'DEXTROSE 50%-WATER', 'OXYCODONE IR', 'ONDANSETRON', 'FENTANYL CITRATE (PF)', 'MAGNESIUM SULF 2 G/50 ML NS', 'DOCUSATE SODIUM'})],\n       [frozenset({'ACETAMINOPHEN', 'DEXTROSE 50%-WATER', 'HEPARIN 5,000 UNIT/ML', 'OXYCODONE IR', 'ONDANSETRON', 'MAGNESIUM SULF 2 G/50 ML NS', 'DOCUSATE SODIUM'})],\n       [frozenset({'ACETAMINOPHEN', 'DEXTROSE 50%-WATER', 'HEPARIN 5,000 UNIT/ML', 'ONDANSETRON', 'MIDAZOLAM', 'FENTANYL CITRATE (PF)', 'MAGNESIUM SULF 2 G/50 ML NS'})],\n       [frozenset({'ACETAMINOPHEN', 'DEXTROSE 50%-WATER', 'HEPARIN 5,000 UNIT/ML', 'OXYCODONE IR', 'ONDANSETRON', 'FENTANYL CITRATE (PF)', 'MAGNESIUM SULF 2 G/50 ML NS'})],\n       [frozenset({'DEXTROSE 50%-WATER', 'HEPARIN 5,000 UNIT/ML', 'OXYCODONE IR', 'ONDANSETRON', 'FENTANYL CITRATE (PF)', 'MAGNESIUM SULF 2 G/50 ML NS', 'DOCUSATE SODIUM'})]],\n      dtype=object)"
     },
     "execution_count": 25,
     "metadata": {},
     "output_type": "execute_result"
    }
   ],
   "source": [
    "np.expand_dims(np.array(np.array(freq_itemsets[6])), axis=1)"
   ],
   "metadata": {
    "collapsed": false
   }
  },
  {
   "cell_type": "code",
   "execution_count": 28,
   "outputs": [
    {
     "data": {
      "text/plain": "array([[{'antecedent': frozenset({'OXYCODONE IR', 'ONDANSETRON', 'POTASSIUM CHLORIDE ER', 'HEPARIN 5,000 UNIT/ML'}), 'consequent': '0', 'confidence': 0.9908045977011494}],\n       [{'antecedent': frozenset({'OXYCODONE IR', 'POTASSIUM CHLORIDE ER', 'HEPARIN 5,000 UNIT/ML'}), 'consequent': '0', 'confidence': 0.9904397705544933}],\n       [{'antecedent': frozenset({'OXYCODONE IR', 'DEXTROSE 50%-WATER', 'POTASSIUM CHLORIDE ER', 'HEPARIN 5,000 UNIT/ML'}), 'consequent': '0', 'confidence': 0.9899396378269618}],\n       ...,\n       [{'antecedent': frozenset({'ALBUTEROL CONCENTRATED 0.5%', 'DEXTROSE 50%-WATER', 'DOCUSATE SODIUM', 'DEXTROSE 5%-NACL 0.9%'}), 'consequent': '1', 'confidence': 0.09735973597359736}],\n       [{'antecedent': frozenset({'INSULIN ASPART', 'DEXTROSE 5%-NACL 0.9%', 'INSULIN REG 100 UNITS/100 ML', 'DEXTROSE 50%-WATER'}), 'consequent': '1', 'confidence': 0.09735973597359736}],\n       [{'antecedent': frozenset({'MAGNESIUM SULF 2 G/50 ML NS', 'VANCOMYCIN', 'INSULIN REG 100 UNITS/100 ML'}), 'consequent': '1', 'confidence': 0.09734513274336283}]],\n      dtype=object)"
     },
     "execution_count": 28,
     "metadata": {},
     "output_type": "execute_result"
    }
   ],
   "source": [
    "sorted_rules = sorted(rules, key=lambda d: d['confidence'], reverse=True)\n",
    "np.expand_dims(np.array(np.array(sorted_rules)), axis=1)"
   ],
   "metadata": {
    "collapsed": false
   }
  },
  {
   "cell_type": "code",
   "execution_count": 30,
   "outputs": [
    {
     "data": {
      "text/plain": "array([[{'antecedent': frozenset({'GLYCOPYRROLATE'}), 'consequent': '1', 'confidence': 0.34415584415584416}],\n       [{'antecedent': frozenset({'GLYCOPYRROLATE', 'DEXTROSE 50%-WATER'}), 'consequent': '1', 'confidence': 0.3427230046948357}],\n       [{'antecedent': frozenset({'DEXTROSE 5%-NACL 0.9%', 'FENTANYL CITRATE (PF)', 'NOREPINEPHRINE 4 MG/250 ML NS'}), 'consequent': '1', 'confidence': 0.32751091703056767}],\n       ...,\n       [{'antecedent': frozenset({'ALBUTEROL CONCENTRATED 0.5%', 'DEXTROSE 50%-WATER', 'DOCUSATE SODIUM', 'DEXTROSE 5%-NACL 0.9%'}), 'consequent': '1', 'confidence': 0.09735973597359736}],\n       [{'antecedent': frozenset({'INSULIN ASPART', 'DEXTROSE 5%-NACL 0.9%', 'INSULIN REG 100 UNITS/100 ML', 'DEXTROSE 50%-WATER'}), 'consequent': '1', 'confidence': 0.09735973597359736}],\n       [{'antecedent': frozenset({'MAGNESIUM SULF 2 G/50 ML NS', 'VANCOMYCIN', 'INSULIN REG 100 UNITS/100 ML'}), 'consequent': '1', 'confidence': 0.09734513274336283}]],\n      dtype=object)"
     },
     "execution_count": 30,
     "metadata": {},
     "output_type": "execute_result"
    }
   ],
   "source": [
    "rules_0 = [rule for rule in rules if rule['consequent'] == '0']\n",
    "rules_1 = [rule for rule in rules if rule['consequent'] == '1']\n",
    "sorted_0 = [rule for rule in sorted_rules if rule['consequent'] == '0']\n",
    "sorted_1 = [rule for rule in sorted_rules if rule['consequent'] == '1']\n",
    "np.expand_dims(np.array(np.array(sorted_1)), axis=1)"
   ],
   "metadata": {
    "collapsed": false
   }
  }
 ],
 "metadata": {
  "kernelspec": {
   "display_name": "Python 3",
   "language": "python",
   "name": "python3"
  },
  "language_info": {
   "codemirror_mode": {
    "name": "ipython",
    "version": 2
   },
   "file_extension": ".py",
   "mimetype": "text/x-python",
   "name": "python",
   "nbconvert_exporter": "python",
   "pygments_lexer": "ipython2",
   "version": "2.7.6"
  }
 },
 "nbformat": 4,
 "nbformat_minor": 0
}
