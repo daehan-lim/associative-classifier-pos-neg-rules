{
 "cells": [
  {
   "cell_type": "code",
   "execution_count": 2,
   "id": "01eaead9",
   "metadata": {},
   "outputs": [],
   "source": [
    "# class 0에서 랜덤하게 1100개를 선택해서 사용 \n",
    "import csv\n",
    "import numpy as np\n",
    "from tabulate import tabulate\n",
    "from util import util\n",
    "from classification import classification\n",
    "from rule_gen import rule_generation\n",
    "import timeit\n",
    "from sklearn.metrics import classification_report\n",
    "import copy\n",
    "import pandas as pd\n",
    "from mlxtend.preprocessing import TransactionEncoder\n",
    "import random\n",
    "from mlxtend.frequent_patterns import apriori"
   ]
  },
  {
   "cell_type": "code",
   "execution_count": 3,
   "id": "68fb3846",
   "metadata": {},
   "outputs": [
    {
     "name": "stdout",
     "output_type": "stream",
     "text": [
      "4615\n"
     ]
    }
   ],
   "source": [
    "with open('../data/dataset.csv', 'r') as file:\n",
    "        data_set = [list(filter(None, row)) for row in csv.reader(file)]\n",
    "        \n",
    "print(len(data_set))"
   ]
  },
  {
   "cell_type": "code",
   "execution_count": 5,
   "id": "b949cd27",
   "metadata": {},
   "outputs": [
    {
     "name": "stdout",
     "output_type": "stream",
     "text": [
      "(4615, 149)\n"
     ]
    }
   ],
   "source": [
    "te = TransactionEncoder()\n",
    "te_ary = te.fit_transform(data_set)\n",
    "m_transactions = pd.DataFrame(te_ary, columns=te.columns_)\n",
    "\n",
    "print(m_transactions.shape)"
   ]
  },
  {
   "cell_type": "code",
   "execution_count": 16,
   "outputs": [
    {
     "data": {
      "text/plain": "          0      1  ACETAMINOPHEN  ALBUMIN HUMAN 25%  ALBUMIN HUMAN 5%  \\\n0      True  False           True              False             False   \n1      True  False           True              False             False   \n2      True  False           True              False             False   \n3      True  False          False              False             False   \n4      True  False          False              False             False   \n...     ...    ...            ...                ...               ...   \n4610   True  False           True              False             False   \n4611   True  False          False              False             False   \n4612   True  False          False              False              True   \n4613  False   True          False              False             False   \n4614   True  False           True              False             False   \n\n      ALBUTEROL 0.083%  ALBUTEROL 90 MCG  ALBUTEROL CONCENTRATED 0.5%  \\\n0                False             False                        False   \n1                False              True                         True   \n2                False             False                        False   \n3                False             False                        False   \n4                False             False                        False   \n...                ...               ...                          ...   \n4610             False              True                         True   \n4611             False              True                         True   \n4612             False             False                        False   \n4613             False             False                         True   \n4614             False              True                         True   \n\n      ALLOPURINOL  ALPRAZOLAM  ...  TACROLIMUS  TAMSULOSIN  THIAMINE  \\\n0           False       False  ...       False       False      True   \n1           False       False  ...       False       False     False   \n2           False       False  ...       False       False     False   \n3           False       False  ...       False       False     False   \n4           False       False  ...       False       False     False   \n...           ...         ...  ...         ...         ...       ...   \n4610        False       False  ...       False       False     False   \n4611        False       False  ...       False       False     False   \n4612        False       False  ...       False       False      True   \n4613        False       False  ...       False       False     False   \n4614        False       False  ...       False       False     False   \n\n      TRAMADOL  TRAZODONE  VANCOMYCIN  VANCOMYCIN 1 G/200 ML D5W  \\\n0        False      False       False                      False   \n1        False      False       False                      False   \n2        False      False       False                      False   \n3        False      False       False                      False   \n4        False      False        True                      False   \n...        ...        ...         ...                        ...   \n4610      True       True       False                       True   \n4611     False      False        True                      False   \n4612     False      False        True                      False   \n4613     False      False       False                      False   \n4614     False      False        True                       True   \n\n      VANCOMYCIN 1.25 G/250 ML NS  VANCOMYCIN 1.5 G/500 ML NS  WARFARIN  \n0                           False                       False     False  \n1                           False                       False     False  \n2                           False                       False     False  \n3                           False                       False      True  \n4                           False                       False     False  \n...                           ...                         ...       ...  \n4610                         True                        True     False  \n4611                        False                       False     False  \n4612                        False                       False     False  \n4613                        False                       False     False  \n4614                         True                        True      True  \n\n[4615 rows x 149 columns]",
      "text/html": "<div>\n<style scoped>\n    .dataframe tbody tr th:only-of-type {\n        vertical-align: middle;\n    }\n\n    .dataframe tbody tr th {\n        vertical-align: top;\n    }\n\n    .dataframe thead th {\n        text-align: right;\n    }\n</style>\n<table border=\"1\" class=\"dataframe\">\n  <thead>\n    <tr style=\"text-align: right;\">\n      <th></th>\n      <th>0</th>\n      <th>1</th>\n      <th>ACETAMINOPHEN</th>\n      <th>ALBUMIN HUMAN 25%</th>\n      <th>ALBUMIN HUMAN 5%</th>\n      <th>ALBUTEROL 0.083%</th>\n      <th>ALBUTEROL 90 MCG</th>\n      <th>ALBUTEROL CONCENTRATED 0.5%</th>\n      <th>ALLOPURINOL</th>\n      <th>ALPRAZOLAM</th>\n      <th>...</th>\n      <th>TACROLIMUS</th>\n      <th>TAMSULOSIN</th>\n      <th>THIAMINE</th>\n      <th>TRAMADOL</th>\n      <th>TRAZODONE</th>\n      <th>VANCOMYCIN</th>\n      <th>VANCOMYCIN 1 G/200 ML D5W</th>\n      <th>VANCOMYCIN 1.25 G/250 ML NS</th>\n      <th>VANCOMYCIN 1.5 G/500 ML NS</th>\n      <th>WARFARIN</th>\n    </tr>\n  </thead>\n  <tbody>\n    <tr>\n      <th>0</th>\n      <td>True</td>\n      <td>False</td>\n      <td>True</td>\n      <td>False</td>\n      <td>False</td>\n      <td>False</td>\n      <td>False</td>\n      <td>False</td>\n      <td>False</td>\n      <td>False</td>\n      <td>...</td>\n      <td>False</td>\n      <td>False</td>\n      <td>True</td>\n      <td>False</td>\n      <td>False</td>\n      <td>False</td>\n      <td>False</td>\n      <td>False</td>\n      <td>False</td>\n      <td>False</td>\n    </tr>\n    <tr>\n      <th>1</th>\n      <td>True</td>\n      <td>False</td>\n      <td>True</td>\n      <td>False</td>\n      <td>False</td>\n      <td>False</td>\n      <td>True</td>\n      <td>True</td>\n      <td>False</td>\n      <td>False</td>\n      <td>...</td>\n      <td>False</td>\n      <td>False</td>\n      <td>False</td>\n      <td>False</td>\n      <td>False</td>\n      <td>False</td>\n      <td>False</td>\n      <td>False</td>\n      <td>False</td>\n      <td>False</td>\n    </tr>\n    <tr>\n      <th>2</th>\n      <td>True</td>\n      <td>False</td>\n      <td>True</td>\n      <td>False</td>\n      <td>False</td>\n      <td>False</td>\n      <td>False</td>\n      <td>False</td>\n      <td>False</td>\n      <td>False</td>\n      <td>...</td>\n      <td>False</td>\n      <td>False</td>\n      <td>False</td>\n      <td>False</td>\n      <td>False</td>\n      <td>False</td>\n      <td>False</td>\n      <td>False</td>\n      <td>False</td>\n      <td>False</td>\n    </tr>\n    <tr>\n      <th>3</th>\n      <td>True</td>\n      <td>False</td>\n      <td>False</td>\n      <td>False</td>\n      <td>False</td>\n      <td>False</td>\n      <td>False</td>\n      <td>False</td>\n      <td>False</td>\n      <td>False</td>\n      <td>...</td>\n      <td>False</td>\n      <td>False</td>\n      <td>False</td>\n      <td>False</td>\n      <td>False</td>\n      <td>False</td>\n      <td>False</td>\n      <td>False</td>\n      <td>False</td>\n      <td>True</td>\n    </tr>\n    <tr>\n      <th>4</th>\n      <td>True</td>\n      <td>False</td>\n      <td>False</td>\n      <td>False</td>\n      <td>False</td>\n      <td>False</td>\n      <td>False</td>\n      <td>False</td>\n      <td>False</td>\n      <td>False</td>\n      <td>...</td>\n      <td>False</td>\n      <td>False</td>\n      <td>False</td>\n      <td>False</td>\n      <td>False</td>\n      <td>True</td>\n      <td>False</td>\n      <td>False</td>\n      <td>False</td>\n      <td>False</td>\n    </tr>\n    <tr>\n      <th>...</th>\n      <td>...</td>\n      <td>...</td>\n      <td>...</td>\n      <td>...</td>\n      <td>...</td>\n      <td>...</td>\n      <td>...</td>\n      <td>...</td>\n      <td>...</td>\n      <td>...</td>\n      <td>...</td>\n      <td>...</td>\n      <td>...</td>\n      <td>...</td>\n      <td>...</td>\n      <td>...</td>\n      <td>...</td>\n      <td>...</td>\n      <td>...</td>\n      <td>...</td>\n      <td>...</td>\n    </tr>\n    <tr>\n      <th>4610</th>\n      <td>True</td>\n      <td>False</td>\n      <td>True</td>\n      <td>False</td>\n      <td>False</td>\n      <td>False</td>\n      <td>True</td>\n      <td>True</td>\n      <td>False</td>\n      <td>False</td>\n      <td>...</td>\n      <td>False</td>\n      <td>False</td>\n      <td>False</td>\n      <td>True</td>\n      <td>True</td>\n      <td>False</td>\n      <td>True</td>\n      <td>True</td>\n      <td>True</td>\n      <td>False</td>\n    </tr>\n    <tr>\n      <th>4611</th>\n      <td>True</td>\n      <td>False</td>\n      <td>False</td>\n      <td>False</td>\n      <td>False</td>\n      <td>False</td>\n      <td>True</td>\n      <td>True</td>\n      <td>False</td>\n      <td>False</td>\n      <td>...</td>\n      <td>False</td>\n      <td>False</td>\n      <td>False</td>\n      <td>False</td>\n      <td>False</td>\n      <td>True</td>\n      <td>False</td>\n      <td>False</td>\n      <td>False</td>\n      <td>False</td>\n    </tr>\n    <tr>\n      <th>4612</th>\n      <td>True</td>\n      <td>False</td>\n      <td>False</td>\n      <td>False</td>\n      <td>True</td>\n      <td>False</td>\n      <td>False</td>\n      <td>False</td>\n      <td>False</td>\n      <td>False</td>\n      <td>...</td>\n      <td>False</td>\n      <td>False</td>\n      <td>True</td>\n      <td>False</td>\n      <td>False</td>\n      <td>True</td>\n      <td>False</td>\n      <td>False</td>\n      <td>False</td>\n      <td>False</td>\n    </tr>\n    <tr>\n      <th>4613</th>\n      <td>False</td>\n      <td>True</td>\n      <td>False</td>\n      <td>False</td>\n      <td>False</td>\n      <td>False</td>\n      <td>False</td>\n      <td>True</td>\n      <td>False</td>\n      <td>False</td>\n      <td>...</td>\n      <td>False</td>\n      <td>False</td>\n      <td>False</td>\n      <td>False</td>\n      <td>False</td>\n      <td>False</td>\n      <td>False</td>\n      <td>False</td>\n      <td>False</td>\n      <td>False</td>\n    </tr>\n    <tr>\n      <th>4614</th>\n      <td>True</td>\n      <td>False</td>\n      <td>True</td>\n      <td>False</td>\n      <td>False</td>\n      <td>False</td>\n      <td>True</td>\n      <td>True</td>\n      <td>False</td>\n      <td>False</td>\n      <td>...</td>\n      <td>False</td>\n      <td>False</td>\n      <td>False</td>\n      <td>False</td>\n      <td>False</td>\n      <td>True</td>\n      <td>True</td>\n      <td>True</td>\n      <td>True</td>\n      <td>True</td>\n    </tr>\n  </tbody>\n</table>\n<p>4615 rows × 149 columns</p>\n</div>"
     },
     "execution_count": 16,
     "metadata": {},
     "output_type": "execute_result"
    }
   ],
   "source": [
    "m_transactions"
   ],
   "metadata": {
    "collapsed": false
   }
  },
  {
   "cell_type": "code",
   "execution_count": 6,
   "id": "ef2f9cf4",
   "metadata": {},
   "outputs": [],
   "source": [
    "transactions_0 = pd.DataFrame(\n",
    "            m_transactions[m_transactions['0']].reset_index(drop=True).drop(['1', '0'], axis=1))\n",
    "transactions_1 = pd.DataFrame(\n",
    "            m_transactions[m_transactions['1']].reset_index(drop=True).drop(['1', '0'], axis=1))\n"
   ]
  },
  {
   "cell_type": "code",
   "execution_count": 10,
   "id": "58395c20",
   "metadata": {},
   "outputs": [
    {
     "data": {
      "text/plain": "[0,\n 1,\n 2,\n 3,\n 4,\n 5,\n 6,\n 7,\n 8,\n 9,\n 10,\n 11,\n 12,\n 13,\n 14,\n 15,\n 16,\n 17,\n 18,\n 19,\n 20,\n 21,\n 22,\n 23,\n 24,\n 25,\n 26,\n 27,\n 28,\n 29,\n 30,\n 31,\n 32,\n 33,\n 34,\n 35,\n 36,\n 37,\n 38,\n 39,\n 40,\n 41,\n 42,\n 43,\n 44,\n 45,\n 46,\n 47,\n 48,\n 49,\n 50,\n 51,\n 52,\n 53,\n 54,\n 55,\n 56,\n 57,\n 58,\n 59,\n 60,\n 61,\n 62,\n 63,\n 64,\n 65,\n 66,\n 67,\n 68,\n 69,\n 70,\n 71,\n 72,\n 73,\n 74,\n 75,\n 76,\n 77,\n 78,\n 79,\n 80,\n 81,\n 82,\n 83,\n 84,\n 85,\n 86,\n 87,\n 88,\n 89,\n 90,\n 91,\n 92,\n 93,\n 94,\n 95,\n 96,\n 97,\n 98,\n 99,\n 100,\n 101,\n 102,\n 103,\n 104,\n 105,\n 106,\n 107,\n 108,\n 109,\n 110,\n 111,\n 112,\n 113,\n 114,\n 115,\n 116,\n 117,\n 118,\n 119,\n 120,\n 121,\n 122,\n 123,\n 124,\n 125,\n 126,\n 127,\n 128,\n 129,\n 130,\n 131,\n 132,\n 133,\n 134,\n 135,\n 136,\n 137,\n 138,\n 139,\n 140,\n 141,\n 142,\n 143,\n 144,\n 145,\n 146,\n 147,\n 148,\n 149,\n 150,\n 151,\n 152,\n 153,\n 154,\n 155,\n 156,\n 157,\n 158,\n 159,\n 160,\n 161,\n 162,\n 163,\n 164,\n 165,\n 166,\n 167,\n 168,\n 169,\n 170,\n 171,\n 172,\n 173,\n 174,\n 175,\n 176,\n 177,\n 178,\n 179,\n 180,\n 181,\n 182,\n 183,\n 184,\n 185,\n 186,\n 187,\n 188,\n 189,\n 190,\n 191,\n 192,\n 193,\n 194,\n 195,\n 196,\n 197,\n 198,\n 199,\n 200,\n 201,\n 202,\n 203,\n 204,\n 205,\n 206,\n 207,\n 208,\n 209,\n 210,\n 211,\n 212,\n 213,\n 214,\n 215,\n 216,\n 217,\n 218,\n 219,\n 220,\n 221,\n 222,\n 223,\n 224,\n 225,\n 226,\n 227,\n 228,\n 229,\n 230,\n 231,\n 232,\n 233,\n 234,\n 235,\n 236,\n 237,\n 238,\n 239,\n 240,\n 241,\n 242,\n 243,\n 244,\n 245,\n 246,\n 247,\n 248,\n 249,\n 250,\n 251,\n 252,\n 253,\n 254,\n 255,\n 256,\n 257,\n 258,\n 259,\n 260,\n 261,\n 262,\n 263,\n 264,\n 265,\n 266,\n 267,\n 268,\n 269,\n 270,\n 271,\n 272,\n 273,\n 274,\n 275,\n 276,\n 277,\n 278,\n 279,\n 280,\n 281,\n 282,\n 283,\n 284,\n 285,\n 286,\n 287,\n 288,\n 289,\n 290,\n 291,\n 292,\n 293,\n 294,\n 295,\n 296,\n 297,\n 298,\n 299,\n 300,\n 301,\n 302,\n 303,\n 304,\n 305,\n 306,\n 307,\n 308,\n 309,\n 310,\n 311,\n 312,\n 313,\n 314,\n 315,\n 316,\n 317,\n 318,\n 319,\n 320,\n 321,\n 322,\n 323,\n 324,\n 325,\n 326,\n 327,\n 328,\n 329,\n 330,\n 331,\n 332,\n 333,\n 334,\n 335,\n 336,\n 337,\n 338,\n 339,\n 340,\n 341,\n 342,\n 343,\n 344,\n 345,\n 346,\n 347,\n 348,\n 349,\n 350,\n 351,\n 352,\n 353,\n 354,\n 355,\n 356,\n 357,\n 358,\n 359,\n 360,\n 361,\n 362,\n 363,\n 364,\n 365,\n 366,\n 367,\n 368,\n 369,\n 370,\n 371,\n 372,\n 373,\n 374,\n 375,\n 376,\n 377,\n 378,\n 379,\n 380,\n 381,\n 382,\n 383,\n 384,\n 385,\n 386,\n 387,\n 388,\n 389,\n 390,\n 391,\n 392,\n 393,\n 394,\n 395,\n 396,\n 397,\n 398,\n 399,\n 400,\n 401,\n 402,\n 403,\n 404,\n 405,\n 406,\n 407,\n 408,\n 409,\n 410,\n 411,\n 412,\n 413,\n 414,\n 415,\n 416,\n 417,\n 418,\n 419,\n 420,\n 421,\n 422,\n 423,\n 424,\n 425,\n 426,\n 427,\n 428,\n 429,\n 430,\n 431,\n 432,\n 433,\n 434,\n 435,\n 436,\n 437,\n 438,\n 439,\n 440,\n 441,\n 442,\n 443,\n 444,\n 445,\n 446,\n 447,\n 448,\n 449,\n 450,\n 451,\n 452,\n 453,\n 454,\n 455,\n 456,\n 457,\n 458,\n 459,\n 460,\n 461,\n 462,\n 463,\n 464,\n 465,\n 466,\n 467,\n 468,\n 469,\n 470,\n 471,\n 472,\n 473,\n 474,\n 475,\n 476,\n 477,\n 478,\n 479,\n 480,\n 481,\n 482,\n 483,\n 484,\n 485,\n 486,\n 487,\n 488,\n 489,\n 490,\n 491,\n 492,\n 493,\n 494,\n 495,\n 496,\n 497,\n 498,\n 499,\n 500,\n 501,\n 502,\n 503,\n 504,\n 505,\n 506,\n 507,\n 508,\n 509,\n 510,\n 511,\n 512,\n 513,\n 514,\n 515,\n 516,\n 517,\n 518,\n 519,\n 520,\n 521,\n 522,\n 523,\n 524,\n 525,\n 526,\n 527,\n 528,\n 529,\n 530,\n 531,\n 532,\n 533,\n 534,\n 535,\n 536,\n 537,\n 538,\n 539,\n 540,\n 541,\n 542,\n 543,\n 544,\n 545,\n 546,\n 547,\n 548,\n 549,\n 550,\n 551,\n 552,\n 553,\n 554,\n 555,\n 556,\n 557,\n 558,\n 559,\n 560,\n 561,\n 562,\n 563,\n 564,\n 565,\n 566,\n 567,\n 568,\n 569,\n 570,\n 571,\n 572,\n 573,\n 574,\n 575,\n 576,\n 577,\n 578,\n 579,\n 580,\n 581,\n 582,\n 583,\n 584,\n 585,\n 586,\n 587,\n 588,\n 589,\n 590,\n 591,\n 592,\n 593,\n 594,\n 595,\n 596,\n 597,\n 598,\n 599,\n 600,\n 601,\n 602,\n 603,\n 604,\n 605,\n 606,\n 607,\n 608,\n 609,\n 610,\n 611,\n 612,\n 613,\n 614,\n 615,\n 616,\n 617,\n 618,\n 619,\n 620,\n 621,\n 622,\n 623,\n 624,\n 625,\n 626,\n 627,\n 628,\n 629,\n 630,\n 631,\n 632,\n 633,\n 634,\n 635,\n 636,\n 637,\n 638,\n 639,\n 640,\n 641,\n 642,\n 643,\n 644,\n 645,\n 646,\n 647,\n 648,\n 649,\n 650,\n 651,\n 652,\n 653,\n 654,\n 655,\n 656,\n 657,\n 658,\n 659,\n 660,\n 661,\n 662,\n 663,\n 664,\n 665,\n 666,\n 667,\n 668,\n 669,\n 670,\n 671,\n 672,\n 673,\n 674,\n 675,\n 676,\n 677,\n 678,\n 679,\n 680,\n 681,\n 682,\n 683,\n 684,\n 685,\n 686,\n 687,\n 688,\n 689,\n 690,\n 691,\n 692,\n 693,\n 694,\n 695,\n 696,\n 697,\n 698,\n 699,\n 700,\n 701,\n 702,\n 703,\n 704,\n 705,\n 706,\n 707,\n 708,\n 709,\n 710,\n 711,\n 712,\n 713,\n 714,\n 715,\n 716,\n 717,\n 718,\n 719,\n 720,\n 721,\n 722,\n 723,\n 724,\n 725,\n 726,\n 727,\n 728,\n 729,\n 730,\n 731,\n 732,\n 733,\n 734,\n 735,\n 736,\n 737,\n 738,\n 739,\n 740,\n 741,\n 742,\n 743,\n 744,\n 745,\n 746,\n 747,\n 748,\n 749,\n 750,\n 751,\n 752,\n 753,\n 754,\n 755,\n 756,\n 757,\n 758,\n 759,\n 760,\n 761,\n 762,\n 763,\n 764,\n 765,\n 766,\n 767,\n 768,\n 769,\n 770,\n 771,\n 772,\n 773,\n 774,\n 775,\n 776,\n 777,\n 778,\n 779,\n 780,\n 781,\n 782,\n 783,\n 784,\n 785,\n 786,\n 787,\n 788,\n 789,\n 790,\n 791,\n 792,\n 793,\n 794,\n 795,\n 796,\n 797,\n 798,\n 799,\n 800,\n 801,\n 802,\n 803,\n 804,\n 805,\n 806,\n 807,\n 808,\n 809,\n 810,\n 811,\n 812,\n 813,\n 814,\n 815,\n 816,\n 817,\n 818,\n 819,\n 820,\n 821,\n 822,\n 823,\n 824,\n 825,\n 826,\n 827,\n 828,\n 829,\n 830,\n 831,\n 832,\n 833,\n 834,\n 835,\n 836,\n 837,\n 838,\n 839,\n 840,\n 841,\n 842,\n 843,\n 844,\n 845,\n 846,\n 847,\n 848,\n 849,\n 850,\n 851,\n 852,\n 853,\n 854,\n 855,\n 856,\n 857,\n 858,\n 859,\n 860,\n 861,\n 862,\n 863,\n 864,\n 865,\n 866,\n 867,\n 868,\n 869,\n 870,\n 871,\n 872,\n 873,\n 874,\n 875,\n 876,\n 877,\n 878,\n 879,\n 880,\n 881,\n 882,\n 883,\n 884,\n 885,\n 886,\n 887,\n 888,\n 889,\n 890,\n 891,\n 892,\n 893,\n 894,\n 895,\n 896,\n 897,\n 898,\n 899,\n 900,\n 901,\n 902,\n 903,\n 904,\n 905,\n 906,\n 907,\n 908,\n 909,\n 910,\n 911,\n 912,\n 913,\n 914,\n 915,\n 916,\n 917,\n 918,\n 919,\n 920,\n 921,\n 922,\n 923,\n 924,\n 925,\n 926,\n 927,\n 928,\n 929,\n 930,\n 931,\n 932,\n 933,\n 934,\n 935,\n 936,\n 937,\n 938,\n 939,\n 940,\n 941,\n 942,\n 943,\n 944,\n 945,\n 946,\n 947,\n 948,\n 949,\n 950,\n 951,\n 952,\n 953,\n 954,\n 955,\n 956,\n 957,\n 958,\n 959,\n 960,\n 961,\n 962,\n 963,\n 964,\n 965,\n 966,\n 967,\n 968,\n 969,\n 970,\n 971,\n 972,\n 973,\n 974,\n 975,\n 976,\n 977,\n 978,\n 979,\n 980,\n 981,\n 982,\n 983,\n 984,\n 985,\n 986,\n 987,\n 988,\n 989,\n 990,\n 991,\n 992,\n 993,\n 994,\n 995,\n 996,\n 997,\n 998,\n 999,\n ...]"
     },
     "execution_count": 10,
     "metadata": {},
     "output_type": "execute_result"
    }
   ],
   "source": [
    "random.seed(10)\n",
    "indices = list( range(0, len(transactions_0)) )\n",
    "indices"
   ]
  },
  {
   "cell_type": "code",
   "execution_count": 15,
   "outputs": [
    {
     "data": {
      "text/plain": "4179"
     },
     "execution_count": 15,
     "metadata": {},
     "output_type": "execute_result"
    }
   ],
   "source": [
    "len(indices)"
   ],
   "metadata": {
    "collapsed": false
   }
  },
  {
   "cell_type": "code",
   "execution_count": 9,
   "outputs": [
    {
     "data": {
      "text/plain": "[443,\n 3769,\n 983,\n 3906,\n 3441,\n 4094,\n 1118,\n 4169,\n 8,\n 1083,\n 3437,\n 4140,\n 2768,\n 1336,\n 3799,\n 3594,\n 367,\n 1765,\n 1022,\n 1741,\n 2336,\n 3291,\n 3879,\n 2098,\n 1470,\n 919,\n 4002,\n 2083,\n 2577,\n 3204,\n 402,\n 131,\n 571,\n 1544,\n 1202,\n 3108,\n 501,\n 3600,\n 3083,\n 4039,\n 1390,\n 2228,\n 599,\n 1182,\n 2984,\n 660,\n 1481,\n 2276,\n 3875,\n 606,\n 2646,\n 3588,\n 922,\n 3996,\n 3886,\n 3657,\n 1119,\n 1065,\n 605,\n 3468,\n 1830,\n 1304,\n 1969,\n 675,\n 3590,\n 3203,\n 174,\n 1882,\n 1640,\n 871,\n 2515,\n 4124,\n 293,\n 2016,\n 890,\n 3929,\n 4093,\n 2023,\n 1972,\n 3998,\n 3462,\n 1937,\n 3379,\n 875,\n 2725,\n 1663,\n 2165,\n 199,\n 2995,\n 1692,\n 583,\n 2698,\n 2530,\n 4028,\n 2897,\n 4032,\n 1966,\n 915,\n 3280,\n 3286,\n 2826,\n 3072,\n 477,\n 112,\n 3872,\n 4152,\n 161,\n 76,\n 2036,\n 2547,\n 794,\n 3255,\n 755,\n 1234,\n 2937,\n 206,\n 2292,\n 4069,\n 2066,\n 3338,\n 3597,\n 865,\n 4018,\n 1253,\n 3538,\n 297,\n 2322,\n 3211,\n 2042,\n 3928,\n 507,\n 2638,\n 2579,\n 1895,\n 3102,\n 289,\n 1927,\n 789,\n 1191,\n 970,\n 790,\n 1484,\n 1280,\n 3106,\n 3092,\n 2018,\n 351,\n 2754,\n 36,\n 3543,\n 613,\n 1264,\n 4072,\n 845,\n 401,\n 252,\n 1680,\n 2642,\n 638,\n 2205,\n 469,\n 3445,\n 3496,\n 1443,\n 1014,\n 34,\n 1566,\n 920,\n 1518,\n 2113,\n 2697,\n 2531,\n 3606,\n 2818,\n 3148,\n 1088,\n 882,\n 2912,\n 3625,\n 3458,\n 4084,\n 2735,\n 588,\n 1357,\n 1396,\n 1794,\n 3687,\n 1144,\n 1707,\n 3022,\n 3489,\n 3002,\n 1361,\n 1377,\n 213,\n 1337,\n 899,\n 3066,\n 481,\n 3585,\n 3079,\n 135,\n 366,\n 2838,\n 2702,\n 1160,\n 826,\n 1654,\n 2089,\n 544,\n 3754,\n 1795,\n 1573,\n 4056,\n 3818,\n 1596,\n 753,\n 79,\n 3193,\n 2784,\n 1534,\n 2737,\n 756,\n 2458,\n 2582,\n 486,\n 1816,\n 2775,\n 1334,\n 465,\n 1593,\n 2507,\n 595,\n 707,\n 3254,\n 3146,\n 1742,\n 1519,\n 3474,\n 457,\n 879,\n 1989,\n 3542,\n 4049,\n 1103,\n 3514,\n 427,\n 2419,\n 4103,\n 1408,\n 5,\n 1380,\n 3184,\n 1465,\n 2572,\n 1513,\n 3337,\n 2063,\n 856,\n 1091,\n 115,\n 3713,\n 894,\n 3245,\n 1244,\n 93,\n 2121,\n 1577,\n 2994,\n 3451,\n 956,\n 3566,\n 1644,\n 3209,\n 467,\n 15,\n 1219,\n 530,\n 2147,\n 2906,\n 4052,\n 3463,\n 3833,\n 1058,\n 2393,\n 3757,\n 3516,\n 2037,\n 1684,\n 249,\n 2841,\n 949,\n 2441,\n 3798,\n 4013,\n 1150,\n 2645,\n 98,\n 3117,\n 540,\n 766,\n 2309,\n 2326,\n 2812,\n 78,\n 2753,\n 1910,\n 3298,\n 3028,\n 2930,\n 2680,\n 2544,\n 2146,\n 3241,\n 3147,\n 519,\n 2355,\n 1419,\n 2260,\n 4133,\n 108,\n 503,\n 4040,\n 3484,\n 158,\n 335,\n 2943,\n 3074,\n 254,\n 1713,\n 3205,\n 941,\n 992,\n 2258,\n 1400,\n 2641,\n 3981,\n 61,\n 3178,\n 3446,\n 304,\n 2403,\n 2349,\n 2885,\n 3476,\n 1018,\n 3160,\n 1509,\n 3963,\n 419,\n 3842,\n 122,\n 1723,\n 325,\n 1689,\n 3185,\n 498,\n 3088,\n 771,\n 1767,\n 969,\n 3166,\n 369,\n 2895,\n 1522,\n 3366,\n 1392,\n 944,\n 2183,\n 3284,\n 2800,\n 3883,\n 3598,\n 3503,\n 279,\n 3273,\n 3683,\n 2976,\n 3667,\n 3408,\n 44,\n 1905,\n 1994,\n 3500,\n 3954,\n 3533,\n 400,\n 220,\n 1135,\n 2664,\n 3815,\n 2117,\n 1711,\n 3335,\n 3018,\n 2676,\n 2729,\n 1996,\n 1250,\n 1516,\n 2552,\n 2580,\n 3132,\n 89,\n 819,\n 139,\n 2816,\n 3010,\n 593,\n 4087,\n 3300,\n 967,\n 2573,\n 449,\n 1869,\n 1131,\n 3745,\n 2542,\n 1801,\n 1229,\n 1145,\n 1983,\n 1116,\n 1933,\n 1754,\n 3365,\n 1614,\n 1491,\n 725,\n 3827,\n 347,\n 3735,\n 1836,\n 607,\n 1310,\n 418,\n 3689,\n 4150,\n 378,\n 2519,\n 4144,\n 726,\n 1535,\n 1137,\n 636,\n 1797,\n 2303,\n 3093,\n 3595,\n 1749,\n 1547,\n 1487,\n 1054,\n 3339,\n 1889,\n 3014,\n 3352,\n 1128,\n 1815,\n 948,\n 830,\n 67,\n 1579,\n 3454,\n 3260,\n 2749,\n 2324,\n 156,\n 2059,\n 3936,\n 3834,\n 3643,\n 3177,\n 1416,\n 1249,\n 4126,\n 3674,\n 1480,\n 359,\n 1618,\n 1354,\n 1306,\n 1988,\n 705,\n 1854,\n 2627,\n 4164,\n 3325,\n 1120,\n 60,\n 3169,\n 3417,\n 1562,\n 2969,\n 2748,\n 3393,\n 4171,\n 1081,\n 643,\n 3063,\n 710,\n 1044,\n 3097,\n 2902,\n 56,\n 21,\n 2184,\n 2921,\n 3966,\n 2296,\n 1109,\n 1919,\n 1290,\n 2112,\n 1439,\n 3266,\n 3811,\n 2882,\n 1188,\n 3383,\n 2284,\n 97,\n 3471,\n 3332,\n 511,\n 3829,\n 6,\n 3276,\n 531,\n 2456,\n 2907,\n 342,\n 3435,\n 1413,\n 626,\n 3064,\n 406,\n 192,\n 1704,\n 2682,\n 2180,\n 2864,\n 844,\n 1560,\n 433,\n 742,\n 1862,\n 3624,\n 1488,\n 2103,\n 800,\n 1524,\n 2384,\n 3391,\n 839,\n 1676,\n 1105,\n 84,\n 1352,\n 3902,\n 3320,\n 3618,\n 1822,\n 1993,\n 886,\n 1277,\n 765,\n 3242,\n 3120,\n 2514,\n 1699,\n 987,\n 185,\n 2657,\n 3586,\n 1635,\n 2072,\n 869,\n 998,\n 3816,\n 535,\n 58,\n 1523,\n 450,\n 2124,\n 3113,\n 1036,\n 3702,\n 3039,\n 2435,\n 3034,\n 3746,\n 3000,\n 3199,\n 3956,\n 482,\n 299,\n 1348,\n 566,\n 2131,\n 3923,\n 3186,\n 3888,\n 587,\n 2488,\n 1431,\n 2543,\n 2157,\n 2433,\n 3174,\n 3744,\n 2932,\n 896,\n 2055,\n 1373,\n 3372,\n 444,\n 1017,\n 3582,\n 3459,\n 3622,\n 2558,\n 3860,\n 3401,\n 4010,\n 2021,\n 1332,\n 3574,\n 1159,\n 2452,\n 608,\n 1248,\n 1171,\n 2173,\n 1735,\n 2883,\n 1309,\n 1714,\n 2903,\n 410,\n 1546,\n 1385,\n 2631,\n 620,\n 3672,\n 2145,\n 1671,\n 1316,\n 1158,\n 3225,\n 423,\n 754,\n 1896,\n 1561,\n 2014,\n 3930,\n 238,\n 2796,\n 3551,\n 3188,\n 2024,\n 3555,\n 847,\n 2174,\n 502,\n 3354,\n 528,\n 489,\n 1167,\n 2308,\n 314,\n 3948,\n 1050,\n 272,\n 1404,\n 88,\n 744,\n 3416,\n 1440,\n 2150,\n 4047,\n 3559,\n 841,\n 478,\n 2640,\n 628,\n 2890,\n 3863,\n 3993,\n 2237,\n 2982,\n 558,\n 2686,\n 2613,\n 3384,\n 975,\n 759,\n 1193,\n 604,\n 706,\n 3104,\n 2486,\n 2629,\n 1710,\n 173,\n 2757,\n 3711,\n 1507,\n 1974,\n 749,\n 3219,\n 965,\n 2798,\n 2801,\n 655,\n 853,\n 1368,\n 2743,\n 2203,\n 46,\n 1545,\n 912,\n 1924,\n 1049,\n 3917,\n 769,\n 3952,\n 3367,\n 3648,\n 1608,\n 1189,\n 3360,\n 2593,\n 3455,\n 1378,\n 567,\n 1482,\n 1331,\n 3616,\n 1517,\n 940,\n 3567,\n 1520,\n 3680,\n 959,\n 1842,\n 3475,\n 4008,\n 2168,\n 305,\n 2764,\n 1343,\n 1647,\n 3621,\n 2088,\n 4157,\n 2011,\n 3539,\n 154,\n 2633,\n 3822,\n 2780,\n 2884,\n 30,\n 885,\n 3191,\n 2216,\n 3716,\n 2071,\n 687,\n 3213,\n 1868,\n 1240,\n 3812,\n 2566,\n 9,\n 3958,\n 2300,\n 3272,\n 1848,\n 1100,\n 2477,\n 955,\n 883,\n 2778,\n 2545,\n 3449,\n 3243,\n 290,\n 2302,\n 601,\n 2843,\n 1467,\n 2781,\n 2270,\n 1630,\n 1960,\n 2235,\n 1278,\n 1384,\n 1038,\n 2044,\n 1504,\n 1951,\n 1515,\n 1320,\n 2516,\n 1701,\n 810,\n 2294,\n 1832,\n 3511,\n 377,\n 2706,\n 1595,\n 2245,\n 2480,\n 32,\n 653,\n 872,\n 3103,\n 3439,\n 2870,\n 3897,\n 650,\n 1839,\n 3460,\n 579,\n 330,\n 3060,\n 656,\n 3541,\n 2708,\n 3389,\n 1501,\n 227,\n 795,\n 2510,\n 2438,\n 3748,\n 3294,\n 676,\n 612,\n 737,\n 2164,\n 1802,\n 3718,\n 870,\n 1979,\n 3920,\n 261,\n 1269,\n 3187,\n 4088,\n 3317,\n 3311,\n 3114,\n 1943,\n 3756,\n 1183,\n 2226,\n 3634,\n 2369,\n 1820,\n 3309,\n 1745,\n 2086,\n 26,\n 1533,\n 2291,\n 2525,\n 129,\n 137,\n 2133,\n 3488,\n 2537,\n 1002,\n 3023,\n 3333,\n 177,\n 1282,\n 246,\n 574,\n 1770,\n 4123,\n 3212,\n 1954,\n 436,\n 233,\n 971,\n 3216,\n 2578,\n 440,\n 3854,\n 4086,\n 977,\n 2670,\n 3013,\n 3021,\n 3575,\n 3924,\n 799,\n 1841,\n 792,\n 264,\n 298,\n 908,\n 1477,\n 2704,\n 2095,\n 3323,\n 773,\n 3919,\n 902,\n 2159,\n 1908,\n 1490,\n 546,\n 2484,\n 3134,\n 4041,\n 2371,\n 2662,\n 2589,\n 1891,\n 1512,\n 1418,\n 43,\n 1194,\n 2031,\n 3175,\n 425,\n 2005,\n 2127,\n 1074,\n 2756,\n 1827,\n 3248,\n 1279,\n 1077,\n 2077,\n 1075,\n 1104,\n 2819,\n 3971,\n 974,\n 208,\n 1394,\n 2153,\n 3848,\n 2316,\n 2866,\n 846,\n 1999,\n 181,\n 2065,\n 2554,\n 1238,\n 3804,\n 1148,\n 2343,\n 350,\n 720,\n 1198,\n 3693,\n 3438,\n 614,\n 3341,\n 3537,\n 2359,\n 4031,\n 3154,\n 3911,\n 273,\n 3062,\n 451,\n 2821,\n 2434,\n 642,\n 3605,\n 3782,\n 4119,\n 3428,\n 4177,\n 1872,\n 1932,\n 370,\n 586,\n 1289,\n 1776,\n 3584,\n 3722,\n 3728,\n 2805,\n 2132,\n 3916,\n 3493,\n 520,\n 1693,\n 235,\n ...]"
     },
     "execution_count": 9,
     "metadata": {},
     "output_type": "execute_result"
    }
   ],
   "source": [
    "random.shuffle(indices)\n",
    "indices"
   ],
   "metadata": {
    "collapsed": false
   }
  },
  {
   "cell_type": "code",
   "execution_count": 12,
   "outputs": [
    {
     "data": {
      "text/plain": "      ACETAMINOPHEN  ALBUMIN HUMAN 25%  ALBUMIN HUMAN 5%  ALBUTEROL 0.083%  \\\n0              True              False             False             False   \n1              True              False             False             False   \n2              True              False             False             False   \n3             False              False             False             False   \n4             False              False             False             False   \n...             ...                ...               ...               ...   \n4174           True              False             False             False   \n4175           True              False             False             False   \n4176          False              False             False             False   \n4177          False              False              True             False   \n4178           True              False             False             False   \n\n      ALBUTEROL 90 MCG  ALBUTEROL CONCENTRATED 0.5%  ALLOPURINOL  ALPRAZOLAM  \\\n0                False                        False        False       False   \n1                 True                         True        False       False   \n2                False                        False        False       False   \n3                False                        False        False       False   \n4                False                        False        False       False   \n...                ...                          ...          ...         ...   \n4174              True                         True        False       False   \n4175              True                         True        False       False   \n4176              True                         True        False       False   \n4177             False                        False        False       False   \n4178              True                         True        False       False   \n\n      AMINOCAPROIC ACID  AMIODARONE  ...  TACROLIMUS  TAMSULOSIN  THIAMINE  \\\n0                 False       False  ...       False       False      True   \n1                 False       False  ...       False       False     False   \n2                 False       False  ...       False       False     False   \n3                 False       False  ...       False       False     False   \n4                 False       False  ...       False       False     False   \n...                 ...         ...  ...         ...         ...       ...   \n4174              False       False  ...       False       False     False   \n4175              False       False  ...       False       False     False   \n4176              False       False  ...       False       False     False   \n4177              False       False  ...       False       False      True   \n4178              False       False  ...       False       False     False   \n\n      TRAMADOL  TRAZODONE  VANCOMYCIN  VANCOMYCIN 1 G/200 ML D5W  \\\n0        False      False       False                      False   \n1        False      False       False                      False   \n2        False      False       False                      False   \n3        False      False       False                      False   \n4        False      False        True                      False   \n...        ...        ...         ...                        ...   \n4174     False      False       False                      False   \n4175      True       True       False                       True   \n4176     False      False        True                      False   \n4177     False      False        True                      False   \n4178     False      False        True                       True   \n\n      VANCOMYCIN 1.25 G/250 ML NS  VANCOMYCIN 1.5 G/500 ML NS  WARFARIN  \n0                           False                       False     False  \n1                           False                       False     False  \n2                           False                       False     False  \n3                           False                       False      True  \n4                           False                       False     False  \n...                           ...                         ...       ...  \n4174                        False                       False     False  \n4175                         True                        True     False  \n4176                        False                       False     False  \n4177                        False                       False     False  \n4178                         True                        True      True  \n\n[4179 rows x 147 columns]",
      "text/html": "<div>\n<style scoped>\n    .dataframe tbody tr th:only-of-type {\n        vertical-align: middle;\n    }\n\n    .dataframe tbody tr th {\n        vertical-align: top;\n    }\n\n    .dataframe thead th {\n        text-align: right;\n    }\n</style>\n<table border=\"1\" class=\"dataframe\">\n  <thead>\n    <tr style=\"text-align: right;\">\n      <th></th>\n      <th>ACETAMINOPHEN</th>\n      <th>ALBUMIN HUMAN 25%</th>\n      <th>ALBUMIN HUMAN 5%</th>\n      <th>ALBUTEROL 0.083%</th>\n      <th>ALBUTEROL 90 MCG</th>\n      <th>ALBUTEROL CONCENTRATED 0.5%</th>\n      <th>ALLOPURINOL</th>\n      <th>ALPRAZOLAM</th>\n      <th>AMINOCAPROIC ACID</th>\n      <th>AMIODARONE</th>\n      <th>...</th>\n      <th>TACROLIMUS</th>\n      <th>TAMSULOSIN</th>\n      <th>THIAMINE</th>\n      <th>TRAMADOL</th>\n      <th>TRAZODONE</th>\n      <th>VANCOMYCIN</th>\n      <th>VANCOMYCIN 1 G/200 ML D5W</th>\n      <th>VANCOMYCIN 1.25 G/250 ML NS</th>\n      <th>VANCOMYCIN 1.5 G/500 ML NS</th>\n      <th>WARFARIN</th>\n    </tr>\n  </thead>\n  <tbody>\n    <tr>\n      <th>0</th>\n      <td>True</td>\n      <td>False</td>\n      <td>False</td>\n      <td>False</td>\n      <td>False</td>\n      <td>False</td>\n      <td>False</td>\n      <td>False</td>\n      <td>False</td>\n      <td>False</td>\n      <td>...</td>\n      <td>False</td>\n      <td>False</td>\n      <td>True</td>\n      <td>False</td>\n      <td>False</td>\n      <td>False</td>\n      <td>False</td>\n      <td>False</td>\n      <td>False</td>\n      <td>False</td>\n    </tr>\n    <tr>\n      <th>1</th>\n      <td>True</td>\n      <td>False</td>\n      <td>False</td>\n      <td>False</td>\n      <td>True</td>\n      <td>True</td>\n      <td>False</td>\n      <td>False</td>\n      <td>False</td>\n      <td>False</td>\n      <td>...</td>\n      <td>False</td>\n      <td>False</td>\n      <td>False</td>\n      <td>False</td>\n      <td>False</td>\n      <td>False</td>\n      <td>False</td>\n      <td>False</td>\n      <td>False</td>\n      <td>False</td>\n    </tr>\n    <tr>\n      <th>2</th>\n      <td>True</td>\n      <td>False</td>\n      <td>False</td>\n      <td>False</td>\n      <td>False</td>\n      <td>False</td>\n      <td>False</td>\n      <td>False</td>\n      <td>False</td>\n      <td>False</td>\n      <td>...</td>\n      <td>False</td>\n      <td>False</td>\n      <td>False</td>\n      <td>False</td>\n      <td>False</td>\n      <td>False</td>\n      <td>False</td>\n      <td>False</td>\n      <td>False</td>\n      <td>False</td>\n    </tr>\n    <tr>\n      <th>3</th>\n      <td>False</td>\n      <td>False</td>\n      <td>False</td>\n      <td>False</td>\n      <td>False</td>\n      <td>False</td>\n      <td>False</td>\n      <td>False</td>\n      <td>False</td>\n      <td>False</td>\n      <td>...</td>\n      <td>False</td>\n      <td>False</td>\n      <td>False</td>\n      <td>False</td>\n      <td>False</td>\n      <td>False</td>\n      <td>False</td>\n      <td>False</td>\n      <td>False</td>\n      <td>True</td>\n    </tr>\n    <tr>\n      <th>4</th>\n      <td>False</td>\n      <td>False</td>\n      <td>False</td>\n      <td>False</td>\n      <td>False</td>\n      <td>False</td>\n      <td>False</td>\n      <td>False</td>\n      <td>False</td>\n      <td>False</td>\n      <td>...</td>\n      <td>False</td>\n      <td>False</td>\n      <td>False</td>\n      <td>False</td>\n      <td>False</td>\n      <td>True</td>\n      <td>False</td>\n      <td>False</td>\n      <td>False</td>\n      <td>False</td>\n    </tr>\n    <tr>\n      <th>...</th>\n      <td>...</td>\n      <td>...</td>\n      <td>...</td>\n      <td>...</td>\n      <td>...</td>\n      <td>...</td>\n      <td>...</td>\n      <td>...</td>\n      <td>...</td>\n      <td>...</td>\n      <td>...</td>\n      <td>...</td>\n      <td>...</td>\n      <td>...</td>\n      <td>...</td>\n      <td>...</td>\n      <td>...</td>\n      <td>...</td>\n      <td>...</td>\n      <td>...</td>\n      <td>...</td>\n    </tr>\n    <tr>\n      <th>4174</th>\n      <td>True</td>\n      <td>False</td>\n      <td>False</td>\n      <td>False</td>\n      <td>True</td>\n      <td>True</td>\n      <td>False</td>\n      <td>False</td>\n      <td>False</td>\n      <td>False</td>\n      <td>...</td>\n      <td>False</td>\n      <td>False</td>\n      <td>False</td>\n      <td>False</td>\n      <td>False</td>\n      <td>False</td>\n      <td>False</td>\n      <td>False</td>\n      <td>False</td>\n      <td>False</td>\n    </tr>\n    <tr>\n      <th>4175</th>\n      <td>True</td>\n      <td>False</td>\n      <td>False</td>\n      <td>False</td>\n      <td>True</td>\n      <td>True</td>\n      <td>False</td>\n      <td>False</td>\n      <td>False</td>\n      <td>False</td>\n      <td>...</td>\n      <td>False</td>\n      <td>False</td>\n      <td>False</td>\n      <td>True</td>\n      <td>True</td>\n      <td>False</td>\n      <td>True</td>\n      <td>True</td>\n      <td>True</td>\n      <td>False</td>\n    </tr>\n    <tr>\n      <th>4176</th>\n      <td>False</td>\n      <td>False</td>\n      <td>False</td>\n      <td>False</td>\n      <td>True</td>\n      <td>True</td>\n      <td>False</td>\n      <td>False</td>\n      <td>False</td>\n      <td>False</td>\n      <td>...</td>\n      <td>False</td>\n      <td>False</td>\n      <td>False</td>\n      <td>False</td>\n      <td>False</td>\n      <td>True</td>\n      <td>False</td>\n      <td>False</td>\n      <td>False</td>\n      <td>False</td>\n    </tr>\n    <tr>\n      <th>4177</th>\n      <td>False</td>\n      <td>False</td>\n      <td>True</td>\n      <td>False</td>\n      <td>False</td>\n      <td>False</td>\n      <td>False</td>\n      <td>False</td>\n      <td>False</td>\n      <td>False</td>\n      <td>...</td>\n      <td>False</td>\n      <td>False</td>\n      <td>True</td>\n      <td>False</td>\n      <td>False</td>\n      <td>True</td>\n      <td>False</td>\n      <td>False</td>\n      <td>False</td>\n      <td>False</td>\n    </tr>\n    <tr>\n      <th>4178</th>\n      <td>True</td>\n      <td>False</td>\n      <td>False</td>\n      <td>False</td>\n      <td>True</td>\n      <td>True</td>\n      <td>False</td>\n      <td>False</td>\n      <td>False</td>\n      <td>False</td>\n      <td>...</td>\n      <td>False</td>\n      <td>False</td>\n      <td>False</td>\n      <td>False</td>\n      <td>False</td>\n      <td>True</td>\n      <td>True</td>\n      <td>True</td>\n      <td>True</td>\n      <td>True</td>\n    </tr>\n  </tbody>\n</table>\n<p>4179 rows × 147 columns</p>\n</div>"
     },
     "execution_count": 12,
     "metadata": {},
     "output_type": "execute_result"
    }
   ],
   "source": [
    "transactions_0"
   ],
   "metadata": {
    "collapsed": false
   }
  },
  {
   "cell_type": "code",
   "execution_count": 13,
   "outputs": [
    {
     "data": {
      "text/plain": "     ACETAMINOPHEN  ALBUMIN HUMAN 25%  ALBUMIN HUMAN 5%  ALBUTEROL 0.083%  \\\n0             True              False             False             False   \n1             True              False             False             False   \n2             True              False             False             False   \n3            False              False             False             False   \n4            False              False             False             False   \n..             ...                ...               ...               ...   \n412           True              False             False             False   \n413           True              False              True             False   \n414           True              False             False             False   \n415           True              False             False             False   \n416          False              False             False             False   \n\n     ALBUTEROL 90 MCG  ALBUTEROL CONCENTRATED 0.5%  ALLOPURINOL  ALPRAZOLAM  \\\n0               False                        False        False       False   \n1                True                         True        False       False   \n2               False                        False        False       False   \n3               False                        False        False       False   \n4               False                        False        False       False   \n..                ...                          ...          ...         ...   \n412              True                         True        False       False   \n413              True                        False        False       False   \n414             False                        False        False       False   \n415             False                         True        False       False   \n416             False                        False        False       False   \n\n     AMINOCAPROIC ACID  AMIODARONE  ...  TACROLIMUS  TAMSULOSIN  THIAMINE  \\\n0                False       False  ...       False       False      True   \n1                False       False  ...       False       False     False   \n2                False       False  ...       False       False     False   \n3                False       False  ...       False       False     False   \n4                False       False  ...       False       False     False   \n..                 ...         ...  ...         ...         ...       ...   \n412              False       False  ...       False       False     False   \n413               True       False  ...       False       False     False   \n414              False       False  ...       False       False     False   \n415              False        True  ...       False       False     False   \n416              False       False  ...       False       False     False   \n\n     TRAMADOL  TRAZODONE  VANCOMYCIN  VANCOMYCIN 1 G/200 ML D5W  \\\n0       False      False       False                      False   \n1       False      False       False                      False   \n2       False      False       False                      False   \n3       False      False       False                      False   \n4       False      False        True                      False   \n..        ...        ...         ...                        ...   \n412     False      False       False                       True   \n413     False      False        True                      False   \n414     False      False        True                       True   \n415     False       True       False                       True   \n416     False      False       False                      False   \n\n     VANCOMYCIN 1.25 G/250 ML NS  VANCOMYCIN 1.5 G/500 ML NS  WARFARIN  \n0                          False                       False     False  \n1                          False                       False     False  \n2                          False                       False     False  \n3                          False                       False      True  \n4                          False                       False     False  \n..                           ...                         ...       ...  \n412                        False                       False     False  \n413                         True                       False     False  \n414                        False                       False     False  \n415                         True                       False     False  \n416                        False                       False      True  \n\n[417 rows x 147 columns]",
      "text/html": "<div>\n<style scoped>\n    .dataframe tbody tr th:only-of-type {\n        vertical-align: middle;\n    }\n\n    .dataframe tbody tr th {\n        vertical-align: top;\n    }\n\n    .dataframe thead th {\n        text-align: right;\n    }\n</style>\n<table border=\"1\" class=\"dataframe\">\n  <thead>\n    <tr style=\"text-align: right;\">\n      <th></th>\n      <th>ACETAMINOPHEN</th>\n      <th>ALBUMIN HUMAN 25%</th>\n      <th>ALBUMIN HUMAN 5%</th>\n      <th>ALBUTEROL 0.083%</th>\n      <th>ALBUTEROL 90 MCG</th>\n      <th>ALBUTEROL CONCENTRATED 0.5%</th>\n      <th>ALLOPURINOL</th>\n      <th>ALPRAZOLAM</th>\n      <th>AMINOCAPROIC ACID</th>\n      <th>AMIODARONE</th>\n      <th>...</th>\n      <th>TACROLIMUS</th>\n      <th>TAMSULOSIN</th>\n      <th>THIAMINE</th>\n      <th>TRAMADOL</th>\n      <th>TRAZODONE</th>\n      <th>VANCOMYCIN</th>\n      <th>VANCOMYCIN 1 G/200 ML D5W</th>\n      <th>VANCOMYCIN 1.25 G/250 ML NS</th>\n      <th>VANCOMYCIN 1.5 G/500 ML NS</th>\n      <th>WARFARIN</th>\n    </tr>\n  </thead>\n  <tbody>\n    <tr>\n      <th>0</th>\n      <td>True</td>\n      <td>False</td>\n      <td>False</td>\n      <td>False</td>\n      <td>False</td>\n      <td>False</td>\n      <td>False</td>\n      <td>False</td>\n      <td>False</td>\n      <td>False</td>\n      <td>...</td>\n      <td>False</td>\n      <td>False</td>\n      <td>True</td>\n      <td>False</td>\n      <td>False</td>\n      <td>False</td>\n      <td>False</td>\n      <td>False</td>\n      <td>False</td>\n      <td>False</td>\n    </tr>\n    <tr>\n      <th>1</th>\n      <td>True</td>\n      <td>False</td>\n      <td>False</td>\n      <td>False</td>\n      <td>True</td>\n      <td>True</td>\n      <td>False</td>\n      <td>False</td>\n      <td>False</td>\n      <td>False</td>\n      <td>...</td>\n      <td>False</td>\n      <td>False</td>\n      <td>False</td>\n      <td>False</td>\n      <td>False</td>\n      <td>False</td>\n      <td>False</td>\n      <td>False</td>\n      <td>False</td>\n      <td>False</td>\n    </tr>\n    <tr>\n      <th>2</th>\n      <td>True</td>\n      <td>False</td>\n      <td>False</td>\n      <td>False</td>\n      <td>False</td>\n      <td>False</td>\n      <td>False</td>\n      <td>False</td>\n      <td>False</td>\n      <td>False</td>\n      <td>...</td>\n      <td>False</td>\n      <td>False</td>\n      <td>False</td>\n      <td>False</td>\n      <td>False</td>\n      <td>False</td>\n      <td>False</td>\n      <td>False</td>\n      <td>False</td>\n      <td>False</td>\n    </tr>\n    <tr>\n      <th>3</th>\n      <td>False</td>\n      <td>False</td>\n      <td>False</td>\n      <td>False</td>\n      <td>False</td>\n      <td>False</td>\n      <td>False</td>\n      <td>False</td>\n      <td>False</td>\n      <td>False</td>\n      <td>...</td>\n      <td>False</td>\n      <td>False</td>\n      <td>False</td>\n      <td>False</td>\n      <td>False</td>\n      <td>False</td>\n      <td>False</td>\n      <td>False</td>\n      <td>False</td>\n      <td>True</td>\n    </tr>\n    <tr>\n      <th>4</th>\n      <td>False</td>\n      <td>False</td>\n      <td>False</td>\n      <td>False</td>\n      <td>False</td>\n      <td>False</td>\n      <td>False</td>\n      <td>False</td>\n      <td>False</td>\n      <td>False</td>\n      <td>...</td>\n      <td>False</td>\n      <td>False</td>\n      <td>False</td>\n      <td>False</td>\n      <td>False</td>\n      <td>True</td>\n      <td>False</td>\n      <td>False</td>\n      <td>False</td>\n      <td>False</td>\n    </tr>\n    <tr>\n      <th>...</th>\n      <td>...</td>\n      <td>...</td>\n      <td>...</td>\n      <td>...</td>\n      <td>...</td>\n      <td>...</td>\n      <td>...</td>\n      <td>...</td>\n      <td>...</td>\n      <td>...</td>\n      <td>...</td>\n      <td>...</td>\n      <td>...</td>\n      <td>...</td>\n      <td>...</td>\n      <td>...</td>\n      <td>...</td>\n      <td>...</td>\n      <td>...</td>\n      <td>...</td>\n      <td>...</td>\n    </tr>\n    <tr>\n      <th>412</th>\n      <td>True</td>\n      <td>False</td>\n      <td>False</td>\n      <td>False</td>\n      <td>True</td>\n      <td>True</td>\n      <td>False</td>\n      <td>False</td>\n      <td>False</td>\n      <td>False</td>\n      <td>...</td>\n      <td>False</td>\n      <td>False</td>\n      <td>False</td>\n      <td>False</td>\n      <td>False</td>\n      <td>False</td>\n      <td>True</td>\n      <td>False</td>\n      <td>False</td>\n      <td>False</td>\n    </tr>\n    <tr>\n      <th>413</th>\n      <td>True</td>\n      <td>False</td>\n      <td>True</td>\n      <td>False</td>\n      <td>True</td>\n      <td>False</td>\n      <td>False</td>\n      <td>False</td>\n      <td>True</td>\n      <td>False</td>\n      <td>...</td>\n      <td>False</td>\n      <td>False</td>\n      <td>False</td>\n      <td>False</td>\n      <td>False</td>\n      <td>True</td>\n      <td>False</td>\n      <td>True</td>\n      <td>False</td>\n      <td>False</td>\n    </tr>\n    <tr>\n      <th>414</th>\n      <td>True</td>\n      <td>False</td>\n      <td>False</td>\n      <td>False</td>\n      <td>False</td>\n      <td>False</td>\n      <td>False</td>\n      <td>False</td>\n      <td>False</td>\n      <td>False</td>\n      <td>...</td>\n      <td>False</td>\n      <td>False</td>\n      <td>False</td>\n      <td>False</td>\n      <td>False</td>\n      <td>True</td>\n      <td>True</td>\n      <td>False</td>\n      <td>False</td>\n      <td>False</td>\n    </tr>\n    <tr>\n      <th>415</th>\n      <td>True</td>\n      <td>False</td>\n      <td>False</td>\n      <td>False</td>\n      <td>False</td>\n      <td>True</td>\n      <td>False</td>\n      <td>False</td>\n      <td>False</td>\n      <td>True</td>\n      <td>...</td>\n      <td>False</td>\n      <td>False</td>\n      <td>False</td>\n      <td>False</td>\n      <td>True</td>\n      <td>False</td>\n      <td>True</td>\n      <td>True</td>\n      <td>False</td>\n      <td>False</td>\n    </tr>\n    <tr>\n      <th>416</th>\n      <td>False</td>\n      <td>False</td>\n      <td>False</td>\n      <td>False</td>\n      <td>False</td>\n      <td>False</td>\n      <td>False</td>\n      <td>False</td>\n      <td>False</td>\n      <td>False</td>\n      <td>...</td>\n      <td>False</td>\n      <td>False</td>\n      <td>False</td>\n      <td>False</td>\n      <td>False</td>\n      <td>False</td>\n      <td>False</td>\n      <td>False</td>\n      <td>False</td>\n      <td>True</td>\n    </tr>\n  </tbody>\n</table>\n<p>417 rows × 147 columns</p>\n</div>"
     },
     "execution_count": 13,
     "metadata": {},
     "output_type": "execute_result"
    }
   ],
   "source": [
    "transactions_te_0 = transactions_0.iloc[indices[:417],:]\n",
    "transactions_te_0"
   ],
   "metadata": {
    "collapsed": false
   }
  },
  {
   "cell_type": "code",
   "execution_count": 14,
   "outputs": [
    {
     "data": {
      "text/plain": "      ACETAMINOPHEN  ALBUMIN HUMAN 25%  ALBUMIN HUMAN 5%  ALBUTEROL 0.083%  \\\n417            True              False             False             False   \n418            True              False             False             False   \n419            True              False             False             False   \n420            True              False             False             False   \n421           False              False             False             False   \n...             ...                ...               ...               ...   \n4174           True              False             False             False   \n4175           True              False             False             False   \n4176          False              False             False             False   \n4177          False              False              True             False   \n4178           True              False             False             False   \n\n      ALBUTEROL 90 MCG  ALBUTEROL CONCENTRATED 0.5%  ALLOPURINOL  ALPRAZOLAM  \\\n417              False                        False        False       False   \n418              False                        False         True       False   \n419               True                         True        False       False   \n420              False                         True        False       False   \n421              False                        False        False       False   \n...                ...                          ...          ...         ...   \n4174              True                         True        False       False   \n4175              True                         True        False       False   \n4176              True                         True        False       False   \n4177             False                        False        False       False   \n4178              True                         True        False       False   \n\n      AMINOCAPROIC ACID  AMIODARONE  ...  TACROLIMUS  TAMSULOSIN  THIAMINE  \\\n417               False       False  ...       False       False     False   \n418               False        True  ...       False       False     False   \n419               False       False  ...       False       False     False   \n420               False       False  ...       False       False     False   \n421               False       False  ...       False       False     False   \n...                 ...         ...  ...         ...         ...       ...   \n4174              False       False  ...       False       False     False   \n4175              False       False  ...       False       False     False   \n4176              False       False  ...       False       False     False   \n4177              False       False  ...       False       False      True   \n4178              False       False  ...       False       False     False   \n\n      TRAMADOL  TRAZODONE  VANCOMYCIN  VANCOMYCIN 1 G/200 ML D5W  \\\n417      False      False       False                      False   \n418      False       True       False                      False   \n419      False      False       False                      False   \n420       True      False       False                      False   \n421      False      False       False                      False   \n...        ...        ...         ...                        ...   \n4174     False      False       False                      False   \n4175      True       True       False                       True   \n4176     False      False        True                      False   \n4177     False      False        True                      False   \n4178     False      False        True                       True   \n\n      VANCOMYCIN 1.25 G/250 ML NS  VANCOMYCIN 1.5 G/500 ML NS  WARFARIN  \n417                         False                       False      True  \n418                         False                       False     False  \n419                         False                       False     False  \n420                         False                       False     False  \n421                         False                       False     False  \n...                           ...                         ...       ...  \n4174                        False                       False     False  \n4175                         True                        True     False  \n4176                        False                       False     False  \n4177                        False                       False     False  \n4178                         True                        True      True  \n\n[3762 rows x 147 columns]",
      "text/html": "<div>\n<style scoped>\n    .dataframe tbody tr th:only-of-type {\n        vertical-align: middle;\n    }\n\n    .dataframe tbody tr th {\n        vertical-align: top;\n    }\n\n    .dataframe thead th {\n        text-align: right;\n    }\n</style>\n<table border=\"1\" class=\"dataframe\">\n  <thead>\n    <tr style=\"text-align: right;\">\n      <th></th>\n      <th>ACETAMINOPHEN</th>\n      <th>ALBUMIN HUMAN 25%</th>\n      <th>ALBUMIN HUMAN 5%</th>\n      <th>ALBUTEROL 0.083%</th>\n      <th>ALBUTEROL 90 MCG</th>\n      <th>ALBUTEROL CONCENTRATED 0.5%</th>\n      <th>ALLOPURINOL</th>\n      <th>ALPRAZOLAM</th>\n      <th>AMINOCAPROIC ACID</th>\n      <th>AMIODARONE</th>\n      <th>...</th>\n      <th>TACROLIMUS</th>\n      <th>TAMSULOSIN</th>\n      <th>THIAMINE</th>\n      <th>TRAMADOL</th>\n      <th>TRAZODONE</th>\n      <th>VANCOMYCIN</th>\n      <th>VANCOMYCIN 1 G/200 ML D5W</th>\n      <th>VANCOMYCIN 1.25 G/250 ML NS</th>\n      <th>VANCOMYCIN 1.5 G/500 ML NS</th>\n      <th>WARFARIN</th>\n    </tr>\n  </thead>\n  <tbody>\n    <tr>\n      <th>417</th>\n      <td>True</td>\n      <td>False</td>\n      <td>False</td>\n      <td>False</td>\n      <td>False</td>\n      <td>False</td>\n      <td>False</td>\n      <td>False</td>\n      <td>False</td>\n      <td>False</td>\n      <td>...</td>\n      <td>False</td>\n      <td>False</td>\n      <td>False</td>\n      <td>False</td>\n      <td>False</td>\n      <td>False</td>\n      <td>False</td>\n      <td>False</td>\n      <td>False</td>\n      <td>True</td>\n    </tr>\n    <tr>\n      <th>418</th>\n      <td>True</td>\n      <td>False</td>\n      <td>False</td>\n      <td>False</td>\n      <td>False</td>\n      <td>False</td>\n      <td>True</td>\n      <td>False</td>\n      <td>False</td>\n      <td>True</td>\n      <td>...</td>\n      <td>False</td>\n      <td>False</td>\n      <td>False</td>\n      <td>False</td>\n      <td>True</td>\n      <td>False</td>\n      <td>False</td>\n      <td>False</td>\n      <td>False</td>\n      <td>False</td>\n    </tr>\n    <tr>\n      <th>419</th>\n      <td>True</td>\n      <td>False</td>\n      <td>False</td>\n      <td>False</td>\n      <td>True</td>\n      <td>True</td>\n      <td>False</td>\n      <td>False</td>\n      <td>False</td>\n      <td>False</td>\n      <td>...</td>\n      <td>False</td>\n      <td>False</td>\n      <td>False</td>\n      <td>False</td>\n      <td>False</td>\n      <td>False</td>\n      <td>False</td>\n      <td>False</td>\n      <td>False</td>\n      <td>False</td>\n    </tr>\n    <tr>\n      <th>420</th>\n      <td>True</td>\n      <td>False</td>\n      <td>False</td>\n      <td>False</td>\n      <td>False</td>\n      <td>True</td>\n      <td>False</td>\n      <td>False</td>\n      <td>False</td>\n      <td>False</td>\n      <td>...</td>\n      <td>False</td>\n      <td>False</td>\n      <td>False</td>\n      <td>True</td>\n      <td>False</td>\n      <td>False</td>\n      <td>False</td>\n      <td>False</td>\n      <td>False</td>\n      <td>False</td>\n    </tr>\n    <tr>\n      <th>421</th>\n      <td>False</td>\n      <td>False</td>\n      <td>False</td>\n      <td>False</td>\n      <td>False</td>\n      <td>False</td>\n      <td>False</td>\n      <td>False</td>\n      <td>False</td>\n      <td>False</td>\n      <td>...</td>\n      <td>False</td>\n      <td>False</td>\n      <td>False</td>\n      <td>False</td>\n      <td>False</td>\n      <td>False</td>\n      <td>False</td>\n      <td>False</td>\n      <td>False</td>\n      <td>False</td>\n    </tr>\n    <tr>\n      <th>...</th>\n      <td>...</td>\n      <td>...</td>\n      <td>...</td>\n      <td>...</td>\n      <td>...</td>\n      <td>...</td>\n      <td>...</td>\n      <td>...</td>\n      <td>...</td>\n      <td>...</td>\n      <td>...</td>\n      <td>...</td>\n      <td>...</td>\n      <td>...</td>\n      <td>...</td>\n      <td>...</td>\n      <td>...</td>\n      <td>...</td>\n      <td>...</td>\n      <td>...</td>\n      <td>...</td>\n    </tr>\n    <tr>\n      <th>4174</th>\n      <td>True</td>\n      <td>False</td>\n      <td>False</td>\n      <td>False</td>\n      <td>True</td>\n      <td>True</td>\n      <td>False</td>\n      <td>False</td>\n      <td>False</td>\n      <td>False</td>\n      <td>...</td>\n      <td>False</td>\n      <td>False</td>\n      <td>False</td>\n      <td>False</td>\n      <td>False</td>\n      <td>False</td>\n      <td>False</td>\n      <td>False</td>\n      <td>False</td>\n      <td>False</td>\n    </tr>\n    <tr>\n      <th>4175</th>\n      <td>True</td>\n      <td>False</td>\n      <td>False</td>\n      <td>False</td>\n      <td>True</td>\n      <td>True</td>\n      <td>False</td>\n      <td>False</td>\n      <td>False</td>\n      <td>False</td>\n      <td>...</td>\n      <td>False</td>\n      <td>False</td>\n      <td>False</td>\n      <td>True</td>\n      <td>True</td>\n      <td>False</td>\n      <td>True</td>\n      <td>True</td>\n      <td>True</td>\n      <td>False</td>\n    </tr>\n    <tr>\n      <th>4176</th>\n      <td>False</td>\n      <td>False</td>\n      <td>False</td>\n      <td>False</td>\n      <td>True</td>\n      <td>True</td>\n      <td>False</td>\n      <td>False</td>\n      <td>False</td>\n      <td>False</td>\n      <td>...</td>\n      <td>False</td>\n      <td>False</td>\n      <td>False</td>\n      <td>False</td>\n      <td>False</td>\n      <td>True</td>\n      <td>False</td>\n      <td>False</td>\n      <td>False</td>\n      <td>False</td>\n    </tr>\n    <tr>\n      <th>4177</th>\n      <td>False</td>\n      <td>False</td>\n      <td>True</td>\n      <td>False</td>\n      <td>False</td>\n      <td>False</td>\n      <td>False</td>\n      <td>False</td>\n      <td>False</td>\n      <td>False</td>\n      <td>...</td>\n      <td>False</td>\n      <td>False</td>\n      <td>True</td>\n      <td>False</td>\n      <td>False</td>\n      <td>True</td>\n      <td>False</td>\n      <td>False</td>\n      <td>False</td>\n      <td>False</td>\n    </tr>\n    <tr>\n      <th>4178</th>\n      <td>True</td>\n      <td>False</td>\n      <td>False</td>\n      <td>False</td>\n      <td>True</td>\n      <td>True</td>\n      <td>False</td>\n      <td>False</td>\n      <td>False</td>\n      <td>False</td>\n      <td>...</td>\n      <td>False</td>\n      <td>False</td>\n      <td>False</td>\n      <td>False</td>\n      <td>False</td>\n      <td>True</td>\n      <td>True</td>\n      <td>True</td>\n      <td>True</td>\n      <td>True</td>\n    </tr>\n  </tbody>\n</table>\n<p>3762 rows × 147 columns</p>\n</div>"
     },
     "execution_count": 14,
     "metadata": {},
     "output_type": "execute_result"
    }
   ],
   "source": [
    "#transactions_tr_00 = transactions_0.iloc[indices[417:810],:]\n",
    "transactions_tr_0 = transactions_0.iloc[indices[417:],:]\n",
    "transactions_tr_0"
   ],
   "metadata": {
    "collapsed": false
   }
  },
  {
   "cell_type": "code",
   "execution_count": 19,
   "outputs": [
    {
     "data": {
      "text/plain": "     ACETAMINOPHEN  ALBUMIN HUMAN 25%  ALBUMIN HUMAN 5%  ALBUTEROL 0.083%  \\\n81           False              False             False             False   \n88           False              False             False             False   \n200          False              False             False             False   \n257           True              False              True             False   \n229          False              False              True             False   \n..             ...                ...               ...               ...   \n35            True              False             False             False   \n181           True              False             False             False   \n147          False              False             False             False   \n111          False              False             False             False   \n298          False               True              True             False   \n\n     ALBUTEROL 90 MCG  ALBUTEROL CONCENTRATED 0.5%  ALLOPURINOL  ALPRAZOLAM  \\\n81              False                        False        False       False   \n88              False                        False        False       False   \n200             False                        False        False       False   \n257              True                         True        False       False   \n229             False                        False        False       False   \n..                ...                          ...          ...         ...   \n35              False                        False        False       False   \n181             False                        False        False       False   \n147              True                         True        False       False   \n111              True                         True        False       False   \n298              True                         True        False       False   \n\n     AMINOCAPROIC ACID  AMIODARONE  ...  TACROLIMUS  TAMSULOSIN  THIAMINE  \\\n81               False       False  ...       False       False     False   \n88               False       False  ...       False       False     False   \n200              False       False  ...       False       False      True   \n257              False       False  ...       False       False      True   \n229              False       False  ...       False       False     False   \n..                 ...         ...  ...         ...         ...       ...   \n35               False       False  ...       False       False     False   \n181              False       False  ...       False       False     False   \n147              False       False  ...       False       False     False   \n111              False       False  ...       False       False     False   \n298              False        True  ...       False       False     False   \n\n     TRAMADOL  TRAZODONE  VANCOMYCIN  VANCOMYCIN 1 G/200 ML D5W  \\\n81      False      False       False                      False   \n88      False      False       False                      False   \n200     False      False       False                      False   \n257     False      False        True                      False   \n229     False      False        True                      False   \n..        ...        ...         ...                        ...   \n35      False      False       False                      False   \n181     False      False       False                       True   \n147     False      False       False                       True   \n111     False      False       False                      False   \n298     False      False        True                       True   \n\n     VANCOMYCIN 1.25 G/250 ML NS  VANCOMYCIN 1.5 G/500 ML NS  WARFARIN  \n81                         False                       False     False  \n88                         False                       False     False  \n200                        False                       False     False  \n257                        False                        True     False  \n229                        False                       False     False  \n..                           ...                         ...       ...  \n35                         False                       False     False  \n181                         True                       False     False  \n147                        False                       False     False  \n111                        False                       False     False  \n298                        False                       False     False  \n\n[393 rows x 147 columns]",
      "text/html": "<div>\n<style scoped>\n    .dataframe tbody tr th:only-of-type {\n        vertical-align: middle;\n    }\n\n    .dataframe tbody tr th {\n        vertical-align: top;\n    }\n\n    .dataframe thead th {\n        text-align: right;\n    }\n</style>\n<table border=\"1\" class=\"dataframe\">\n  <thead>\n    <tr style=\"text-align: right;\">\n      <th></th>\n      <th>ACETAMINOPHEN</th>\n      <th>ALBUMIN HUMAN 25%</th>\n      <th>ALBUMIN HUMAN 5%</th>\n      <th>ALBUTEROL 0.083%</th>\n      <th>ALBUTEROL 90 MCG</th>\n      <th>ALBUTEROL CONCENTRATED 0.5%</th>\n      <th>ALLOPURINOL</th>\n      <th>ALPRAZOLAM</th>\n      <th>AMINOCAPROIC ACID</th>\n      <th>AMIODARONE</th>\n      <th>...</th>\n      <th>TACROLIMUS</th>\n      <th>TAMSULOSIN</th>\n      <th>THIAMINE</th>\n      <th>TRAMADOL</th>\n      <th>TRAZODONE</th>\n      <th>VANCOMYCIN</th>\n      <th>VANCOMYCIN 1 G/200 ML D5W</th>\n      <th>VANCOMYCIN 1.25 G/250 ML NS</th>\n      <th>VANCOMYCIN 1.5 G/500 ML NS</th>\n      <th>WARFARIN</th>\n    </tr>\n  </thead>\n  <tbody>\n    <tr>\n      <th>81</th>\n      <td>False</td>\n      <td>False</td>\n      <td>False</td>\n      <td>False</td>\n      <td>False</td>\n      <td>False</td>\n      <td>False</td>\n      <td>False</td>\n      <td>False</td>\n      <td>False</td>\n      <td>...</td>\n      <td>False</td>\n      <td>False</td>\n      <td>False</td>\n      <td>False</td>\n      <td>False</td>\n      <td>False</td>\n      <td>False</td>\n      <td>False</td>\n      <td>False</td>\n      <td>False</td>\n    </tr>\n    <tr>\n      <th>88</th>\n      <td>False</td>\n      <td>False</td>\n      <td>False</td>\n      <td>False</td>\n      <td>False</td>\n      <td>False</td>\n      <td>False</td>\n      <td>False</td>\n      <td>False</td>\n      <td>False</td>\n      <td>...</td>\n      <td>False</td>\n      <td>False</td>\n      <td>False</td>\n      <td>False</td>\n      <td>False</td>\n      <td>False</td>\n      <td>False</td>\n      <td>False</td>\n      <td>False</td>\n      <td>False</td>\n    </tr>\n    <tr>\n      <th>200</th>\n      <td>False</td>\n      <td>False</td>\n      <td>False</td>\n      <td>False</td>\n      <td>False</td>\n      <td>False</td>\n      <td>False</td>\n      <td>False</td>\n      <td>False</td>\n      <td>False</td>\n      <td>...</td>\n      <td>False</td>\n      <td>False</td>\n      <td>True</td>\n      <td>False</td>\n      <td>False</td>\n      <td>False</td>\n      <td>False</td>\n      <td>False</td>\n      <td>False</td>\n      <td>False</td>\n    </tr>\n    <tr>\n      <th>257</th>\n      <td>True</td>\n      <td>False</td>\n      <td>True</td>\n      <td>False</td>\n      <td>True</td>\n      <td>True</td>\n      <td>False</td>\n      <td>False</td>\n      <td>False</td>\n      <td>False</td>\n      <td>...</td>\n      <td>False</td>\n      <td>False</td>\n      <td>True</td>\n      <td>False</td>\n      <td>False</td>\n      <td>True</td>\n      <td>False</td>\n      <td>False</td>\n      <td>True</td>\n      <td>False</td>\n    </tr>\n    <tr>\n      <th>229</th>\n      <td>False</td>\n      <td>False</td>\n      <td>True</td>\n      <td>False</td>\n      <td>False</td>\n      <td>False</td>\n      <td>False</td>\n      <td>False</td>\n      <td>False</td>\n      <td>False</td>\n      <td>...</td>\n      <td>False</td>\n      <td>False</td>\n      <td>False</td>\n      <td>False</td>\n      <td>False</td>\n      <td>True</td>\n      <td>False</td>\n      <td>False</td>\n      <td>False</td>\n      <td>False</td>\n    </tr>\n    <tr>\n      <th>...</th>\n      <td>...</td>\n      <td>...</td>\n      <td>...</td>\n      <td>...</td>\n      <td>...</td>\n      <td>...</td>\n      <td>...</td>\n      <td>...</td>\n      <td>...</td>\n      <td>...</td>\n      <td>...</td>\n      <td>...</td>\n      <td>...</td>\n      <td>...</td>\n      <td>...</td>\n      <td>...</td>\n      <td>...</td>\n      <td>...</td>\n      <td>...</td>\n      <td>...</td>\n      <td>...</td>\n    </tr>\n    <tr>\n      <th>35</th>\n      <td>True</td>\n      <td>False</td>\n      <td>False</td>\n      <td>False</td>\n      <td>False</td>\n      <td>False</td>\n      <td>False</td>\n      <td>False</td>\n      <td>False</td>\n      <td>False</td>\n      <td>...</td>\n      <td>False</td>\n      <td>False</td>\n      <td>False</td>\n      <td>False</td>\n      <td>False</td>\n      <td>False</td>\n      <td>False</td>\n      <td>False</td>\n      <td>False</td>\n      <td>False</td>\n    </tr>\n    <tr>\n      <th>181</th>\n      <td>True</td>\n      <td>False</td>\n      <td>False</td>\n      <td>False</td>\n      <td>False</td>\n      <td>False</td>\n      <td>False</td>\n      <td>False</td>\n      <td>False</td>\n      <td>False</td>\n      <td>...</td>\n      <td>False</td>\n      <td>False</td>\n      <td>False</td>\n      <td>False</td>\n      <td>False</td>\n      <td>False</td>\n      <td>True</td>\n      <td>True</td>\n      <td>False</td>\n      <td>False</td>\n    </tr>\n    <tr>\n      <th>147</th>\n      <td>False</td>\n      <td>False</td>\n      <td>False</td>\n      <td>False</td>\n      <td>True</td>\n      <td>True</td>\n      <td>False</td>\n      <td>False</td>\n      <td>False</td>\n      <td>False</td>\n      <td>...</td>\n      <td>False</td>\n      <td>False</td>\n      <td>False</td>\n      <td>False</td>\n      <td>False</td>\n      <td>False</td>\n      <td>True</td>\n      <td>False</td>\n      <td>False</td>\n      <td>False</td>\n    </tr>\n    <tr>\n      <th>111</th>\n      <td>False</td>\n      <td>False</td>\n      <td>False</td>\n      <td>False</td>\n      <td>True</td>\n      <td>True</td>\n      <td>False</td>\n      <td>False</td>\n      <td>False</td>\n      <td>False</td>\n      <td>...</td>\n      <td>False</td>\n      <td>False</td>\n      <td>False</td>\n      <td>False</td>\n      <td>False</td>\n      <td>False</td>\n      <td>False</td>\n      <td>False</td>\n      <td>False</td>\n      <td>False</td>\n    </tr>\n    <tr>\n      <th>298</th>\n      <td>False</td>\n      <td>True</td>\n      <td>True</td>\n      <td>False</td>\n      <td>True</td>\n      <td>True</td>\n      <td>False</td>\n      <td>False</td>\n      <td>False</td>\n      <td>True</td>\n      <td>...</td>\n      <td>False</td>\n      <td>False</td>\n      <td>False</td>\n      <td>False</td>\n      <td>False</td>\n      <td>True</td>\n      <td>True</td>\n      <td>False</td>\n      <td>False</td>\n      <td>False</td>\n    </tr>\n  </tbody>\n</table>\n<p>393 rows × 147 columns</p>\n</div>"
     },
     "execution_count": 19,
     "metadata": {},
     "output_type": "execute_result"
    }
   ],
   "source": [
    "indices = list( range(0, len(transactions_1)) )\n",
    "random.shuffle(indices)\n",
    "transactions_te_1 = transactions_1.iloc[indices[:43],:]\n",
    "transactions_tr_1 = transactions_1.iloc[indices[43:],:]\n",
    "transactions_tr_1"
   ],
   "metadata": {
    "collapsed": false
   }
  },
  {
   "cell_type": "code",
   "execution_count": 20,
   "outputs": [
    {
     "data": {
      "text/plain": "     ACETAMINOPHEN  ALBUMIN HUMAN 25%  ALBUMIN HUMAN 5%  ALBUTEROL 0.083%  \\\n417           True              False             False             False   \n418           True              False             False             False   \n419           True              False             False             False   \n420           True              False             False             False   \n421          False              False             False             False   \n..             ...                ...               ...               ...   \n35            True              False             False             False   \n181           True              False             False             False   \n147          False              False             False             False   \n111          False              False             False             False   \n298          False               True              True             False   \n\n     ALBUTEROL 90 MCG  ALBUTEROL CONCENTRATED 0.5%  ALLOPURINOL  ALPRAZOLAM  \\\n417             False                        False        False       False   \n418             False                        False         True       False   \n419              True                         True        False       False   \n420             False                         True        False       False   \n421             False                        False        False       False   \n..                ...                          ...          ...         ...   \n35              False                        False        False       False   \n181             False                        False        False       False   \n147              True                         True        False       False   \n111              True                         True        False       False   \n298              True                         True        False       False   \n\n     AMINOCAPROIC ACID  AMIODARONE  ...  TACROLIMUS  TAMSULOSIN  THIAMINE  \\\n417              False       False  ...       False       False     False   \n418              False        True  ...       False       False     False   \n419              False       False  ...       False       False     False   \n420              False       False  ...       False       False     False   \n421              False       False  ...       False       False     False   \n..                 ...         ...  ...         ...         ...       ...   \n35               False       False  ...       False       False     False   \n181              False       False  ...       False       False     False   \n147              False       False  ...       False       False     False   \n111              False       False  ...       False       False     False   \n298              False        True  ...       False       False     False   \n\n     TRAMADOL  TRAZODONE  VANCOMYCIN  VANCOMYCIN 1 G/200 ML D5W  \\\n417     False      False       False                      False   \n418     False       True       False                      False   \n419     False      False       False                      False   \n420      True      False       False                      False   \n421     False      False       False                      False   \n..        ...        ...         ...                        ...   \n35      False      False       False                      False   \n181     False      False       False                       True   \n147     False      False       False                       True   \n111     False      False       False                      False   \n298     False      False        True                       True   \n\n     VANCOMYCIN 1.25 G/250 ML NS  VANCOMYCIN 1.5 G/500 ML NS  WARFARIN  \n417                        False                       False      True  \n418                        False                       False     False  \n419                        False                       False     False  \n420                        False                       False     False  \n421                        False                       False     False  \n..                           ...                         ...       ...  \n35                         False                       False     False  \n181                         True                       False     False  \n147                        False                       False     False  \n111                        False                       False     False  \n298                        False                       False     False  \n\n[4155 rows x 147 columns]",
      "text/html": "<div>\n<style scoped>\n    .dataframe tbody tr th:only-of-type {\n        vertical-align: middle;\n    }\n\n    .dataframe tbody tr th {\n        vertical-align: top;\n    }\n\n    .dataframe thead th {\n        text-align: right;\n    }\n</style>\n<table border=\"1\" class=\"dataframe\">\n  <thead>\n    <tr style=\"text-align: right;\">\n      <th></th>\n      <th>ACETAMINOPHEN</th>\n      <th>ALBUMIN HUMAN 25%</th>\n      <th>ALBUMIN HUMAN 5%</th>\n      <th>ALBUTEROL 0.083%</th>\n      <th>ALBUTEROL 90 MCG</th>\n      <th>ALBUTEROL CONCENTRATED 0.5%</th>\n      <th>ALLOPURINOL</th>\n      <th>ALPRAZOLAM</th>\n      <th>AMINOCAPROIC ACID</th>\n      <th>AMIODARONE</th>\n      <th>...</th>\n      <th>TACROLIMUS</th>\n      <th>TAMSULOSIN</th>\n      <th>THIAMINE</th>\n      <th>TRAMADOL</th>\n      <th>TRAZODONE</th>\n      <th>VANCOMYCIN</th>\n      <th>VANCOMYCIN 1 G/200 ML D5W</th>\n      <th>VANCOMYCIN 1.25 G/250 ML NS</th>\n      <th>VANCOMYCIN 1.5 G/500 ML NS</th>\n      <th>WARFARIN</th>\n    </tr>\n  </thead>\n  <tbody>\n    <tr>\n      <th>417</th>\n      <td>True</td>\n      <td>False</td>\n      <td>False</td>\n      <td>False</td>\n      <td>False</td>\n      <td>False</td>\n      <td>False</td>\n      <td>False</td>\n      <td>False</td>\n      <td>False</td>\n      <td>...</td>\n      <td>False</td>\n      <td>False</td>\n      <td>False</td>\n      <td>False</td>\n      <td>False</td>\n      <td>False</td>\n      <td>False</td>\n      <td>False</td>\n      <td>False</td>\n      <td>True</td>\n    </tr>\n    <tr>\n      <th>418</th>\n      <td>True</td>\n      <td>False</td>\n      <td>False</td>\n      <td>False</td>\n      <td>False</td>\n      <td>False</td>\n      <td>True</td>\n      <td>False</td>\n      <td>False</td>\n      <td>True</td>\n      <td>...</td>\n      <td>False</td>\n      <td>False</td>\n      <td>False</td>\n      <td>False</td>\n      <td>True</td>\n      <td>False</td>\n      <td>False</td>\n      <td>False</td>\n      <td>False</td>\n      <td>False</td>\n    </tr>\n    <tr>\n      <th>419</th>\n      <td>True</td>\n      <td>False</td>\n      <td>False</td>\n      <td>False</td>\n      <td>True</td>\n      <td>True</td>\n      <td>False</td>\n      <td>False</td>\n      <td>False</td>\n      <td>False</td>\n      <td>...</td>\n      <td>False</td>\n      <td>False</td>\n      <td>False</td>\n      <td>False</td>\n      <td>False</td>\n      <td>False</td>\n      <td>False</td>\n      <td>False</td>\n      <td>False</td>\n      <td>False</td>\n    </tr>\n    <tr>\n      <th>420</th>\n      <td>True</td>\n      <td>False</td>\n      <td>False</td>\n      <td>False</td>\n      <td>False</td>\n      <td>True</td>\n      <td>False</td>\n      <td>False</td>\n      <td>False</td>\n      <td>False</td>\n      <td>...</td>\n      <td>False</td>\n      <td>False</td>\n      <td>False</td>\n      <td>True</td>\n      <td>False</td>\n      <td>False</td>\n      <td>False</td>\n      <td>False</td>\n      <td>False</td>\n      <td>False</td>\n    </tr>\n    <tr>\n      <th>421</th>\n      <td>False</td>\n      <td>False</td>\n      <td>False</td>\n      <td>False</td>\n      <td>False</td>\n      <td>False</td>\n      <td>False</td>\n      <td>False</td>\n      <td>False</td>\n      <td>False</td>\n      <td>...</td>\n      <td>False</td>\n      <td>False</td>\n      <td>False</td>\n      <td>False</td>\n      <td>False</td>\n      <td>False</td>\n      <td>False</td>\n      <td>False</td>\n      <td>False</td>\n      <td>False</td>\n    </tr>\n    <tr>\n      <th>...</th>\n      <td>...</td>\n      <td>...</td>\n      <td>...</td>\n      <td>...</td>\n      <td>...</td>\n      <td>...</td>\n      <td>...</td>\n      <td>...</td>\n      <td>...</td>\n      <td>...</td>\n      <td>...</td>\n      <td>...</td>\n      <td>...</td>\n      <td>...</td>\n      <td>...</td>\n      <td>...</td>\n      <td>...</td>\n      <td>...</td>\n      <td>...</td>\n      <td>...</td>\n      <td>...</td>\n    </tr>\n    <tr>\n      <th>35</th>\n      <td>True</td>\n      <td>False</td>\n      <td>False</td>\n      <td>False</td>\n      <td>False</td>\n      <td>False</td>\n      <td>False</td>\n      <td>False</td>\n      <td>False</td>\n      <td>False</td>\n      <td>...</td>\n      <td>False</td>\n      <td>False</td>\n      <td>False</td>\n      <td>False</td>\n      <td>False</td>\n      <td>False</td>\n      <td>False</td>\n      <td>False</td>\n      <td>False</td>\n      <td>False</td>\n    </tr>\n    <tr>\n      <th>181</th>\n      <td>True</td>\n      <td>False</td>\n      <td>False</td>\n      <td>False</td>\n      <td>False</td>\n      <td>False</td>\n      <td>False</td>\n      <td>False</td>\n      <td>False</td>\n      <td>False</td>\n      <td>...</td>\n      <td>False</td>\n      <td>False</td>\n      <td>False</td>\n      <td>False</td>\n      <td>False</td>\n      <td>False</td>\n      <td>True</td>\n      <td>True</td>\n      <td>False</td>\n      <td>False</td>\n    </tr>\n    <tr>\n      <th>147</th>\n      <td>False</td>\n      <td>False</td>\n      <td>False</td>\n      <td>False</td>\n      <td>True</td>\n      <td>True</td>\n      <td>False</td>\n      <td>False</td>\n      <td>False</td>\n      <td>False</td>\n      <td>...</td>\n      <td>False</td>\n      <td>False</td>\n      <td>False</td>\n      <td>False</td>\n      <td>False</td>\n      <td>False</td>\n      <td>True</td>\n      <td>False</td>\n      <td>False</td>\n      <td>False</td>\n    </tr>\n    <tr>\n      <th>111</th>\n      <td>False</td>\n      <td>False</td>\n      <td>False</td>\n      <td>False</td>\n      <td>True</td>\n      <td>True</td>\n      <td>False</td>\n      <td>False</td>\n      <td>False</td>\n      <td>False</td>\n      <td>...</td>\n      <td>False</td>\n      <td>False</td>\n      <td>False</td>\n      <td>False</td>\n      <td>False</td>\n      <td>False</td>\n      <td>False</td>\n      <td>False</td>\n      <td>False</td>\n      <td>False</td>\n    </tr>\n    <tr>\n      <th>298</th>\n      <td>False</td>\n      <td>True</td>\n      <td>True</td>\n      <td>False</td>\n      <td>True</td>\n      <td>True</td>\n      <td>False</td>\n      <td>False</td>\n      <td>False</td>\n      <td>True</td>\n      <td>...</td>\n      <td>False</td>\n      <td>False</td>\n      <td>False</td>\n      <td>False</td>\n      <td>False</td>\n      <td>True</td>\n      <td>True</td>\n      <td>False</td>\n      <td>False</td>\n      <td>False</td>\n    </tr>\n  </tbody>\n</table>\n<p>4155 rows × 147 columns</p>\n</div>"
     },
     "execution_count": 20,
     "metadata": {},
     "output_type": "execute_result"
    }
   ],
   "source": [
    "tr_0_ary=(transactions_tr_0.values).astype('int')\n",
    "tr_1_ary=(transactions_tr_1.values).astype('int')\n",
    "\n",
    "#tr_00_ary=(transactions_tr_00.values).astype('int')\n",
    "\n",
    "transactions_tr = pd.concat([transactions_tr_0, transactions_tr_1])\n",
    "transactions_tr"
   ],
   "metadata": {
    "collapsed": false
   }
  },
  {
   "cell_type": "code",
   "execution_count": 18,
   "outputs": [
    {
     "data": {
      "text/plain": "     ACETAMINOPHEN  ALBUMIN HUMAN 25%  ALBUMIN HUMAN 5%  ALBUTEROL 0.083%  \\\n0             True              False             False             False   \n1             True              False             False             False   \n2             True              False             False             False   \n3            False              False             False             False   \n4            False              False             False             False   \n..             ...                ...               ...               ...   \n52            True              False             False             False   \n368           True              False             False             False   \n203           True              False             False             False   \n130          False              False             False             False   \n148          False              False             False             False   \n\n     ALBUTEROL 90 MCG  ALBUTEROL CONCENTRATED 0.5%  ALLOPURINOL  ALPRAZOLAM  \\\n0               False                        False        False       False   \n1                True                         True        False       False   \n2               False                        False        False       False   \n3               False                        False        False       False   \n4               False                        False        False       False   \n..                ...                          ...          ...         ...   \n52               True                         True        False       False   \n368             False                        False        False       False   \n203              True                         True        False       False   \n130             False                        False         True       False   \n148             False                        False        False       False   \n\n     AMINOCAPROIC ACID  AMIODARONE  ...  TACROLIMUS  TAMSULOSIN  THIAMINE  \\\n0                False       False  ...       False       False      True   \n1                False       False  ...       False       False     False   \n2                False       False  ...       False       False     False   \n3                False       False  ...       False       False     False   \n4                False       False  ...       False       False     False   \n..                 ...         ...  ...         ...         ...       ...   \n52               False       False  ...       False       False     False   \n368              False       False  ...       False       False     False   \n203              False       False  ...       False       False     False   \n130              False       False  ...       False       False     False   \n148              False       False  ...       False       False     False   \n\n     TRAMADOL  TRAZODONE  VANCOMYCIN  VANCOMYCIN 1 G/200 ML D5W  \\\n0       False      False       False                      False   \n1       False      False       False                      False   \n2       False      False       False                      False   \n3       False      False       False                      False   \n4       False      False        True                      False   \n..        ...        ...         ...                        ...   \n52      False      False       False                      False   \n368     False      False        True                      False   \n203     False      False        True                      False   \n130      True      False       False                      False   \n148     False      False        True                      False   \n\n     VANCOMYCIN 1.25 G/250 ML NS  VANCOMYCIN 1.5 G/500 ML NS  WARFARIN  \n0                          False                       False     False  \n1                          False                       False     False  \n2                          False                       False     False  \n3                          False                       False      True  \n4                          False                       False     False  \n..                           ...                         ...       ...  \n52                         False                        True     False  \n368                        False                       False     False  \n203                        False                       False     False  \n130                         True                        True     False  \n148                        False                       False     False  \n\n[460 rows x 147 columns]",
      "text/html": "<div>\n<style scoped>\n    .dataframe tbody tr th:only-of-type {\n        vertical-align: middle;\n    }\n\n    .dataframe tbody tr th {\n        vertical-align: top;\n    }\n\n    .dataframe thead th {\n        text-align: right;\n    }\n</style>\n<table border=\"1\" class=\"dataframe\">\n  <thead>\n    <tr style=\"text-align: right;\">\n      <th></th>\n      <th>ACETAMINOPHEN</th>\n      <th>ALBUMIN HUMAN 25%</th>\n      <th>ALBUMIN HUMAN 5%</th>\n      <th>ALBUTEROL 0.083%</th>\n      <th>ALBUTEROL 90 MCG</th>\n      <th>ALBUTEROL CONCENTRATED 0.5%</th>\n      <th>ALLOPURINOL</th>\n      <th>ALPRAZOLAM</th>\n      <th>AMINOCAPROIC ACID</th>\n      <th>AMIODARONE</th>\n      <th>...</th>\n      <th>TACROLIMUS</th>\n      <th>TAMSULOSIN</th>\n      <th>THIAMINE</th>\n      <th>TRAMADOL</th>\n      <th>TRAZODONE</th>\n      <th>VANCOMYCIN</th>\n      <th>VANCOMYCIN 1 G/200 ML D5W</th>\n      <th>VANCOMYCIN 1.25 G/250 ML NS</th>\n      <th>VANCOMYCIN 1.5 G/500 ML NS</th>\n      <th>WARFARIN</th>\n    </tr>\n  </thead>\n  <tbody>\n    <tr>\n      <th>0</th>\n      <td>True</td>\n      <td>False</td>\n      <td>False</td>\n      <td>False</td>\n      <td>False</td>\n      <td>False</td>\n      <td>False</td>\n      <td>False</td>\n      <td>False</td>\n      <td>False</td>\n      <td>...</td>\n      <td>False</td>\n      <td>False</td>\n      <td>True</td>\n      <td>False</td>\n      <td>False</td>\n      <td>False</td>\n      <td>False</td>\n      <td>False</td>\n      <td>False</td>\n      <td>False</td>\n    </tr>\n    <tr>\n      <th>1</th>\n      <td>True</td>\n      <td>False</td>\n      <td>False</td>\n      <td>False</td>\n      <td>True</td>\n      <td>True</td>\n      <td>False</td>\n      <td>False</td>\n      <td>False</td>\n      <td>False</td>\n      <td>...</td>\n      <td>False</td>\n      <td>False</td>\n      <td>False</td>\n      <td>False</td>\n      <td>False</td>\n      <td>False</td>\n      <td>False</td>\n      <td>False</td>\n      <td>False</td>\n      <td>False</td>\n    </tr>\n    <tr>\n      <th>2</th>\n      <td>True</td>\n      <td>False</td>\n      <td>False</td>\n      <td>False</td>\n      <td>False</td>\n      <td>False</td>\n      <td>False</td>\n      <td>False</td>\n      <td>False</td>\n      <td>False</td>\n      <td>...</td>\n      <td>False</td>\n      <td>False</td>\n      <td>False</td>\n      <td>False</td>\n      <td>False</td>\n      <td>False</td>\n      <td>False</td>\n      <td>False</td>\n      <td>False</td>\n      <td>False</td>\n    </tr>\n    <tr>\n      <th>3</th>\n      <td>False</td>\n      <td>False</td>\n      <td>False</td>\n      <td>False</td>\n      <td>False</td>\n      <td>False</td>\n      <td>False</td>\n      <td>False</td>\n      <td>False</td>\n      <td>False</td>\n      <td>...</td>\n      <td>False</td>\n      <td>False</td>\n      <td>False</td>\n      <td>False</td>\n      <td>False</td>\n      <td>False</td>\n      <td>False</td>\n      <td>False</td>\n      <td>False</td>\n      <td>True</td>\n    </tr>\n    <tr>\n      <th>4</th>\n      <td>False</td>\n      <td>False</td>\n      <td>False</td>\n      <td>False</td>\n      <td>False</td>\n      <td>False</td>\n      <td>False</td>\n      <td>False</td>\n      <td>False</td>\n      <td>False</td>\n      <td>...</td>\n      <td>False</td>\n      <td>False</td>\n      <td>False</td>\n      <td>False</td>\n      <td>False</td>\n      <td>True</td>\n      <td>False</td>\n      <td>False</td>\n      <td>False</td>\n      <td>False</td>\n    </tr>\n    <tr>\n      <th>...</th>\n      <td>...</td>\n      <td>...</td>\n      <td>...</td>\n      <td>...</td>\n      <td>...</td>\n      <td>...</td>\n      <td>...</td>\n      <td>...</td>\n      <td>...</td>\n      <td>...</td>\n      <td>...</td>\n      <td>...</td>\n      <td>...</td>\n      <td>...</td>\n      <td>...</td>\n      <td>...</td>\n      <td>...</td>\n      <td>...</td>\n      <td>...</td>\n      <td>...</td>\n      <td>...</td>\n    </tr>\n    <tr>\n      <th>52</th>\n      <td>True</td>\n      <td>False</td>\n      <td>False</td>\n      <td>False</td>\n      <td>True</td>\n      <td>True</td>\n      <td>False</td>\n      <td>False</td>\n      <td>False</td>\n      <td>False</td>\n      <td>...</td>\n      <td>False</td>\n      <td>False</td>\n      <td>False</td>\n      <td>False</td>\n      <td>False</td>\n      <td>False</td>\n      <td>False</td>\n      <td>False</td>\n      <td>True</td>\n      <td>False</td>\n    </tr>\n    <tr>\n      <th>368</th>\n      <td>True</td>\n      <td>False</td>\n      <td>False</td>\n      <td>False</td>\n      <td>False</td>\n      <td>False</td>\n      <td>False</td>\n      <td>False</td>\n      <td>False</td>\n      <td>False</td>\n      <td>...</td>\n      <td>False</td>\n      <td>False</td>\n      <td>False</td>\n      <td>False</td>\n      <td>False</td>\n      <td>True</td>\n      <td>False</td>\n      <td>False</td>\n      <td>False</td>\n      <td>False</td>\n    </tr>\n    <tr>\n      <th>203</th>\n      <td>True</td>\n      <td>False</td>\n      <td>False</td>\n      <td>False</td>\n      <td>True</td>\n      <td>True</td>\n      <td>False</td>\n      <td>False</td>\n      <td>False</td>\n      <td>False</td>\n      <td>...</td>\n      <td>False</td>\n      <td>False</td>\n      <td>False</td>\n      <td>False</td>\n      <td>False</td>\n      <td>True</td>\n      <td>False</td>\n      <td>False</td>\n      <td>False</td>\n      <td>False</td>\n    </tr>\n    <tr>\n      <th>130</th>\n      <td>False</td>\n      <td>False</td>\n      <td>False</td>\n      <td>False</td>\n      <td>False</td>\n      <td>False</td>\n      <td>True</td>\n      <td>False</td>\n      <td>False</td>\n      <td>False</td>\n      <td>...</td>\n      <td>False</td>\n      <td>False</td>\n      <td>False</td>\n      <td>True</td>\n      <td>False</td>\n      <td>False</td>\n      <td>False</td>\n      <td>True</td>\n      <td>True</td>\n      <td>False</td>\n    </tr>\n    <tr>\n      <th>148</th>\n      <td>False</td>\n      <td>False</td>\n      <td>False</td>\n      <td>False</td>\n      <td>False</td>\n      <td>False</td>\n      <td>False</td>\n      <td>False</td>\n      <td>False</td>\n      <td>False</td>\n      <td>...</td>\n      <td>False</td>\n      <td>False</td>\n      <td>False</td>\n      <td>False</td>\n      <td>False</td>\n      <td>True</td>\n      <td>False</td>\n      <td>False</td>\n      <td>False</td>\n      <td>False</td>\n    </tr>\n  </tbody>\n</table>\n<p>460 rows × 147 columns</p>\n</div>"
     },
     "execution_count": 18,
     "metadata": {},
     "output_type": "execute_result"
    }
   ],
   "source": [
    "transactions_te = pd.concat([transactions_te_0, transactions_te_1])\n",
    "transactions_te"
   ],
   "metadata": {
    "collapsed": false
   }
  },
  {
   "cell_type": "code",
   "execution_count": 53,
   "id": "cebd3564",
   "metadata": {},
   "outputs": [
    {
     "name": "stdout",
     "output_type": "stream",
     "text": [
      "(4155, 147) 22554\n"
     ]
    }
   ],
   "source": [
    "frequent_items = apriori(transactions_tr, min_support=0.1)\n",
    "print(transactions_tr.shape, len(frequent_items))"
   ]
  },
  {
   "cell_type": "code",
   "execution_count": 54,
   "id": "6679d13f",
   "metadata": {},
   "outputs": [],
   "source": [
    "natt = transactions_tr.shape[1]  #number of attributes \n",
    "nf = len(frequent_items)   #number of frequent items \n",
    "a = frequent_items['itemsets']\n",
    "b = [list(x) for x in a]\n",
    "c= np.zeros((natt,nf))\n",
    "for i in range(len(frequent_items)):\n",
    "    c[b[i],i]=1"
   ]
  },
  {
   "cell_type": "code",
   "execution_count": 61,
   "id": "6123a1ff",
   "metadata": {},
   "outputs": [
    {
     "name": "stdout",
     "output_type": "stream",
     "text": [
      "class rules 22554\n"
     ]
    }
   ],
   "source": [
    "#lift\n",
    "newc = copy.deepcopy(c)\n",
    "x_00 = np.matmul(tr_0_ary, c)\n",
    "x_01 = np.matmul(tr_1_ary, c)\n",
    "\n",
    "item_len = np.sum(c, axis=0) #item length\n",
    "cls0 = np.zeros(nf)   #frequent_items['support']\n",
    "cls1 = np.zeros(nf) \n",
    "p = np.zeros(nf)\n",
    "conf = np.zeros(nf)\n",
    "indc = np.zeros(nf, dtype=int) \n",
    "cnt=0\n",
    "for i in range(x_00.shape[1]):\n",
    "    cls0[i] = (x_00[:,i]>=item_len[i]).sum()/x_00.shape[0]\n",
    "    cls1[i] = (x_01[:,i]>=item_len[i]).sum()/x_01.shape[0]\n",
    "    p[i] = ((x_00[:,i]>=item_len[i]).sum()+ (x_01[:,i]>=item_len[i]).sum())/(x_00.shape[0]+x_01.shape[0])\n",
    "    if cls0[i]/p[i]>1:\n",
    "        indc[i] = 0\n",
    "        conf[i] = cls0[i]/p[i]\n",
    "        cnt = cnt +1\n",
    "    elif cls0[i]/p[i]<1 and cls1[i]/p[i]>1:\n",
    "        indc[i] = 1\n",
    "        conf[i] = cls1[i]/p[i]\n",
    "        cnt = cnt +1\n",
    "    else:\n",
    "        conf[i]=0\n",
    "        newc[:,i]=0\n",
    "        indc[i] =-1\n",
    "print('class rules', cnt)\n",
    "\n"
   ]
  },
  {
   "cell_type": "code",
   "execution_count": 63,
   "id": "c4a31ba2",
   "metadata": {},
   "outputs": [
    {
     "name": "stdout",
     "output_type": "stream",
     "text": [
      "class rules 22554\n"
     ]
    }
   ],
   "source": [
    "#1-ccs/cls\n",
    "newc = copy.deepcopy(c)\n",
    "x_00 = np.matmul(tr_0_ary, c)\n",
    "x_01 = np.matmul(tr_1_ary, c)\n",
    "\n",
    "item_len = np.sum(c, axis=0) #item length\n",
    "cls0 = np.zeros(nf)   #frequent_items['support']\n",
    "cls1 = np.zeros(nf) \n",
    "p = np.zeros(nf)\n",
    "conf = np.zeros(nf)\n",
    "indc = np.zeros(nf, dtype=int) \n",
    "cnt=0\n",
    "for i in range(x_00.shape[1]):\n",
    "    cls0[i] = (x_00[:,i]>=item_len[i]).sum()/x_00.shape[0]\n",
    "    cls1[i] = (x_01[:,i]>=item_len[i]).sum()/x_01.shape[0]\n",
    "    p[i] = ((x_00[:,i]>=item_len[i]).sum()+ (x_01[:,i]>=item_len[i]).sum())/(x_00.shape[0]+x_01.shape[0])\n",
    "    if cls1[i]/cls0[i]<1:\n",
    "        indc[i] = 0\n",
    "        conf[i] = 1- cls1[i]/cls0[i]\n",
    "        cnt = cnt +1\n",
    "    elif cls1[i]/cls0[i]>1:\n",
    "        indc[i] = 1\n",
    "        conf[i] = 1- cls0[i]/cls1[i]\n",
    "        cnt = cnt +1\n",
    "    else:\n",
    "        conf[i]=0\n",
    "        newc[:,i]=0\n",
    "        indc[i] =-1\n",
    "print('class rules', cnt)\n"
   ]
  },
  {
   "cell_type": "code",
   "execution_count": 64,
   "id": "dbf50332",
   "metadata": {},
   "outputs": [
    {
     "name": "stdout",
     "output_type": "stream",
     "text": [
      "15179 7375\n",
      "0.5016779539597047 0.31930184734930256\n",
      "417 3 3\n",
      "43 3 0\n",
      "0.856198761920696\n",
      "0.7621158886844013\n"
     ]
    }
   ],
   "source": [
    "from sklearn.metrics import roc_auc_score\n",
    "\n",
    "print((indc==0).sum(), (indc==1).sum())\n",
    "print(conf[indc==0].mean(), conf[indc==1].mean())\n",
    "\n",
    "te_0_ary=(transactions_te_0.values).astype('int')\n",
    "te_1_ary=(transactions_te_1.values).astype('int')\n",
    "\n",
    "#first rule used\n",
    "y_0 = np.matmul(te_0_ary, newc)\n",
    "y_1 = np.matmul(te_1_ary, newc)\n",
    "\n",
    "pred = np.zeros((y_0.shape[0]+y_1.shape[0],2))\n",
    "cnt0=0\n",
    "cnt1=0\n",
    "for i in range(y_0.shape[0]):\n",
    "    maxp=-1\n",
    "    for j in range(y_0.shape[1]):\n",
    "        if (indc[j]==0 and y_0[i,j]>=item_len[j]):\n",
    "            maxp = max(maxp, conf[j])\n",
    "    if (maxp==-1):\n",
    "        cnt0 = cnt0+1    \n",
    "    else: \n",
    "        pred[i,0] = maxp\n",
    "        \n",
    "    maxp=-1\n",
    "    for j in range(y_0.shape[1]):\n",
    "        if (indc[j]==1 and y_0[i,j]>=item_len[j]):\n",
    "            maxp = max(maxp, conf[j])\n",
    "           \n",
    "    if (maxp==-1):\n",
    "        cnt1 = cnt1+1    \n",
    "    else: \n",
    "        pred[i,1] = maxp\n",
    "print(y_0.shape[0],cnt0, cnt1)\n",
    "\n",
    "cnt0=0\n",
    "cnt1=0\n",
    "for i in range(y_1.shape[0]):\n",
    "    maxp=-1\n",
    "    for j in range(y_1.shape[1]):\n",
    "        if (indc[j]==0 and y_1[i,j]>=item_len[j]):\n",
    "            maxp = max(maxp, conf[j])\n",
    "    if (maxp==-1):\n",
    "        cnt0 = cnt0+1    \n",
    "    else: \n",
    "        pred[i+y_0.shape[0],0] = maxp\n",
    "        \n",
    "    maxp=-1\n",
    "    for j in range(y_1.shape[1]):\n",
    "        if (indc[j]==1 and y_1[i,j]>=item_len[j]):\n",
    "            maxp = max(maxp, conf[j])\n",
    "           \n",
    "    if (maxp==-1):\n",
    "        cnt1 = cnt1+1    \n",
    "    else: \n",
    "        pred[i+y_0.shape[0],1] = maxp\n",
    "        \n",
    "print(y_1.shape[0],cnt0, cnt1)\n",
    "\n",
    "y = np.concatenate((np.zeros(te_0_ary.shape[0]), np.ones(te_1_ary.shape[0])), axis=0)\n",
    "auc = roc_auc_score(y,pred[:,1])\n",
    "print(auc)\n",
    "y = np.concatenate((np.zeros(te_0_ary.shape[0]), np.ones(te_1_ary.shape[0])), axis=0)\n",
    "auc = roc_auc_score(y,-pred[:,0])\n",
    "print(auc)"
   ]
  },
  {
   "cell_type": "code",
   "execution_count": 65,
   "id": "17172e46",
   "metadata": {},
   "outputs": [
    {
     "name": "stdout",
     "output_type": "stream",
     "text": [
      "15179 7375\n",
      "0.5016779539597047 0.31930184734930256\n",
      "417 3 3\n",
      "43 3 0\n",
      "0.8729016786570744\n",
      "0.827254475489376\n"
     ]
    }
   ],
   "source": [
    "from sklearn.metrics import roc_auc_score\n",
    "\n",
    "print((indc==0).sum(), (indc==1).sum())\n",
    "print(conf[indc==0].mean(), conf[indc==1].mean())\n",
    "\n",
    "te_0_ary=(transactions_te_0.values).astype('int')\n",
    "te_1_ary=(transactions_te_1.values).astype('int')\n",
    "\n",
    "#all matched rules  used\n",
    "y_0 = np.matmul(te_0_ary, newc)\n",
    "y_1 = np.matmul(te_1_ary, newc)\n",
    "\n",
    "pred = np.zeros((y_0.shape[0]+y_1.shape[0],2))\n",
    "cnt0=0\n",
    "cnt1=0\n",
    "        \n",
    "for i in range(y_0.shape[0]):\n",
    "    cnt=0\n",
    "    for j in range(y_0.shape[1]):\n",
    "        if (indc[j]==0 and y_0[i,j]>=item_len[j]):\n",
    "            pred[i,0] = pred[i,0] + conf[j]\n",
    "            cnt = cnt+1\n",
    "    if (cnt==0):\n",
    "        cnt0 = cnt0+1    \n",
    "    else: \n",
    "        pred[i,0] = pred[i,0]/cnt\n",
    "        \n",
    "    cnt=0\n",
    "    for j in range(y_0.shape[1]):\n",
    "        if (indc[j]==1 and y_0[i,j]>=item_len[j]):\n",
    "            pred[i,1] = pred[i,1] + conf[j]\n",
    "            cnt = cnt+1\n",
    "           \n",
    "    if (cnt==0):\n",
    "        cnt1 = cnt1+1    \n",
    "    else: \n",
    "        pred[i,1] = pred[i,1]/cnt\n",
    "print(y_0.shape[0],cnt0, cnt1)\n",
    "\n",
    "cnt0=0\n",
    "cnt1=0\n",
    "for i in range(y_1.shape[0]):\n",
    "    cnt=0\n",
    "    x=0\n",
    "    for j in range(y_1.shape[1]):\n",
    "        if (indc[j]==0 and y_1[i,j]>=item_len[j]):\n",
    "            x = x + conf[j]\n",
    "            cnt = cnt+1\n",
    "    if (cnt==0):\n",
    "        cnt0 = cnt0+1    \n",
    "    else: \n",
    "        pred[i+y_0.shape[0],0] = x/cnt\n",
    "        \n",
    "    cnt=0\n",
    "    x=0\n",
    "    for j in range(y_1.shape[1]):\n",
    "        if (indc[j]==1 and y_1[i,j]>=item_len[j]):\n",
    "            x = x + conf[j]\n",
    "            cnt = cnt+1\n",
    "           \n",
    "    if (cnt==0):\n",
    "        cnt1 = cnt1+1    \n",
    "    else: \n",
    "        pred[i+y_0.shape[0],1] = x/cnt\n",
    "        \n",
    "print(y_1.shape[0],cnt0, cnt1)\n",
    "\n",
    "y = np.concatenate((np.zeros(te_0_ary.shape[0]), np.ones(te_1_ary.shape[0])), axis=0)\n",
    "auc = roc_auc_score(y,pred[:,1])\n",
    "print(auc)\n",
    "y = np.concatenate((np.zeros(te_0_ary.shape[0]), np.ones(te_1_ary.shape[0])), axis=0)\n",
    "auc = roc_auc_score(y,-pred[:,0])\n",
    "print(auc)"
   ]
  }
 ],
 "metadata": {
  "kernelspec": {
   "display_name": "Python 3 (ipykernel)",
   "language": "python",
   "name": "python3"
  },
  "language_info": {
   "codemirror_mode": {
    "name": "ipython",
    "version": 3
   },
   "file_extension": ".py",
   "mimetype": "text/x-python",
   "name": "python",
   "nbconvert_exporter": "python",
   "pygments_lexer": "ipython3",
   "version": "3.10.9"
  }
 },
 "nbformat": 4,
 "nbformat_minor": 5
}
