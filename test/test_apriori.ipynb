{
 "cells": [
  {
   "cell_type": "code",
   "execution_count": null,
   "metadata": {
    "collapsed": true
   },
   "outputs": [],
   "source": [
    "import numpy as np\n",
    "\n",
    "np.array([[0, 1, 0, 0],\n",
    "              [0, 2, 3, 4],\n",
    "              [1, 2, 3, 5],\n",
    "              [0, 1, 2, 3],\n",
    "              [0, 1, 2, 5]])"
   ]
  },
  {
   "cell_type": "code",
   "execution_count": null,
   "outputs": [],
   "source": [
    "from itertools import combinations\n",
    "\n",
    "one_freq_item = [frozenset({0}), frozenset({1}), frozenset({2}), frozenset({3})]\n",
    "np.array(list(combinations(one_freq_item, 2)))"
   ],
   "metadata": {
    "collapsed": false
   }
  },
  {
   "cell_type": "code",
   "execution_count": null,
   "outputs": [],
   "source": [
    "np.array([frozenset({0, 1}), frozenset({0, 2}), frozenset({0, 3}), frozenset({1, 2}), frozenset({1, 3}), frozenset({2, 3})])"
   ],
   "metadata": {
    "collapsed": false
   }
  },
  {
   "cell_type": "code",
   "execution_count": null,
   "outputs": [],
   "source": [
    "import urllib.request\n",
    "import pandas as pd\n",
    "\n",
    "urlopen = urllib.request.urlopen(\"https://user.informatik.uni-goettingen.de/~sherbold/store_data.csv\")\n",
    "list(urlopen)"
   ],
   "metadata": {
    "collapsed": false
   }
  },
  {
   "cell_type": "code",
   "execution_count": null,
   "outputs": [],
   "source": [
    "records = []\n",
    "for line in urllib.request.urlopen(\"https://user.informatik.uni-goettingen.de/~sherbold/store_data.csv\"):\n",
    "    records.append(line.decode('ascii').strip().split(','))\n",
    "records"
   ],
   "metadata": {
    "collapsed": false
   }
  },
  {
   "cell_type": "code",
   "execution_count": null,
   "outputs": [],
   "source": [
    "from mlxtend.preprocessing import TransactionEncoder\n",
    "te = TransactionEncoder()\n",
    "te_ary = te.fit_transform(records)\n",
    "data_df = pd.DataFrame(te_ary, columns=te.columns_)\n",
    "data_df"
   ],
   "metadata": {
    "collapsed": false
   }
  },
  {
   "cell_type": "code",
   "execution_count": null,
   "outputs": [],
   "source": [
    "dataset = pd.read_csv('data/store_data.csv', header=None)  # To make sure the first row is not thought of as the heading\n",
    "dataset"
   ],
   "metadata": {
    "collapsed": false
   }
  },
  {
   "cell_type": "code",
   "execution_count": null,
   "outputs": [],
   "source": [
    "# Transforming the list into a list of lists, so that each transaction can be indexed easier\n",
    "transactions = []\n",
    "for i in range(0, dataset.shape[0]):\n",
    "    transactions.append([str(dataset.values[i, j]) for j in range(0, 20)])"
   ],
   "metadata": {
    "collapsed": false
   }
  }
 ],
 "metadata": {
  "kernelspec": {
   "display_name": "Python 3",
   "language": "python",
   "name": "python3"
  },
  "language_info": {
   "codemirror_mode": {
    "name": "ipython",
    "version": 2
   },
   "file_extension": ".py",
   "mimetype": "text/x-python",
   "name": "python",
   "nbconvert_exporter": "python",
   "pygments_lexer": "ipython2",
   "version": "2.7.6"
  }
 },
 "nbformat": 4,
 "nbformat_minor": 0
}
